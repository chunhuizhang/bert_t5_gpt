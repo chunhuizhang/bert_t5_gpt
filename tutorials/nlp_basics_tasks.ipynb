{
 "cells": [
  {
   "cell_type": "markdown",
   "id": "b3928a75",
   "metadata": {},
   "source": [
    "## sentence level"
   ]
  },
  {
   "cell_type": "markdown",
   "id": "5f397df2",
   "metadata": {},
   "source": [
    "- NLI (natural language inferencing): 句子间关系\n",
    "    - This task receives two input sentences and outputs either “entailment”, “contradiction” or “neutral”.\n",
    "    - entailment: sentence1 entails sentence 2\n",
    "    - contradiction: sentence1 contradicts sentence2\n",
    "    - neutral: the two sentences have no relation.\n",
    "- STS (sentence textual similarity):\n",
    "    - This task receives two sentences and decides the similarity of them. Often similarity is calculated using cosine similarity function."
   ]
  },
  {
   "cell_type": "markdown",
   "id": "f5fa343a",
   "metadata": {},
   "source": [
    "## parsing tree 与 POS-tag"
   ]
  },
  {
   "cell_type": "markdown",
   "id": "c2869891",
   "metadata": {},
   "source": []
  },
  {
   "cell_type": "markdown",
   "id": "8a2c052a",
   "metadata": {},
   "source": [
    "## lexical match"
   ]
  },
  {
   "cell_type": "markdown",
   "id": "de5219c7",
   "metadata": {},
   "source": [
    "## evaluation"
   ]
  },
  {
   "cell_type": "markdown",
   "id": "007feba9",
   "metadata": {},
   "source": [
    "- GLUE\n",
    "- MMLU\n",
    "    - Measuring Massive Multitask Language Understanding\n",
    "    - https://arxiv.org/abs/2009.03300"
   ]
  }
 ],
 "metadata": {
  "kernelspec": {
   "display_name": "Python 3 (ipykernel)",
   "language": "python",
   "name": "python3"
  },
  "language_info": {
   "codemirror_mode": {
    "name": "ipython",
    "version": 3
   },
   "file_extension": ".py",
   "mimetype": "text/x-python",
   "name": "python",
   "nbconvert_exporter": "python",
   "pygments_lexer": "ipython3",
   "version": "3.10.13"
  },
  "toc": {
   "base_numbering": 1,
   "nav_menu": {},
   "number_sections": true,
   "sideBar": true,
   "skip_h1_title": false,
   "title_cell": "Table of Contents",
   "title_sidebar": "Contents",
   "toc_cell": false,
   "toc_position": {},
   "toc_section_display": true,
   "toc_window_display": false
  }
 },
 "nbformat": 4,
 "nbformat_minor": 5
}
