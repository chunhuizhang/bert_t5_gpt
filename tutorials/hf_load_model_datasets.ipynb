{
 "cells": [
  {
   "cell_type": "code",
   "execution_count": 1,
   "id": "8395ce08",
   "metadata": {
    "ExecuteTime": {
     "end_time": "2024-03-17T06:40:02.727578Z",
     "start_time": "2024-03-17T06:40:02.719181Z"
    }
   },
   "outputs": [],
   "source": [
    "from datasets import load_dataset"
   ]
  },
  {
   "cell_type": "code",
   "execution_count": 4,
   "id": "ec1f3c2d",
   "metadata": {
    "ExecuteTime": {
     "end_time": "2024-03-17T06:43:07.547046Z",
     "start_time": "2024-03-17T06:43:07.543015Z"
    }
   },
   "outputs": [],
   "source": [
    "import os\n",
    "os.environ['http_proxy'] = 'http://127.0.0.1:7890'\n",
    "os.environ['https_proxy'] = 'http://127.0.0.1:7890'"
   ]
  },
  {
   "cell_type": "markdown",
   "id": "cb99a559",
   "metadata": {},
   "source": [
    "## api"
   ]
  },
  {
   "cell_type": "markdown",
   "id": "66ed15d0",
   "metadata": {},
   "source": [
    "## load_dataset"
   ]
  },
  {
   "cell_type": "markdown",
   "id": "63a08366",
   "metadata": {},
   "source": [
    "`lvwerra/stack-exchange-paired`\n",
    "\n",
    "- data_dir\n",
    "    - \"data/finetune\"\n",
    "    - \"data/rl\"\n",
    "    - \"data/evaluate\"\n",
    "    - \"data/reward\"\n",
    "- split\n",
    "    - \"train\"\n",
    "- num_proc: 多少个 cpu 进程下载；\n",
    "    - 4\n",
    "- streaming\n",
    "    - return IterableDataset\n",
    "        - has no len()"
   ]
  },
  {
   "cell_type": "code",
   "execution_count": 5,
   "id": "0bfb95c1",
   "metadata": {
    "ExecuteTime": {
     "end_time": "2024-03-17T06:43:35.617975Z",
     "start_time": "2024-03-17T06:43:09.001894Z"
    }
   },
   "outputs": [
    {
     "name": "stderr",
     "output_type": "stream",
     "text": [
      "/home/whaow/anaconda3/lib/python3.10/site-packages/datasets/load.py:2088: FutureWarning: 'use_auth_token' was deprecated in favor of 'token' in version 2.14.0 and will be removed in 3.0.0.\n",
      "You can remove this warning by passing 'token=<use_auth_token>' instead.\n",
      "  warnings.warn(\n"
     ]
    },
    {
     "data": {
      "application/vnd.jupyter.widget-view+json": {
       "model_id": "c01af22d964441339488bca15c008552",
       "version_major": 2,
       "version_minor": 0
      },
      "text/plain": [
       "Resolving data files:   0%|          | 0/20 [00:00<?, ?it/s]"
      ]
     },
     "metadata": {},
     "output_type": "display_data"
    }
   ],
   "source": [
    "streaming = True\n",
    "dataset = load_dataset(\n",
    "    'lvwerra/stack-exchange-paired',\n",
    "    data_dir='data/finetune',\n",
    "    split='train',\n",
    "    use_auth_token=True,\n",
    "    num_proc=4 if not streaming else None,\n",
    "    streaming=streaming,\n",
    ")"
   ]
  },
  {
   "cell_type": "code",
   "execution_count": 6,
   "id": "b6860274",
   "metadata": {
    "ExecuteTime": {
     "end_time": "2024-03-17T06:43:39.266458Z",
     "start_time": "2024-03-17T06:43:39.129026Z"
    }
   },
   "outputs": [
    {
     "ename": "TypeError",
     "evalue": "object of type 'IterableDataset' has no len()",
     "output_type": "error",
     "traceback": [
      "\u001b[0;31m---------------------------------------------------------------------------\u001b[0m",
      "\u001b[0;31mTypeError\u001b[0m                                 Traceback (most recent call last)",
      "Cell \u001b[0;32mIn[6], line 1\u001b[0m\n\u001b[0;32m----> 1\u001b[0m \u001b[38;5;28;43mlen\u001b[39;49m\u001b[43m(\u001b[49m\u001b[43mdataset\u001b[49m\u001b[43m)\u001b[49m\n",
      "\u001b[0;31mTypeError\u001b[0m: object of type 'IterableDataset' has no len()"
     ]
    }
   ],
   "source": [
    "len(dataset)"
   ]
  },
  {
   "cell_type": "code",
   "execution_count": 10,
   "id": "38b5005b",
   "metadata": {
    "ExecuteTime": {
     "end_time": "2024-03-17T06:44:04.771400Z",
     "start_time": "2024-03-17T06:44:04.759846Z"
    }
   },
   "outputs": [
    {
     "data": {
      "text/plain": [
       "{'qid': Value(dtype='int64', id=None),\n",
       " 'question': Value(dtype='string', id=None),\n",
       " 'date': Value(dtype='string', id=None),\n",
       " 'metadata': Sequence(feature=Value(dtype='string', id=None), length=-1, id=None),\n",
       " 'response_j': Value(dtype='string', id=None),\n",
       " 'response_k': Value(dtype='string', id=None)}"
      ]
     },
     "execution_count": 10,
     "metadata": {},
     "output_type": "execute_result"
    }
   ],
   "source": [
    "dataset.features"
   ]
  },
  {
   "cell_type": "code",
   "execution_count": 14,
   "id": "5187b3d2",
   "metadata": {
    "ExecuteTime": {
     "end_time": "2024-03-17T06:46:06.382256Z",
     "start_time": "2024-03-17T06:46:06.371619Z"
    }
   },
   "outputs": [],
   "source": [
    "valid_ds = dataset.take(4000)\n",
    "train_ds = dataset.skip(4000)\n",
    "train_ds = train_ds.shuffle(buffer_size=5000, seed=None)"
   ]
  },
  {
   "cell_type": "code",
   "execution_count": 17,
   "id": "e25a35d7",
   "metadata": {
    "ExecuteTime": {
     "end_time": "2024-03-17T06:47:34.450078Z",
     "start_time": "2024-03-17T06:47:21.022938Z"
    }
   },
   "outputs": [],
   "source": [
    "data =next(iter(valid_ds))"
   ]
  },
  {
   "cell_type": "code",
   "execution_count": 20,
   "id": "c2ba5cfb",
   "metadata": {
    "ExecuteTime": {
     "end_time": "2024-03-17T06:47:49.940456Z",
     "start_time": "2024-03-17T06:47:49.931332Z"
    }
   },
   "outputs": [
    {
     "data": {
      "text/plain": [
       "dict_keys(['qid', 'question', 'date', 'metadata', 'response_j', 'response_k'])"
      ]
     },
     "execution_count": 20,
     "metadata": {},
     "output_type": "execute_result"
    }
   ],
   "source": [
    "# type(data): dict\n",
    "data.keys()"
   ]
  },
  {
   "cell_type": "code",
   "execution_count": 24,
   "id": "2ee8a73a",
   "metadata": {
    "ExecuteTime": {
     "end_time": "2024-03-17T06:48:28.584232Z",
     "start_time": "2024-03-17T06:48:28.574422Z"
    }
   },
   "outputs": [
    {
     "data": {
      "text/plain": [
       "12891264"
      ]
     },
     "execution_count": 24,
     "metadata": {},
     "output_type": "execute_result"
    }
   ],
   "source": [
    "# https://stackoverflow.com/questions/12891264/jquery-file-upload-plugin-not-calling-success-callback\n",
    "data['qid']"
   ]
  },
  {
   "cell_type": "code",
   "execution_count": 27,
   "id": "d68aa9ed",
   "metadata": {
    "ExecuteTime": {
     "end_time": "2024-03-17T06:49:37.958465Z",
     "start_time": "2024-03-17T06:49:37.949894Z"
    }
   },
   "outputs": [
    {
     "name": "stdout",
     "output_type": "stream",
     "text": [
      "Looking at the library code, seems all events are renamed removing 'fileupload' ... so 'fileuploaddone' becomes just 'done'. It is valid for all other callbacks.\n",
      "look at this section:\n",
      "\n",
      "```\n",
      "    // Other callbacks:\n",
      "    // Callback for the submit event of each file upload:\n",
      "    // submit: function (e, data) {}, // .bind('fileuploadsubmit', func);\n",
      "    // Callback for the start of each file upload request:\n",
      "    // send: function (e, data) {}, // .bind('fileuploadsend', func);\n",
      "    // Callback for successful uploads:\n",
      "    // done: function (e, data) {}, // .bind('fileuploaddone', func);\n",
      "    // Callback for failed (abort or error) uploads:\n",
      "    // fail: function (e, data) {}, // .bind('fileuploadfail', func);\n",
      "    // Callback for completed (success, abort or error) requests:\n",
      "    // always: function (e, data) {}, // .bind('fileuploadalways', func);\n",
      "    // Callback for upload progress events:\n",
      "    // progress: function (e, data) {}, // .bind('fileuploadprogress', func);\n",
      "    // Callback for global upload progress events:\n",
      "    // progressall: function (e, data) {}, // .bind('fileuploadprogressall', func);\n",
      "    // Callback for uploads start, equivalent to the global ajaxStart event:\n",
      "    // start: function (e) {}, // .bind('fileuploadstart', func);\n",
      "    // Callback for uploads stop, equivalent to the global ajaxStop event:\n",
      "    // stop: function (e) {}, // .bind('fileuploadstop', func);\n",
      "    // Callback for change events of the fileInput(s):\n",
      "    // change: function (e, data) {}, // .bind('fileuploadchange', func);\n",
      "    // Callback for paste events to the pasteZone(s):\n",
      "    // paste: function (e, data) {}, // .bind('fileuploadpaste', func);\n",
      "    // Callback for drop events of the dropZone(s):\n",
      "    // drop: function (e, data) {}, // .bind('fileuploaddrop', func);\n",
      "    // Callback for dragover events of the dropZone(s):\n",
      "    // dragover: function (e) {}, // .bind('fileuploaddragover', func);\n",
      "\n",
      "```\n",
      "\n",
      "If you have some doubts about what's happening, just look at the code inside. This library is not compressed so it is easy to see. for example\n",
      "\n",
      "```\n",
      "// start: function (e) {}, // .bind('fileuploadstart', func);\n",
      "\n",
      "```\n",
      "\n",
      "`start` callback is implemented. `fileuploadstart` is not.\n"
     ]
    }
   ],
   "source": [
    "print(data['response_j'])"
   ]
  },
  {
   "cell_type": "markdown",
   "id": "f7349c2f",
   "metadata": {},
   "source": [
    "## local"
   ]
  },
  {
   "cell_type": "markdown",
   "id": "160c9aca",
   "metadata": {},
   "source": [
    "- `git clone` 下载 model weights\n"
   ]
  },
  {
   "cell_type": "markdown",
   "id": "c6df0ed0",
   "metadata": {},
   "source": [
    "### `from_pretrained`"
   ]
  },
  {
   "cell_type": "markdown",
   "id": "26c57321",
   "metadata": {},
   "source": [
    "#### `cache_dir`"
   ]
  },
  {
   "cell_type": "markdown",
   "id": "bedaf9f1",
   "metadata": {},
   "source": [
    "- `cache_dir`：会自动下载，并将其缓存到该 `cache_dir` 内，而不是默认的 `HF_HOME`；\n",
    "    - 这样不用修改代码，第二次执行时，就直接在 cache_dir 内查找了\n",
    "\n",
    "```\n",
    "tokenizer = AutoTokenizer.from_pretrained('meta-llama/Llama-2-7b-chat-hf', cache_dir='./model')\n",
    "```"
   ]
  }
 ],
 "metadata": {
  "kernelspec": {
   "display_name": "Python 3 (ipykernel)",
   "language": "python",
   "name": "python3"
  },
  "language_info": {
   "codemirror_mode": {
    "name": "ipython",
    "version": 3
   },
   "file_extension": ".py",
   "mimetype": "text/x-python",
   "name": "python",
   "nbconvert_exporter": "python",
   "pygments_lexer": "ipython3",
   "version": "3.10.13"
  },
  "toc": {
   "base_numbering": 1,
   "nav_menu": {},
   "number_sections": true,
   "sideBar": true,
   "skip_h1_title": false,
   "title_cell": "Table of Contents",
   "title_sidebar": "Contents",
   "toc_cell": false,
   "toc_position": {},
   "toc_section_display": true,
   "toc_window_display": false
  }
 },
 "nbformat": 4,
 "nbformat_minor": 5
}
