{
 "cells": [
  {
   "cell_type": "markdown",
   "id": "e3c1dfac-4b4f-4002-8726-f34063e47565",
   "metadata": {},
   "source": [
    "- references\n",
    "    - https://zhuanlan.zhihu.com/p/675273498?utm_id=0\n",
    "- padding_side:\n",
    "    - transformers 的 Tokenizer 默认是 padding 右边，"
   ]
  },
  {
   "cell_type": "code",
   "execution_count": 1,
   "id": "ed03de81-76b5-4cff-8eb3-4fd8c2b3ce31",
   "metadata": {},
   "outputs": [],
   "source": [
    "import os\n",
    "os.environ['http_proxy'] = 'http://127.0.0.1:7890'\n",
    "os.environ['https_proxy'] = 'http://127.0.0.1:7890'"
   ]
  },
  {
   "cell_type": "code",
   "execution_count": 2,
   "id": "c9e36b06-05ee-4624-a53e-0ac5a0646631",
   "metadata": {},
   "outputs": [],
   "source": [
    "import torch\n",
    "from transformers import AutoModelForCausalLM, AutoTokenizer, GenerationConfig"
   ]
  },
  {
   "cell_type": "code",
   "execution_count": 8,
   "id": "a0273d94-7e31-4e97-90e2-56095e2345f3",
   "metadata": {},
   "outputs": [],
   "source": [
    "from transformers import AutoTokenizer, AutoModelForCausalLM\n",
    "from torch.distributions import Categorical\n",
    "import torch as t\n",
    "\n",
    "model_name = \"gpt2\"\n",
    "lm = AutoModelForCausalLM.from_pretrained(model_name)"
   ]
  },
  {
   "cell_type": "code",
   "execution_count": 9,
   "id": "8acb4ccd-0f4d-4eec-9f8b-686dac1c313d",
   "metadata": {},
   "outputs": [
    {
     "data": {
      "text/plain": [
       "'right'"
      ]
     },
     "execution_count": 9,
     "metadata": {},
     "output_type": "execute_result"
    }
   ],
   "source": [
    "tokenizer = AutoTokenizer.from_pretrained(model_name)\n",
    "tokenizer.padding_side"
   ]
  },
  {
   "cell_type": "code",
   "execution_count": 11,
   "id": "c0359795-98a4-49f2-846d-fa903dcece2b",
   "metadata": {},
   "outputs": [
    {
     "data": {
      "text/plain": [
       "'left'"
      ]
     },
     "execution_count": 11,
     "metadata": {},
     "output_type": "execute_result"
    }
   ],
   "source": [
    "tokenizer = AutoTokenizer.from_pretrained(model_name, padding_side=\"left\")\n",
    "tokenizer.padding_side"
   ]
  },
  {
   "cell_type": "markdown",
   "id": "c9bf402d-965c-49f3-9d10-4eb3e12bd86d",
   "metadata": {},
   "source": [
    "### padding_side"
   ]
  },
  {
   "cell_type": "markdown",
   "id": "65b24320-b99b-465a-bc99-8ce39c01f63d",
   "metadata": {},
   "source": [
    "- https://huggingface.co/docs/transformers/llm_tutorial#wrong-padding-side\n",
    "- decoder-only => left padding (batch inputs 是会存在 padding 的形式)\n",
    "    - 不仅要设置为 left padding，而且要在 model.generate 的时候要传入 `attention_mask`（不只有 `input_ids`）\n",
    "    - 使用左填充可以将实际数据对齐到右侧，方便模型从左到右处理序列。\n",
    "    - This is because the output is a continuation of the input prompt -- there would be gaps in the output without left padding.\n",
    "- 如果 decoder-only 在generate时，tokenizer.padding_side 被设置为 `right`，Transformer 代码会报警告\n",
    "\n",
    "    ```\n",
    "    A decoder-only architecture is being used, but right-padding was detected! For correct generation results, please set `padding_side='left'` when initializing the tokenizer.\n",
    "    ```\n",
    "- 位置编码（position ids）\n",
    "    - 绝对位置编码，相对位置编码；\n",
    "        - gpt2 是绝对位置编码（https://github.com/huggingface/transformers/blob/main/src/transformers/models/gpt2/modeling_gpt2.py#L1246C1-L1247C62）\n",
    "        ```\n",
    "        position_ids = attention_mask.long().cumsum(-1) - 1\n",
    "        position_ids.masked_fill_(attention_mask == 0, 1)\n",
    "        ```"
   ]
  },
  {
   "cell_type": "markdown",
   "id": "68161999-b732-4d2b-aff0-8fe60a26db37",
   "metadata": {},
   "source": [
    "### padding right (default)"
   ]
  },
  {
   "cell_type": "code",
   "execution_count": 39,
   "id": "8a89ce27-c71c-4a76-a5ec-ed5f4cd2d3f3",
   "metadata": {},
   "outputs": [
    {
     "name": "stderr",
     "output_type": "stream",
     "text": [
      "Setting `pad_token_id` to `eos_token_id`:50256 for open-end generation.\n",
      "A decoder-only architecture is being used, but right-padding was detected! For correct generation results, please set `padding_side='left'` when initializing the tokenizer.\n"
     ]
    }
   ],
   "source": [
    "tokenizer = AutoTokenizer.from_pretrained(model_name)\n",
    "tokenizer.pad_token = tokenizer.eos_token\n",
    "prompt = tokenizer([\"big unpadded five token prompt \", \n",
    "                    \"padded three token \"], \n",
    "                   return_tensors='pt', padding=True, add_special_tokens=True)\n",
    "\n",
    "#generate with plain sampling (https://huggingface.co/blog/how-to-generate)\n",
    "\n",
    "result = lm.generate(prompt[\"input_ids\"], \n",
    "                     attention_mask=prompt[\"attention_mask\"], \n",
    "                     do_sample=True, output_scores=True, return_dict_in_generate=True, \n",
    "                     top_k=0, max_length=10)\n",
    "\n",
    "x, logits_gen = result.sequences, result.scores\n",
    "logits_gen = t.stack(logits_gen, 1)"
   ]
  },
  {
   "cell_type": "code",
   "execution_count": 40,
   "id": "34a3cb2f-88e8-4234-9e91-53dd7b22c468",
   "metadata": {},
   "outputs": [
    {
     "data": {
      "text/plain": [
       "tensor([[14261,  8593, 29373,  1936, 11241,  6152,   220,  2171, 11584,    85],\n",
       "        [   79, 29373,  1115, 11241,   220, 50256, 50256,    42,  2635,  2162]])"
      ]
     },
     "execution_count": 40,
     "metadata": {},
     "output_type": "execute_result"
    }
   ],
   "source": [
    "x"
   ]
  },
  {
   "cell_type": "code",
   "execution_count": 41,
   "id": "6b182d4c-683f-403b-9ad6-f4c40db109ce",
   "metadata": {},
   "outputs": [
    {
     "name": "stdout",
     "output_type": "stream",
     "text": [
      "big unpadded five token prompt illsSIv\n",
      "padded three token <|endoftext|><|endoftext|>K White ;\n"
     ]
    }
   ],
   "source": [
    "print(tokenizer.decode(x[0]))\n",
    "print(tokenizer.decode(x[1]))"
   ]
  },
  {
   "cell_type": "code",
   "execution_count": 37,
   "id": "20ce3fd1-c337-436b-be56-7b865d188d45",
   "metadata": {},
   "outputs": [],
   "source": [
    "# logits_gen"
   ]
  },
  {
   "cell_type": "code",
   "execution_count": 42,
   "id": "5327a454-5df5-49e0-958c-2d9221128602",
   "metadata": {},
   "outputs": [
    {
     "data": {
      "text/plain": [
       "tensor([[1, 1, 1, 1, 1, 1, 1, 1, 1, 1],\n",
       "        [1, 1, 1, 1, 1, 0, 0, 1, 1, 1]])"
      ]
     },
     "execution_count": 42,
     "metadata": {},
     "output_type": "execute_result"
    }
   ],
   "source": [
    "x_attention_mask = (x != tokenizer.eos_token_id).to(dtype=t.int64)\n",
    "x_attention_mask"
   ]
  },
  {
   "cell_type": "code",
   "execution_count": 43,
   "id": "739c6611-359c-42ea-9c40-de191e9e47d1",
   "metadata": {},
   "outputs": [
    {
     "data": {
      "text/plain": [
       "tensor([[0, 1, 2, 3, 4, 5, 6, 7, 8, 9],\n",
       "        [0, 1, 2, 3, 4, 4, 4, 5, 6, 7]])"
      ]
     },
     "execution_count": 43,
     "metadata": {},
     "output_type": "execute_result"
    }
   ],
   "source": [
    "position_ids = x_attention_mask.cumsum(-1)-1\n",
    "position_ids"
   ]
  },
  {
   "cell_type": "code",
   "execution_count": 35,
   "id": "8ea96588-26c3-4a4f-9f3a-af68f52b0a4d",
   "metadata": {},
   "outputs": [
    {
     "data": {
      "text/plain": [
       "tensor([[0, 1, 2, 3, 4, 5, 6, 7, 8, 9],\n",
       "        [0, 1, 2, 3, 4, 1, 1, 5, 6, 7]])"
      ]
     },
     "execution_count": 35,
     "metadata": {},
     "output_type": "execute_result"
    }
   ],
   "source": [
    "position_ids.masked_fill_(x_attention_mask == 0, 1)\n",
    "position_ids"
   ]
  },
  {
   "cell_type": "markdown",
   "id": "0c5b8924-660b-42cd-b0d3-cd22d624c939",
   "metadata": {},
   "source": [
    "### padding left"
   ]
  },
  {
   "cell_type": "code",
   "execution_count": 26,
   "id": "1884e2a4-1ea3-4017-9c42-d512b2607cd2",
   "metadata": {},
   "outputs": [
    {
     "name": "stderr",
     "output_type": "stream",
     "text": [
      "Setting `pad_token_id` to `eos_token_id`:50256 for open-end generation.\n"
     ]
    },
    {
     "name": "stdout",
     "output_type": "stream",
     "text": [
      "big unpadded five token prompt urn:bank\n",
      "<|endoftext|><|endoftext|>padded three token ids, new\n"
     ]
    }
   ],
   "source": [
    "tokenizer = AutoTokenizer.from_pretrained(model_name, padding_side=\"left\")\n",
    "\n",
    "\n",
    "tokenizer.pad_token = tokenizer.eos_token\n",
    "prompt = tokenizer([\"big unpadded five token prompt \", \n",
    "                    \"padded three token \"], return_tensors='pt', padding=True, add_special_tokens=True)\n",
    "\n",
    "#generate with plain sampling (https://huggingface.co/blog/how-to-generate)\n",
    "\n",
    "result = lm.generate(prompt[\"input_ids\"], attention_mask=prompt[\"attention_mask\"], do_sample=True, output_scores=True, return_dict_in_generate=True, top_k=0, max_length=10)\n",
    "x, logits_gen = result.sequences, result.scores\n",
    "logits_gen = t.stack(logits_gen, 1)\n",
    "\n",
    "print(tokenizer.decode(x[0]))\n",
    "print(tokenizer.decode(x[1]))"
   ]
  },
  {
   "cell_type": "code",
   "execution_count": 27,
   "id": "4d11d74b-a5b2-45fa-98c7-6c89aeac287f",
   "metadata": {},
   "outputs": [
    {
     "name": "stdout",
     "output_type": "stream",
     "text": [
      "Attention mask for prompt + generated text\n",
      "tensor([[1, 1, 1, 1, 1, 1, 1, 1, 1, 1],\n",
      "        [0, 0, 1, 1, 1, 1, 1, 1, 1, 1]])\n",
      "Position IDs\n",
      "tensor([[0, 1, 2, 3, 4, 5, 6, 7, 8, 9],\n",
      "        [1, 1, 0, 1, 2, 3, 4, 5, 6, 7]])\n"
     ]
    }
   ],
   "source": [
    "x_attention_mask = (x != tokenizer.eos_token_id).to(dtype=t.int64)\n",
    "position_ids = x_attention_mask.cumsum(-1)-1\n",
    "position_ids.masked_fill_(x_attention_mask == 0, 1)\n",
    "print(\"Attention mask for prompt + generated text\")\n",
    "print(x_attention_mask)\n",
    "print(\"Position IDs\")\n",
    "print(position_ids)"
   ]
  },
  {
   "cell_type": "markdown",
   "id": "250fb3eb-8ce4-4dd2-a30c-5831b2ab3e1d",
   "metadata": {},
   "source": [
    "### pad_token"
   ]
  },
  {
   "cell_type": "code",
   "execution_count": null,
   "id": "9cb0d7f1-1352-4d36-8f0f-2de8500dc43f",
   "metadata": {},
   "outputs": [],
   "source": [
    "device = 'cuda' if torch.cuda.is_available() else 'cpu'\n",
    "model = AutoModelForCausalLM.from_pretrained(\"meta-llama/Llama-2-7b-hf\", \n",
    "                                             torch_dtype=torch.float16).to(device)\n",
    "tokenizer = AutoTokenizer.from_pretrained(\"meta-llama/Llama-2-7b-hf\")"
   ]
  },
  {
   "cell_type": "code",
   "execution_count": 7,
   "id": "2c838c30-c7e6-4ec2-ad77-c275061de911",
   "metadata": {},
   "outputs": [
    {
     "name": "stdout",
     "output_type": "stream",
     "text": [
      "<s> 1\n",
      "</s> 2\n",
      "None None\n"
     ]
    }
   ],
   "source": [
    "print(tokenizer.bos_token, tokenizer.bos_token_id)\n",
    "print(tokenizer.eos_token, tokenizer.eos_token_id)\n",
    "print(tokenizer.pad_token, tokenizer.pad_token_id)"
   ]
  },
  {
   "cell_type": "code",
   "execution_count": 8,
   "id": "2c2eab28-7bd7-4204-a63c-83b94bf6d6d9",
   "metadata": {},
   "outputs": [],
   "source": [
    "# 大多数的 LLM 默认都没有 pad_token，如果不设置，会报错\n",
    "tokenizer.pad_token = tokenizer.eos_token"
   ]
  },
  {
   "cell_type": "code",
   "execution_count": 9,
   "id": "2fc2aeb1-2892-4da1-9427-66bf865dd6cc",
   "metadata": {},
   "outputs": [
    {
     "name": "stdout",
     "output_type": "stream",
     "text": [
      "<s> 1\n",
      "</s> 2\n",
      "</s> 2\n"
     ]
    }
   ],
   "source": [
    "print(tokenizer.bos_token, tokenizer.bos_token_id)\n",
    "print(tokenizer.eos_token, tokenizer.eos_token_id)\n",
    "print(tokenizer.pad_token, tokenizer.pad_token_id)"
   ]
  },
  {
   "cell_type": "code",
   "execution_count": 10,
   "id": "a3342be2-3671-44a2-a3d8-863ddccc10e9",
   "metadata": {},
   "outputs": [
    {
     "data": {
      "text/plain": [
       "{'input_ids': tensor([[    1, 22172, 11148,  3304,     2],\n",
       "         [    1,  1058,   526,   366, 29973]], device='cuda:0'),\n",
       " 'attention_mask': tensor([[1, 1, 1, 1, 0],\n",
       "         [1, 1, 1, 1, 1]], device='cuda:0')}"
      ]
     },
     "execution_count": 10,
     "metadata": {},
     "output_type": "execute_result"
    }
   ],
   "source": [
    "inputs = tokenizer(\n",
    "    [\"hello llama\", \"who are you?\"], padding=True, return_tensors=\"pt\"\n",
    ")\n",
    "inputs = {k: v.to(device) for k, v in inputs.items()}\n",
    "inputs"
   ]
  },
  {
   "cell_type": "code",
   "execution_count": 22,
   "id": "34d34df5-9d9d-498e-8e95-b7fc686cc95c",
   "metadata": {},
   "outputs": [
    {
     "data": {
      "text/plain": [
       "GenerationConfig {\n",
       "  \"bos_token_id\": 1,\n",
       "  \"do_sample\": true,\n",
       "  \"eos_token_id\": 2,\n",
       "  \"max_length\": 4096,\n",
       "  \"pad_token_id\": 0,\n",
       "  \"temperature\": 0.6,\n",
       "  \"top_p\": 0.9\n",
       "}"
      ]
     },
     "execution_count": 22,
     "metadata": {},
     "output_type": "execute_result"
    }
   ],
   "source": [
    "GenerationConfig.from_pretrained('meta-llama/Llama-2-7b-hf')"
   ]
  },
  {
   "cell_type": "code",
   "execution_count": 11,
   "id": "ab03eba5-b697-4a56-8555-721bdebc48df",
   "metadata": {},
   "outputs": [],
   "source": [
    "generated_ids = model.generate(**inputs, )"
   ]
  },
  {
   "cell_type": "code",
   "execution_count": 15,
   "id": "0ef45d68-24b4-4340-bf92-878a16717022",
   "metadata": {},
   "outputs": [
    {
     "name": "stdout",
     "output_type": "stream",
     "text": [
      "who are you? (part 2)\n",
      "What does it mean to be a human? How do we find out who we are? What does it mean to be a human?\n",
      "I’m not a very good person, but I’m not a bad person either. I’m just a person.\n",
      "I’m not a good person, but I’m not a bad person either. I’m just a person.\n",
      "I’m not a bad person, but I’m not a good person either. I’m just a person.\n",
      "I’m not a person, but I’m not a bad person either. I’m just a person.\n",
      "I’m not a good person, but I’m not a bad person either. I’m just a person.\n",
      "I’m not a bad person, but I’m not a good person either. I’m just a person.\n",
      "I’m not a person, but I’m not a bad person either. I’m just a person.\n",
      "I’m not a good person, but I’m not a bad person either. I’m just a person.\n",
      "I’m not a bad person, but I’m not a good person either. I’m just a person.\n",
      "I’m not a person, but I’m not a bad person either. I’m just a person.\n",
      "I’m not a good person, but I’m not a bad person either. I’m just a person.\n",
      "I’m not a bad person, but I’m not a good person either. I’m just a person.\n",
      "I’m not a person, but I’m not a bad person either. I’m just a person.\n",
      "I’m not a bad person, but I’m not a good person either. I’m just a person.\n",
      "I’m not a person, but I’m not a bad person either. I’m just a person.\n",
      "I’m not a good person, but I’m not a bad person either. I’m just a person.\n",
      "I’m not a person, but I’m not a bad person either. I’m just a person.\n",
      "I’m not a good person, but I’m not a bad person either. I’m just a person.\n",
      "I’m not a person, but I’m not a bad person either. I’m just a person.\n",
      "I’m not a person, but I’m not a bad person either. I’m just a person.\n",
      "I’m not a person, but I’m not a bad person either. I’m just a person.\n",
      "I’m not a person, but I’m not a bad person either. I’m just a person.\n",
      "I’m not a person, but I’m not a bad person either. I’m just a person.\n",
      "I’m not a person, but I’m not a bad person either. I’m just a person.\n",
      "I’m not a person, but I’m not a bad person either. I’m just a person.\n",
      "I’m not a person, but I’m not a bad person either. I’m just a person.\n",
      "I’m not a person, but I’m not a bad person either. I’m just a person.\n",
      "I’m not a person, but I’m not a bad person either. I’m just a person.\n",
      "I’m not a person, but I’m not a bad person either. I’m just a person.\n",
      "I’m not a person, but I’m not a bad person either. I’m just a person.\n",
      "I’m not a person, but I’m not a bad person either. I’m just a person.\n",
      "I’m not a person, but I’m not a bad person either. I’m just a person.\n",
      "I’m not a person, but I’m not a bad person either. I’m just a person.\n",
      "I’m not a person, but I’m not a bad person either. I’m just a person.\n",
      "I’m not a person, but I’m not a bad person either. I’m just a person.\n",
      "I’m not a person, but I’m not a bad person either. I’m just a person.\n",
      "I’m not a person, but I’m not a bad person either. I’m just a person.\n",
      "I’m not a person, but I’m not a bad person either. I’m just a person.\n",
      "I’m not a person, but I’m not a bad person either. I’m just a person.\n",
      "I’m not a person, but I’m not a bad person either. I’m just a person.\n",
      "I’m not a person, but I’m not a bad person either. I’m just a person.\n",
      "I’m not a person, but I’m not a bad person either. I’m just a person.\n",
      "I’m not a person, but I’m not a bad person either. I’m just a person.\n",
      "I’m not a person, but I’m not a bad person either. I’m just a person.\n",
      "I’m not a person, but I’m not a bad person either. I’m just a person.\n",
      "I’m not a person, but I’m not a bad person either. I’m just a person.\n",
      "I’m not a person, but I’m not a bad person either. I’m just a person.\n",
      "I’m not a person, but I’m not a bad person either. I’m just a person.\n",
      "I’m not a person, but I’m not a bad person either. I’m just a person.\n",
      "I’m not a person, but I’m not a bad person either. I’m just a person.\n",
      "I’m not a person, but I’m not a bad person either. I’m just a person.\n",
      "I’m not a person, but I’m not a bad person either. I’m just a person.\n",
      "I’m not a person, but I’m not a bad person either. I’m just a person.\n",
      "I’m not a person, but I’m not a bad person either. I’m just a person.\n",
      "I’m not a person, but I’m not a bad person either. I’m just a person.\n",
      "I’m not a person, but I’m not a bad person either. I’m just a person.\n",
      "I’m not a person, but I’m not a bad person either. I’m just a person.\n",
      "I’m not a person, but I’m not a bad person either. I’m just a person.\n",
      "I’m not a person, but I’m not a bad person either. I’m just a person.\n",
      "I’m not a person, but I’m not a bad person either. I’m just a person.\n",
      "I’m not a person, but I’m not a bad person either. I’m just a person.\n",
      "I’m not a person, but I’m not a bad person either. I’m just a person.\n",
      "I’m not a person, but I’m not a bad person either. I’m just a person.\n",
      "I’m not a person, but I’m not a bad person either. I’m just a person.\n",
      "I’m not a person, but I’m not a bad person either. I’m just a person.\n",
      "I’m not a person, but I’m not a bad person either. I’m just a person.\n",
      "I’m not a person, but I’m not a bad person either. I’m just a person.\n",
      "I’m not a person, but I’m not a bad person either. I’m just a person.\n",
      "I’m not a person, but I’m not a bad person either. I’m just a person.\n",
      "I’m not a person, but I’m not a bad person either. I’m just a person.\n",
      "I’m not a person, but I’m not a bad person either. I’m just a person.\n",
      "I’m not a person, but I’m not a bad person either. I’m just a person.\n",
      "I’m not a person, but I’m not a bad person either. I’m just a person.\n",
      "I’m not a person, but I’m not a bad person either. I’m just a person.\n",
      "I’m not a person, but I’m not a bad person either. I’m just a person.\n",
      "I’m not a person, but I’m not a bad person either. I’m just a person.\n",
      "I’m not a person, but I’m not a bad person either. I’m just a person.\n",
      "I’m not a person, but I’m not a bad person either. I’m just a person.\n",
      "I’m not a person, but I’m not a bad person either. I’m just a person.\n",
      "I’m not a person, but I’m not a bad person either. I’m just a person.\n",
      "I’m not a person, but I’m not a bad person either. I’m just a person.\n",
      "I’m not a person, but I’m not a bad person either. I’m just a person.\n",
      "I’m not a person, but I’m not a bad person either. I’m just a person.\n",
      "I’m not a person, but I’m not a bad person either. I’m just a person.\n",
      "I’m not a person, but I’m not a bad person either. I’m just a person.\n",
      "I’m not a person, but I’m not a bad person either. I’m just a person.\n",
      "I’m not a person, but I’m not a bad person either. I’m just a person.\n",
      "I’m not a person, but I’m not a bad person either. I’m just a person.\n",
      "I’m not a person, but I’m not a bad person either. I’m just a person.\n",
      "I’m not a person, but I’m not a bad person either. I’m just a person.\n",
      "I’m not a person, but I’m not a bad person either. I’m just a person.\n",
      "I’m not a person, but I’m not a bad person either. I’m just a person.\n",
      "I’m not a person, but I’m not a bad person either. I’m just a person.\n",
      "I’m not a person, but I’m not a bad person either. I’m just a person.\n",
      "I’m not a person, but I’m not a bad person either. I’m just a person.\n",
      "I’m not a person, but I’m not a bad person either. I’m just a person.\n",
      "I’m not a person, but I’m not a bad person either. I’m just a person.\n",
      "I’m not a person, but I’m not a bad person either. I’m just a person.\n",
      "I’m not a person, but I’m not a bad person either. I’m just a person.\n",
      "I’m not a person, but I’m not a bad person either. I’m just a person.\n",
      "I’m not a person, but I’m not a bad person either. I’m just a person.\n",
      "I’m not a person, but I’m not a bad person either. I’m just a person.\n",
      "I’m not a person, but I’m not a bad person either. I’m just a person.\n",
      "I’m not a person, but I’m not a bad person either. I’m just a person.\n",
      "I’m not a person, but I’m not a bad person either. I’m just a person.\n",
      "I’m not a person, but I’m not a bad person either. I’m just a person.\n",
      "I’m not a person, but I’m not a bad person either. I’m just a person.\n",
      "I’m not a person, but I’m not a bad person either. I’m just a person.\n",
      "I’m not a person, but I’m not a bad person either. I’m just a person.\n",
      "I’m not a person, but I’m not a bad person either. I’m just a person.\n",
      "I’m not a person, but I’m not a bad person either. I’m just a person.\n",
      "I’m not a person, but I’m not a bad person either. I’m just a person.\n",
      "I’m not a person, but I’m not a bad person either. I’m just a person.\n",
      "I’m not a person, but I’m not a bad person either. I’m just a person.\n",
      "I’m not a person, but I’m not a bad person either. I’m just a person.\n",
      "I’m not a person, but I’m not a bad person either. I’m just a person.\n",
      "I’m not a person, but I’m not a bad person either. I’m just a person.\n",
      "I’m not a person, but I’m not a bad person either. I’m just a person.\n",
      "I’m not a person, but I’m not a bad person either. I’m just a person.\n",
      "I’m not a person, but I’m not a bad person either. I’m just a person.\n",
      "I’m not a person, but I’m not a bad person either. I’m just a person.\n",
      "I’m not a person, but I’m not a bad person either. I’m just a person.\n",
      "I’m not a person, but I’m not a bad person either. I’m just a person.\n",
      "I’m not a person, but I’m not a bad person either. I’m just a person.\n",
      "I’m not a person, but I’m not a bad person either. I’m just a person.\n",
      "I’m not a person, but I’m not a bad person either. I’m just a person.\n",
      "I’m not a person, but I’m not a bad person either. I’m just a person.\n",
      "I’m not a person, but I’m not a bad person either. I’m just a person.\n",
      "I’m not a person, but I’m not a bad person either. I’m just a person.\n",
      "I’m not a person, but I’m not a bad person either. I’m just a person.\n",
      "I’m not a person, but I’m not a bad person either. I’m just a person.\n",
      "I’m not a person, but I’m not a bad person either. I’m just a person.\n",
      "I’m not a person, but I’m not a bad person either. I’m just a person.\n",
      "I’m not a person, but I’m not a bad person either. I’m just a person.\n",
      "I’m not a person, but I’m not a bad person either. I’m just a person.\n",
      "I’m not a person, but I’m not a bad person either. I’m just a person.\n",
      "I’m not a person, but I’m not a bad person either. I’m just a person.\n",
      "I’m not a person, but I’m not a bad person either. I’m just a person.\n",
      "I’m not a person, but I’m not a bad person either. I’m just a person.\n",
      "I’m not a person, but I’m not a bad person either. I’m just a person.\n",
      "I’m not a person, but I’m not a bad person either. I’m just a person.\n",
      "I’m not a person, but I’m not a bad person either. I’m just a person.\n",
      "I’m not a person, but I’m not a bad person either. I’m just a person.\n",
      "I’m not a person, but I’m not a bad person either. I’m just a person.\n",
      "I’m not a person, but I’m not a bad person either. I’m just a person.\n",
      "I’m not a person, but I’m not a bad person either. I’m just a person.\n",
      "I’m not a person, but I’m not a bad person either. I’m just a person.\n",
      "I’m not a person, but I’m not a bad person either. I’m just a person.\n",
      "I’m not a person, but I’m not a bad person either. I’m just a person.\n",
      "I’m not a person, but I’m not a bad person either. I’m just a person.\n",
      "I’m not a person, but I’m not a bad person either. I’m just a person.\n",
      "I’m not a person, but I’m not a bad person either. I’m just a person.\n",
      "I’m not a person, but I’m not a bad person either. I’m just a person.\n",
      "I’m not a person, but I’m not a bad person either. I’m just a person.\n",
      "I’m not a person, but I’m not a bad person either. I’m just a person.\n",
      "I’m not a person, but I’m not a bad person either. I’m just a person.\n",
      "I’m not a person, but I’m not a bad person either. I’m just a person.\n",
      "I’m not a person, but I’m not a bad person either. I’m just a person.\n",
      "I’m not a person, but I’m not a bad person either. I’m just a person.\n",
      "I’m not a person, but I’m not a bad person either. I’m just a person.\n",
      "I’m not a person, but I’m not a bad person either. I’m just a person.\n",
      "I’m not a person, but I’m not a bad person either. I’\n"
     ]
    }
   ],
   "source": [
    "print(tokenizer.batch_decode(generated_ids, skip_special_tokens=True)[1])"
   ]
  },
  {
   "cell_type": "markdown",
   "id": "f380948a-96af-4780-8593-f5eb8e98e08e",
   "metadata": {},
   "source": []
  }
 ],
 "metadata": {
  "kernelspec": {
   "display_name": "Python 3 (ipykernel)",
   "language": "python",
   "name": "python3"
  },
  "language_info": {
   "codemirror_mode": {
    "name": "ipython",
    "version": 3
   },
   "file_extension": ".py",
   "mimetype": "text/x-python",
   "name": "python",
   "nbconvert_exporter": "python",
   "pygments_lexer": "ipython3",
   "version": "3.10.13"
  }
 },
 "nbformat": 4,
 "nbformat_minor": 5
}
