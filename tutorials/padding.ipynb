{
 "cells": [
  {
   "cell_type": "markdown",
   "id": "e3c1dfac-4b4f-4002-8726-f34063e47565",
   "metadata": {},
   "source": [
    "- references\n",
    "    - https://zhuanlan.zhihu.com/p/675273498?utm_id=0\n",
    "- padding_side:\n",
    "    - transformers 的 Tokenizer 默认是 padding 右边，"
   ]
  },
  {
   "cell_type": "code",
   "execution_count": 2,
   "id": "ed03de81-76b5-4cff-8eb3-4fd8c2b3ce31",
   "metadata": {},
   "outputs": [],
   "source": [
    "import os\n",
    "os.environ['http_proxy'] = 'http://127.0.0.1:7890'\n",
    "os.environ['https_proxy'] = 'http://127.0.0.1:7890'"
   ]
  },
  {
   "cell_type": "code",
   "execution_count": 19,
   "id": "c9e36b06-05ee-4624-a53e-0ac5a0646631",
   "metadata": {},
   "outputs": [],
   "source": [
    "import torch\n",
    "from transformers import AutoModelForCausalLM, AutoTokenizer, GenerationConfig"
   ]
  },
  {
   "cell_type": "markdown",
   "id": "94e1d879-0696-4815-a646-def6e25aedc4",
   "metadata": {},
   "source": [
    "### model & tokenizer"
   ]
  },
  {
   "cell_type": "code",
   "execution_count": 4,
   "id": "5c6791ec-fb06-459d-ae47-071c92fdc0a0",
   "metadata": {},
   "outputs": [],
   "source": [
    "device = 'cuda' if torch.cuda.is_available() else 'cpu'"
   ]
  },
  {
   "cell_type": "code",
   "execution_count": 6,
   "id": "cd7ad9c9-9a14-4a8c-a054-1190e49b0ff8",
   "metadata": {},
   "outputs": [
    {
     "data": {
      "application/vnd.jupyter.widget-view+json": {
       "model_id": "31accee23f344d7dbb89090d5409a543",
       "version_major": 2,
       "version_minor": 0
      },
      "text/plain": [
       "Loading checkpoint shards:   0%|          | 0/2 [00:00<?, ?it/s]"
      ]
     },
     "metadata": {},
     "output_type": "display_data"
    }
   ],
   "source": [
    "model = AutoModelForCausalLM.from_pretrained(\"meta-llama/Llama-2-7b-hf\", \n",
    "                                             torch_dtype=torch.float16).to(device)\n",
    "tokenizer = AutoTokenizer.from_pretrained(\"meta-llama/Llama-2-7b-hf\")"
   ]
  },
  {
   "cell_type": "markdown",
   "id": "250fb3eb-8ce4-4dd2-a30c-5831b2ab3e1d",
   "metadata": {},
   "source": [
    "### pad_token"
   ]
  },
  {
   "cell_type": "code",
   "execution_count": 7,
   "id": "2c838c30-c7e6-4ec2-ad77-c275061de911",
   "metadata": {},
   "outputs": [
    {
     "name": "stdout",
     "output_type": "stream",
     "text": [
      "<s> 1\n",
      "</s> 2\n",
      "None None\n"
     ]
    }
   ],
   "source": [
    "print(tokenizer.bos_token, tokenizer.bos_token_id)\n",
    "print(tokenizer.eos_token, tokenizer.eos_token_id)\n",
    "print(tokenizer.pad_token, tokenizer.pad_token_id)"
   ]
  },
  {
   "cell_type": "code",
   "execution_count": 8,
   "id": "2c2eab28-7bd7-4204-a63c-83b94bf6d6d9",
   "metadata": {},
   "outputs": [],
   "source": [
    "# 大多数的 LLM 默认都没有 pad_token，如果不设置，会报错\n",
    "tokenizer.pad_token = tokenizer.eos_token"
   ]
  },
  {
   "cell_type": "code",
   "execution_count": 9,
   "id": "2fc2aeb1-2892-4da1-9427-66bf865dd6cc",
   "metadata": {},
   "outputs": [
    {
     "name": "stdout",
     "output_type": "stream",
     "text": [
      "<s> 1\n",
      "</s> 2\n",
      "</s> 2\n"
     ]
    }
   ],
   "source": [
    "print(tokenizer.bos_token, tokenizer.bos_token_id)\n",
    "print(tokenizer.eos_token, tokenizer.eos_token_id)\n",
    "print(tokenizer.pad_token, tokenizer.pad_token_id)"
   ]
  },
  {
   "cell_type": "code",
   "execution_count": 10,
   "id": "a3342be2-3671-44a2-a3d8-863ddccc10e9",
   "metadata": {},
   "outputs": [
    {
     "data": {
      "text/plain": [
       "{'input_ids': tensor([[    1, 22172, 11148,  3304,     2],\n",
       "         [    1,  1058,   526,   366, 29973]], device='cuda:0'),\n",
       " 'attention_mask': tensor([[1, 1, 1, 1, 0],\n",
       "         [1, 1, 1, 1, 1]], device='cuda:0')}"
      ]
     },
     "execution_count": 10,
     "metadata": {},
     "output_type": "execute_result"
    }
   ],
   "source": [
    "inputs = tokenizer(\n",
    "    [\"hello llama\", \"who are you?\"], padding=True, return_tensors=\"pt\"\n",
    ")\n",
    "inputs = {k: v.to(device) for k, v in inputs.items()}\n",
    "inputs"
   ]
  },
  {
   "cell_type": "code",
   "execution_count": 22,
   "id": "34d34df5-9d9d-498e-8e95-b7fc686cc95c",
   "metadata": {},
   "outputs": [
    {
     "data": {
      "text/plain": [
       "GenerationConfig {\n",
       "  \"bos_token_id\": 1,\n",
       "  \"do_sample\": true,\n",
       "  \"eos_token_id\": 2,\n",
       "  \"max_length\": 4096,\n",
       "  \"pad_token_id\": 0,\n",
       "  \"temperature\": 0.6,\n",
       "  \"top_p\": 0.9\n",
       "}"
      ]
     },
     "execution_count": 22,
     "metadata": {},
     "output_type": "execute_result"
    }
   ],
   "source": [
    "GenerationConfig.from_pretrained('meta-llama/Llama-2-7b-hf')"
   ]
  },
  {
   "cell_type": "code",
   "execution_count": 11,
   "id": "ab03eba5-b697-4a56-8555-721bdebc48df",
   "metadata": {},
   "outputs": [],
   "source": [
    "generated_ids = model.generate(**inputs, )"
   ]
  },
  {
   "cell_type": "code",
   "execution_count": 15,
   "id": "0ef45d68-24b4-4340-bf92-878a16717022",
   "metadata": {},
   "outputs": [
    {
     "name": "stdout",
     "output_type": "stream",
     "text": [
      "who are you? (part 2)\n",
      "What does it mean to be a human? How do we find out who we are? What does it mean to be a human?\n",
      "I’m not a very good person, but I’m not a bad person either. I’m just a person.\n",
      "I’m not a good person, but I’m not a bad person either. I’m just a person.\n",
      "I’m not a bad person, but I’m not a good person either. I’m just a person.\n",
      "I’m not a person, but I’m not a bad person either. I’m just a person.\n",
      "I’m not a good person, but I’m not a bad person either. I’m just a person.\n",
      "I’m not a bad person, but I’m not a good person either. I’m just a person.\n",
      "I’m not a person, but I’m not a bad person either. I’m just a person.\n",
      "I’m not a good person, but I’m not a bad person either. I’m just a person.\n",
      "I’m not a bad person, but I’m not a good person either. I’m just a person.\n",
      "I’m not a person, but I’m not a bad person either. I’m just a person.\n",
      "I’m not a good person, but I’m not a bad person either. I’m just a person.\n",
      "I’m not a bad person, but I’m not a good person either. I’m just a person.\n",
      "I’m not a person, but I’m not a bad person either. I’m just a person.\n",
      "I’m not a bad person, but I’m not a good person either. I’m just a person.\n",
      "I’m not a person, but I’m not a bad person either. I’m just a person.\n",
      "I’m not a good person, but I’m not a bad person either. I’m just a person.\n",
      "I’m not a person, but I’m not a bad person either. I’m just a person.\n",
      "I’m not a good person, but I’m not a bad person either. I’m just a person.\n",
      "I’m not a person, but I’m not a bad person either. I’m just a person.\n",
      "I’m not a person, but I’m not a bad person either. I’m just a person.\n",
      "I’m not a person, but I’m not a bad person either. I’m just a person.\n",
      "I’m not a person, but I’m not a bad person either. I’m just a person.\n",
      "I’m not a person, but I’m not a bad person either. I’m just a person.\n",
      "I’m not a person, but I’m not a bad person either. I’m just a person.\n",
      "I’m not a person, but I’m not a bad person either. I’m just a person.\n",
      "I’m not a person, but I’m not a bad person either. I’m just a person.\n",
      "I’m not a person, but I’m not a bad person either. I’m just a person.\n",
      "I’m not a person, but I’m not a bad person either. I’m just a person.\n",
      "I’m not a person, but I’m not a bad person either. I’m just a person.\n",
      "I’m not a person, but I’m not a bad person either. I’m just a person.\n",
      "I’m not a person, but I’m not a bad person either. I’m just a person.\n",
      "I’m not a person, but I’m not a bad person either. I’m just a person.\n",
      "I’m not a person, but I’m not a bad person either. I’m just a person.\n",
      "I’m not a person, but I’m not a bad person either. I’m just a person.\n",
      "I’m not a person, but I’m not a bad person either. I’m just a person.\n",
      "I’m not a person, but I’m not a bad person either. I’m just a person.\n",
      "I’m not a person, but I’m not a bad person either. I’m just a person.\n",
      "I’m not a person, but I’m not a bad person either. I’m just a person.\n",
      "I’m not a person, but I’m not a bad person either. I’m just a person.\n",
      "I’m not a person, but I’m not a bad person either. I’m just a person.\n",
      "I’m not a person, but I’m not a bad person either. I’m just a person.\n",
      "I’m not a person, but I’m not a bad person either. I’m just a person.\n",
      "I’m not a person, but I’m not a bad person either. I’m just a person.\n",
      "I’m not a person, but I’m not a bad person either. I’m just a person.\n",
      "I’m not a person, but I’m not a bad person either. I’m just a person.\n",
      "I’m not a person, but I’m not a bad person either. I’m just a person.\n",
      "I’m not a person, but I’m not a bad person either. I’m just a person.\n",
      "I’m not a person, but I’m not a bad person either. I’m just a person.\n",
      "I’m not a person, but I’m not a bad person either. I’m just a person.\n",
      "I’m not a person, but I’m not a bad person either. I’m just a person.\n",
      "I’m not a person, but I’m not a bad person either. I’m just a person.\n",
      "I’m not a person, but I’m not a bad person either. I’m just a person.\n",
      "I’m not a person, but I’m not a bad person either. I’m just a person.\n",
      "I’m not a person, but I’m not a bad person either. I’m just a person.\n",
      "I’m not a person, but I’m not a bad person either. I’m just a person.\n",
      "I’m not a person, but I’m not a bad person either. I’m just a person.\n",
      "I’m not a person, but I’m not a bad person either. I’m just a person.\n",
      "I’m not a person, but I’m not a bad person either. I’m just a person.\n",
      "I’m not a person, but I’m not a bad person either. I’m just a person.\n",
      "I’m not a person, but I’m not a bad person either. I’m just a person.\n",
      "I’m not a person, but I’m not a bad person either. I’m just a person.\n",
      "I’m not a person, but I’m not a bad person either. I’m just a person.\n",
      "I’m not a person, but I’m not a bad person either. I’m just a person.\n",
      "I’m not a person, but I’m not a bad person either. I’m just a person.\n",
      "I’m not a person, but I’m not a bad person either. I’m just a person.\n",
      "I’m not a person, but I’m not a bad person either. I’m just a person.\n",
      "I’m not a person, but I’m not a bad person either. I’m just a person.\n",
      "I’m not a person, but I’m not a bad person either. I’m just a person.\n",
      "I’m not a person, but I’m not a bad person either. I’m just a person.\n",
      "I’m not a person, but I’m not a bad person either. I’m just a person.\n",
      "I’m not a person, but I’m not a bad person either. I’m just a person.\n",
      "I’m not a person, but I’m not a bad person either. I’m just a person.\n",
      "I’m not a person, but I’m not a bad person either. I’m just a person.\n",
      "I’m not a person, but I’m not a bad person either. I’m just a person.\n",
      "I’m not a person, but I’m not a bad person either. I’m just a person.\n",
      "I’m not a person, but I’m not a bad person either. I’m just a person.\n",
      "I’m not a person, but I’m not a bad person either. I’m just a person.\n",
      "I’m not a person, but I’m not a bad person either. I’m just a person.\n",
      "I’m not a person, but I’m not a bad person either. I’m just a person.\n",
      "I’m not a person, but I’m not a bad person either. I’m just a person.\n",
      "I’m not a person, but I’m not a bad person either. I’m just a person.\n",
      "I’m not a person, but I’m not a bad person either. I’m just a person.\n",
      "I’m not a person, but I’m not a bad person either. I’m just a person.\n",
      "I’m not a person, but I’m not a bad person either. I’m just a person.\n",
      "I’m not a person, but I’m not a bad person either. I’m just a person.\n",
      "I’m not a person, but I’m not a bad person either. I’m just a person.\n",
      "I’m not a person, but I’m not a bad person either. I’m just a person.\n",
      "I’m not a person, but I’m not a bad person either. I’m just a person.\n",
      "I’m not a person, but I’m not a bad person either. I’m just a person.\n",
      "I’m not a person, but I’m not a bad person either. I’m just a person.\n",
      "I’m not a person, but I’m not a bad person either. I’m just a person.\n",
      "I’m not a person, but I’m not a bad person either. I’m just a person.\n",
      "I’m not a person, but I’m not a bad person either. I’m just a person.\n",
      "I’m not a person, but I’m not a bad person either. I’m just a person.\n",
      "I’m not a person, but I’m not a bad person either. I’m just a person.\n",
      "I’m not a person, but I’m not a bad person either. I’m just a person.\n",
      "I’m not a person, but I’m not a bad person either. I’m just a person.\n",
      "I’m not a person, but I’m not a bad person either. I’m just a person.\n",
      "I’m not a person, but I’m not a bad person either. I’m just a person.\n",
      "I’m not a person, but I’m not a bad person either. I’m just a person.\n",
      "I’m not a person, but I’m not a bad person either. I’m just a person.\n",
      "I’m not a person, but I’m not a bad person either. I’m just a person.\n",
      "I’m not a person, but I’m not a bad person either. I’m just a person.\n",
      "I’m not a person, but I’m not a bad person either. I’m just a person.\n",
      "I’m not a person, but I’m not a bad person either. I’m just a person.\n",
      "I’m not a person, but I’m not a bad person either. I’m just a person.\n",
      "I’m not a person, but I’m not a bad person either. I’m just a person.\n",
      "I’m not a person, but I’m not a bad person either. I’m just a person.\n",
      "I’m not a person, but I’m not a bad person either. I’m just a person.\n",
      "I’m not a person, but I’m not a bad person either. I’m just a person.\n",
      "I’m not a person, but I’m not a bad person either. I’m just a person.\n",
      "I’m not a person, but I’m not a bad person either. I’m just a person.\n",
      "I’m not a person, but I’m not a bad person either. I’m just a person.\n",
      "I’m not a person, but I’m not a bad person either. I’m just a person.\n",
      "I’m not a person, but I’m not a bad person either. I’m just a person.\n",
      "I’m not a person, but I’m not a bad person either. I’m just a person.\n",
      "I’m not a person, but I’m not a bad person either. I’m just a person.\n",
      "I’m not a person, but I’m not a bad person either. I’m just a person.\n",
      "I’m not a person, but I’m not a bad person either. I’m just a person.\n",
      "I’m not a person, but I’m not a bad person either. I’m just a person.\n",
      "I’m not a person, but I’m not a bad person either. I’m just a person.\n",
      "I’m not a person, but I’m not a bad person either. I’m just a person.\n",
      "I’m not a person, but I’m not a bad person either. I’m just a person.\n",
      "I’m not a person, but I’m not a bad person either. I’m just a person.\n",
      "I’m not a person, but I’m not a bad person either. I’m just a person.\n",
      "I’m not a person, but I’m not a bad person either. I’m just a person.\n",
      "I’m not a person, but I’m not a bad person either. I’m just a person.\n",
      "I’m not a person, but I’m not a bad person either. I’m just a person.\n",
      "I’m not a person, but I’m not a bad person either. I’m just a person.\n",
      "I’m not a person, but I’m not a bad person either. I’m just a person.\n",
      "I’m not a person, but I’m not a bad person either. I’m just a person.\n",
      "I’m not a person, but I’m not a bad person either. I’m just a person.\n",
      "I’m not a person, but I’m not a bad person either. I’m just a person.\n",
      "I’m not a person, but I’m not a bad person either. I’m just a person.\n",
      "I’m not a person, but I’m not a bad person either. I’m just a person.\n",
      "I’m not a person, but I’m not a bad person either. I’m just a person.\n",
      "I’m not a person, but I’m not a bad person either. I’m just a person.\n",
      "I’m not a person, but I’m not a bad person either. I’m just a person.\n",
      "I’m not a person, but I’m not a bad person either. I’m just a person.\n",
      "I’m not a person, but I’m not a bad person either. I’m just a person.\n",
      "I’m not a person, but I’m not a bad person either. I’m just a person.\n",
      "I’m not a person, but I’m not a bad person either. I’m just a person.\n",
      "I’m not a person, but I’m not a bad person either. I’m just a person.\n",
      "I’m not a person, but I’m not a bad person either. I’m just a person.\n",
      "I’m not a person, but I’m not a bad person either. I’m just a person.\n",
      "I’m not a person, but I’m not a bad person either. I’m just a person.\n",
      "I’m not a person, but I’m not a bad person either. I’m just a person.\n",
      "I’m not a person, but I’m not a bad person either. I’m just a person.\n",
      "I’m not a person, but I’m not a bad person either. I’m just a person.\n",
      "I’m not a person, but I’m not a bad person either. I’m just a person.\n",
      "I’m not a person, but I’m not a bad person either. I’m just a person.\n",
      "I’m not a person, but I’m not a bad person either. I’m just a person.\n",
      "I’m not a person, but I’m not a bad person either. I’m just a person.\n",
      "I’m not a person, but I’m not a bad person either. I’m just a person.\n",
      "I’m not a person, but I’m not a bad person either. I’m just a person.\n",
      "I’m not a person, but I’m not a bad person either. I’m just a person.\n",
      "I’m not a person, but I’m not a bad person either. I’m just a person.\n",
      "I’m not a person, but I’m not a bad person either. I’m just a person.\n",
      "I’m not a person, but I’m not a bad person either. I’m just a person.\n",
      "I’m not a person, but I’m not a bad person either. I’m just a person.\n",
      "I’m not a person, but I’m not a bad person either. I’m just a person.\n",
      "I’m not a person, but I’m not a bad person either. I’\n"
     ]
    }
   ],
   "source": [
    "print(tokenizer.batch_decode(generated_ids, skip_special_tokens=True)[1])"
   ]
  },
  {
   "cell_type": "markdown",
   "id": "f380948a-96af-4780-8593-f5eb8e98e08e",
   "metadata": {},
   "source": [
    "### padding_side"
   ]
  }
 ],
 "metadata": {
  "kernelspec": {
   "display_name": "Python 3 (ipykernel)",
   "language": "python",
   "name": "python3"
  },
  "language_info": {
   "codemirror_mode": {
    "name": "ipython",
    "version": 3
   },
   "file_extension": ".py",
   "mimetype": "text/x-python",
   "name": "python",
   "nbconvert_exporter": "python",
   "pygments_lexer": "ipython3",
   "version": "3.10.13"
  }
 },
 "nbformat": 4,
 "nbformat_minor": 5
}
