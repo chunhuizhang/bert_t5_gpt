{
 "cells": [
  {
   "cell_type": "code",
   "execution_count": null,
   "id": "168e5d1b",
   "metadata": {
    "ExecuteTime": {
     "end_time": "2023-06-25T13:25:29.916402Z",
     "start_time": "2023-06-25T13:25:29.907586Z"
    }
   },
   "outputs": [],
   "source": [
    "from IPython.display import Image"
   ]
  },
  {
   "cell_type": "markdown",
   "id": "ede970ba",
   "metadata": {},
   "source": [
    "## trainer arguments & trainer"
   ]
  },
  {
   "cell_type": "markdown",
   "id": "bc781edd",
   "metadata": {},
   "source": [
    "- $q(x)$：from student model，$p(x)$：from teacher model\n",
    "- 其次对于 $q(x), p(x)$ 在计算时需要加温度\n",
    "$$\n",
    "\\begin{split}\n",
    "L_{\\text{student}}&=\\alpha L_{\\text{CE}} + (1-\\alpha)L_{KD}\\\\\n",
    "&=\\alpha L_{\\text{CE}} + (1-\\alpha)T^2D_{KL}\\\\\n",
    "&=\\alpha L_{\\text{CE}} + (1-\\alpha)T^2\\sum_ip_i(x)\\log\\frac{p_i(x)}{q_i(x)}\n",
    "\\end{split}\n",
    "$$\n",
    "\n",
    "- 关于 `nn.KLDivLoss()`\n",
    "    - inputs ($q(x)$): log probabilities\n",
    "    - labels ($p(x)$): normal probabilities"
   ]
  },
  {
   "cell_type": "code",
   "execution_count": null,
   "id": "8bf76fa8",
   "metadata": {
    "ExecuteTime": {
     "end_time": "2023-06-29T15:44:52.963114Z",
     "start_time": "2023-06-29T15:44:52.957212Z"
    }
   },
   "outputs": [],
   "source": [
    "from transformers import TrainingArguments, Trainer\n",
    "import torch\n",
    "from torch import nn\n",
    "import torch.nn.functional as F\n",
    "import numpy as np\n",
    "import wandb"
   ]
  },
  {
   "cell_type": "code",
   "execution_count": null,
   "id": "59dde685",
   "metadata": {
    "ExecuteTime": {
     "end_time": "2023-06-29T15:14:59.181149Z",
     "start_time": "2023-06-29T15:14:59.177305Z"
    }
   },
   "outputs": [],
   "source": [
    "class DistillTrainingArguments(TrainingArguments):\n",
    "    # TrainingArguments: @dataclass\n",
    "    # 增加两个 KD 所需的参数参数\n",
    "    def __init__(self, *args, alpha=0.5, temperature=2., **kwargs):\n",
    "        super().__init__(*args, **kwargs)\n",
    "        self.alpha = alpha\n",
    "        self.temperature = temperature"
   ]
  },
  {
   "cell_type": "code",
   "execution_count": null,
   "id": "35763030",
   "metadata": {
    "ExecuteTime": {
     "end_time": "2023-06-29T15:15:00.035548Z",
     "start_time": "2023-06-29T15:15:00.023488Z"
    }
   },
   "outputs": [],
   "source": [
    "class DistillTrainer(Trainer):\n",
    "    \n",
    "    def __init__(self, *args, teacher_model=None, **kwargs):\n",
    "        # 增加 teacher_model 参数\n",
    "        super().__init__(*args, **kwargs)\n",
    "        self.teacher_model = teacher_model\n",
    "        \n",
    "    # 重写 trainer 中核心方法\n",
    "    def compute_loss(self, model, inputs, return_outputs=False):\n",
    "        s_output = model(**inputs)\n",
    "        s_ce = s_output.loss\n",
    "        s_logits = s_output.logits\n",
    "        \n",
    "        with torch.no_grad():\n",
    "            t_output = self.teacher_model(**inputs)\n",
    "            t_logits = t_output.logits\n",
    "        \n",
    "        loss_kl_fct = nn.KLDivLoss(reduction='batchmean')\n",
    "        loss_kd = self.args.temperature**2 * loss_kl_fct(F.log_softmax(s_logits/self.args.temperature, dim=-1), \n",
    "                                                        F.softmax(t_logits/self.args.temperature, dim=-1))\n",
    "        loss = self.args.alpha * s_ce + (1-self.args.alpha) * loss_kd\n",
    "        return (loss, s_output) if return_outputs else loss\n"
   ]
  },
  {
   "cell_type": "markdown",
   "id": "07bd85c3",
   "metadata": {},
   "source": [
    "## pipeline"
   ]
  },
  {
   "cell_type": "markdown",
   "id": "bf2702dd",
   "metadata": {},
   "source": [
    "### datasets"
   ]
  },
  {
   "cell_type": "code",
   "execution_count": null,
   "id": "5b79b20b",
   "metadata": {
    "ExecuteTime": {
     "end_time": "2023-06-29T15:15:04.522292Z",
     "start_time": "2023-06-29T15:15:02.158364Z"
    }
   },
   "outputs": [],
   "source": [
    "from datasets import load_dataset\n",
    "clinc = load_dataset(\"clinc_oos\", \"plus\")"
   ]
  },
  {
   "cell_type": "code",
   "execution_count": null,
   "id": "e1c17cac",
   "metadata": {
    "ExecuteTime": {
     "end_time": "2023-06-29T15:15:06.421466Z",
     "start_time": "2023-06-29T15:15:06.410487Z"
    }
   },
   "outputs": [],
   "source": [
    "clinc"
   ]
  },
  {
   "cell_type": "code",
   "execution_count": null,
   "id": "69717752",
   "metadata": {
    "ExecuteTime": {
     "end_time": "2023-06-29T15:15:13.661182Z",
     "start_time": "2023-06-29T15:15:08.094118Z"
    }
   },
   "outputs": [],
   "source": [
    "# from datasets import load_metric\n",
    "# accuracy_score = load_metric('accuracy')\n",
    "import evaluate\n",
    "accuracy_score = evaluate.load('accuracy')"
   ]
  },
  {
   "cell_type": "markdown",
   "id": "c6a4a0a9",
   "metadata": {},
   "source": [
    "### Student model 初始化"
   ]
  },
  {
   "cell_type": "code",
   "execution_count": null,
   "id": "313668df",
   "metadata": {
    "ExecuteTime": {
     "end_time": "2023-06-29T15:36:53.203713Z",
     "start_time": "2023-06-29T15:36:53.196601Z"
    }
   },
   "outputs": [],
   "source": [
    "from transformers import AutoConfig, AutoTokenizer\n",
    "from transformers import AutoModelForSequenceClassification"
   ]
  },
  {
   "cell_type": "code",
   "execution_count": null,
   "id": "a68a82b7",
   "metadata": {
    "ExecuteTime": {
     "end_time": "2023-06-29T15:35:27.634899Z",
     "start_time": "2023-06-29T15:35:25.786556Z"
    }
   },
   "outputs": [],
   "source": [
    "s_ckpt = 'distilbert-base-uncased'\n",
    "s_tokenizer = AutoTokenizer.from_pretrained(s_ckpt)\n",
    "\n",
    "t_ckpt = 'transformersbook/bert-base-uncased-finetuned-clinc'\n",
    "t_model = AutoModelForSequenceClassification.from_pretrained(t_ckpt, num_labels=num_labels)"
   ]
  },
  {
   "cell_type": "code",
   "execution_count": null,
   "id": "30765bdf",
   "metadata": {
    "ExecuteTime": {
     "end_time": "2023-06-29T15:16:33.268205Z",
     "start_time": "2023-06-29T15:16:33.087377Z"
    }
   },
   "outputs": [],
   "source": [
    "clinc_enc = clinc.map(lambda batch: s_tokenizer(batch['text'], truncation=True), \n",
    "                      batched=True, \n",
    "                      remove_columns=[\"text\"]\n",
    "                     )\n",
    "clinc_enc = clinc_enc.rename_columns({'intent': 'labels'})\n",
    "clinc_enc"
   ]
  },
  {
   "cell_type": "code",
   "execution_count": null,
   "id": "85ab2824",
   "metadata": {
    "ExecuteTime": {
     "end_time": "2023-06-29T15:16:35.101278Z",
     "start_time": "2023-06-29T15:16:35.095299Z"
    }
   },
   "outputs": [],
   "source": [
    "# trainer 重要的回调函数，非成员函数\n",
    "def compute_metrics(pred):\n",
    "    predictions, labels = pred\n",
    "    predictions = np.argmax(predictions, axis=-1)\n",
    "    return accuracy_score.compute(references=labels, predictions=predictions)"
   ]
  },
  {
   "cell_type": "code",
   "execution_count": null,
   "id": "c9a08ae2",
   "metadata": {
    "ExecuteTime": {
     "end_time": "2023-06-29T15:38:29.058208Z",
     "start_time": "2023-06-29T15:38:28.700445Z"
    }
   },
   "outputs": [],
   "source": [
    "intents = clinc['train'].features['intent']\n",
    "num_labels = intents.num_classes\n",
    "batch_size = 64\n",
    "s_training_args = DistillTrainingArguments(output_dir='distilbert-base-uncased-ft-clinc', \n",
    "                                           evaluation_strategy='epoch', num_train_epochs=5, \n",
    "                                           learning_rate=3e-4, \n",
    "                                           per_device_train_batch_size=batch_size, \n",
    "                                           per_device_eval_batch_size=batch_size, \n",
    "                                           alpha=1, weight_decay=0.01, push_to_hub=False)\n",
    "s_config = AutoConfig.from_pretrained(s_ckpt, num_labels=num_labels, \n",
    "                                      id2label=t_model.config.id2label, label2id=t_model.config.label2id)\n",
    "# s_config"
   ]
  },
  {
   "cell_type": "code",
   "execution_count": null,
   "id": "86ba1a09",
   "metadata": {
    "ExecuteTime": {
     "end_time": "2023-06-29T15:42:18.789185Z",
     "start_time": "2023-06-29T15:42:18.781048Z"
    }
   },
   "outputs": [],
   "source": [
    "device = torch.device(\"cuda\" if torch.cuda.is_available() else \"cpu\")\n",
    "def student_init():\n",
    "    return AutoModelForSequenceClassification.from_pretrained(s_ckpt, config=s_config).to(device)"
   ]
  },
  {
   "cell_type": "markdown",
   "id": "0294067e",
   "metadata": {},
   "source": [
    "### trainer.train"
   ]
  },
  {
   "cell_type": "code",
   "execution_count": null,
   "id": "c635f0b7",
   "metadata": {
    "ExecuteTime": {
     "end_time": "2023-06-29T15:42:33.493700Z",
     "start_time": "2023-06-29T15:42:28.309432Z"
    }
   },
   "outputs": [],
   "source": [
    "distill_trainer = DistillTrainer(model_init=student_init, teacher_model=t_model, args=s_training_args, \n",
    "                                 train_dataset=clinc_enc['train'], eval_dataset=clinc_enc['validation'], \n",
    "                                 compute_metrics=compute_metrics, tokenizer=s_tokenizer)\n",
    "distill_trainer.train()"
   ]
  }
 ],
 "metadata": {
  "kernelspec": {
   "display_name": "Python 3 (ipykernel)",
   "language": "python",
   "name": "python3"
  },
  "language_info": {
   "codemirror_mode": {
    "name": "ipython",
    "version": 3
   },
   "file_extension": ".py",
   "mimetype": "text/x-python",
   "name": "python",
   "nbconvert_exporter": "python",
   "pygments_lexer": "ipython3",
   "version": "3.10.9"
  },
  "toc": {
   "base_numbering": 1,
   "nav_menu": {},
   "number_sections": true,
   "sideBar": true,
   "skip_h1_title": false,
   "title_cell": "Table of Contents",
   "title_sidebar": "Contents",
   "toc_cell": false,
   "toc_position": {},
   "toc_section_display": true,
   "toc_window_display": false
  }
 },
 "nbformat": 4,
 "nbformat_minor": 5
}
