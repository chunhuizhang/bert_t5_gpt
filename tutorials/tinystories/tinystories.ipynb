{
 "cells": [
  {
   "cell_type": "markdown",
   "id": "24275032-b5bc-4ead-86f8-c484199df479",
   "metadata": {},
   "source": [
    "- https://arxiv.org/abs/2305.07759\n",
    "    - TinyStories: How Small Can Language Models Be and Still Speak Coherent English?\n",
    "        - trick was to carefully curate training data by synthetically generating it (using GPT). \n",
    "- https://philliphaeusler.com/posts/aligning_tinystories/"
   ]
  },
  {
   "cell_type": "code",
   "execution_count": 3,
   "id": "06bd0518-dceb-43ec-b4ac-2b5863905e4c",
   "metadata": {
    "execution": {
     "iopub.execute_input": "2024-12-17T14:09:34.828471Z",
     "iopub.status.busy": "2024-12-17T14:09:34.827904Z",
     "iopub.status.idle": "2024-12-17T14:09:36.921136Z",
     "shell.execute_reply": "2024-12-17T14:09:36.919736Z",
     "shell.execute_reply.started": "2024-12-17T14:09:34.828443Z"
    }
   },
   "outputs": [],
   "source": [
    "import torch\n",
    "from torch.distributions import Categorical\n",
    "from sentence_transformers import SentenceTransformer, util\n",
    "from transformers import AutoModelForCausalLM, AutoTokenizer\n",
    "from torch.optim import AdamW\n",
    "import wandb"
   ]
  },
  {
   "cell_type": "code",
   "execution_count": 2,
   "id": "f26bd21a-d4ca-411f-8ee1-158a423aff98",
   "metadata": {
    "execution": {
     "iopub.execute_input": "2024-12-17T14:06:48.552090Z",
     "iopub.status.busy": "2024-12-17T14:06:48.551631Z",
     "iopub.status.idle": "2024-12-17T14:06:59.243363Z",
     "shell.execute_reply": "2024-12-17T14:06:59.241750Z",
     "shell.execute_reply.started": "2024-12-17T14:06:48.552066Z"
    }
   },
   "outputs": [
    {
     "data": {
      "application/vnd.jupyter.widget-view+json": {
       "model_id": "d5fd8f52556540d7ab4660278cb60610",
       "version_major": 2,
       "version_minor": 0
      },
      "text/plain": [
       "config.json:   0%|          | 0.00/968 [00:00<?, ?B/s]"
      ]
     },
     "metadata": {},
     "output_type": "display_data"
    },
    {
     "data": {
      "application/vnd.jupyter.widget-view+json": {
       "model_id": "62be524267674e139e3fc3f75152e519",
       "version_major": 2,
       "version_minor": 0
      },
      "text/plain": [
       "pytorch_model.bin:   0%|          | 0.00/291M [00:00<?, ?B/s]"
      ]
     },
     "metadata": {},
     "output_type": "display_data"
    }
   ],
   "source": [
    "model = AutoModelForCausalLM.from_pretrained(\"roneneldan/TinyStories-33M\").to(\"cuda\")"
   ]
  },
  {
   "cell_type": "code",
   "execution_count": 4,
   "id": "48a8caaf-74c8-4298-8c0a-0a8ace1693bc",
   "metadata": {
    "execution": {
     "iopub.execute_input": "2024-12-17T14:09:54.242131Z",
     "iopub.status.busy": "2024-12-17T14:09:54.241607Z",
     "iopub.status.idle": "2024-12-17T14:10:13.184988Z",
     "shell.execute_reply": "2024-12-17T14:10:13.184159Z",
     "shell.execute_reply.started": "2024-12-17T14:09:54.242102Z"
    }
   },
   "outputs": [
    {
     "name": "stderr",
     "output_type": "stream",
     "text": [
      "\u001b[34m\u001b[1mwandb\u001b[0m: Currently logged in as: \u001b[33mlanchunhui\u001b[0m (\u001b[33mloveresearch\u001b[0m). Use \u001b[1m`wandb login --relogin`\u001b[0m to force relogin\n"
     ]
    },
    {
     "data": {
      "text/html": [
       "wandb version 0.19.1 is available!  To upgrade, please run:\n",
       " $ pip install wandb --upgrade"
      ],
      "text/plain": [
       "<IPython.core.display.HTML object>"
      ]
     },
     "metadata": {},
     "output_type": "display_data"
    },
    {
     "data": {
      "text/html": [
       "Tracking run with wandb version 0.16.6"
      ],
      "text/plain": [
       "<IPython.core.display.HTML object>"
      ]
     },
     "metadata": {},
     "output_type": "display_data"
    },
    {
     "data": {
      "text/html": [
       "Run data is saved locally in <code>/home/whaow/workspaces/bert_t5_gpt/tutorials/tinystories/wandb/run-20241217_220956-9u94p5k5</code>"
      ],
      "text/plain": [
       "<IPython.core.display.HTML object>"
      ]
     },
     "metadata": {},
     "output_type": "display_data"
    },
    {
     "data": {
      "text/html": [
       "Syncing run <strong><a href='https://wandb.ai/loveresearch/tinycatstories/runs/9u94p5k5' target=\"_blank\">charmed-elevator-1</a></strong> to <a href='https://wandb.ai/loveresearch/tinycatstories' target=\"_blank\">Weights & Biases</a> (<a href='https://wandb.me/run' target=\"_blank\">docs</a>)<br/>"
      ],
      "text/plain": [
       "<IPython.core.display.HTML object>"
      ]
     },
     "metadata": {},
     "output_type": "display_data"
    },
    {
     "data": {
      "text/html": [
       " View project at <a href='https://wandb.ai/loveresearch/tinycatstories' target=\"_blank\">https://wandb.ai/loveresearch/tinycatstories</a>"
      ],
      "text/plain": [
       "<IPython.core.display.HTML object>"
      ]
     },
     "metadata": {},
     "output_type": "display_data"
    },
    {
     "data": {
      "text/html": [
       " View run at <a href='https://wandb.ai/loveresearch/tinycatstories/runs/9u94p5k5' target=\"_blank\">https://wandb.ai/loveresearch/tinycatstories/runs/9u94p5k5</a>"
      ],
      "text/plain": [
       "<IPython.core.display.HTML object>"
      ]
     },
     "metadata": {},
     "output_type": "display_data"
    }
   ],
   "source": [
    "NUM_EPOCHS = 100\n",
    "BATCH_SIZE = 1000\n",
    "NUM_TOKENS = 10\n",
    "LR = 1e-5\n",
    "KL_FACTOR = 6000\n",
    "\n",
    "run = wandb.init(\n",
    "    project=\"tinycatstories\",\n",
    "    config={\n",
    "        \"epochs\": NUM_EPOCHS,\n",
    "        \"batch_size\": BATCH_SIZE,\n",
    "        \"num_tokens\": NUM_TOKENS,\n",
    "        \"learning_rate\": LR,\n",
    "        \"kl_factor\": KL_FACTOR,\n",
    "    },\n",
    ")"
   ]
  },
  {
   "cell_type": "markdown",
   "id": "a960dcbf-9159-446c-86db-f35a519a935e",
   "metadata": {},
   "source": [
    "### reinforce"
   ]
  },
  {
   "cell_type": "markdown",
   "id": "a8a90bdb-0713-4d8f-8391-58b44efee4d2",
   "metadata": {},
   "source": [
    "- 累积对数概率\n",
    "    - $\\mathcal L_{\\text{log\\_prob}}=\\sum_{t=1}^T\\log p_\\theta(y_t|y_{1:t-1})$\n",
    "    - 对数概率表示模型在生成序列 $\\mathcal y$（联合概率） 时的置信度；\n",
    "- KL散度\n",
    "    - 在**每个生成步骤**，计算当前模型 $\\mathcal M$与参考模型 $\\mathcal M_{ref}$ 之间的 KL 散度\n",
    "    - $\\mathcal L_{KL}=\\sum_{t=1}^TKL(p_\\theta(y_t|y_{1:t-1})\\|p_{\\theta_{ref}(y_t|y_{1:t-1})})$\n",
    "        - 其中每一步 KL 散度定义为：$KL(P\\|Q)=\\sum_{y_t}P(y_t)(\\log P(y_t)-\\log Q(y_t))$\n",
    "- 策略梯度项（按 batch 平均）\n",
    "$$\n",
    "\\mathcal L_{policy}=-\\frac1B\\sum_{i=1}^B\\left(\\hat{\\mathcal L}^{(i)}_{\\text{log\\_prob}}\\cdot r(y^{(i)})\\right)\n",
    "$$"
   ]
  },
  {
   "cell_type": "code",
   "execution_count": 5,
   "id": "9bc8fe22-33e9-4b2a-8096-c157c32cdf2b",
   "metadata": {
    "execution": {
     "iopub.execute_input": "2024-12-17T14:15:34.774252Z",
     "iopub.status.busy": "2024-12-17T14:15:34.773933Z",
     "iopub.status.idle": "2024-12-17T14:15:39.442536Z",
     "shell.execute_reply": "2024-12-17T14:15:39.440711Z",
     "shell.execute_reply.started": "2024-12-17T14:15:34.774230Z"
    }
   },
   "outputs": [],
   "source": [
    "embedding_model = SentenceTransformer(\"all-MiniLM-L6-v2\").to(\"cuda\")\n",
    "reference_embedding = embedding_model.encode(\"cat\", convert_to_tensor=True)\n",
    "\n",
    "for param in embedding_model.parameters():\n",
    "    param.requires_grad = False"
   ]
  },
  {
   "cell_type": "code",
   "execution_count": 7,
   "id": "e52e0445-6dd3-4198-bc51-37c4d5e1d166",
   "metadata": {
    "execution": {
     "iopub.execute_input": "2024-12-17T14:16:38.309614Z",
     "iopub.status.busy": "2024-12-17T14:16:38.308967Z",
     "iopub.status.idle": "2024-12-17T14:16:38.323204Z",
     "shell.execute_reply": "2024-12-17T14:16:38.320899Z",
     "shell.execute_reply.started": "2024-12-17T14:16:38.309566Z"
    }
   },
   "outputs": [
    {
     "data": {
      "text/plain": [
       "torch.Size([384])"
      ]
     },
     "execution_count": 7,
     "metadata": {},
     "output_type": "execute_result"
    }
   ],
   "source": [
    "# 128*3\n",
    "reference_embedding.shape"
   ]
  },
  {
   "cell_type": "code",
   "execution_count": 8,
   "id": "f80871c4-d173-45c9-8524-b7802e347c87",
   "metadata": {
    "execution": {
     "iopub.execute_input": "2024-12-17T14:18:10.324423Z",
     "iopub.status.busy": "2024-12-17T14:18:10.323754Z",
     "iopub.status.idle": "2024-12-17T14:18:10.336935Z",
     "shell.execute_reply": "2024-12-17T14:18:10.334700Z",
     "shell.execute_reply.started": "2024-12-17T14:18:10.324374Z"
    }
   },
   "outputs": [],
   "source": [
    "def compute_rewards(sequences):\n",
    "    sequence_embeddings = embedding_model.encode(sequences, convert_to_tensor=True)\n",
    "    cosine_similarities = util.pytorch_cos_sim(\n",
    "        reference_embedding.unsqueeze(0), sequence_embeddings\n",
    "    ).squeeze()\n",
    "    return cosine_similarities\n"
   ]
  },
  {
   "cell_type": "code",
   "execution_count": 11,
   "id": "c87b05b8-1d50-4ff9-a0c2-2f4fc67f6c2f",
   "metadata": {
    "execution": {
     "iopub.execute_input": "2024-12-17T14:20:24.644142Z",
     "iopub.status.busy": "2024-12-17T14:20:24.643462Z",
     "iopub.status.idle": "2024-12-17T14:20:27.427399Z",
     "shell.execute_reply": "2024-12-17T14:20:27.425451Z",
     "shell.execute_reply.started": "2024-12-17T14:20:24.644094Z"
    }
   },
   "outputs": [
    {
     "name": "stderr",
     "output_type": "stream",
     "text": [
      "huggingface/tokenizers: The current process just got forked, after parallelism has already been used. Disabling parallelism to avoid deadlocks...\n",
      "To disable this warning, you can either:\n",
      "\t- Avoid using `tokenizers` before the fork if possible\n",
      "\t- Explicitly set the environment variable TOKENIZERS_PARALLELISM=(true | false)\n",
      "huggingface/tokenizers: The current process just got forked, after parallelism has already been used. Disabling parallelism to avoid deadlocks...\n",
      "To disable this warning, you can either:\n",
      "\t- Avoid using `tokenizers` before the fork if possible\n",
      "\t- Explicitly set the environment variable TOKENIZERS_PARALLELISM=(true | false)\n"
     ]
    }
   ],
   "source": [
    "model = AutoModelForCausalLM.from_pretrained(\"roneneldan/TinyStories-33M\").to(\"cuda\")\n",
    "ref_model = AutoModelForCausalLM.from_pretrained(\"roneneldan/TinyStories-33M\").to(\"cuda\")\n",
    "for param in ref_model.parameters():\n",
    "    param.requires_grad = False\n",
    "    \n",
    "tokenizer = AutoTokenizer.from_pretrained(\"EleutherAI/gpt-neo-125M\")\n",
    "optimizer = AdamW(model.parameters(), lr=LR)\n",
    "\n",
    "prompt = \"Once upon a time there was\"\n",
    "input_ids = tokenizer.encode(prompt, return_tensors=\"pt\").to(\"cuda\")"
   ]
  },
  {
   "cell_type": "code",
   "execution_count": 10,
   "id": "ea28f08c-55c7-4f2d-8a7e-b8e5b21177ac",
   "metadata": {
    "execution": {
     "iopub.execute_input": "2024-12-17T14:18:40.405766Z",
     "iopub.status.busy": "2024-12-17T14:18:40.405179Z",
     "iopub.status.idle": "2024-12-17T14:18:40.429531Z",
     "shell.execute_reply": "2024-12-17T14:18:40.427525Z",
     "shell.execute_reply.started": "2024-12-17T14:18:40.405729Z"
    }
   },
   "outputs": [
    {
     "data": {
      "text/plain": [
       "tensor([[7454, 2402,  257,  640,  612,  373]], device='cuda:0')"
      ]
     },
     "execution_count": 10,
     "metadata": {},
     "output_type": "execute_result"
    }
   ],
   "source": [
    "input_ids"
   ]
  },
  {
   "cell_type": "code",
   "execution_count": null,
   "id": "2071983d-4909-41e6-9dc3-89ee6f69ace5",
   "metadata": {},
   "outputs": [],
   "source": []
  }
 ],
 "metadata": {
  "kernelspec": {
   "display_name": "Python 3 (ipykernel)",
   "language": "python",
   "name": "python3"
  },
  "language_info": {
   "codemirror_mode": {
    "name": "ipython",
    "version": 3
   },
   "file_extension": ".py",
   "mimetype": "text/x-python",
   "name": "python",
   "nbconvert_exporter": "python",
   "pygments_lexer": "ipython3",
   "version": "3.10.13"
  }
 },
 "nbformat": 4,
 "nbformat_minor": 5
}
