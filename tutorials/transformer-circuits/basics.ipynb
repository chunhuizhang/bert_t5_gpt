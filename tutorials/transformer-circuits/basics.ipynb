{
 "cells": [
  {
   "cell_type": "code",
   "execution_count": 1,
   "id": "b73a4bd4-9958-4f81-9631-c4db9d33cdd5",
   "metadata": {
    "execution": {
     "iopub.execute_input": "2024-06-28T14:48:14.831852Z",
     "iopub.status.busy": "2024-06-28T14:48:14.831133Z",
     "iopub.status.idle": "2024-06-28T14:48:14.838860Z",
     "shell.execute_reply": "2024-06-28T14:48:14.837570Z",
     "shell.execute_reply.started": "2024-06-28T14:48:14.831806Z"
    }
   },
   "outputs": [],
   "source": [
    "from IPython.display import Image"
   ]
  },
  {
   "cell_type": "markdown",
   "id": "bcd83a46-88c2-4309-aa4f-7c53e40cca2a",
   "metadata": {},
   "source": [
    "## residual stream"
   ]
  },
  {
   "cell_type": "markdown",
   "id": "ec2b0729-581c-4f1e-bf62-269eb6961268",
   "metadata": {},
   "source": [
    "- residual connection\n",
    "    - one layer: $x = x + \\Delta x_1$\n",
    "    - two layer: $x = x + \\Delta x_1 + \\Delta x_2$\n",
    "- residual stream\n",
    "    - $x = x + \\sum_h h(x) + m(x)$\n",
    "    - 不断地在这个中轴线上 added new information\n",
    "    - Both the attention and MLP layers\n",
    "        - each “read” their input from the residual stream (by performing a linear projection),\n",
    "            - attention：$h(x_i)$\n",
    "            - mlp: $m(x_i)$\n",
    "        - and then “write” their result to the residual stream by adding a linear projection back in.\n",
    "            - $x_{i+1}=x_i+\\sum_h h(x_i)$\n",
    "            - $x_{i+2}=x_{i+1}+m(x_{i+1})$\n",
    "        - Each attention layer consists of multiple heads, which operate in parallel."
   ]
  },
  {
   "cell_type": "code",
   "execution_count": 2,
   "id": "7a50f903-66a4-4076-8715-d2d40794e7e2",
   "metadata": {
    "execution": {
     "iopub.execute_input": "2024-06-28T14:50:42.209424Z",
     "iopub.status.busy": "2024-06-28T14:50:42.208459Z",
     "iopub.status.idle": "2024-06-28T14:50:42.222865Z",
     "shell.execute_reply": "2024-06-28T14:50:42.221663Z",
     "shell.execute_reply.started": "2024-06-28T14:50:42.209379Z"
    }
   },
   "outputs": [
    {
     "data": {
      "text/html": [
       "<img src=\"./imgs/residual-stream.png\" width=\"500\"/>"
      ],
      "text/plain": [
       "<IPython.core.display.Image object>"
      ]
     },
     "execution_count": 2,
     "metadata": {},
     "output_type": "execute_result"
    }
   ],
   "source": [
    "Image(url='./imgs/residual-stream.png', width=500)"
   ]
  }
 ],
 "metadata": {
  "kernelspec": {
   "display_name": "Python 3 (ipykernel)",
   "language": "python",
   "name": "python3"
  },
  "language_info": {
   "codemirror_mode": {
    "name": "ipython",
    "version": 3
   },
   "file_extension": ".py",
   "mimetype": "text/x-python",
   "name": "python",
   "nbconvert_exporter": "python",
   "pygments_lexer": "ipython3",
   "version": "3.10.13"
  }
 },
 "nbformat": 4,
 "nbformat_minor": 5
}
