{
 "cells": [
  {
   "cell_type": "markdown",
   "id": "f5f0bee2",
   "metadata": {},
   "source": [
    "## 网络问题"
   ]
  },
  {
   "cell_type": "markdown",
   "id": "5dfbe312",
   "metadata": {},
   "source": [
    "```\n",
    "import os\n",
    "os.environ['HTTP_PROXY'] = 'http://127.0.0.1:7890'\n",
    "os.environ['HTTPS_PROXY'] = 'http://127.0.0.1:7890'\n",
    "```\n",
    "\n",
    "- 上述操作同样适用于 `huggingface-cli`\n",
    "\n",
    "    ```\n",
    "    $ export HTTP_PROXY='http://127.0.0.1:7890'\n",
    "    $ export HTTPS_PROXY='http://127.0.0.1:7890'\n",
    "    ```"
   ]
  },
  {
   "cell_type": "markdown",
   "id": "63ff308c",
   "metadata": {},
   "source": [
    "## huggingface-cli"
   ]
  },
  {
   "cell_type": "markdown",
   "id": "46d88efb",
   "metadata": {},
   "source": [
    "\n",
    "```\n",
    "$ huggingface-cli whoami\n",
    "$ huggingface-cli login\n",
    "```"
   ]
  }
 ],
 "metadata": {
  "kernelspec": {
   "display_name": "Python 3 (ipykernel)",
   "language": "python",
   "name": "python3"
  },
  "language_info": {
   "codemirror_mode": {
    "name": "ipython",
    "version": 3
   },
   "file_extension": ".py",
   "mimetype": "text/x-python",
   "name": "python",
   "nbconvert_exporter": "python",
   "pygments_lexer": "ipython3",
   "version": "3.10.9"
  },
  "toc": {
   "base_numbering": 1,
   "nav_menu": {},
   "number_sections": true,
   "sideBar": true,
   "skip_h1_title": false,
   "title_cell": "Table of Contents",
   "title_sidebar": "Contents",
   "toc_cell": false,
   "toc_position": {},
   "toc_section_display": true,
   "toc_window_display": false
  }
 },
 "nbformat": 4,
 "nbformat_minor": 5
}
