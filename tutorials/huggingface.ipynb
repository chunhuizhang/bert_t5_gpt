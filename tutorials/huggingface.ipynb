{
 "cells": [
  {
   "cell_type": "markdown",
   "id": "f5f0bee2",
   "metadata": {},
   "source": [
    "## 网络问题"
   ]
  },
  {
   "cell_type": "markdown",
   "id": "5dfbe312",
   "metadata": {},
   "source": [
    "```\n",
    "import os\n",
    "os.environ['HTTP_PROXY'] = 'http://127.0.0.1:7890'\n",
    "os.environ['HTTPS_PROXY'] = 'http://127.0.0.1:7890'\n",
    "```\n",
    "\n",
    "- 上述操作同样适用于 `huggingface-cli`\n",
    "\n",
    "    ```\n",
    "    $ export HTTP_PROXY='http://127.0.0.1:7890'\n",
    "    $ export HTTPS_PROXY='http://127.0.0.1:7890'\n",
    "    ```"
   ]
  },
  {
   "cell_type": "markdown",
   "id": "63ff308c",
   "metadata": {},
   "source": [
    "## huggingface-cli"
   ]
  },
  {
   "cell_type": "markdown",
   "id": "46d88efb",
   "metadata": {},
   "source": [
    "\n",
    "```\n",
    "$ huggingface-cli whoami\n",
    "$ huggingface-cli login\n",
    "```"
   ]
  },
  {
   "cell_type": "markdown",
   "id": "c6e26527",
   "metadata": {},
   "source": [
    "## cache dir"
   ]
  },
  {
   "cell_type": "markdown",
   "id": "0ebf142b",
   "metadata": {},
   "source": [
    "- https://stackoverflow.com/questions/63312859/how-to-change-huggingface-transformers-default-cache-directory\n",
    "- 直接 `vim ~/.zshrc`\n",
    "    - `export HF_HOME='/media/whaow/.cache/huggingface'`"
   ]
  },
  {
   "cell_type": "markdown",
   "id": "56a56d21",
   "metadata": {},
   "source": [
    "## `load_dataset`"
   ]
  },
  {
   "cell_type": "markdown",
   "id": "9889d704",
   "metadata": {},
   "source": [
    "```\n",
    "# csv\n",
    "load_dataset('csv', data_files='my_file.csv')\n",
    "\n",
    "# text\n",
    "load_dataset('txt', data_files='my_file.txt')\n",
    "\n",
    "# JSON\n",
    "load_dataset('json', data_files='my_file.json')\n",
    "\n",
    "# parquet\n",
    "load_dataset('parquet', data_files='my_file.parquet')\n",
    "```"
   ]
  },
  {
   "cell_type": "markdown",
   "id": "80c39c49",
   "metadata": {},
   "source": [
    "```\n",
    "!wget https://archive.ics.uci.edu/ml/machine-learning-databases/wine-quality/winequality-white.csv\n",
    "\n",
    "\n",
    "from datasets import load_dataset\n",
    "local_csv_dataset = load_dataset(\"csv\", data_files=\"winequality-white.csv\", sep=\";\")\n",
    "local_csv_dataset[\"train\"]\n",
    "\n",
    "\n",
    "# Load the dataset from the URL directly\n",
    "dataset_url = \"https://archive.ics.uci.edu/ml/machine-learning-databases/wine-quality/winequality-white.csv\"\n",
    "remote_csv_dataset = load_dataset(\"csv\", data_files=dataset_url, sep=\";\")\n",
    "remote_csv_dataset\n",
    "\n",
    "\n",
    "```"
   ]
  },
  {
   "cell_type": "code",
   "execution_count": null,
   "id": "4a5fa51a",
   "metadata": {},
   "outputs": [],
   "source": []
  }
 ],
 "metadata": {
  "kernelspec": {
   "display_name": "Python 3 (ipykernel)",
   "language": "python",
   "name": "python3"
  },
  "language_info": {
   "codemirror_mode": {
    "name": "ipython",
    "version": 3
   },
   "file_extension": ".py",
   "mimetype": "text/x-python",
   "name": "python",
   "nbconvert_exporter": "python",
   "pygments_lexer": "ipython3",
   "version": "3.10.9"
  },
  "toc": {
   "base_numbering": 1,
   "nav_menu": {},
   "number_sections": true,
   "sideBar": true,
   "skip_h1_title": false,
   "title_cell": "Table of Contents",
   "title_sidebar": "Contents",
   "toc_cell": false,
   "toc_position": {},
   "toc_section_display": true,
   "toc_window_display": false
  }
 },
 "nbformat": 4,
 "nbformat_minor": 5
}
