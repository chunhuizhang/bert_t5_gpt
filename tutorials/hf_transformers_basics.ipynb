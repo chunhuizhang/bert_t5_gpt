{
 "cells": [
  {
   "cell_type": "markdown",
   "id": "d40e4c2d",
   "metadata": {},
   "source": [
    "- 环境配置及路径\n",
    "    - `export HF_HOME='/media/whaow/.cache/huggingface'`\n",
    "    - model path: `HF_HOME/hub/models--xx-xx`\n",
    "        - models--meta-llama--Llama-2-7b-hf: `meta-llama/Llama-2-7b-hf`"
   ]
  },
  {
   "cell_type": "code",
   "execution_count": 1,
   "id": "f1d38b5d-7f73-4df8-bfc1-e0d3efcc0b09",
   "metadata": {
    "execution": {
     "iopub.execute_input": "2024-11-25T12:14:26.532417Z",
     "iopub.status.busy": "2024-11-25T12:14:26.531795Z",
     "iopub.status.idle": "2024-11-25T12:14:27.647723Z",
     "shell.execute_reply": "2024-11-25T12:14:27.645874Z",
     "shell.execute_reply.started": "2024-11-25T12:14:26.532367Z"
    }
   },
   "outputs": [],
   "source": [
    "from datasets import load_dataset\n",
    "import os\n",
    "os.environ['http_proxy'] = 'http://127.0.0.1:7890'\n",
    "os.environ['https_proxy'] = 'http://127.0.0.1:7890'"
   ]
  },
  {
   "cell_type": "markdown",
   "id": "8d1c1b46",
   "metadata": {},
   "source": [
    "## dtypes"
   ]
  },
  {
   "cell_type": "code",
   "execution_count": 2,
   "id": "f1e17b6f",
   "metadata": {
    "ExecuteTime": {
     "end_time": "2024-02-15T05:32:24.162955Z",
     "start_time": "2024-02-15T05:32:24.160188Z"
    }
   },
   "outputs": [],
   "source": [
    "from transformers.models.gpt2.modeling_gpt2 import GPT2Block\n",
    "from transformers import AutoConfig"
   ]
  },
  {
   "cell_type": "code",
   "execution_count": 6,
   "id": "91aa0cce",
   "metadata": {
    "ExecuteTime": {
     "end_time": "2024-02-15T05:36:15.646119Z",
     "start_time": "2024-02-15T05:36:15.020435Z"
    }
   },
   "outputs": [],
   "source": [
    "config = AutoConfig.from_pretrained('gpt2-medium')\n",
    "gpt2_block = GPT2Block(config, layer_idx=0)"
   ]
  },
  {
   "cell_type": "code",
   "execution_count": 9,
   "id": "9942f00d",
   "metadata": {
    "ExecuteTime": {
     "end_time": "2024-02-15T05:36:37.657499Z",
     "start_time": "2024-02-15T05:36:37.652520Z"
    }
   },
   "outputs": [
    {
     "data": {
      "text/plain": [
       "torch.float32"
      ]
     },
     "execution_count": 9,
     "metadata": {},
     "output_type": "execute_result"
    }
   ],
   "source": [
    "# default torch.float32\n",
    "next(gpt2_block.parameters()).dtype"
   ]
  },
  {
   "cell_type": "code",
   "execution_count": 11,
   "id": "4173a52c",
   "metadata": {
    "ExecuteTime": {
     "end_time": "2024-02-15T05:37:17.661269Z",
     "start_time": "2024-02-15T05:37:16.900823Z"
    }
   },
   "outputs": [
    {
     "data": {
      "text/plain": [
       "torch.float16"
      ]
     },
     "execution_count": 11,
     "metadata": {},
     "output_type": "execute_result"
    }
   ],
   "source": [
    "config = AutoConfig.from_pretrained('gpt2-medium')\n",
    "gpt2_block = GPT2Block(config, layer_idx=0)\n",
    "# half: 半精度\n",
    "gpt2_block = GPT2Block(config, layer_idx=0).half()\n",
    "next(gpt2_block.parameters()).dtype"
   ]
  },
  {
   "cell_type": "markdown",
   "id": "f052b650-1c1e-4d82-91da-c8a5e1013796",
   "metadata": {},
   "source": [
    "### load dataset"
   ]
  },
  {
   "cell_type": "markdown",
   "id": "de0ac2e5-5af1-4880-9a10-2d189cc73581",
   "metadata": {},
   "source": [
    "- `lvwerra/stack-exchange-paired`\n",
    "    - data_dir\n",
    "- `cais/mmlu`\n",
    "    - subset\n",
    "    - split\n",
    "-----\n",
    "- data_dir\n",
    "    - \"data/finetune\"\n",
    "    - \"data/rl\"\n",
    "    - \"data/evaluate\"\n",
    "    - \"data/reward\"\n",
    "- subset: mmlu\n",
    "- split\n",
    "    - \"train\"\n",
    "    - \"test\"\n",
    "    - \"valid\"\n",
    "- num_proc: 多少个 cpu 进程下载；\n",
    "    - 4\n",
    "- streaming\n",
    "    - return IterableDataset\n",
    "        - has no len()"
   ]
  },
  {
   "cell_type": "code",
   "execution_count": 2,
   "id": "f8a9b6fb-3f29-4de2-ba0e-42fbc820f461",
   "metadata": {
    "execution": {
     "iopub.execute_input": "2024-11-25T12:15:24.938814Z",
     "iopub.status.busy": "2024-11-25T12:15:24.938171Z",
     "iopub.status.idle": "2024-11-25T12:15:35.701998Z",
     "shell.execute_reply": "2024-11-25T12:15:35.701002Z",
     "shell.execute_reply.started": "2024-11-25T12:15:24.938752Z"
    }
   },
   "outputs": [
    {
     "name": "stderr",
     "output_type": "stream",
     "text": [
      "/home/whaow/anaconda3/lib/python3.10/site-packages/datasets/load.py:2554: FutureWarning: 'use_auth_token' was deprecated in favor of 'token' in version 2.14.0 and will be removed in 3.0.0.\n",
      "You can remove this warning by passing 'token=<use_auth_token>' instead.\n",
      "  warnings.warn(\n"
     ]
    },
    {
     "data": {
      "application/vnd.jupyter.widget-view+json": {
       "model_id": "c7439abc82e14bd2889f5fad26fef680",
       "version_major": 2,
       "version_minor": 0
      },
      "text/plain": [
       "Resolving data files:   0%|          | 0/20 [00:00<?, ?it/s]"
      ]
     },
     "metadata": {},
     "output_type": "display_data"
    }
   ],
   "source": [
    "streaming = True\n",
    "dataset = load_dataset(\n",
    "    'lvwerra/stack-exchange-paired',\n",
    "    data_dir='data/finetune',\n",
    "    split='train',\n",
    "    use_auth_token=True,\n",
    "    num_proc=4 if not streaming else None,\n",
    "    streaming=streaming,\n",
    ")"
   ]
  },
  {
   "cell_type": "code",
   "execution_count": 3,
   "id": "cb989ea9-fb9f-427c-b0a1-69f58fd60c7c",
   "metadata": {
    "execution": {
     "iopub.execute_input": "2024-11-25T12:15:40.954332Z",
     "iopub.status.busy": "2024-11-25T12:15:40.954035Z",
     "iopub.status.idle": "2024-11-25T12:15:41.510077Z",
     "shell.execute_reply": "2024-11-25T12:15:41.507880Z",
     "shell.execute_reply.started": "2024-11-25T12:15:40.954312Z"
    }
   },
   "outputs": [
    {
     "ename": "TypeError",
     "evalue": "object of type 'IterableDataset' has no len()",
     "output_type": "error",
     "traceback": [
      "\u001b[0;31m---------------------------------------------------------------------------\u001b[0m",
      "\u001b[0;31mTypeError\u001b[0m                                 Traceback (most recent call last)",
      "Cell \u001b[0;32mIn[3], line 1\u001b[0m\n\u001b[0;32m----> 1\u001b[0m \u001b[38;5;28;43mlen\u001b[39;49m\u001b[43m(\u001b[49m\u001b[43mdataset\u001b[49m\u001b[43m)\u001b[49m\n",
      "\u001b[0;31mTypeError\u001b[0m: object of type 'IterableDataset' has no len()"
     ]
    }
   ],
   "source": [
    "len(dataset)"
   ]
  },
  {
   "cell_type": "code",
   "execution_count": 4,
   "id": "cec4d18d-e748-4a65-9408-96668205b687",
   "metadata": {
    "execution": {
     "iopub.execute_input": "2024-11-25T12:15:48.916282Z",
     "iopub.status.busy": "2024-11-25T12:15:48.915962Z",
     "iopub.status.idle": "2024-11-25T12:15:48.927381Z",
     "shell.execute_reply": "2024-11-25T12:15:48.925424Z",
     "shell.execute_reply.started": "2024-11-25T12:15:48.916261Z"
    }
   },
   "outputs": [
    {
     "data": {
      "text/plain": [
       "{'qid': Value(dtype='int64', id=None),\n",
       " 'question': Value(dtype='string', id=None),\n",
       " 'date': Value(dtype='string', id=None),\n",
       " 'metadata': Sequence(feature=Value(dtype='string', id=None), length=-1, id=None),\n",
       " 'response_j': Value(dtype='string', id=None),\n",
       " 'response_k': Value(dtype='string', id=None)}"
      ]
     },
     "execution_count": 4,
     "metadata": {},
     "output_type": "execute_result"
    }
   ],
   "source": [
    "dataset.features"
   ]
  },
  {
   "cell_type": "code",
   "execution_count": 5,
   "id": "481348bd-e68f-4797-98f0-aae6be75e1f6",
   "metadata": {
    "execution": {
     "iopub.execute_input": "2024-11-25T12:16:02.849130Z",
     "iopub.status.busy": "2024-11-25T12:16:02.848455Z",
     "iopub.status.idle": "2024-11-25T12:16:02.863113Z",
     "shell.execute_reply": "2024-11-25T12:16:02.860921Z",
     "shell.execute_reply.started": "2024-11-25T12:16:02.849080Z"
    }
   },
   "outputs": [],
   "source": [
    "valid_ds = dataset.take(4000)\n",
    "train_ds = dataset.skip(4000)\n",
    "train_ds = train_ds.shuffle(buffer_size=5000, seed=None)"
   ]
  },
  {
   "cell_type": "code",
   "execution_count": 6,
   "id": "789de09e-ab96-40dd-a8df-ace16ddddb81",
   "metadata": {
    "execution": {
     "iopub.execute_input": "2024-11-25T12:16:15.531792Z",
     "iopub.status.busy": "2024-11-25T12:16:15.531119Z",
     "iopub.status.idle": "2024-11-25T12:16:17.429011Z",
     "shell.execute_reply": "2024-11-25T12:16:17.427315Z",
     "shell.execute_reply.started": "2024-11-25T12:16:15.531729Z"
    }
   },
   "outputs": [],
   "source": [
    "data = next(iter(valid_ds))"
   ]
  },
  {
   "cell_type": "code",
   "execution_count": 7,
   "id": "283152e5-d21b-4531-8205-aefdf3326a47",
   "metadata": {
    "execution": {
     "iopub.execute_input": "2024-11-25T12:16:22.977055Z",
     "iopub.status.busy": "2024-11-25T12:16:22.976407Z",
     "iopub.status.idle": "2024-11-25T12:16:22.988432Z",
     "shell.execute_reply": "2024-11-25T12:16:22.986268Z",
     "shell.execute_reply.started": "2024-11-25T12:16:22.977008Z"
    }
   },
   "outputs": [
    {
     "data": {
      "text/plain": [
       "dict_keys(['qid', 'question', 'date', 'metadata', 'response_j', 'response_k'])"
      ]
     },
     "execution_count": 7,
     "metadata": {},
     "output_type": "execute_result"
    }
   ],
   "source": [
    "# type(data): dict\n",
    "data.keys()"
   ]
  },
  {
   "cell_type": "code",
   "execution_count": 8,
   "id": "d3df40b5-df2f-407e-a349-4e3680fc6225",
   "metadata": {
    "execution": {
     "iopub.execute_input": "2024-11-25T12:16:29.511901Z",
     "iopub.status.busy": "2024-11-25T12:16:29.511256Z",
     "iopub.status.idle": "2024-11-25T12:16:29.522890Z",
     "shell.execute_reply": "2024-11-25T12:16:29.520993Z",
     "shell.execute_reply.started": "2024-11-25T12:16:29.511856Z"
    }
   },
   "outputs": [
    {
     "data": {
      "text/plain": [
       "12891264"
      ]
     },
     "execution_count": 8,
     "metadata": {},
     "output_type": "execute_result"
    }
   ],
   "source": [
    "# https://stackoverflow.com/questions/12891264/jquery-file-upload-plugin-not-calling-success-callback\n",
    "data['qid']"
   ]
  },
  {
   "cell_type": "code",
   "execution_count": 9,
   "id": "a976044d-5fdf-4a52-9561-07aaccb6e0a3",
   "metadata": {
    "execution": {
     "iopub.execute_input": "2024-11-25T12:16:37.266340Z",
     "iopub.status.busy": "2024-11-25T12:16:37.265699Z",
     "iopub.status.idle": "2024-11-25T12:16:37.275891Z",
     "shell.execute_reply": "2024-11-25T12:16:37.273698Z",
     "shell.execute_reply.started": "2024-11-25T12:16:37.266294Z"
    }
   },
   "outputs": [
    {
     "name": "stdout",
     "output_type": "stream",
     "text": [
      "Looking at the library code, seems all events are renamed removing 'fileupload' ... so 'fileuploaddone' becomes just 'done'. It is valid for all other callbacks.\n",
      "look at this section:\n",
      "\n",
      "```\n",
      "    // Other callbacks:\n",
      "    // Callback for the submit event of each file upload:\n",
      "    // submit: function (e, data) {}, // .bind('fileuploadsubmit', func);\n",
      "    // Callback for the start of each file upload request:\n",
      "    // send: function (e, data) {}, // .bind('fileuploadsend', func);\n",
      "    // Callback for successful uploads:\n",
      "    // done: function (e, data) {}, // .bind('fileuploaddone', func);\n",
      "    // Callback for failed (abort or error) uploads:\n",
      "    // fail: function (e, data) {}, // .bind('fileuploadfail', func);\n",
      "    // Callback for completed (success, abort or error) requests:\n",
      "    // always: function (e, data) {}, // .bind('fileuploadalways', func);\n",
      "    // Callback for upload progress events:\n",
      "    // progress: function (e, data) {}, // .bind('fileuploadprogress', func);\n",
      "    // Callback for global upload progress events:\n",
      "    // progressall: function (e, data) {}, // .bind('fileuploadprogressall', func);\n",
      "    // Callback for uploads start, equivalent to the global ajaxStart event:\n",
      "    // start: function (e) {}, // .bind('fileuploadstart', func);\n",
      "    // Callback for uploads stop, equivalent to the global ajaxStop event:\n",
      "    // stop: function (e) {}, // .bind('fileuploadstop', func);\n",
      "    // Callback for change events of the fileInput(s):\n",
      "    // change: function (e, data) {}, // .bind('fileuploadchange', func);\n",
      "    // Callback for paste events to the pasteZone(s):\n",
      "    // paste: function (e, data) {}, // .bind('fileuploadpaste', func);\n",
      "    // Callback for drop events of the dropZone(s):\n",
      "    // drop: function (e, data) {}, // .bind('fileuploaddrop', func);\n",
      "    // Callback for dragover events of the dropZone(s):\n",
      "    // dragover: function (e) {}, // .bind('fileuploaddragover', func);\n",
      "\n",
      "```\n",
      "\n",
      "If you have some doubts about what's happening, just look at the code inside. This library is not compressed so it is easy to see. for example\n",
      "\n",
      "```\n",
      "// start: function (e) {}, // .bind('fileuploadstart', func);\n",
      "\n",
      "```\n",
      "\n",
      "`start` callback is implemented. `fileuploadstart` is not.\n"
     ]
    }
   ],
   "source": [
    "print(data['response_j'])"
   ]
  },
  {
   "cell_type": "markdown",
   "id": "6be1166f-cd9a-4e05-a916-0b8b3a36bd59",
   "metadata": {},
   "source": [
    "### cache_dir"
   ]
  },
  {
   "cell_type": "markdown",
   "id": "b0d77cfb-1009-4d8c-bf56-e8861a001cb7",
   "metadata": {},
   "source": [
    "- `cache_dir`：会自动下载，并将其缓存到该 `cache_dir` 内，而不是默认的 `HF_HOME`；\n",
    "    - 这样不用修改代码，第二次执行时，就直接在 cache_dir 内查找了\n",
    "\n",
    "```\n",
    "tokenizer = AutoTokenizer.from_pretrained('meta-llama/Llama-2-7b-chat-hf', cache_dir='./model')\n",
    "```"
   ]
  },
  {
   "cell_type": "markdown",
   "id": "751d4e51",
   "metadata": {},
   "source": [
    "## 加载本地文件"
   ]
  },
  {
   "cell_type": "code",
   "execution_count": 1,
   "id": "17be74b1",
   "metadata": {
    "ExecuteTime": {
     "end_time": "2024-02-13T12:01:54.998214Z",
     "start_time": "2024-02-13T12:01:54.879354Z"
    }
   },
   "outputs": [],
   "source": [
    "from transformers import AutoConfig"
   ]
  },
  {
   "cell_type": "code",
   "execution_count": 3,
   "id": "afcad9b1",
   "metadata": {
    "ExecuteTime": {
     "end_time": "2024-02-13T12:02:11.807027Z",
     "start_time": "2024-02-13T12:02:11.789187Z"
    }
   },
   "outputs": [
    {
     "data": {
      "text/plain": [
       "GPT2Config {\n",
       "  \"_name_or_path\": \"/home/whaow/.cache/huggingface/hub/models--gpt2-medium/snapshots/425b0cc90498ac177aa51ba07be26fc2fea6af9d/config.json\",\n",
       "  \"activation_function\": \"gelu_new\",\n",
       "  \"architectures\": [\n",
       "    \"GPT2LMHeadModel\"\n",
       "  ],\n",
       "  \"attn_pdrop\": 0.1,\n",
       "  \"bos_token_id\": 50256,\n",
       "  \"embd_pdrop\": 0.1,\n",
       "  \"eos_token_id\": 50256,\n",
       "  \"initializer_range\": 0.02,\n",
       "  \"layer_norm_epsilon\": 1e-05,\n",
       "  \"model_type\": \"gpt2\",\n",
       "  \"n_ctx\": 1024,\n",
       "  \"n_embd\": 1024,\n",
       "  \"n_head\": 16,\n",
       "  \"n_inner\": null,\n",
       "  \"n_layer\": 24,\n",
       "  \"n_positions\": 1024,\n",
       "  \"n_special\": 0,\n",
       "  \"predict_special_tokens\": true,\n",
       "  \"reorder_and_upcast_attn\": false,\n",
       "  \"resid_pdrop\": 0.1,\n",
       "  \"scale_attn_by_inverse_layer_idx\": false,\n",
       "  \"scale_attn_weights\": true,\n",
       "  \"summary_activation\": null,\n",
       "  \"summary_first_dropout\": 0.1,\n",
       "  \"summary_proj_to_labels\": true,\n",
       "  \"summary_type\": \"cls_index\",\n",
       "  \"summary_use_proj\": true,\n",
       "  \"task_specific_params\": {\n",
       "    \"text-generation\": {\n",
       "      \"do_sample\": true,\n",
       "      \"max_length\": 50\n",
       "    }\n",
       "  },\n",
       "  \"transformers_version\": \"4.37.0.dev0\",\n",
       "  \"use_cache\": true,\n",
       "  \"vocab_size\": 50257\n",
       "}"
      ]
     },
     "execution_count": 3,
     "metadata": {},
     "output_type": "execute_result"
    }
   ],
   "source": [
    "config = AutoConfig.from_pretrained('/home/whaow/.cache/huggingface/hub/models--gpt2-medium/snapshots/425b0cc90498ac177aa51ba07be26fc2fea6af9d/config.json')\n",
    "config"
   ]
  },
  {
   "cell_type": "markdown",
   "id": "38472e87-f2ba-48e1-b67f-bc93e4eaa809",
   "metadata": {},
   "source": [
    "## models"
   ]
  },
  {
   "cell_type": "markdown",
   "id": "efe26f20-34fe-4630-a773-43323ecb1dc7",
   "metadata": {},
   "source": [
    "- device_map\n",
    "    - 单张 GPU: 使用 device_map={\"\": \"cuda\"}。\n",
    "      - All on cuda:0;\n",
    "    - 多张 GPU（推荐自动分片）: 使用 device_map=\"auto\"。\n",
    "    - 多张 GPU（手动分片）: 明确指定每一层的 device_map。"
   ]
  },
  {
   "cell_type": "markdown",
   "id": "e6e22c7c",
   "metadata": {},
   "source": [
    "### single, half, double"
   ]
  },
  {
   "cell_type": "markdown",
   "id": "35a3419d",
   "metadata": {},
   "source": [
    "- `--fp16` 与 `--bf16`\n",
    "    - single（单精度）: `fp16 == False and bf16 == False`\n",
    "    - half（半精度）: `fp16 == False and bf16 == True`"
   ]
  },
  {
   "cell_type": "code",
   "execution_count": null,
   "id": "1d091177-478d-4c5f-9667-e9ca9da7cec4",
   "metadata": {},
   "outputs": [],
   "source": []
  }
 ],
 "metadata": {
  "kernelspec": {
   "display_name": "Python 3 (ipykernel)",
   "language": "python",
   "name": "python3"
  },
  "language_info": {
   "codemirror_mode": {
    "name": "ipython",
    "version": 3
   },
   "file_extension": ".py",
   "mimetype": "text/x-python",
   "name": "python",
   "nbconvert_exporter": "python",
   "pygments_lexer": "ipython3",
   "version": "3.10.13"
  },
  "toc": {
   "base_numbering": 1,
   "nav_menu": {},
   "number_sections": true,
   "sideBar": true,
   "skip_h1_title": false,
   "title_cell": "Table of Contents",
   "title_sidebar": "Contents",
   "toc_cell": false,
   "toc_position": {},
   "toc_section_display": true,
   "toc_window_display": false
  }
 },
 "nbformat": 4,
 "nbformat_minor": 5
}
