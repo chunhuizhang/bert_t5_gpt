{
 "cells": [
  {
   "cell_type": "markdown",
   "id": "d40e4c2d",
   "metadata": {},
   "source": [
    "- 环境配置及路径\n",
    "    - `export HF_HOME='/media/whaow/.cache/huggingface'`\n",
    "    - model path: `HF_HOME/hub/models--xx-xx`\n",
    "        - models--meta-llama--Llama-2-7b-hf: `meta-llama/Llama-2-7b-hf`"
   ]
  },
  {
   "cell_type": "markdown",
   "id": "8d1c1b46",
   "metadata": {},
   "source": [
    "## dtypes"
   ]
  },
  {
   "cell_type": "code",
   "execution_count": 2,
   "id": "f1e17b6f",
   "metadata": {
    "ExecuteTime": {
     "end_time": "2024-02-15T05:32:24.162955Z",
     "start_time": "2024-02-15T05:32:24.160188Z"
    }
   },
   "outputs": [],
   "source": [
    "from transformers.models.gpt2.modeling_gpt2 import GPT2Block\n",
    "from transformers import AutoConfig"
   ]
  },
  {
   "cell_type": "code",
   "execution_count": 6,
   "id": "91aa0cce",
   "metadata": {
    "ExecuteTime": {
     "end_time": "2024-02-15T05:36:15.646119Z",
     "start_time": "2024-02-15T05:36:15.020435Z"
    }
   },
   "outputs": [],
   "source": [
    "config = AutoConfig.from_pretrained('gpt2-medium')\n",
    "gpt2_block = GPT2Block(config, layer_idx=0)"
   ]
  },
  {
   "cell_type": "code",
   "execution_count": 9,
   "id": "9942f00d",
   "metadata": {
    "ExecuteTime": {
     "end_time": "2024-02-15T05:36:37.657499Z",
     "start_time": "2024-02-15T05:36:37.652520Z"
    }
   },
   "outputs": [
    {
     "data": {
      "text/plain": [
       "torch.float32"
      ]
     },
     "execution_count": 9,
     "metadata": {},
     "output_type": "execute_result"
    }
   ],
   "source": [
    "# default torch.float32\n",
    "next(gpt2_block.parameters()).dtype"
   ]
  },
  {
   "cell_type": "code",
   "execution_count": 11,
   "id": "4173a52c",
   "metadata": {
    "ExecuteTime": {
     "end_time": "2024-02-15T05:37:17.661269Z",
     "start_time": "2024-02-15T05:37:16.900823Z"
    }
   },
   "outputs": [
    {
     "data": {
      "text/plain": [
       "torch.float16"
      ]
     },
     "execution_count": 11,
     "metadata": {},
     "output_type": "execute_result"
    }
   ],
   "source": [
    "config = AutoConfig.from_pretrained('gpt2-medium')\n",
    "gpt2_block = GPT2Block(config, layer_idx=0)\n",
    "# half: 半精度\n",
    "gpt2_block = GPT2Block(config, layer_idx=0).half()\n",
    "next(gpt2_block.parameters()).dtype"
   ]
  },
  {
   "cell_type": "markdown",
   "id": "751d4e51",
   "metadata": {},
   "source": [
    "## 加载本地文件"
   ]
  },
  {
   "cell_type": "code",
   "execution_count": 1,
   "id": "17be74b1",
   "metadata": {
    "ExecuteTime": {
     "end_time": "2024-02-13T12:01:54.998214Z",
     "start_time": "2024-02-13T12:01:54.879354Z"
    }
   },
   "outputs": [],
   "source": [
    "from transformers import AutoConfig"
   ]
  },
  {
   "cell_type": "code",
   "execution_count": 3,
   "id": "afcad9b1",
   "metadata": {
    "ExecuteTime": {
     "end_time": "2024-02-13T12:02:11.807027Z",
     "start_time": "2024-02-13T12:02:11.789187Z"
    }
   },
   "outputs": [
    {
     "data": {
      "text/plain": [
       "GPT2Config {\n",
       "  \"_name_or_path\": \"/home/whaow/.cache/huggingface/hub/models--gpt2-medium/snapshots/425b0cc90498ac177aa51ba07be26fc2fea6af9d/config.json\",\n",
       "  \"activation_function\": \"gelu_new\",\n",
       "  \"architectures\": [\n",
       "    \"GPT2LMHeadModel\"\n",
       "  ],\n",
       "  \"attn_pdrop\": 0.1,\n",
       "  \"bos_token_id\": 50256,\n",
       "  \"embd_pdrop\": 0.1,\n",
       "  \"eos_token_id\": 50256,\n",
       "  \"initializer_range\": 0.02,\n",
       "  \"layer_norm_epsilon\": 1e-05,\n",
       "  \"model_type\": \"gpt2\",\n",
       "  \"n_ctx\": 1024,\n",
       "  \"n_embd\": 1024,\n",
       "  \"n_head\": 16,\n",
       "  \"n_inner\": null,\n",
       "  \"n_layer\": 24,\n",
       "  \"n_positions\": 1024,\n",
       "  \"n_special\": 0,\n",
       "  \"predict_special_tokens\": true,\n",
       "  \"reorder_and_upcast_attn\": false,\n",
       "  \"resid_pdrop\": 0.1,\n",
       "  \"scale_attn_by_inverse_layer_idx\": false,\n",
       "  \"scale_attn_weights\": true,\n",
       "  \"summary_activation\": null,\n",
       "  \"summary_first_dropout\": 0.1,\n",
       "  \"summary_proj_to_labels\": true,\n",
       "  \"summary_type\": \"cls_index\",\n",
       "  \"summary_use_proj\": true,\n",
       "  \"task_specific_params\": {\n",
       "    \"text-generation\": {\n",
       "      \"do_sample\": true,\n",
       "      \"max_length\": 50\n",
       "    }\n",
       "  },\n",
       "  \"transformers_version\": \"4.37.0.dev0\",\n",
       "  \"use_cache\": true,\n",
       "  \"vocab_size\": 50257\n",
       "}"
      ]
     },
     "execution_count": 3,
     "metadata": {},
     "output_type": "execute_result"
    }
   ],
   "source": [
    "config = AutoConfig.from_pretrained('/home/whaow/.cache/huggingface/hub/models--gpt2-medium/snapshots/425b0cc90498ac177aa51ba07be26fc2fea6af9d/config.json')\n",
    "config"
   ]
  },
  {
   "cell_type": "markdown",
   "id": "e6e22c7c",
   "metadata": {},
   "source": [
    "## single, half, double"
   ]
  },
  {
   "cell_type": "markdown",
   "id": "35a3419d",
   "metadata": {},
   "source": [
    "- `--fp16` 与 `--bf16`\n",
    "    - single（单精度）: `fp16 == False and bf16 == False`\n",
    "    - half（半精度）: `fp16 == False and bf16 == True`"
   ]
  }
 ],
 "metadata": {
  "kernelspec": {
   "display_name": "Python 3 (ipykernel)",
   "language": "python",
   "name": "python3"
  },
  "language_info": {
   "codemirror_mode": {
    "name": "ipython",
    "version": 3
   },
   "file_extension": ".py",
   "mimetype": "text/x-python",
   "name": "python",
   "nbconvert_exporter": "python",
   "pygments_lexer": "ipython3",
   "version": "3.10.13"
  },
  "toc": {
   "base_numbering": 1,
   "nav_menu": {},
   "number_sections": true,
   "sideBar": true,
   "skip_h1_title": false,
   "title_cell": "Table of Contents",
   "title_sidebar": "Contents",
   "toc_cell": false,
   "toc_position": {},
   "toc_section_display": true,
   "toc_window_display": false
  }
 },
 "nbformat": 4,
 "nbformat_minor": 5
}
