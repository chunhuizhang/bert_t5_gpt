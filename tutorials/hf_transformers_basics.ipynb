{
 "cells": [
  {
   "cell_type": "markdown",
   "id": "e6e22c7c",
   "metadata": {},
   "source": [
    "## single, half, double"
   ]
  },
  {
   "cell_type": "markdown",
   "id": "35a3419d",
   "metadata": {},
   "source": [
    "- `--fp16` 与 `--bf16`\n",
    "    - single（单精度）: `fp16 == False and bf16 == False`\n",
    "    - half（半精度）: `fp16 == False and bf16 == True`"
   ]
  }
 ],
 "metadata": {
  "kernelspec": {
   "display_name": "Python 3 (ipykernel)",
   "language": "python",
   "name": "python3"
  },
  "language_info": {
   "codemirror_mode": {
    "name": "ipython",
    "version": 3
   },
   "file_extension": ".py",
   "mimetype": "text/x-python",
   "name": "python",
   "nbconvert_exporter": "python",
   "pygments_lexer": "ipython3",
   "version": "3.10.13"
  },
  "toc": {
   "base_numbering": 1,
   "nav_menu": {},
   "number_sections": true,
   "sideBar": true,
   "skip_h1_title": false,
   "title_cell": "Table of Contents",
   "title_sidebar": "Contents",
   "toc_cell": false,
   "toc_position": {},
   "toc_section_display": true,
   "toc_window_display": false
  }
 },
 "nbformat": 4,
 "nbformat_minor": 5
}
