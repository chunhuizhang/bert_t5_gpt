{
 "cells": [
  {
   "cell_type": "code",
   "execution_count": 1,
   "id": "c8d4cdc6-3983-4b37-9b20-de74e99ab5e2",
   "metadata": {
    "execution": {
     "iopub.execute_input": "2024-07-28T02:02:13.792989Z",
     "iopub.status.busy": "2024-07-28T02:02:13.792414Z",
     "iopub.status.idle": "2024-07-28T02:02:13.802823Z",
     "shell.execute_reply": "2024-07-28T02:02:13.800442Z",
     "shell.execute_reply.started": "2024-07-28T02:02:13.792942Z"
    }
   },
   "outputs": [],
   "source": [
    "from torch.utils.data import DataLoader"
   ]
  },
  {
   "cell_type": "markdown",
   "id": "3d248723-69e1-4627-99f0-399447e74361",
   "metadata": {
    "execution": {
     "iopub.execute_input": "2024-07-28T02:02:19.580109Z",
     "iopub.status.busy": "2024-07-28T02:02:19.579816Z",
     "iopub.status.idle": "2024-07-28T02:02:19.697523Z",
     "shell.execute_reply": "2024-07-28T02:02:19.695290Z",
     "shell.execute_reply.started": "2024-07-28T02:02:19.580087Z"
    }
   },
   "source": [
    "### dataloader"
   ]
  },
  {
   "cell_type": "markdown",
   "id": "95a92910-4d80-459e-ad05-897c9aebe113",
   "metadata": {},
   "source": [
    "- 构造函数：\n",
    "    - collate_fn\n",
    "        - The collate_fn will be called every batch\n",
    "        - 接收的输入是 `list of dataset[random_index]` (list length is batch size)\n",
    "- 示例\n",
    "    ```\n",
    "    loader = DataLoader(dataset, shuffle=True, batch_size=5, collate_fn=collate_fn)\n",
    "    ```"
   ]
  },
  {
   "cell_type": "code",
   "execution_count": 3,
   "id": "b8efd374-f219-484c-8115-c8306664bb10",
   "metadata": {
    "execution": {
     "iopub.execute_input": "2024-07-28T02:58:10.135600Z",
     "iopub.status.busy": "2024-07-28T02:58:10.135122Z",
     "iopub.status.idle": "2024-07-28T02:58:20.659539Z",
     "shell.execute_reply": "2024-07-28T02:58:20.658674Z",
     "shell.execute_reply.started": "2024-07-28T02:58:10.135564Z"
    }
   },
   "outputs": [
    {
     "name": "stdout",
     "output_type": "stream",
     "text": [
      "[2024-07-28 10:58:20,497] [INFO] [real_accelerator.py:161:get_accelerator] Setting ds_accelerator to cuda (auto detect)\n"
     ]
    }
   ],
   "source": [
    "from trl import DataCollatorForCompletionOnlyLM"
   ]
  },
  {
   "cell_type": "code",
   "execution_count": 5,
   "id": "f02e9cd0-a65d-4c16-a8ec-2145f83a98aa",
   "metadata": {
    "execution": {
     "iopub.execute_input": "2024-07-28T02:58:38.994656Z",
     "iopub.status.busy": "2024-07-28T02:58:38.993329Z",
     "iopub.status.idle": "2024-07-28T02:58:39.002192Z",
     "shell.execute_reply": "2024-07-28T02:58:38.999822Z",
     "shell.execute_reply.started": "2024-07-28T02:58:38.994613Z"
    }
   },
   "outputs": [],
   "source": [
    "# DataCollatorForCompletionOnlyLM??"
   ]
  },
  {
   "cell_type": "markdown",
   "id": "e0d188fc-4207-4ef8-9c09-fcaef0ab0fda",
   "metadata": {},
   "source": [
    "```\n",
    "class _MapDatasetFetcher(_BaseDatasetFetcher):\n",
    "    def fetch(self, possibly_batched_index):\n",
    "        if self.auto_collation:\n",
    "            if hasattr(self.dataset, \"__getitems__\") and self.dataset.__getitems__:\n",
    "                data = self.dataset.__getitems__(possibly_batched_index)\n",
    "            else:\n",
    "                data = [self.dataset[idx] for idx in possibly_batched_index]\n",
    "        else:\n",
    "            data = self.dataset[possibly_batched_index]\n",
    "        return self.collate_fn(data)\n",
    "```"
   ]
  }
 ],
 "metadata": {
  "kernelspec": {
   "display_name": "Python 3 (ipykernel)",
   "language": "python",
   "name": "python3"
  },
  "language_info": {
   "codemirror_mode": {
    "name": "ipython",
    "version": 3
   },
   "file_extension": ".py",
   "mimetype": "text/x-python",
   "name": "python",
   "nbconvert_exporter": "python",
   "pygments_lexer": "ipython3",
   "version": "3.10.13"
  }
 },
 "nbformat": 4,
 "nbformat_minor": 5
}
