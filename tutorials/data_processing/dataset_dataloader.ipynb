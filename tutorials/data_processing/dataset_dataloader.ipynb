{
 "cells": [
  {
   "cell_type": "code",
   "execution_count": 1,
   "id": "c8d4cdc6-3983-4b37-9b20-de74e99ab5e2",
   "metadata": {
    "execution": {
     "iopub.execute_input": "2024-07-28T02:02:13.792989Z",
     "iopub.status.busy": "2024-07-28T02:02:13.792414Z",
     "iopub.status.idle": "2024-07-28T02:02:13.802823Z",
     "shell.execute_reply": "2024-07-28T02:02:13.800442Z",
     "shell.execute_reply.started": "2024-07-28T02:02:13.792942Z"
    }
   },
   "outputs": [],
   "source": [
    "from torch.utils.data import DataLoader"
   ]
  },
  {
   "cell_type": "markdown",
   "id": "3d248723-69e1-4627-99f0-399447e74361",
   "metadata": {
    "execution": {
     "iopub.execute_input": "2024-07-28T02:02:19.580109Z",
     "iopub.status.busy": "2024-07-28T02:02:19.579816Z",
     "iopub.status.idle": "2024-07-28T02:02:19.697523Z",
     "shell.execute_reply": "2024-07-28T02:02:19.695290Z",
     "shell.execute_reply.started": "2024-07-28T02:02:19.580087Z"
    }
   },
   "source": [
    "### dataloader"
   ]
  },
  {
   "cell_type": "markdown",
   "id": "95a92910-4d80-459e-ad05-897c9aebe113",
   "metadata": {},
   "source": [
    "- 构造函数：\n",
    "    - collate_fn\n",
    "        - The collate_fn will be called every batch\n",
    "- 示例\n",
    "    ```\n",
    "    loader = DataLoader(dataset, shuffle=True, batch_size=5, collate_fn=collate_fn)\n",
    "    ```"
   ]
  }
 ],
 "metadata": {
  "kernelspec": {
   "display_name": "Python 3 (ipykernel)",
   "language": "python",
   "name": "python3"
  },
  "language_info": {
   "codemirror_mode": {
    "name": "ipython",
    "version": 3
   },
   "file_extension": ".py",
   "mimetype": "text/x-python",
   "name": "python",
   "nbconvert_exporter": "python",
   "pygments_lexer": "ipython3",
   "version": "3.10.13"
  }
 },
 "nbformat": 4,
 "nbformat_minor": 5
}
