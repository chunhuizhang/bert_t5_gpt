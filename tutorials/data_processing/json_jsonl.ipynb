{
 "cells": [
  {
   "cell_type": "markdown",
   "id": "3c8219c7-6ff3-4e41-890c-b0953e19bf63",
   "metadata": {},
   "source": [
    "- jsonl：json lines\n",
    "\n",
    "| 特性                | JSON                            | JSONL                           |\n",
    "|---------------------|---------------------------------|---------------------------------|\n",
    "| **数据结构**        | 完整对象或数组                  | 每行一个独立的 JSON 对象        |\n",
    "| **易读性**          | 可视化层次结构清晰              | 更适合机器处理，人工可读性较低  |\n",
    "| **存取效率**        | 一次性读取整个文件              | 可逐行读取，效率高               |\n",
    "| **文件大小**        | 一般较大，因为包含整体结构       | 较小，无需整体结构开销           |\n",
    "| **应用场景**        | 配置文件、API 交互              | 日志文件、流数据、ML 数据集       |"
   ]
  },
  {
   "cell_type": "code",
   "execution_count": 7,
   "id": "f0d9483f-e1aa-4a0b-8965-b65527c9449a",
   "metadata": {
    "execution": {
     "iopub.execute_input": "2024-11-30T10:49:48.130264Z",
     "iopub.status.busy": "2024-11-30T10:49:48.129639Z",
     "iopub.status.idle": "2024-11-30T10:49:48.143531Z",
     "shell.execute_reply": "2024-11-30T10:49:48.141397Z",
     "shell.execute_reply.started": "2024-11-30T10:49:48.130216Z"
    }
   },
   "outputs": [
    {
     "name": "stdout",
     "output_type": "stream",
     "text": [
      "JSON 文件已生成：data.json\n"
     ]
    }
   ],
   "source": [
    "import json\n",
    "\n",
    "# 构造一个字典或列表\n",
    "data = {\n",
    "    \"name\": \"Alice\",\n",
    "    \"age\": 25,\n",
    "    \"hobbies\": [\"reading\", \"cycling\"]\n",
    "}\n",
    "\n",
    "# 写入 JSON 文件\n",
    "with open(\"./data/data.json\", \"w\", encoding=\"utf-8\") as f:\n",
    "    json.dump(data, f, ensure_ascii=False, indent=4)  # `ensure_ascii=False` 保留中文，`indent=4` 格式化"
   ]
  },
  {
   "cell_type": "code",
   "execution_count": 9,
   "id": "d2e3d24f-1b86-459e-9ec8-8264e37e7e54",
   "metadata": {
    "execution": {
     "iopub.execute_input": "2024-11-30T10:50:18.791340Z",
     "iopub.status.busy": "2024-11-30T10:50:18.790741Z",
     "iopub.status.idle": "2024-11-30T10:50:18.802998Z",
     "shell.execute_reply": "2024-11-30T10:50:18.800897Z",
     "shell.execute_reply.started": "2024-11-30T10:50:18.791293Z"
    }
   },
   "outputs": [
    {
     "name": "stdout",
     "output_type": "stream",
     "text": [
      "读取到的 JSON 数据： {'name': 'Alice', 'age': 25, 'hobbies': ['reading', 'cycling']}\n"
     ]
    }
   ],
   "source": [
    "# 读取 JSON 文件\n",
    "with open(\"./data/data.json\", \"r\", encoding=\"utf-8\") as f:\n",
    "    data = json.load(f)\n",
    "print(\"读取到的 JSON 数据：\", data)"
   ]
  },
  {
   "cell_type": "code",
   "execution_count": 10,
   "id": "26ee8a97-5bdb-4fb8-ab95-b8b37a406c2a",
   "metadata": {
    "execution": {
     "iopub.execute_input": "2024-11-30T10:50:36.298427Z",
     "iopub.status.busy": "2024-11-30T10:50:36.297799Z",
     "iopub.status.idle": "2024-11-30T10:50:36.311192Z",
     "shell.execute_reply": "2024-11-30T10:50:36.309105Z",
     "shell.execute_reply.started": "2024-11-30T10:50:36.298379Z"
    }
   },
   "outputs": [],
   "source": [
    "import json\n",
    "\n",
    "# 构造一个列表，每个元素是一个独立的字典\n",
    "data = [\n",
    "    {\"name\": \"Alice\", \"age\": 25, \"hobbies\": [\"reading\", \"cycling\"]},\n",
    "    {\"name\": \"Bob\", \"age\": 30, \"hobbies\": [\"gaming\", \"hiking\"]}\n",
    "]\n",
    "\n",
    "# 写入 JSONL 文件\n",
    "with open(\"./data/data.jsonl\", \"w\", encoding=\"utf-8\") as f:\n",
    "    for record in data:\n",
    "        f.write(json.dumps(record, ensure_ascii=False) + \"\\n\")  # 每行写入一个 JSON 对象"
   ]
  },
  {
   "cell_type": "code",
   "execution_count": 13,
   "id": "4bfafa9a-1e77-42c5-b299-10ecb0597e0d",
   "metadata": {
    "execution": {
     "iopub.execute_input": "2024-11-30T10:50:50.669115Z",
     "iopub.status.busy": "2024-11-30T10:50:50.668478Z",
     "iopub.status.idle": "2024-11-30T10:50:50.681938Z",
     "shell.execute_reply": "2024-11-30T10:50:50.679880Z",
     "shell.execute_reply.started": "2024-11-30T10:50:50.669068Z"
    }
   },
   "outputs": [
    {
     "name": "stdout",
     "output_type": "stream",
     "text": [
      "读取到的 JSONL 数据： [{'name': 'Alice', 'age': 25, 'hobbies': ['reading', 'cycling']}, {'name': 'Bob', 'age': 30, 'hobbies': ['gaming', 'hiking']}]\n"
     ]
    }
   ],
   "source": [
    "# 逐行读取 JSONL 文件\n",
    "data = []\n",
    "with open(\"./data/data.jsonl\", \"r\", encoding=\"utf-8\") as f:\n",
    "    for line in f:\n",
    "        record = json.loads(line.strip())  # 将每行的 JSON 反序列化为字典\n",
    "        data.append(record)\n",
    "print(\"读取到的 JSONL 数据：\", data)"
   ]
  },
  {
   "cell_type": "code",
   "execution_count": 14,
   "id": "a4344d38-c607-4f6a-bcdc-918a1636fd05",
   "metadata": {
    "execution": {
     "iopub.execute_input": "2024-11-30T10:53:17.085050Z",
     "iopub.status.busy": "2024-11-30T10:53:17.084406Z",
     "iopub.status.idle": "2024-11-30T10:53:17.201654Z",
     "shell.execute_reply": "2024-11-30T10:53:17.200319Z",
     "shell.execute_reply.started": "2024-11-30T10:53:17.085002Z"
    }
   },
   "outputs": [
    {
     "name": "stdout",
     "output_type": "stream",
     "text": [
      "{'name': 'Alice', 'age': 25, 'hobbies': ['reading', 'cycling']}\n",
      "{'name': 'Bob', 'age': 30, 'hobbies': ['gaming', 'hiking']}\n"
     ]
    }
   ],
   "source": [
    "import jsonlines\n",
    "\n",
    "with jsonlines.open('./data/data.jsonl', 'r') as reader:\n",
    "    for obj in reader:\n",
    "        print(obj)"
   ]
  }
 ],
 "metadata": {
  "kernelspec": {
   "display_name": "Python 3 (ipykernel)",
   "language": "python",
   "name": "python3"
  },
  "language_info": {
   "codemirror_mode": {
    "name": "ipython",
    "version": 3
   },
   "file_extension": ".py",
   "mimetype": "text/x-python",
   "name": "python",
   "nbconvert_exporter": "python",
   "pygments_lexer": "ipython3",
   "version": "3.10.13"
  }
 },
 "nbformat": 4,
 "nbformat_minor": 5
}
