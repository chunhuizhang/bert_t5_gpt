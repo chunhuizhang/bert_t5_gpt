{
 "cells": [
  {
   "cell_type": "code",
   "execution_count": 3,
   "id": "35b4c809",
   "metadata": {
    "ExecuteTime": {
     "end_time": "2024-03-03T02:29:12.657142Z",
     "start_time": "2024-03-03T02:29:12.653051Z"
    }
   },
   "outputs": [],
   "source": [
    "import os\n",
    "os.environ['http_proxy'] = 'http://127.0.0.1:7890'\n",
    "os.environ['https_proxy'] = 'http://127.0.0.1:7890'"
   ]
  },
  {
   "cell_type": "markdown",
   "id": "50048d8c",
   "metadata": {},
   "source": [
    "## basics"
   ]
  },
  {
   "cell_type": "markdown",
   "id": "fbb1290b",
   "metadata": {},
   "source": [
    "- NER 也属于 token-classification；"
   ]
  },
  {
   "cell_type": "markdown",
   "id": "1dc16010",
   "metadata": {},
   "source": [
    "## 应用"
   ]
  },
  {
   "cell_type": "markdown",
   "id": "a0c5bd3d",
   "metadata": {},
   "source": [
    "- models: \n",
    "    - `dslim/bert-large-NER`\n",
    "- dataset\n",
    "    - `conll2003`"
   ]
  },
  {
   "cell_type": "code",
   "execution_count": 4,
   "id": "9db5ab4c",
   "metadata": {
    "ExecuteTime": {
     "end_time": "2024-03-03T02:29:18.137023Z",
     "start_time": "2024-03-03T02:29:13.782063Z"
    }
   },
   "outputs": [
    {
     "name": "stderr",
     "output_type": "stream",
     "text": [
      "Some weights of the model checkpoint at dslim/bert-large-NER were not used when initializing BertForTokenClassification: ['bert.pooler.dense.weight', 'bert.pooler.dense.bias']\n",
      "- This IS expected if you are initializing BertForTokenClassification from the checkpoint of a model trained on another task or with another architecture (e.g. initializing a BertForSequenceClassification model from a BertForPreTraining model).\n",
      "- This IS NOT expected if you are initializing BertForTokenClassification from the checkpoint of a model that you expect to be exactly identical (initializing a BertForSequenceClassification model from a BertForSequenceClassification model).\n"
     ]
    }
   ],
   "source": [
    "from transformers import AutoTokenizer, AutoModelForTokenClassification, pipeline\n",
    "\n",
    "# Model Repository on huggingface.co\n",
    "model_id = \"dslim/bert-large-NER\"\n",
    "\n",
    "# Load Model and Tokenizer\n",
    "tokenizer = AutoTokenizer.from_pretrained(model_id)\n",
    "model = AutoModelForTokenClassification.from_pretrained(model_id)"
   ]
  },
  {
   "cell_type": "code",
   "execution_count": 5,
   "id": "aac6d991",
   "metadata": {
    "ExecuteTime": {
     "end_time": "2024-03-03T02:29:58.403627Z",
     "start_time": "2024-03-03T02:29:58.080903Z"
    }
   },
   "outputs": [],
   "source": [
    "token_clf = pipeline(\"token-classification\", model=model, tokenizer=tokenizer,device=0)"
   ]
  },
  {
   "cell_type": "code",
   "execution_count": 6,
   "id": "14edceda",
   "metadata": {
    "ExecuteTime": {
     "end_time": "2024-03-03T02:30:08.760646Z",
     "start_time": "2024-03-03T02:30:08.422613Z"
    }
   },
   "outputs": [
    {
     "data": {
      "text/plain": [
       "[{'entity': 'B-PER',\n",
       "  'score': 0.9971501,\n",
       "  'index': 4,\n",
       "  'word': 'Wolfgang',\n",
       "  'start': 11,\n",
       "  'end': 19},\n",
       " {'entity': 'B-LOC',\n",
       "  'score': 0.9986046,\n",
       "  'index': 9,\n",
       "  'word': 'Berlin',\n",
       "  'start': 34,\n",
       "  'end': 40}]"
      ]
     },
     "execution_count": 6,
     "metadata": {},
     "output_type": "execute_result"
    }
   ],
   "source": [
    "example = \"My name is Wolfgang and I live in Berlin\"\n",
    "ner_results = token_clf(example)\n",
    "ner_results"
   ]
  }
 ],
 "metadata": {
  "kernelspec": {
   "display_name": "Python 3 (ipykernel)",
   "language": "python",
   "name": "python3"
  },
  "language_info": {
   "codemirror_mode": {
    "name": "ipython",
    "version": 3
   },
   "file_extension": ".py",
   "mimetype": "text/x-python",
   "name": "python",
   "nbconvert_exporter": "python",
   "pygments_lexer": "ipython3",
   "version": "3.10.13"
  },
  "toc": {
   "base_numbering": 1,
   "nav_menu": {},
   "number_sections": true,
   "sideBar": true,
   "skip_h1_title": false,
   "title_cell": "Table of Contents",
   "title_sidebar": "Contents",
   "toc_cell": false,
   "toc_position": {},
   "toc_section_display": true,
   "toc_window_display": false
  }
 },
 "nbformat": 4,
 "nbformat_minor": 5
}
