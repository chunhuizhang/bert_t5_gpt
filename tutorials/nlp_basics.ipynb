{
 "cells": [
  {
   "cell_type": "markdown",
   "id": "f5fa343a",
   "metadata": {},
   "source": [
    "## parsing tree 与 POS-tag"
   ]
  },
  {
   "cell_type": "markdown",
   "id": "c2869891",
   "metadata": {},
   "source": []
  },
  {
   "cell_type": "markdown",
   "id": "8a2c052a",
   "metadata": {},
   "source": [
    "## lexical match"
   ]
  },
  {
   "cell_type": "markdown",
   "id": "de5219c7",
   "metadata": {},
   "source": [
    "## evaluation"
   ]
  },
  {
   "cell_type": "markdown",
   "id": "007feba9",
   "metadata": {},
   "source": [
    "- GLUE"
   ]
  }
 ],
 "metadata": {
  "kernelspec": {
   "display_name": "Python 3 (ipykernel)",
   "language": "python",
   "name": "python3"
  },
  "language_info": {
   "codemirror_mode": {
    "name": "ipython",
    "version": 3
   },
   "file_extension": ".py",
   "mimetype": "text/x-python",
   "name": "python",
   "nbconvert_exporter": "python",
   "pygments_lexer": "ipython3",
   "version": "3.10.9"
  },
  "toc": {
   "base_numbering": 1,
   "nav_menu": {},
   "number_sections": true,
   "sideBar": true,
   "skip_h1_title": false,
   "title_cell": "Table of Contents",
   "title_sidebar": "Contents",
   "toc_cell": false,
   "toc_position": {},
   "toc_section_display": true,
   "toc_window_display": false
  }
 },
 "nbformat": 4,
 "nbformat_minor": 5
}
