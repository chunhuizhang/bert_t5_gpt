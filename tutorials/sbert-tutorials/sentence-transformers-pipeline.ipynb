{
 "cells": [
  {
   "cell_type": "code",
   "execution_count": 2,
   "id": "59520f76",
   "metadata": {
    "ExecuteTime": {
     "end_time": "2024-02-10T03:44:57.853021Z",
     "start_time": "2024-02-10T03:44:57.849110Z"
    }
   },
   "outputs": [],
   "source": [
    "import os\n",
    "os.environ['http_proxy'] = 'http://127.0.0.1:7890'\n",
    "os.environ['https_proxy'] = 'http://127.0.0.1:7890'"
   ]
  },
  {
   "cell_type": "code",
   "execution_count": 2,
   "id": "6e7a963d",
   "metadata": {
    "ExecuteTime": {
     "end_time": "2024-02-10T03:31:32.198527Z",
     "start_time": "2024-02-10T03:31:32.192969Z"
    }
   },
   "outputs": [],
   "source": [
    "from IPython.display import Image"
   ]
  },
  {
   "cell_type": "markdown",
   "id": "e0f1c790",
   "metadata": {},
   "source": [
    "- Sentence-BERT: Sentence Embeddings using Siamese BERT-Networks\n",
    "    - https://arxiv.org/abs/1908.10084\n",
    "- reference\n",
    "    - https://www.pinecone.io/learn/series/nlp/train-sentence-transformers-softmax/\n",
    "    - https://www.pinecone.io/learn/series/nlp/domain-transfer/"
   ]
  },
  {
   "cell_type": "code",
   "execution_count": null,
   "id": "8e700b61",
   "metadata": {
    "ExecuteTime": {
     "end_time": "2024-02-04T13:51:05.028609Z",
     "start_time": "2024-02-04T13:51:05.021766Z"
    }
   },
   "outputs": [],
   "source": [
    "# !pip install sentence_transformers\n",
    "# sbert"
   ]
  },
  {
   "cell_type": "code",
   "execution_count": 3,
   "id": "fb568e1e",
   "metadata": {
    "ExecuteTime": {
     "end_time": "2024-02-10T03:31:52.185683Z",
     "start_time": "2024-02-10T03:31:46.015949Z"
    }
   },
   "outputs": [
    {
     "name": "stdout",
     "output_type": "stream",
     "text": [
      "[2024-02-10 11:31:48,441] [INFO] [real_accelerator.py:161:get_accelerator] Setting ds_accelerator to cuda (auto detect)\n"
     ]
    }
   ],
   "source": [
    "from sentence_transformers import losses"
   ]
  },
  {
   "cell_type": "markdown",
   "id": "f5885589",
   "metadata": {},
   "source": [
    "## sentence level tasks"
   ]
  },
  {
   "cell_type": "markdown",
   "id": "38480d0d",
   "metadata": {},
   "source": [
    "- NLI (natural language inferencing): 句子间关系\n",
    "    - This task receives two input sentences (pair) and outputs either “entailment”, “contradiction” or “neutral”.\n",
    "    - entailment: sentence1 entails sentence 2，蕴含；\n",
    "    - contradiction: sentence1 contradicts sentence2，矛盾；\n",
    "    - neutral: the two sentences have no relation，中立；\n",
    "- STS (sentence textual similarity):\n",
    "    - This task receives two sentences and decides the similarity of them. Often similarity is calculated using cosine similarity function."
   ]
  },
  {
   "cell_type": "markdown",
   "id": "e691872f",
   "metadata": {},
   "source": [
    "## demos"
   ]
  },
  {
   "cell_type": "markdown",
   "id": "d1af3af3",
   "metadata": {},
   "source": [
    "- `paraphrase-MiniLM-L6-v2`\n",
    "    - embedding dimension：384 = 32*12\n",
    "    - 判断两个句子是否是互为释义（即是否含有相同的意义）。"
   ]
  },
  {
   "cell_type": "markdown",
   "id": "ce91f1d9",
   "metadata": {},
   "source": [
    "```\n",
    "from sentence_transformers import SentenceTransformer, util\n",
    "embed_model = SentenceTransformer('paraphrase-MiniLM-L6-v2')\n",
    "embed_1 = embed_model.encode(sentence1, convert_to_tensor=True)\n",
    "embed_2 = embed_model.encode(sentence2, convert_to_tensor=True)\n",
    "cos_sim = util.pytorch_cos_sim(embed_1, embed_2).item()\n",
    "```"
   ]
  },
  {
   "cell_type": "code",
   "execution_count": 4,
   "id": "49d0643d",
   "metadata": {
    "ExecuteTime": {
     "end_time": "2024-02-10T03:33:34.004098Z",
     "start_time": "2024-02-10T03:33:33.437390Z"
    }
   },
   "outputs": [
    {
     "name": "stderr",
     "output_type": "stream",
     "text": [
      "/home/whaow/anaconda3/lib/python3.10/site-packages/torch/_utils.py:776: UserWarning: TypedStorage is deprecated. It will be removed in the future and UntypedStorage will be the only storage class. This should only matter to you if you are using storages directly.  To access UntypedStorage directly, use tensor.untyped_storage() instead of tensor.storage()\n",
      "  return self.fget.__get__(instance, owner)()\n"
     ]
    },
    {
     "name": "stdout",
     "output_type": "stream",
     "text": [
      "0.1806926727294922\n",
      "-0.12082745879888535\n"
     ]
    }
   ],
   "source": [
    "from sentence_transformers import SentenceTransformer, util\n",
    "embed_model = SentenceTransformer('paraphrase-MiniLM-L6-v2')\n",
    "embed_1 = embed_model.encode('the movie is great!', convert_to_tensor=True)\n",
    "embed_2 = embed_model.encode('positive', convert_to_tensor=True)\n",
    "cos_sim = util.pytorch_cos_sim(embed_1, embed_2).item()\n",
    "print(cos_sim)\n",
    "embed_3 = embed_model.encode('negative', convert_to_tensor=True)\n",
    "cos_sim = util.pytorch_cos_sim(embed_1, embed_3).item()\n",
    "print(cos_sim)"
   ]
  },
  {
   "cell_type": "markdown",
   "id": "d3128300",
   "metadata": {},
   "source": [
    "## models"
   ]
  },
  {
   "cell_type": "markdown",
   "id": "a6fe3e4a",
   "metadata": {},
   "source": [
    "### bert"
   ]
  },
  {
   "cell_type": "code",
   "execution_count": 5,
   "id": "f46d6cab",
   "metadata": {
    "ExecuteTime": {
     "end_time": "2024-02-10T03:34:22.511738Z",
     "start_time": "2024-02-10T03:34:22.503080Z"
    }
   },
   "outputs": [
    {
     "data": {
      "text/html": [
       "<img src=\"https://miro.medium.com/v2/resize:fit:1400/format:webp/1*fhd9gsQGBcPWduThINIIUQ.png\" width=\"800\"/>"
      ],
      "text/plain": [
       "<IPython.core.display.Image object>"
      ]
     },
     "execution_count": 5,
     "metadata": {},
     "output_type": "execute_result"
    }
   ],
   "source": [
    "Image(url='https://miro.medium.com/v2/resize:fit:1400/format:webp/1*fhd9gsQGBcPWduThINIIUQ.png', width=800)"
   ]
  },
  {
   "cell_type": "markdown",
   "id": "d1c3e962",
   "metadata": {},
   "source": [
    "- BERT is very good at learning the meaning of words/tokens. \n",
    "    - But It is not good at learning meaning of sentences.\n",
    "    -  sentence classification, sentence pair-wise similarity.\n",
    "- BERT produces token embedding, one way to get sentence embedding out of BERT is to average the embedding of all tokens. \n",
    "    - SentenceTransformer paper showed this produces very low quality sentence embeddings almost as bad as getting GLOVE embeddings. These embeddings do not capture the meaning of sentences."
   ]
  },
  {
   "cell_type": "markdown",
   "id": "073377f6",
   "metadata": {},
   "source": [
    "### Training BERT on NLI (classification objective)"
   ]
  },
  {
   "cell_type": "markdown",
   "id": "2d46e2b4",
   "metadata": {},
   "source": [
    "Siamese network. Siamese means twins and it consists of two networks of the exact same architecture that they share weight too."
   ]
  },
  {
   "cell_type": "code",
   "execution_count": 6,
   "id": "c0936459",
   "metadata": {
    "ExecuteTime": {
     "end_time": "2024-02-10T03:36:24.834498Z",
     "start_time": "2024-02-10T03:36:24.824186Z"
    },
    "scrolled": false
   },
   "outputs": [
    {
     "data": {
      "text/html": [
       "<img src=\"https://miro.medium.com/v2/resize:fit:1400/format:webp/1*XB85tOf1kWmpZxoTC3ab5g.png\" width=\"600\"/>"
      ],
      "text/plain": [
       "<IPython.core.display.Image object>"
      ]
     },
     "execution_count": 6,
     "metadata": {},
     "output_type": "execute_result"
    }
   ],
   "source": [
    "Image(url='https://miro.medium.com/v2/resize:fit:1400/format:webp/1*XB85tOf1kWmpZxoTC3ab5g.png', width=600)"
   ]
  },
  {
   "cell_type": "markdown",
   "id": "e5ec70ad",
   "metadata": {},
   "source": [
    "- sentence u => `emb(u)` (768d)\n",
    "- sentence v => `emb(v)` (768d)\n",
    "- `emb(u)-emb(v)` (768d)\n",
    "\n",
    "$$\n",
    "o=\\text{softmax}(W_t(u,v,u-v))\n",
    "$$\n",
    "\n",
    "- cross entropy loss."
   ]
  },
  {
   "cell_type": "markdown",
   "id": "6cf8f28a",
   "metadata": {},
   "source": [
    "### Training BERT on STS (regression objective)\n"
   ]
  },
  {
   "cell_type": "code",
   "execution_count": null,
   "id": "561895f8",
   "metadata": {
    "ExecuteTime": {
     "end_time": "2024-02-04T13:48:02.271798Z",
     "start_time": "2024-02-04T13:48:02.233374Z"
    }
   },
   "outputs": [],
   "source": [
    "losses.ContrastiveLoss??"
   ]
  },
  {
   "cell_type": "code",
   "execution_count": 7,
   "id": "f72c63e5",
   "metadata": {
    "ExecuteTime": {
     "end_time": "2024-02-10T03:37:50.488218Z",
     "start_time": "2024-02-10T03:37:50.477297Z"
    }
   },
   "outputs": [
    {
     "data": {
      "text/html": [
       "<img src=\"https://miro.medium.com/v2/resize:fit:1400/format:webp/1*BQ4H_KErGUroYQ-59WhARA.png\" width=\"600\"/>"
      ],
      "text/plain": [
       "<IPython.core.display.Image object>"
      ]
     },
     "execution_count": 7,
     "metadata": {},
     "output_type": "execute_result"
    }
   ],
   "source": [
    "Image(url='https://miro.medium.com/v2/resize:fit:1400/format:webp/1*BQ4H_KErGUroYQ-59WhARA.png', width=600)"
   ]
  },
  {
   "cell_type": "markdown",
   "id": "3f9adb12",
   "metadata": {},
   "source": [
    "- Sentence textual similarity task receives two sentences and computes their similarity. \n",
    "- The network architecture for fine-tuning BERT on STS is as following. It is again a siamese network with mean pooling on top."
   ]
  },
  {
   "cell_type": "markdown",
   "id": "314ce825",
   "metadata": {},
   "source": [
    "### Training BERT on Triplet dataset (triplet objective)"
   ]
  },
  {
   "cell_type": "code",
   "execution_count": 8,
   "id": "3f76cdaf",
   "metadata": {
    "ExecuteTime": {
     "end_time": "2024-02-10T03:38:24.490151Z",
     "start_time": "2024-02-10T03:38:24.478571Z"
    }
   },
   "outputs": [
    {
     "data": {
      "text/html": [
       "<img src=\"https://miro.medium.com/v2/resize:fit:1400/format:webp/1*KPhp8A6pFsue7F8z8sF6-A.png\" width=\"600\"/>"
      ],
      "text/plain": [
       "<IPython.core.display.Image object>"
      ]
     },
     "execution_count": 8,
     "metadata": {},
     "output_type": "execute_result"
    }
   ],
   "source": [
    "Image(url='https://miro.medium.com/v2/resize:fit:1400/format:webp/1*KPhp8A6pFsue7F8z8sF6-A.png', width=600)"
   ]
  },
  {
   "cell_type": "markdown",
   "id": "319d6102",
   "metadata": {},
   "source": [
    "\n",
    "To collect this data in text domain, we can pick a random sentence from a document as anchor, pick its following sentence as positive and pick a random sentence from a different passage as negative.\n",
    "\n",
    "\n",
    "- In triplet objective, the model receives an anchor data point, \n",
    "- a positive data point that is related or close to the anchor, \n",
    "- and a negative data point that is unrelated to the anchor."
   ]
  },
  {
   "cell_type": "markdown",
   "id": "3907aaba",
   "metadata": {},
   "source": [
    "$$\n",
    "|a-p|\\lt |a-n|\\\\\n",
    "L: = \\max (0, |a-p|-|a-n|+\\epsilon)\\\\\n",
    "|a-p| \\leq |a-m|-\\epsilon\\\\\n",
    "\\Downarrow \\\\\n",
    "L=0\n",
    "$$ "
   ]
  },
  {
   "cell_type": "markdown",
   "id": "fa943231",
   "metadata": {},
   "source": [
    "## pretrain"
   ]
  },
  {
   "cell_type": "markdown",
   "id": "ad48c8d7",
   "metadata": {},
   "source": [
    "### models"
   ]
  },
  {
   "cell_type": "code",
   "execution_count": 1,
   "id": "05cf2e76",
   "metadata": {
    "ExecuteTime": {
     "end_time": "2024-02-10T03:44:54.794021Z",
     "start_time": "2024-02-10T03:44:52.524229Z"
    }
   },
   "outputs": [],
   "source": [
    "from sentence_transformers import SentenceTransformer, models"
   ]
  },
  {
   "cell_type": "code",
   "execution_count": 3,
   "id": "d2d2a8e1",
   "metadata": {
    "ExecuteTime": {
     "end_time": "2024-02-10T03:45:08.882282Z",
     "start_time": "2024-02-10T03:45:02.075976Z"
    }
   },
   "outputs": [
    {
     "name": "stdout",
     "output_type": "stream",
     "text": [
      "[2024-02-10 11:45:03,571] [INFO] [real_accelerator.py:161:get_accelerator] Setting ds_accelerator to cuda (auto detect)\n"
     ]
    }
   ],
   "source": [
    "word_embed_model = models.Transformer('bert-base-uncased')\n",
    "# a pool function over the token embeddings\n",
    "pooling_model = models.Pooling(word_embed_model.get_word_embedding_dimension(), \n",
    "                               pooling_mode = 'cls',\n",
    "                               pooling_mode_cls_token=True, \n",
    "                               pooling_mode_mean_tokens = False)\n",
    "model = SentenceTransformer(modules=[word_embed_model, pooling_model])"
   ]
  },
  {
   "cell_type": "code",
   "execution_count": 11,
   "id": "00c64149",
   "metadata": {
    "ExecuteTime": {
     "end_time": "2024-02-10T03:42:05.565459Z",
     "start_time": "2024-02-10T03:42:05.556487Z"
    }
   },
   "outputs": [
    {
     "data": {
      "text/plain": [
       "768"
      ]
     },
     "execution_count": 11,
     "metadata": {},
     "output_type": "execute_result"
    }
   ],
   "source": [
    "word_embed_model.get_word_embedding_dimension()"
   ]
  },
  {
   "cell_type": "code",
   "execution_count": 12,
   "id": "2901d32f",
   "metadata": {
    "ExecuteTime": {
     "end_time": "2024-02-10T03:42:14.847326Z",
     "start_time": "2024-02-10T03:42:14.837104Z"
    }
   },
   "outputs": [
    {
     "data": {
      "text/plain": [
       "{'unk_token': '[UNK]',\n",
       " 'sep_token': '[SEP]',\n",
       " 'pad_token': '[PAD]',\n",
       " 'cls_token': '[CLS]',\n",
       " 'mask_token': '[MASK]'}"
      ]
     },
     "execution_count": 12,
     "metadata": {},
     "output_type": "execute_result"
    }
   ],
   "source": [
    "word_embed_model.tokenizer.special_tokens_map"
   ]
  },
  {
   "cell_type": "code",
   "execution_count": 13,
   "id": "2c00dc43",
   "metadata": {
    "ExecuteTime": {
     "end_time": "2024-02-10T03:42:20.789436Z",
     "start_time": "2024-02-10T03:42:20.778464Z"
    }
   },
   "outputs": [
    {
     "data": {
      "text/plain": [
       "[101, 7592, 2088, 102]"
      ]
     },
     "execution_count": 13,
     "metadata": {},
     "output_type": "execute_result"
    }
   ],
   "source": [
    "word_embed_model.tokenizer.encode('hello world')"
   ]
  },
  {
   "cell_type": "code",
   "execution_count": 14,
   "id": "35d88dfc",
   "metadata": {
    "ExecuteTime": {
     "end_time": "2024-02-10T03:42:25.533820Z",
     "start_time": "2024-02-10T03:42:25.523855Z"
    }
   },
   "outputs": [
    {
     "name": "stdout",
     "output_type": "stream",
     "text": [
      "[CLS] [SEP]\n"
     ]
    }
   ],
   "source": [
    "print(word_embed_model.tokenizer.decode(101), word_embed_model.tokenizer.decode(102))"
   ]
  },
  {
   "cell_type": "code",
   "execution_count": 15,
   "id": "dee4fde3",
   "metadata": {
    "ExecuteTime": {
     "end_time": "2024-02-10T03:42:37.727378Z",
     "start_time": "2024-02-10T03:42:37.717930Z"
    }
   },
   "outputs": [
    {
     "data": {
      "text/plain": [
       "<bound method Module.modules of SentenceTransformer(\n",
       "  (0): Transformer({'max_seq_length': 512, 'do_lower_case': False}) with Transformer model: BertModel \n",
       "  (1): Pooling({'word_embedding_dimension': 768, 'pooling_mode_cls_token': True, 'pooling_mode_mean_tokens': False, 'pooling_mode_max_tokens': False, 'pooling_mode_mean_sqrt_len_tokens': False})\n",
       ")>"
      ]
     },
     "execution_count": 15,
     "metadata": {},
     "output_type": "execute_result"
    }
   ],
   "source": [
    "model.modules"
   ]
  },
  {
   "cell_type": "markdown",
   "id": "ed50b6ed",
   "metadata": {},
   "source": [
    "### 数据与任务"
   ]
  },
  {
   "cell_type": "markdown",
   "id": "2ba4b521",
   "metadata": {},
   "source": [
    "> 数据集即任务；"
   ]
  },
  {
   "cell_type": "code",
   "execution_count": 6,
   "id": "95f27593",
   "metadata": {
    "ExecuteTime": {
     "end_time": "2024-02-10T03:46:04.635860Z",
     "start_time": "2024-02-10T03:46:04.631820Z"
    }
   },
   "outputs": [],
   "source": [
    "import os\n",
    "os.environ['http_proxy'] = 'http://127.0.0.1:7890'\n",
    "os.environ['https_proxy'] = 'http://127.0.0.1:7890'"
   ]
  },
  {
   "cell_type": "code",
   "execution_count": 8,
   "id": "8878ed1e",
   "metadata": {
    "ExecuteTime": {
     "end_time": "2024-02-10T03:48:01.082325Z",
     "start_time": "2024-02-10T03:47:07.009468Z"
    }
   },
   "outputs": [],
   "source": [
    "from datasets import load_dataset\n",
    "\n",
    "# https://huggingface.co/datasets/glue/viewer/mrpc\n",
    "# GLUE（General Language Understanding Evaluation）基准的一部分\n",
    "# 名为MRPC（Microsoft Research Paraphrase Corpus），Paraphrase：\n",
    "# 判断两个句子是否是互为释义（即是否含有相同的意义）。\n",
    "dataset = load_dataset(\"glue\", \"mrpc\")"
   ]
  },
  {
   "cell_type": "code",
   "execution_count": 10,
   "id": "d0eb1f60",
   "metadata": {
    "ExecuteTime": {
     "end_time": "2024-02-10T04:52:19.204226Z",
     "start_time": "2024-02-10T04:52:19.194045Z"
    }
   },
   "outputs": [
    {
     "data": {
      "text/plain": [
       "DatasetDict({\n",
       "    train: Dataset({\n",
       "        features: ['sentence1', 'sentence2', 'label', 'idx'],\n",
       "        num_rows: 3668\n",
       "    })\n",
       "    validation: Dataset({\n",
       "        features: ['sentence1', 'sentence2', 'label', 'idx'],\n",
       "        num_rows: 408\n",
       "    })\n",
       "    test: Dataset({\n",
       "        features: ['sentence1', 'sentence2', 'label', 'idx'],\n",
       "        num_rows: 1725\n",
       "    })\n",
       "})"
      ]
     },
     "execution_count": 10,
     "metadata": {},
     "output_type": "execute_result"
    }
   ],
   "source": [
    "dataset"
   ]
  },
  {
   "cell_type": "code",
   "execution_count": 9,
   "id": "c891526c",
   "metadata": {
    "ExecuteTime": {
     "end_time": "2024-02-10T03:48:45.175877Z",
     "start_time": "2024-02-10T03:48:45.158888Z"
    }
   },
   "outputs": [
    {
     "data": {
      "text/plain": [
       "Dataset({\n",
       "    features: ['sentence1', 'sentence2', 'label', 'idx'],\n",
       "    num_rows: 3668\n",
       "})"
      ]
     },
     "execution_count": 9,
     "metadata": {},
     "output_type": "execute_result"
    }
   ],
   "source": [
    "dataset['train']"
   ]
  },
  {
   "cell_type": "code",
   "execution_count": 11,
   "id": "212e6e6f",
   "metadata": {
    "ExecuteTime": {
     "end_time": "2024-02-10T04:52:41.689691Z",
     "start_time": "2024-02-10T04:52:41.678173Z"
    },
    "scrolled": true
   },
   "outputs": [
    {
     "data": {
      "text/plain": [
       "{'sentence1': 'Amrozi accused his brother , whom he called \" the witness \" , of deliberately distorting his evidence .',\n",
       " 'sentence2': 'Referring to him as only \" the witness \" , Amrozi accused his brother of deliberately distorting his evidence .',\n",
       " 'label': 1,\n",
       " 'idx': 0}"
      ]
     },
     "execution_count": 11,
     "metadata": {},
     "output_type": "execute_result"
    }
   ],
   "source": [
    "dataset['train'][0]"
   ]
  },
  {
   "cell_type": "code",
   "execution_count": 13,
   "id": "ce67450e",
   "metadata": {
    "ExecuteTime": {
     "end_time": "2024-02-10T04:53:35.270896Z",
     "start_time": "2024-02-10T04:53:35.264450Z"
    }
   },
   "outputs": [],
   "source": [
    "# texts/label/guid\n",
    "from sentence_transformers import InputExample"
   ]
  },
  {
   "cell_type": "code",
   "execution_count": 14,
   "id": "a704cc80",
   "metadata": {
    "ExecuteTime": {
     "end_time": "2024-02-10T04:53:36.858424Z",
     "start_time": "2024-02-10T04:53:36.618689Z"
    }
   },
   "outputs": [],
   "source": [
    "training_ds = []\n",
    "for example in dataset['train']:\n",
    "    training_ds.append(InputExample(texts=[example['sentence1'], \n",
    "                                           example['sentence2']], \n",
    "                                    label=float(example['label'])))"
   ]
  },
  {
   "cell_type": "code",
   "execution_count": 15,
   "id": "0c0762dc",
   "metadata": {
    "ExecuteTime": {
     "end_time": "2024-02-10T04:54:06.555621Z",
     "start_time": "2024-02-10T04:54:06.550295Z"
    }
   },
   "outputs": [],
   "source": [
    "from torch.utils.data import DataLoader"
   ]
  },
  {
   "cell_type": "code",
   "execution_count": 16,
   "id": "2ad89b0c",
   "metadata": {
    "ExecuteTime": {
     "end_time": "2024-02-10T04:54:07.707014Z",
     "start_time": "2024-02-10T04:54:07.699779Z"
    }
   },
   "outputs": [],
   "source": [
    "train_loader = DataLoader(training_ds, shuffle=True, batch_size=8)"
   ]
  },
  {
   "cell_type": "code",
   "execution_count": 17,
   "id": "df8257d1",
   "metadata": {
    "ExecuteTime": {
     "end_time": "2024-02-10T04:54:20.148263Z",
     "start_time": "2024-02-10T04:54:20.137535Z"
    }
   },
   "outputs": [
    {
     "data": {
      "text/plain": [
       "459"
      ]
     },
     "execution_count": 17,
     "metadata": {},
     "output_type": "execute_result"
    }
   ],
   "source": [
    "import math\n",
    "math.ceil(len(training_ds)/8)"
   ]
  },
  {
   "cell_type": "code",
   "execution_count": 18,
   "id": "ea89640b",
   "metadata": {
    "ExecuteTime": {
     "end_time": "2024-02-10T04:54:27.614447Z",
     "start_time": "2024-02-10T04:54:27.604851Z"
    }
   },
   "outputs": [
    {
     "data": {
      "text/plain": [
       "3672"
      ]
     },
     "execution_count": 18,
     "metadata": {},
     "output_type": "execute_result"
    }
   ],
   "source": [
    "459*8"
   ]
  },
  {
   "cell_type": "code",
   "execution_count": 19,
   "id": "fbce3de4",
   "metadata": {
    "ExecuteTime": {
     "end_time": "2024-02-10T04:54:37.530741Z",
     "start_time": "2024-02-10T04:54:37.519948Z"
    }
   },
   "outputs": [
    {
     "data": {
      "text/plain": [
       "459"
      ]
     },
     "execution_count": 19,
     "metadata": {},
     "output_type": "execute_result"
    }
   ],
   "source": [
    "len(train_loader)"
   ]
  },
  {
   "cell_type": "code",
   "execution_count": null,
   "id": "1843797b",
   "metadata": {
    "ExecuteTime": {
     "end_time": "2024-02-04T14:26:29.088154Z",
     "start_time": "2024-02-04T14:26:29.083320Z"
    },
    "scrolled": false
   },
   "outputs": [],
   "source": [
    "# batch = next(iter(train_loader))\n",
    "# batch"
   ]
  },
  {
   "cell_type": "code",
   "execution_count": null,
   "id": "bd0a884d",
   "metadata": {
    "ExecuteTime": {
     "end_time": "2024-02-04T14:26:43.461191Z",
     "start_time": "2024-02-04T14:26:43.455884Z"
    },
    "scrolled": false
   },
   "outputs": [],
   "source": [
    "# batch[0][0]['input_ids'].shape\n",
    "# batch[0][1]['input_ids'].shape"
   ]
  },
  {
   "cell_type": "markdown",
   "id": "e3227d2d",
   "metadata": {},
   "source": [
    "### training loss"
   ]
  },
  {
   "cell_type": "code",
   "execution_count": 20,
   "id": "c3be7096",
   "metadata": {
    "ExecuteTime": {
     "end_time": "2024-02-10T04:54:54.221975Z",
     "start_time": "2024-02-10T04:54:54.212860Z"
    }
   },
   "outputs": [],
   "source": [
    "train_examples = [\n",
    "    InputExample(texts=['This is a positive pair', 'Where the distance will be minimized'], label=1),\n",
    "    InputExample(texts=['This is a negative pair', 'Their distance will be increased'], label=0)]\n",
    "\n",
    "train_dataloader = DataLoader(train_examples, shuffle=True, batch_size=2)"
   ]
  },
  {
   "cell_type": "code",
   "execution_count": 21,
   "id": "2636a374",
   "metadata": {
    "ExecuteTime": {
     "end_time": "2024-02-10T04:55:00.732227Z",
     "start_time": "2024-02-10T04:55:00.722217Z"
    }
   },
   "outputs": [
    {
     "data": {
      "text/plain": [
       "1"
      ]
     },
     "execution_count": 21,
     "metadata": {},
     "output_type": "execute_result"
    }
   ],
   "source": [
    "len(train_dataloader)"
   ]
  },
  {
   "cell_type": "code",
   "execution_count": 22,
   "id": "93e18143",
   "metadata": {
    "ExecuteTime": {
     "end_time": "2024-02-10T04:55:02.094564Z",
     "start_time": "2024-02-10T04:55:02.084879Z"
    }
   },
   "outputs": [
    {
     "data": {
      "text/plain": [
       "<sentence_transformers.readers.InputExample.InputExample at 0x7fbe24055090>"
      ]
     },
     "execution_count": 22,
     "metadata": {},
     "output_type": "execute_result"
    }
   ],
   "source": [
    "train_examples[0]"
   ]
  },
  {
   "cell_type": "code",
   "execution_count": 23,
   "id": "6f7b6466",
   "metadata": {
    "ExecuteTime": {
     "end_time": "2024-02-10T04:55:09.563413Z",
     "start_time": "2024-02-10T04:55:09.547195Z"
    }
   },
   "outputs": [],
   "source": [
    "from sentence_transformers import losses"
   ]
  },
  {
   "cell_type": "code",
   "execution_count": 24,
   "id": "e8e2b2ed",
   "metadata": {
    "ExecuteTime": {
     "end_time": "2024-02-10T04:55:17.231158Z",
     "start_time": "2024-02-10T04:55:17.183904Z"
    }
   },
   "outputs": [],
   "source": [
    "losses.ContrastiveLoss??"
   ]
  },
  {
   "cell_type": "code",
   "execution_count": 29,
   "id": "60d43c4c",
   "metadata": {
    "ExecuteTime": {
     "end_time": "2024-02-10T04:56:52.894898Z",
     "start_time": "2024-02-10T04:56:52.888568Z"
    }
   },
   "outputs": [],
   "source": [
    "train_loss = losses.ContrastiveLoss(model=model)"
   ]
  },
  {
   "cell_type": "code",
   "execution_count": 25,
   "id": "ccd5a3c3",
   "metadata": {
    "ExecuteTime": {
     "end_time": "2024-02-10T04:55:41.685872Z",
     "start_time": "2024-02-10T04:55:41.676106Z"
    }
   },
   "outputs": [
    {
     "data": {
      "text/plain": [
       "device(type='cpu')"
      ]
     },
     "execution_count": 25,
     "metadata": {},
     "output_type": "execute_result"
    }
   ],
   "source": [
    "model.device"
   ]
  },
  {
   "cell_type": "code",
   "execution_count": null,
   "id": "e38f1291",
   "metadata": {
    "ExecuteTime": {
     "end_time": "2024-02-04T14:19:29.968210Z",
     "start_time": "2024-02-04T14:19:29.906861Z"
    }
   },
   "outputs": [],
   "source": [
    "model.encode??"
   ]
  },
  {
   "cell_type": "markdown",
   "id": "9fbd9638",
   "metadata": {},
   "source": [
    "### training"
   ]
  },
  {
   "cell_type": "code",
   "execution_count": 26,
   "id": "ea14e4a9",
   "metadata": {
    "ExecuteTime": {
     "end_time": "2024-02-10T04:56:19.963750Z",
     "start_time": "2024-02-10T04:56:19.957015Z"
    }
   },
   "outputs": [],
   "source": [
    "from sentence_transformers import evaluation"
   ]
  },
  {
   "cell_type": "code",
   "execution_count": 27,
   "id": "fbe5ff3c",
   "metadata": {
    "ExecuteTime": {
     "end_time": "2024-02-10T04:56:35.072669Z",
     "start_time": "2024-02-10T04:56:35.018465Z"
    }
   },
   "outputs": [],
   "source": [
    "s1s = []\n",
    "s2s = []\n",
    "scores = []\n",
    "for example in dataset['validation']:\n",
    "    s1s.append(example['sentence1'])\n",
    "    s2s.append(example['sentence2'])\n",
    "    scores.append(float(example['label']))\n",
    "evaluator = evaluation.BinaryClassificationEvaluator(s1s, s2s, scores)"
   ]
  },
  {
   "cell_type": "code",
   "execution_count": 33,
   "id": "2dacb35d",
   "metadata": {
    "ExecuteTime": {
     "end_time": "2024-02-10T05:07:25.175398Z",
     "start_time": "2024-02-10T05:04:04.573308Z"
    }
   },
   "outputs": [
    {
     "data": {
      "application/vnd.jupyter.widget-view+json": {
       "model_id": "263858a7f4a54a3a84e1ad951d3ae3fc",
       "version_major": 2,
       "version_minor": 0
      },
      "text/plain": [
       "Epoch:   0%|          | 0/5 [00:00<?, ?it/s]"
      ]
     },
     "metadata": {},
     "output_type": "display_data"
    },
    {
     "data": {
      "application/vnd.jupyter.widget-view+json": {
       "model_id": "4a1024d99e3448f88297ee66be8ad751",
       "version_major": 2,
       "version_minor": 0
      },
      "text/plain": [
       "Iteration:   0%|          | 0/459 [00:00<?, ?it/s]"
      ]
     },
     "metadata": {},
     "output_type": "display_data"
    },
    {
     "data": {
      "application/vnd.jupyter.widget-view+json": {
       "model_id": "89b146acaf6a449e8df1a32885fdc728",
       "version_major": 2,
       "version_minor": 0
      },
      "text/plain": [
       "Iteration:   0%|          | 0/459 [00:00<?, ?it/s]"
      ]
     },
     "metadata": {},
     "output_type": "display_data"
    },
    {
     "data": {
      "application/vnd.jupyter.widget-view+json": {
       "model_id": "32501fb31ccd4c66816a0c50ad9d4e42",
       "version_major": 2,
       "version_minor": 0
      },
      "text/plain": [
       "Iteration:   0%|          | 0/459 [00:00<?, ?it/s]"
      ]
     },
     "metadata": {},
     "output_type": "display_data"
    },
    {
     "data": {
      "application/vnd.jupyter.widget-view+json": {
       "model_id": "73848e3114d844ef82566a66e6085d76",
       "version_major": 2,
       "version_minor": 0
      },
      "text/plain": [
       "Iteration:   0%|          | 0/459 [00:00<?, ?it/s]"
      ]
     },
     "metadata": {},
     "output_type": "display_data"
    },
    {
     "data": {
      "application/vnd.jupyter.widget-view+json": {
       "model_id": "3b5dde6e729d4993a7baedbb12f9e27a",
       "version_major": 2,
       "version_minor": 0
      },
      "text/plain": [
       "Iteration:   0%|          | 0/459 [00:00<?, ?it/s]"
      ]
     },
     "metadata": {},
     "output_type": "display_data"
    }
   ],
   "source": [
    "# Start training\n",
    "model.fit(\n",
    "    train_objectives=[(train_loader, train_loss)], \n",
    "    evaluator=evaluator,\n",
    "    evaluation_steps=200,\n",
    "    epochs=5, \n",
    "    warmup_steps=0,\n",
    "    output_path='./sentence_transformer/',\n",
    "    weight_decay=0.01,\n",
    "    optimizer_params={'lr': 0.00004},\n",
    "    save_best_model=True,\n",
    "    show_progress_bar=True,\n",
    "\n",
    ")"
   ]
  },
  {
   "cell_type": "markdown",
   "id": "b9b11ca5",
   "metadata": {},
   "source": [
    "### test"
   ]
  },
  {
   "cell_type": "code",
   "execution_count": 34,
   "id": "6020220d",
   "metadata": {
    "ExecuteTime": {
     "end_time": "2024-02-10T05:07:28.232701Z",
     "start_time": "2024-02-10T05:07:28.194532Z"
    }
   },
   "outputs": [
    {
     "name": "stdout",
     "output_type": "stream",
     "text": [
      "[[-0.11388177 -0.04449081  0.12163959 ... -0.0493177   0.05145102\n",
      "   0.20366003]\n",
      " [-0.02901392  0.09123471  0.03580006 ... -0.34095234 -0.0721316\n",
      "   0.05054725]]\n"
     ]
    }
   ],
   "source": [
    "sentences = ['This is just a random sentence on a friday evenning', \n",
    "             'to test model ability.']\n",
    "\n",
    "#Sentences are encoded by calling model.encode()\n",
    "embeddings = model.encode(sentences)\n",
    "\n",
    "print(embeddings)"
   ]
  },
  {
   "cell_type": "code",
   "execution_count": 35,
   "id": "349a214a",
   "metadata": {
    "ExecuteTime": {
     "end_time": "2024-02-10T05:07:55.653146Z",
     "start_time": "2024-02-10T05:07:29.833464Z"
    }
   },
   "outputs": [],
   "source": [
    "from sentence_transformers import util\n",
    "\n",
    "correct = 0\n",
    "for row in dataset['test']:\n",
    "    u = model.encode(row['sentence1'])\n",
    "    v = model.encode(row['sentence2'])\n",
    "    cos_score = util.cos_sim(u, v)[0].numpy()[0]\n",
    "    if cos_score > 0.5 and row['label'] == 1:\n",
    "        correct += 1\n",
    "    if cos_score <= 0.5 and row['label'] == 0:\n",
    "        correct += 1"
   ]
  },
  {
   "cell_type": "code",
   "execution_count": 36,
   "id": "dc753248",
   "metadata": {
    "ExecuteTime": {
     "end_time": "2024-02-10T05:07:57.102748Z",
     "start_time": "2024-02-10T05:07:57.095818Z"
    }
   },
   "outputs": [
    {
     "data": {
      "text/plain": [
       "0.7084057971014492"
      ]
     },
     "execution_count": 36,
     "metadata": {},
     "output_type": "execute_result"
    }
   ],
   "source": [
    "correct/len(dataset['test'])"
   ]
  },
  {
   "cell_type": "code",
   "execution_count": null,
   "id": "47233a96",
   "metadata": {},
   "outputs": [],
   "source": []
  }
 ],
 "metadata": {
  "kernelspec": {
   "display_name": "Python 3 (ipykernel)",
   "language": "python",
   "name": "python3"
  },
  "language_info": {
   "codemirror_mode": {
    "name": "ipython",
    "version": 3
   },
   "file_extension": ".py",
   "mimetype": "text/x-python",
   "name": "python",
   "nbconvert_exporter": "python",
   "pygments_lexer": "ipython3",
   "version": "3.10.13"
  },
  "toc": {
   "base_numbering": 1,
   "nav_menu": {},
   "number_sections": true,
   "sideBar": true,
   "skip_h1_title": false,
   "title_cell": "Table of Contents",
   "title_sidebar": "Contents",
   "toc_cell": false,
   "toc_position": {},
   "toc_section_display": true,
   "toc_window_display": false
  }
 },
 "nbformat": 4,
 "nbformat_minor": 5
}
