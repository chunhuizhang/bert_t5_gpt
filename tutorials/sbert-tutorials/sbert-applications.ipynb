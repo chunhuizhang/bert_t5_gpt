{
 "cells": [
  {
   "cell_type": "code",
   "execution_count": 3,
   "id": "e23c636c-a439-4bbf-97aa-dedd6a10b4e0",
   "metadata": {
    "execution": {
     "iopub.execute_input": "2024-11-12T15:02:05.349457Z",
     "iopub.status.busy": "2024-11-12T15:02:05.349028Z",
     "iopub.status.idle": "2024-11-12T15:02:05.357362Z",
     "shell.execute_reply": "2024-11-12T15:02:05.355229Z",
     "shell.execute_reply.started": "2024-11-12T15:02:05.349428Z"
    }
   },
   "outputs": [],
   "source": [
    "import os\n",
    "os.environ['http_proxy'] = 'http://127.0.0.1:7890'\n",
    "os.environ['https_proxy'] = 'http://127.0.0.1:7890'"
   ]
  },
  {
   "cell_type": "markdown",
   "id": "15dfb714-99ae-4911-8da5-34004d11cfd0",
   "metadata": {},
   "source": [
    "### clustering"
   ]
  },
  {
   "cell_type": "markdown",
   "id": "0c54d387-a525-4330-86ff-56aebf3dbf86",
   "metadata": {},
   "source": [
    "- https://github.com/UKPLab/sentence-transformers/blob/master/examples/applications/clustering/kmeans.py"
   ]
  },
  {
   "cell_type": "code",
   "execution_count": 1,
   "id": "9a78291c-75aa-4553-b764-07225d00e406",
   "metadata": {
    "execution": {
     "iopub.execute_input": "2024-11-12T15:00:29.450602Z",
     "iopub.status.busy": "2024-11-12T15:00:29.449953Z",
     "iopub.status.idle": "2024-11-12T15:00:36.221683Z",
     "shell.execute_reply": "2024-11-12T15:00:36.219861Z",
     "shell.execute_reply.started": "2024-11-12T15:00:29.450555Z"
    }
   },
   "outputs": [
    {
     "name": "stderr",
     "output_type": "stream",
     "text": [
      "/home/whaow/anaconda3/lib/python3.10/site-packages/sentence_transformers/cross_encoder/CrossEncoder.py:11: TqdmExperimentalWarning: Using `tqdm.autonotebook.tqdm` in notebook mode. Use `tqdm.tqdm` instead to force console mode (e.g. in jupyter console)\n",
      "  from tqdm.autonotebook import tqdm, trange\n"
     ]
    }
   ],
   "source": [
    "from sklearn.cluster import KMeans\n",
    "from sentence_transformers import SentenceTransformer"
   ]
  },
  {
   "cell_type": "code",
   "execution_count": 4,
   "id": "8dbed691-2a24-4364-bff1-f3469fb01c87",
   "metadata": {
    "execution": {
     "iopub.execute_input": "2024-11-12T15:02:08.174205Z",
     "iopub.status.busy": "2024-11-12T15:02:08.173563Z",
     "iopub.status.idle": "2024-11-12T15:02:21.811813Z",
     "shell.execute_reply": "2024-11-12T15:02:21.810355Z",
     "shell.execute_reply.started": "2024-11-12T15:02:08.174146Z"
    }
   },
   "outputs": [
    {
     "data": {
      "application/vnd.jupyter.widget-view+json": {
       "model_id": "beb1d124b8ce455b8de94088cee502cf",
       "version_major": 2,
       "version_minor": 0
      },
      "text/plain": [
       "modules.json:   0%|          | 0.00/349 [00:00<?, ?B/s]"
      ]
     },
     "metadata": {},
     "output_type": "display_data"
    },
    {
     "data": {
      "application/vnd.jupyter.widget-view+json": {
       "model_id": "02f2e20565d34154bb17887a2cd2e50e",
       "version_major": 2,
       "version_minor": 0
      },
      "text/plain": [
       "config_sentence_transformers.json:   0%|          | 0.00/116 [00:00<?, ?B/s]"
      ]
     },
     "metadata": {},
     "output_type": "display_data"
    },
    {
     "data": {
      "application/vnd.jupyter.widget-view+json": {
       "model_id": "c97865bf74404a83ac8becb74171ae98",
       "version_major": 2,
       "version_minor": 0
      },
      "text/plain": [
       "README.md:   0%|          | 0.00/10.7k [00:00<?, ?B/s]"
      ]
     },
     "metadata": {},
     "output_type": "display_data"
    },
    {
     "data": {
      "application/vnd.jupyter.widget-view+json": {
       "model_id": "66d1430e57a84ea1bda14e34eafcadd1",
       "version_major": 2,
       "version_minor": 0
      },
      "text/plain": [
       "sentence_bert_config.json:   0%|          | 0.00/53.0 [00:00<?, ?B/s]"
      ]
     },
     "metadata": {},
     "output_type": "display_data"
    },
    {
     "data": {
      "application/vnd.jupyter.widget-view+json": {
       "model_id": "c5f2c828f51045538147519c9224e54f",
       "version_major": 2,
       "version_minor": 0
      },
      "text/plain": [
       "config.json:   0%|          | 0.00/612 [00:00<?, ?B/s]"
      ]
     },
     "metadata": {},
     "output_type": "display_data"
    },
    {
     "data": {
      "application/vnd.jupyter.widget-view+json": {
       "model_id": "d0abf6eedb454549b7c51ff2259e3271",
       "version_major": 2,
       "version_minor": 0
      },
      "text/plain": [
       "model.safetensors:   0%|          | 0.00/90.9M [00:00<?, ?B/s]"
      ]
     },
     "metadata": {},
     "output_type": "display_data"
    },
    {
     "data": {
      "application/vnd.jupyter.widget-view+json": {
       "model_id": "acc6d8e1d0f14706a0437ad0e3ec8f26",
       "version_major": 2,
       "version_minor": 0
      },
      "text/plain": [
       "tokenizer_config.json:   0%|          | 0.00/350 [00:00<?, ?B/s]"
      ]
     },
     "metadata": {},
     "output_type": "display_data"
    },
    {
     "data": {
      "application/vnd.jupyter.widget-view+json": {
       "model_id": "f994ccd715fe4b16872b8240fe9cf07a",
       "version_major": 2,
       "version_minor": 0
      },
      "text/plain": [
       "vocab.txt:   0%|          | 0.00/232k [00:00<?, ?B/s]"
      ]
     },
     "metadata": {},
     "output_type": "display_data"
    },
    {
     "data": {
      "application/vnd.jupyter.widget-view+json": {
       "model_id": "1b3fb99a666d47ff9e0b6500bc78bac1",
       "version_major": 2,
       "version_minor": 0
      },
      "text/plain": [
       "tokenizer.json:   0%|          | 0.00/466k [00:00<?, ?B/s]"
      ]
     },
     "metadata": {},
     "output_type": "display_data"
    },
    {
     "data": {
      "application/vnd.jupyter.widget-view+json": {
       "model_id": "e1ea5efc00c74173a7377ddf76bcc9ca",
       "version_major": 2,
       "version_minor": 0
      },
      "text/plain": [
       "special_tokens_map.json:   0%|          | 0.00/112 [00:00<?, ?B/s]"
      ]
     },
     "metadata": {},
     "output_type": "display_data"
    },
    {
     "name": "stderr",
     "output_type": "stream",
     "text": [
      "/home/whaow/anaconda3/lib/python3.10/site-packages/transformers/tokenization_utils_base.py:1602: FutureWarning: `clean_up_tokenization_spaces` was not set. It will be set to `True` by default. This behavior will be deprecated in transformers v4.45, and will be then set to `False` by default. For more details check this issue: https://github.com/huggingface/transformers/issues/31884\n",
      "  warnings.warn(\n"
     ]
    },
    {
     "data": {
      "application/vnd.jupyter.widget-view+json": {
       "model_id": "fed92b9ae583433a8252a05a415b115a",
       "version_major": 2,
       "version_minor": 0
      },
      "text/plain": [
       "1_Pooling/config.json:   0%|          | 0.00/190 [00:00<?, ?B/s]"
      ]
     },
     "metadata": {},
     "output_type": "display_data"
    }
   ],
   "source": [
    "# ~/.cache/torch/sentence_transformers/\n",
    "embedder = SentenceTransformer(\"all-MiniLM-L6-v2\")"
   ]
  },
  {
   "cell_type": "code",
   "execution_count": 5,
   "id": "f835b669-eb03-4d89-a163-264f3f58136a",
   "metadata": {
    "execution": {
     "iopub.execute_input": "2024-11-12T15:02:30.481607Z",
     "iopub.status.busy": "2024-11-12T15:02:30.481276Z",
     "iopub.status.idle": "2024-11-12T15:02:30.489754Z",
     "shell.execute_reply": "2024-11-12T15:02:30.487610Z",
     "shell.execute_reply.started": "2024-11-12T15:02:30.481584Z"
    }
   },
   "outputs": [],
   "source": [
    "# Corpus with example sentences\n",
    "corpus = [\n",
    "    \"A man is eating food.\",\n",
    "    \"A man is eating a piece of bread.\",\n",
    "    \"A man is eating pasta.\",\n",
    "    \"The girl is carrying a baby.\",\n",
    "    \"The baby is carried by the woman\",\n",
    "    \"A man is riding a horse.\",\n",
    "    \"A man is riding a white horse on an enclosed ground.\",\n",
    "    \"A monkey is playing drums.\",\n",
    "    \"Someone in a gorilla costume is playing a set of drums.\",\n",
    "    \"A cheetah is running behind its prey.\",\n",
    "    \"A cheetah chases prey on across a field.\",\n",
    "]"
   ]
  },
  {
   "cell_type": "code",
   "execution_count": 6,
   "id": "c7ff4096-1f3e-49b6-b781-e983db4fc9cc",
   "metadata": {
    "execution": {
     "iopub.execute_input": "2024-11-12T15:02:47.744255Z",
     "iopub.status.busy": "2024-11-12T15:02:47.743596Z",
     "iopub.status.idle": "2024-11-12T15:02:48.570223Z",
     "shell.execute_reply": "2024-11-12T15:02:48.568450Z",
     "shell.execute_reply.started": "2024-11-12T15:02:47.744209Z"
    }
   },
   "outputs": [],
   "source": [
    "corpus_embeddings = embedder.encode(corpus)"
   ]
  },
  {
   "cell_type": "code",
   "execution_count": 7,
   "id": "3d00af16-9406-40e4-a5cd-5692bc826cc8",
   "metadata": {
    "execution": {
     "iopub.execute_input": "2024-11-12T15:02:59.280797Z",
     "iopub.status.busy": "2024-11-12T15:02:59.280489Z",
     "iopub.status.idle": "2024-11-12T15:02:59.399144Z",
     "shell.execute_reply": "2024-11-12T15:02:59.398383Z",
     "shell.execute_reply.started": "2024-11-12T15:02:59.280778Z"
    }
   },
   "outputs": [
    {
     "name": "stdout",
     "output_type": "stream",
     "text": [
      "Cluster  1\n",
      "['The girl is carrying a baby.', 'The baby is carried by the woman']\n",
      "\n",
      "Cluster  2\n",
      "['A man is eating food.', 'A man is eating a piece of bread.', 'A man is eating pasta.']\n",
      "\n",
      "Cluster  3\n",
      "['A cheetah is running behind its prey.', 'A cheetah chases prey on across a field.']\n",
      "\n",
      "Cluster  4\n",
      "['A man is riding a horse.', 'A man is riding a white horse on an enclosed ground.']\n",
      "\n",
      "Cluster  5\n",
      "['A monkey is playing drums.', 'Someone in a gorilla costume is playing a set of drums.']\n",
      "\n"
     ]
    },
    {
     "name": "stderr",
     "output_type": "stream",
     "text": [
      "/home/whaow/anaconda3/lib/python3.10/site-packages/sklearn/cluster/_kmeans.py:1416: FutureWarning: The default value of `n_init` will change from 10 to 'auto' in 1.4. Set the value of `n_init` explicitly to suppress the warning\n",
      "  super()._check_params_vs_input(X, default_n_init=10)\n"
     ]
    }
   ],
   "source": [
    "# Perform kmean clustering\n",
    "num_clusters = 5\n",
    "clustering_model = KMeans(n_clusters=num_clusters)\n",
    "clustering_model.fit(corpus_embeddings)\n",
    "cluster_assignment = clustering_model.labels_\n",
    "\n",
    "clustered_sentences = [[] for i in range(num_clusters)]\n",
    "for sentence_id, cluster_id in enumerate(cluster_assignment):\n",
    "    clustered_sentences[cluster_id].append(corpus[sentence_id])\n",
    "\n",
    "for i, cluster in enumerate(clustered_sentences):\n",
    "    print(\"Cluster \", i + 1)\n",
    "    print(cluster)\n",
    "    print(\"\")"
   ]
  },
  {
   "cell_type": "code",
   "execution_count": null,
   "id": "cdedd5c4-6bf6-4c7f-818a-c38f56fd7c97",
   "metadata": {},
   "outputs": [],
   "source": []
  }
 ],
 "metadata": {
  "kernelspec": {
   "display_name": "Python 3 (ipykernel)",
   "language": "python",
   "name": "python3"
  },
  "language_info": {
   "codemirror_mode": {
    "name": "ipython",
    "version": 3
   },
   "file_extension": ".py",
   "mimetype": "text/x-python",
   "name": "python",
   "nbconvert_exporter": "python",
   "pygments_lexer": "ipython3",
   "version": "3.10.13"
  }
 },
 "nbformat": 4,
 "nbformat_minor": 5
}
