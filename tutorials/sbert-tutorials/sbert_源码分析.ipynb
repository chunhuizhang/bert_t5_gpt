{
 "cells": [
  {
   "cell_type": "code",
   "execution_count": 5,
   "id": "ba757128",
   "metadata": {
    "ExecuteTime": {
     "end_time": "2024-02-10T07:27:53.887900Z",
     "start_time": "2024-02-10T07:27:53.880487Z"
    }
   },
   "outputs": [],
   "source": [
    "import os\n",
    "os.environ['http_proxy'] = 'http://127.0.0.1:7890'\n",
    "os.environ['https_proxy'] = 'http://127.0.0.1:7890'"
   ]
  },
  {
   "cell_type": "code",
   "execution_count": 2,
   "id": "f141ef35",
   "metadata": {
    "ExecuteTime": {
     "end_time": "2024-02-10T11:40:49.738794Z",
     "start_time": "2024-02-10T11:40:48.561750Z"
    }
   },
   "outputs": [],
   "source": [
    "import torch\n",
    "import torch.nn.functional as F\n",
    "from copy import deepcopy"
   ]
  },
  {
   "cell_type": "markdown",
   "id": "66924fd8",
   "metadata": {},
   "source": [
    "$$\n",
    " \\dfrac{x_1 \\cdot x_2}{\\max(\\Vert x_1 \\Vert _2 \\cdot \\Vert x_2 \\Vert _2, \\epsilon)}\n",
    "$$"
   ]
  },
  {
   "cell_type": "code",
   "execution_count": 6,
   "id": "b677f3de",
   "metadata": {
    "ExecuteTime": {
     "end_time": "2024-02-10T11:47:18.137664Z",
     "start_time": "2024-02-10T11:47:18.128108Z"
    }
   },
   "outputs": [],
   "source": [
    "F.cosine_similarity??"
   ]
  },
  {
   "cell_type": "code",
   "execution_count": 3,
   "id": "b726b0f6",
   "metadata": {
    "ExecuteTime": {
     "end_time": "2024-02-10T11:40:55.342213Z",
     "start_time": "2024-02-10T11:40:50.147635Z"
    }
   },
   "outputs": [
    {
     "name": "stdout",
     "output_type": "stream",
     "text": [
      "[2024-02-10 19:40:51,465] [INFO] [real_accelerator.py:161:get_accelerator] Setting ds_accelerator to cuda (auto detect)\n"
     ]
    },
    {
     "name": "stderr",
     "output_type": "stream",
     "text": [
      "/home/whaow/anaconda3/lib/python3.10/site-packages/torch/_utils.py:776: UserWarning: TypedStorage is deprecated. It will be removed in the future and UntypedStorage will be the only storage class. This should only matter to you if you are using storages directly.  To access UntypedStorage directly, use tensor.untyped_storage() instead of tensor.storage()\n",
      "  return self.fget.__get__(instance, owner)()\n"
     ]
    }
   ],
   "source": [
    "from sentence_transformers import SentenceTransformer, LoggingHandler, losses, InputExample, models\n",
    "from torch.utils.data import DataLoader\n",
    "\n",
    "model = SentenceTransformer('all-MiniLM-L6-v2', device='cpu')"
   ]
  },
  {
   "cell_type": "markdown",
   "id": "5527fff9",
   "metadata": {},
   "source": [
    "## model"
   ]
  },
  {
   "cell_type": "code",
   "execution_count": 9,
   "id": "2f1c09f5",
   "metadata": {
    "ExecuteTime": {
     "end_time": "2024-02-10T07:29:26.646137Z",
     "start_time": "2024-02-10T07:29:26.637126Z"
    }
   },
   "outputs": [
    {
     "data": {
      "text/plain": [
       "SentenceTransformer(\n",
       "  (0): Transformer({'max_seq_length': 256, 'do_lower_case': False}) with Transformer model: BertModel \n",
       "  (1): Pooling({'word_embedding_dimension': 384, 'pooling_mode_cls_token': False, 'pooling_mode_mean_tokens': True, 'pooling_mode_max_tokens': False, 'pooling_mode_mean_sqrt_len_tokens': False})\n",
       "  (2): Normalize()\n",
       ")"
      ]
     },
     "execution_count": 9,
     "metadata": {},
     "output_type": "execute_result"
    }
   ],
   "source": [
    "model"
   ]
  },
  {
   "cell_type": "markdown",
   "id": "7bd8902c",
   "metadata": {
    "ExecuteTime": {
     "end_time": "2024-02-06T13:20:21.976722Z",
     "start_time": "2024-02-06T13:20:21.966710Z"
    }
   },
   "source": [
    "- `model[0]`: `token_embeddings` \n",
    "- `model[1]`: `pooling_mode_mean_tokens`\n",
    "    - `sentence_embedding`: "
   ]
  },
  {
   "cell_type": "markdown",
   "id": "315e71d2",
   "metadata": {},
   "source": [
    "- 其他的 Pooling 方法\n",
    "\n",
    "```\n",
    "pooling_model = models.Pooling(word_embed_model.get_word_embedding_dimension(), \n",
    "                       pooling_mode='cls',\n",
    "                       pooling_mode_cls_token=True, \n",
    "                       pooling_mode_mean_tokens = False)\n",
    "```"
   ]
  },
  {
   "cell_type": "markdown",
   "id": "a1718acd",
   "metadata": {},
   "source": [
    "## dataloader"
   ]
  },
  {
   "cell_type": "code",
   "execution_count": 8,
   "id": "a223df56",
   "metadata": {
    "ExecuteTime": {
     "end_time": "2024-02-10T11:51:35.305039Z",
     "start_time": "2024-02-10T11:51:35.299519Z"
    }
   },
   "outputs": [],
   "source": [
    "train_examples = [\n",
    "    InputExample(texts=['This is a positive pair', \n",
    "                        'Where the distance will be minimized'], \n",
    "                 label=1),\n",
    "#     InputExample(texts=['This is a negative pair', 'Their distance will be increased'], label=0)\n",
    "]"
   ]
  },
  {
   "cell_type": "code",
   "execution_count": 9,
   "id": "8ba6d2f9",
   "metadata": {
    "ExecuteTime": {
     "end_time": "2024-02-10T11:51:36.458556Z",
     "start_time": "2024-02-10T11:51:36.450349Z"
    }
   },
   "outputs": [],
   "source": [
    "# sentences input, \n",
    "train_dataloader = DataLoader(train_examples, shuffle=True, batch_size=2)"
   ]
  },
  {
   "cell_type": "code",
   "execution_count": 10,
   "id": "7d6b7fdc",
   "metadata": {
    "ExecuteTime": {
     "end_time": "2024-02-10T11:51:37.709961Z",
     "start_time": "2024-02-10T11:51:37.694333Z"
    }
   },
   "outputs": [
    {
     "data": {
      "text/plain": [
       "<function torch.utils.data._utils.collate.default_collate(batch)>"
      ]
     },
     "execution_count": 10,
     "metadata": {},
     "output_type": "execute_result"
    }
   ],
   "source": [
    "train_dataloader.collate_fn"
   ]
  },
  {
   "cell_type": "code",
   "execution_count": 12,
   "id": "15f2cc02",
   "metadata": {
    "ExecuteTime": {
     "end_time": "2024-02-10T11:52:11.927710Z",
     "start_time": "2024-02-10T11:52:11.908227Z"
    }
   },
   "outputs": [
    {
     "data": {
      "text/plain": [
       "([{'input_ids': tensor([[ 101, 2023, 2003, 1037, 3893, 3940,  102]]),\n",
       "   'token_type_ids': tensor([[0, 0, 0, 0, 0, 0, 0]]),\n",
       "   'attention_mask': tensor([[1, 1, 1, 1, 1, 1, 1]])},\n",
       "  {'input_ids': tensor([[  101,  2073,  1996,  3292,  2097,  2022, 18478,  2094,   102]]),\n",
       "   'token_type_ids': tensor([[0, 0, 0, 0, 0, 0, 0, 0, 0]]),\n",
       "   'attention_mask': tensor([[1, 1, 1, 1, 1, 1, 1, 1, 1]])}],\n",
       " tensor([1]))"
      ]
     },
     "execution_count": 12,
     "metadata": {},
     "output_type": "execute_result"
    }
   ],
   "source": [
    "train_dataloader.collate_fn = model.smart_batching_collate\n",
    "batch = next(iter(train_dataloader))\n",
    "batch "
   ]
  },
  {
   "cell_type": "markdown",
   "id": "645285e3",
   "metadata": {},
   "source": [
    "## losses"
   ]
  },
  {
   "cell_type": "markdown",
   "id": "6ba248a7",
   "metadata": {},
   "source": [
    "- $(a,b)$: pair sentences embeddings\n",
    "\n",
    "$$\n",
    "\\frac12|a,b|^2, \\ell=1\\\\\n",
    "\\text{ReLU}^2(\\epsilon-|a,b|), \\ell=0\n",
    "$$"
   ]
  },
  {
   "cell_type": "code",
   "execution_count": 13,
   "id": "9830794f",
   "metadata": {
    "ExecuteTime": {
     "end_time": "2024-02-10T11:53:03.816249Z",
     "start_time": "2024-02-10T11:53:03.777977Z"
    }
   },
   "outputs": [],
   "source": [
    "losses.ContrastiveLoss??"
   ]
  },
  {
   "cell_type": "code",
   "execution_count": 14,
   "id": "ecf14126",
   "metadata": {
    "ExecuteTime": {
     "end_time": "2024-02-10T11:53:28.511016Z",
     "start_time": "2024-02-10T11:53:28.504483Z"
    }
   },
   "outputs": [],
   "source": [
    "train_loss = losses.ContrastiveLoss(model=model)"
   ]
  },
  {
   "cell_type": "code",
   "execution_count": 18,
   "id": "5f0425c0",
   "metadata": {
    "ExecuteTime": {
     "end_time": "2024-02-10T11:53:55.777363Z",
     "start_time": "2024-02-10T11:53:55.771804Z"
    }
   },
   "outputs": [],
   "source": [
    "# list(train_loss.named_parameters())"
   ]
  },
  {
   "cell_type": "code",
   "execution_count": 15,
   "id": "58edd877",
   "metadata": {
    "ExecuteTime": {
     "end_time": "2024-02-10T11:53:35.119949Z",
     "start_time": "2024-02-10T11:53:35.107551Z"
    }
   },
   "outputs": [
    {
     "data": {
      "text/plain": [
       "torch.Size([30522, 384])"
      ]
     },
     "execution_count": 15,
     "metadata": {},
     "output_type": "execute_result"
    }
   ],
   "source": [
    "list(train_loss.named_parameters())[0][1].shape"
   ]
  },
  {
   "cell_type": "code",
   "execution_count": 21,
   "id": "d9021827",
   "metadata": {
    "ExecuteTime": {
     "end_time": "2024-02-10T11:54:33.705798Z",
     "start_time": "2024-02-10T11:54:33.695614Z"
    }
   },
   "outputs": [
    {
     "data": {
      "text/plain": [
       "<function sentence_transformers.losses.ContrastiveLoss.SiameseDistanceMetric.<lambda>(x, y)>"
      ]
     },
     "execution_count": 21,
     "metadata": {},
     "output_type": "execute_result"
    }
   ],
   "source": [
    "# SiameseDistanceMetric.COSINE_DISTANCE\n",
    "# lambda x, y: 1-F.cosine_similarity(x, y)\n",
    "train_loss.distance_metric"
   ]
  },
  {
   "cell_type": "markdown",
   "id": "b237e009",
   "metadata": {},
   "source": [
    "## model.forward"
   ]
  },
  {
   "cell_type": "code",
   "execution_count": 23,
   "id": "9961e7cc",
   "metadata": {
    "ExecuteTime": {
     "end_time": "2024-02-10T11:54:48.207787Z",
     "start_time": "2024-02-10T11:54:48.193835Z"
    }
   },
   "outputs": [
    {
     "data": {
      "text/plain": [
       "([{'input_ids': tensor([[ 101, 2023, 2003, 1037, 3893, 3940,  102]]),\n",
       "   'token_type_ids': tensor([[0, 0, 0, 0, 0, 0, 0]]),\n",
       "   'attention_mask': tensor([[1, 1, 1, 1, 1, 1, 1]])},\n",
       "  {'input_ids': tensor([[  101,  2073,  1996,  3292,  2097,  2022, 18478,  2094,   102]]),\n",
       "   'token_type_ids': tensor([[0, 0, 0, 0, 0, 0, 0, 0, 0]]),\n",
       "   'attention_mask': tensor([[1, 1, 1, 1, 1, 1, 1, 1, 1]])}],\n",
       " tensor([1]))"
      ]
     },
     "execution_count": 23,
     "metadata": {},
     "output_type": "execute_result"
    }
   ],
   "source": [
    "batch"
   ]
  },
  {
   "cell_type": "code",
   "execution_count": 22,
   "id": "5a4c27ad",
   "metadata": {
    "ExecuteTime": {
     "end_time": "2024-02-10T11:54:44.224366Z",
     "start_time": "2024-02-10T11:54:44.212258Z"
    }
   },
   "outputs": [
    {
     "data": {
      "text/plain": [
       "tensor([1])"
      ]
     },
     "execution_count": 22,
     "metadata": {},
     "output_type": "execute_result"
    }
   ],
   "source": [
    "batch[1]"
   ]
  },
  {
   "cell_type": "code",
   "execution_count": 18,
   "id": "c4769ec8",
   "metadata": {
    "ExecuteTime": {
     "end_time": "2024-02-10T07:36:21.454854Z",
     "start_time": "2024-02-10T07:36:21.444522Z"
    }
   },
   "outputs": [
    {
     "data": {
      "text/plain": [
       "torch.Size([1, 7])"
      ]
     },
     "execution_count": 18,
     "metadata": {},
     "output_type": "execute_result"
    }
   ],
   "source": [
    "batch[0][0]['input_ids'].shape"
   ]
  },
  {
   "cell_type": "code",
   "execution_count": 24,
   "id": "c230cba6",
   "metadata": {
    "ExecuteTime": {
     "end_time": "2024-02-10T11:55:38.981022Z",
     "start_time": "2024-02-10T11:55:38.965493Z"
    }
   },
   "outputs": [
    {
     "data": {
      "text/plain": [
       "[{'input_ids': tensor([[ 101, 2023, 2003, 1037, 3893, 3940,  102]]),\n",
       "  'token_type_ids': tensor([[0, 0, 0, 0, 0, 0, 0]]),\n",
       "  'attention_mask': tensor([[1, 1, 1, 1, 1, 1, 1]])},\n",
       " {'input_ids': tensor([[  101,  2073,  1996,  3292,  2097,  2022, 18478,  2094,   102]]),\n",
       "  'token_type_ids': tensor([[0, 0, 0, 0, 0, 0, 0, 0, 0]]),\n",
       "  'attention_mask': tensor([[1, 1, 1, 1, 1, 1, 1, 1, 1]])}]"
      ]
     },
     "execution_count": 24,
     "metadata": {},
     "output_type": "execute_result"
    }
   ],
   "source": [
    "features, labels = batch\n",
    "features"
   ]
  },
  {
   "cell_type": "code",
   "execution_count": 61,
   "id": "1b32d4d9",
   "metadata": {
    "ExecuteTime": {
     "end_time": "2024-02-06T13:14:16.578331Z",
     "start_time": "2024-02-06T13:14:16.572106Z"
    }
   },
   "outputs": [],
   "source": [
    "# model[2](model[1](model[0](features[0])))"
   ]
  },
  {
   "cell_type": "code",
   "execution_count": 25,
   "id": "90a97a21",
   "metadata": {
    "ExecuteTime": {
     "end_time": "2024-02-10T11:55:48.925478Z",
     "start_time": "2024-02-10T11:55:48.915808Z"
    }
   },
   "outputs": [
    {
     "data": {
      "text/plain": [
       "SentenceTransformer(\n",
       "  (0): Transformer({'max_seq_length': 256, 'do_lower_case': False}) with Transformer model: BertModel \n",
       "  (1): Pooling({'word_embedding_dimension': 384, 'pooling_mode_cls_token': False, 'pooling_mode_mean_tokens': True, 'pooling_mode_max_tokens': False, 'pooling_mode_mean_sqrt_len_tokens': False})\n",
       "  (2): Normalize()\n",
       ")"
      ]
     },
     "execution_count": 25,
     "metadata": {},
     "output_type": "execute_result"
    }
   ],
   "source": [
    "model"
   ]
  },
  {
   "cell_type": "code",
   "execution_count": 26,
   "id": "f4d083f2",
   "metadata": {
    "ExecuteTime": {
     "end_time": "2024-02-10T11:56:09.239982Z",
     "start_time": "2024-02-10T11:56:09.230175Z"
    }
   },
   "outputs": [],
   "source": [
    "feature_cpy = deepcopy(features)"
   ]
  },
  {
   "cell_type": "code",
   "execution_count": 22,
   "id": "bd8f0fb4",
   "metadata": {
    "ExecuteTime": {
     "end_time": "2024-02-10T07:36:34.779803Z",
     "start_time": "2024-02-10T07:36:34.536182Z"
    }
   },
   "outputs": [
    {
     "data": {
      "text/plain": [
       "tensor([-0.2930,  0.3243, -0.6169, -0.0097, -0.1806], grad_fn=<SliceBackward0>)"
      ]
     },
     "execution_count": 22,
     "metadata": {},
     "output_type": "execute_result"
    }
   ],
   "source": [
    "model[1](model[0](features[0]))['sentence_embedding'][0, :5]"
   ]
  },
  {
   "cell_type": "code",
   "execution_count": 23,
   "id": "629e3ed3",
   "metadata": {
    "ExecuteTime": {
     "end_time": "2024-02-10T07:36:36.347544Z",
     "start_time": "2024-02-10T07:36:36.322309Z"
    },
    "scrolled": true
   },
   "outputs": [
    {
     "data": {
      "text/plain": [
       "tensor([-0.2930,  0.3243, -0.6169, -0.0097, -0.1806], grad_fn=<SliceBackward0>)"
      ]
     },
     "execution_count": 23,
     "metadata": {},
     "output_type": "execute_result"
    }
   ],
   "source": [
    "(torch.sum(model[0](feature_cpy[0])['token_embeddings'], dim=1) / 7)[0, :5]"
   ]
  },
  {
   "cell_type": "markdown",
   "id": "d1ae3b9f",
   "metadata": {},
   "source": [
    "## forward loss"
   ]
  },
  {
   "cell_type": "code",
   "execution_count": 28,
   "id": "5d1c1e56",
   "metadata": {
    "ExecuteTime": {
     "end_time": "2024-02-10T11:57:32.448996Z",
     "start_time": "2024-02-10T11:57:32.220772Z"
    },
    "scrolled": false
   },
   "outputs": [],
   "source": [
    "sent1_embed = model(features[0])['sentence_embedding']\n",
    "sent2_embed = model(features[1])['sentence_embedding']"
   ]
  },
  {
   "cell_type": "code",
   "execution_count": 29,
   "id": "a743f680",
   "metadata": {
    "ExecuteTime": {
     "end_time": "2024-02-10T11:57:33.207867Z",
     "start_time": "2024-02-10T11:57:33.197853Z"
    }
   },
   "outputs": [
    {
     "data": {
      "text/plain": [
       "tensor([0.9867], grad_fn=<RsubBackward1>)"
      ]
     },
     "execution_count": 29,
     "metadata": {},
     "output_type": "execute_result"
    }
   ],
   "source": [
    "# 1 - F.cosine_similarity(sent1_embed, sent2_embed)\n",
    "train_loss.distance_metric(sent1_embed, sent2_embed)"
   ]
  },
  {
   "cell_type": "code",
   "execution_count": 30,
   "id": "60c522aa",
   "metadata": {
    "ExecuteTime": {
     "end_time": "2024-02-10T11:57:41.034095Z",
     "start_time": "2024-02-10T11:57:41.022562Z"
    }
   },
   "outputs": [
    {
     "data": {
      "text/plain": [
       "tensor([0.9867], grad_fn=<RsubBackward1>)"
      ]
     },
     "execution_count": 30,
     "metadata": {},
     "output_type": "execute_result"
    }
   ],
   "source": [
    "1 - F.cosine_similarity(sent1_embed, sent2_embed)"
   ]
  },
  {
   "cell_type": "code",
   "execution_count": 31,
   "id": "48aa94c1",
   "metadata": {
    "ExecuteTime": {
     "end_time": "2024-02-10T11:57:45.658073Z",
     "start_time": "2024-02-10T11:57:45.622113Z"
    }
   },
   "outputs": [
    {
     "data": {
      "text/plain": [
       "tensor(0.4868, grad_fn=<MeanBackward0>)"
      ]
     },
     "execution_count": 31,
     "metadata": {},
     "output_type": "execute_result"
    }
   ],
   "source": [
    "train_loss(features, labels)"
   ]
  },
  {
   "cell_type": "code",
   "execution_count": 27,
   "id": "bbb43dce",
   "metadata": {
    "ExecuteTime": {
     "end_time": "2024-02-10T07:36:51.684259Z",
     "start_time": "2024-02-10T07:36:51.672273Z"
    }
   },
   "outputs": [
    {
     "data": {
      "text/plain": [
       "tensor([0.4868], grad_fn=<MulBackward0>)"
      ]
     },
     "execution_count": 27,
     "metadata": {},
     "output_type": "execute_result"
    }
   ],
   "source": [
    "1/2*(1-F.cosine_similarity(sent1_embed, sent2_embed))**2"
   ]
  },
  {
   "cell_type": "code",
   "execution_count": null,
   "id": "6d5c3eb9",
   "metadata": {},
   "outputs": [],
   "source": [
    "model.fit([(train_dataloader, train_loss)], show_progress_bar=True)"
   ]
  },
  {
   "cell_type": "markdown",
   "id": "f12c1142",
   "metadata": {},
   "source": [
    "## Pooling methods"
   ]
  },
  {
   "cell_type": "markdown",
   "id": "abb09482",
   "metadata": {},
   "source": [
    "### pooling_mode_mean_tokens"
   ]
  },
  {
   "cell_type": "code",
   "execution_count": 32,
   "id": "f2637e43",
   "metadata": {
    "ExecuteTime": {
     "end_time": "2024-02-10T11:58:48.216238Z",
     "start_time": "2024-02-10T11:58:48.197564Z"
    }
   },
   "outputs": [
    {
     "data": {
      "text/plain": [
       "[{'input_ids': tensor([[ 101, 2023, 2003, 1037, 3893, 3940,  102]]),\n",
       "  'token_type_ids': tensor([[0, 0, 0, 0, 0, 0, 0]]),\n",
       "  'attention_mask': tensor([[1, 1, 1, 1, 1, 1, 1]])},\n",
       " {'input_ids': tensor([[  101,  2073,  1996,  3292,  2097,  2022, 18478,  2094,   102]]),\n",
       "  'token_type_ids': tensor([[0, 0, 0, 0, 0, 0, 0, 0, 0]]),\n",
       "  'attention_mask': tensor([[1, 1, 1, 1, 1, 1, 1, 1, 1]])}]"
      ]
     },
     "execution_count": 32,
     "metadata": {},
     "output_type": "execute_result"
    }
   ],
   "source": [
    "train_examples = [\n",
    "    InputExample(texts=['This is a positive pair', 'Where the distance will be minimized'], label=1),\n",
    "#     InputExample(texts=['This is a negative pair', 'Their distance will be increased'], label=0)\n",
    "]\n",
    "# sentences input, \n",
    "train_dataloader = DataLoader(train_examples, shuffle=True, batch_size=2)\n",
    "train_dataloader.collate_fn = model.smart_batching_collate\n",
    "batch = next(iter(train_dataloader))\n",
    "# batch \n",
    "features, labels = batch\n",
    "features"
   ]
  },
  {
   "cell_type": "code",
   "execution_count": 33,
   "id": "f1b96f8c",
   "metadata": {
    "ExecuteTime": {
     "end_time": "2024-02-10T11:59:35.706251Z",
     "start_time": "2024-02-10T11:58:55.237250Z"
    }
   },
   "outputs": [],
   "source": [
    "word_embed_model = models.Transformer('bert-base-uncased')\n",
    "# a pool function over the token embeddings\n",
    "pooling_model = models.Pooling(word_embed_model.get_word_embedding_dimension(), \n",
    "                               pooling_mode_cls_token=False, \n",
    "                               pooling_mode_mean_tokens=True, \n",
    "                               pooling_mode_max_tokens=False, \n",
    "                               pooling_mode_mean_sqrt_len_tokens=False)\n",
    "model = SentenceTransformer(modules=[word_embed_model, pooling_model])"
   ]
  },
  {
   "cell_type": "code",
   "execution_count": 46,
   "id": "35bee922",
   "metadata": {
    "ExecuteTime": {
     "end_time": "2024-02-10T07:43:10.970461Z",
     "start_time": "2024-02-10T07:43:10.937965Z"
    }
   },
   "outputs": [
    {
     "data": {
      "text/plain": [
       "tensor([-0.0863, -0.2668,  0.5492, -0.4936, -0.1374], grad_fn=<SliceBackward0>)"
      ]
     },
     "execution_count": 46,
     "metadata": {},
     "output_type": "execute_result"
    }
   ],
   "source": [
    "model(features[0])['sentence_embedding'][0][:5]"
   ]
  },
  {
   "cell_type": "markdown",
   "id": "95d35825",
   "metadata": {},
   "source": [
    "### cls pooling method"
   ]
  },
  {
   "cell_type": "code",
   "execution_count": 47,
   "id": "d25ea253",
   "metadata": {
    "ExecuteTime": {
     "end_time": "2024-02-10T07:43:12.461224Z",
     "start_time": "2024-02-10T07:43:12.434063Z"
    }
   },
   "outputs": [
    {
     "data": {
      "text/plain": [
       "[{'input_ids': tensor([[ 101, 2023, 2003, 1037, 3893, 3940,  102]]),\n",
       "  'token_type_ids': tensor([[0, 0, 0, 0, 0, 0, 0]]),\n",
       "  'attention_mask': tensor([[1, 1, 1, 1, 1, 1, 1]])},\n",
       " {'input_ids': tensor([[  101,  2073,  1996,  3292,  2097,  2022, 18478,  2094,   102]]),\n",
       "  'token_type_ids': tensor([[0, 0, 0, 0, 0, 0, 0, 0, 0]]),\n",
       "  'attention_mask': tensor([[1, 1, 1, 1, 1, 1, 1, 1, 1]])}]"
      ]
     },
     "execution_count": 47,
     "metadata": {},
     "output_type": "execute_result"
    }
   ],
   "source": [
    "train_examples = [\n",
    "    InputExample(texts=['This is a positive pair', 'Where the distance will be minimized'], label=1),\n",
    "#     InputExample(texts=['This is a negative pair', 'Their distance will be increased'], label=0)\n",
    "]\n",
    "# sentences input, \n",
    "train_dataloader = DataLoader(train_examples, shuffle=True, batch_size=2)\n",
    "train_dataloader.collate_fn = model.smart_batching_collate\n",
    "batch = next(iter(train_dataloader))\n",
    "# batch \n",
    "features, labels = batch\n",
    "features"
   ]
  },
  {
   "cell_type": "code",
   "execution_count": 48,
   "id": "18a3ce93",
   "metadata": {
    "ExecuteTime": {
     "end_time": "2024-02-10T07:43:15.284696Z",
     "start_time": "2024-02-10T07:43:14.404275Z"
    }
   },
   "outputs": [],
   "source": [
    "word_embed_model = models.Transformer('bert-base-uncased')\n",
    "# a pool function over the token embeddings\n",
    "pooling_model = models.Pooling(word_embed_model.get_word_embedding_dimension(), \n",
    "                               pooling_mode = 'cls',\n",
    "                               pooling_mode_cls_token=True, \n",
    "                               pooling_mode_mean_tokens = False)\n",
    "model = SentenceTransformer(modules=[word_embed_model, pooling_model])"
   ]
  },
  {
   "cell_type": "code",
   "execution_count": 49,
   "id": "e62ed51b",
   "metadata": {
    "ExecuteTime": {
     "end_time": "2024-02-10T07:43:16.619741Z",
     "start_time": "2024-02-10T07:43:16.589343Z"
    }
   },
   "outputs": [
    {
     "data": {
      "text/plain": [
       "tensor([-0.1775, -0.0474,  0.1351, -0.3242, -0.5006], grad_fn=<SliceBackward0>)"
      ]
     },
     "execution_count": 49,
     "metadata": {},
     "output_type": "execute_result"
    }
   ],
   "source": [
    "model(features[0])['sentence_embedding'][0][:5]"
   ]
  },
  {
   "cell_type": "markdown",
   "id": "4463ff06",
   "metadata": {},
   "source": [
    "### cls pooling from scartch"
   ]
  },
  {
   "cell_type": "code",
   "execution_count": 50,
   "id": "79d6473d",
   "metadata": {
    "ExecuteTime": {
     "end_time": "2024-02-10T07:44:22.396718Z",
     "start_time": "2024-02-10T07:44:22.369945Z"
    }
   },
   "outputs": [
    {
     "data": {
      "text/plain": [
       "[{'input_ids': tensor([[ 101, 2023, 2003, 1037, 3893, 3940,  102]]),\n",
       "  'token_type_ids': tensor([[0, 0, 0, 0, 0, 0, 0]]),\n",
       "  'attention_mask': tensor([[1, 1, 1, 1, 1, 1, 1]])},\n",
       " {'input_ids': tensor([[  101,  2073,  1996,  3292,  2097,  2022, 18478,  2094,   102]]),\n",
       "  'token_type_ids': tensor([[0, 0, 0, 0, 0, 0, 0, 0, 0]]),\n",
       "  'attention_mask': tensor([[1, 1, 1, 1, 1, 1, 1, 1, 1]])}]"
      ]
     },
     "execution_count": 50,
     "metadata": {},
     "output_type": "execute_result"
    }
   ],
   "source": [
    "train_examples = [\n",
    "    InputExample(texts=['This is a positive pair', 'Where the distance will be minimized'], label=1),\n",
    "#     InputExample(texts=['This is a negative pair', 'Their distance will be increased'], label=0)\n",
    "]\n",
    "# sentences input, \n",
    "train_dataloader = DataLoader(train_examples, shuffle=True, batch_size=2)\n",
    "train_dataloader.collate_fn = model.smart_batching_collate\n",
    "batch = next(iter(train_dataloader))\n",
    "# batch \n",
    "features, labels = batch\n",
    "features"
   ]
  },
  {
   "cell_type": "code",
   "execution_count": 36,
   "id": "87bf071b",
   "metadata": {
    "ExecuteTime": {
     "end_time": "2024-02-10T12:00:18.856106Z",
     "start_time": "2024-02-10T12:00:18.814363Z"
    }
   },
   "outputs": [
    {
     "data": {
      "text/plain": [
       "torch.Size([1, 7, 768])"
      ]
     },
     "execution_count": 36,
     "metadata": {},
     "output_type": "execute_result"
    }
   ],
   "source": [
    "model[0](features[0])['token_embeddings'].shape"
   ]
  },
  {
   "cell_type": "code",
   "execution_count": 56,
   "id": "1128ee57",
   "metadata": {
    "ExecuteTime": {
     "end_time": "2024-02-10T07:45:08.243313Z",
     "start_time": "2024-02-10T07:45:08.208104Z"
    }
   },
   "outputs": [
    {
     "data": {
      "text/plain": [
       "tensor([-0.1775, -0.0474,  0.1351, -0.3242, -0.5006], grad_fn=<SliceBackward0>)"
      ]
     },
     "execution_count": 56,
     "metadata": {},
     "output_type": "execute_result"
    }
   ],
   "source": [
    "model[0](features[0])['token_embeddings'][0, 0][:5]"
   ]
  }
 ],
 "metadata": {
  "kernelspec": {
   "display_name": "Python 3 (ipykernel)",
   "language": "python",
   "name": "python3"
  },
  "language_info": {
   "codemirror_mode": {
    "name": "ipython",
    "version": 3
   },
   "file_extension": ".py",
   "mimetype": "text/x-python",
   "name": "python",
   "nbconvert_exporter": "python",
   "pygments_lexer": "ipython3",
   "version": "3.10.13"
  },
  "toc": {
   "base_numbering": 1,
   "nav_menu": {},
   "number_sections": true,
   "sideBar": true,
   "skip_h1_title": false,
   "title_cell": "Table of Contents",
   "title_sidebar": "Contents",
   "toc_cell": false,
   "toc_position": {},
   "toc_section_display": true,
   "toc_window_display": false
  }
 },
 "nbformat": 4,
 "nbformat_minor": 5
}
