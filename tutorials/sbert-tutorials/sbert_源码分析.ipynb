{
 "cells": [
  {
   "cell_type": "code",
   "execution_count": 2,
   "id": "ba757128",
   "metadata": {
    "ExecuteTime": {
     "end_time": "2024-02-06T12:34:59.390758Z",
     "start_time": "2024-02-06T12:34:59.386495Z"
    }
   },
   "outputs": [],
   "source": [
    "import os\n",
    "os.environ['http_proxy'] = 'http://127.0.0.1:7890'\n",
    "os.environ['https_proxy'] = 'http://127.0.0.1:7890'"
   ]
  },
  {
   "cell_type": "code",
   "execution_count": 164,
   "id": "f141ef35",
   "metadata": {
    "ExecuteTime": {
     "end_time": "2024-02-06T14:07:03.984713Z",
     "start_time": "2024-02-06T14:07:03.977856Z"
    }
   },
   "outputs": [],
   "source": [
    "import torch\n",
    "import torch.nn.functional as F\n",
    "from copy import deepcopy"
   ]
  },
  {
   "cell_type": "code",
   "execution_count": 81,
   "id": "b677f3de",
   "metadata": {
    "ExecuteTime": {
     "end_time": "2024-02-06T13:17:29.369236Z",
     "start_time": "2024-02-06T13:17:29.360267Z"
    }
   },
   "outputs": [
    {
     "data": {
      "text/plain": [
       "<function torch._VariableFunctionsClass.cosine_similarity>"
      ]
     },
     "execution_count": 81,
     "metadata": {},
     "output_type": "execute_result"
    }
   ],
   "source": [
    "F.cosine_similarity"
   ]
  },
  {
   "cell_type": "code",
   "execution_count": 91,
   "id": "b726b0f6",
   "metadata": {
    "ExecuteTime": {
     "end_time": "2024-02-06T13:24:34.113824Z",
     "start_time": "2024-02-06T13:24:33.962682Z"
    }
   },
   "outputs": [],
   "source": [
    "from sentence_transformers import SentenceTransformer, LoggingHandler, losses, InputExample\n",
    "from torch.utils.data import DataLoader\n",
    "\n",
    "model = SentenceTransformer('all-MiniLM-L6-v2', device='cpu')"
   ]
  },
  {
   "cell_type": "markdown",
   "id": "5527fff9",
   "metadata": {},
   "source": [
    "## model"
   ]
  },
  {
   "cell_type": "code",
   "execution_count": 92,
   "id": "2f1c09f5",
   "metadata": {
    "ExecuteTime": {
     "end_time": "2024-02-06T13:24:35.614247Z",
     "start_time": "2024-02-06T13:24:35.607252Z"
    }
   },
   "outputs": [
    {
     "data": {
      "text/plain": [
       "SentenceTransformer(\n",
       "  (0): Transformer({'max_seq_length': 256, 'do_lower_case': False}) with Transformer model: BertModel \n",
       "  (1): Pooling({'word_embedding_dimension': 384, 'pooling_mode_cls_token': False, 'pooling_mode_mean_tokens': True, 'pooling_mode_max_tokens': False, 'pooling_mode_mean_sqrt_len_tokens': False})\n",
       "  (2): Normalize()\n",
       ")"
      ]
     },
     "execution_count": 92,
     "metadata": {},
     "output_type": "execute_result"
    }
   ],
   "source": [
    "model"
   ]
  },
  {
   "cell_type": "markdown",
   "id": "7bd8902c",
   "metadata": {
    "ExecuteTime": {
     "end_time": "2024-02-06T13:20:21.976722Z",
     "start_time": "2024-02-06T13:20:21.966710Z"
    }
   },
   "source": [
    "- `model[0]`: `token_embeddings` \n",
    "- `model[1]`: `pooling_mode_mean_tokens`\n",
    "    - `sentence_embedding`: "
   ]
  },
  {
   "cell_type": "markdown",
   "id": "a1718acd",
   "metadata": {},
   "source": [
    "## dataloader"
   ]
  },
  {
   "cell_type": "code",
   "execution_count": 122,
   "id": "a223df56",
   "metadata": {
    "ExecuteTime": {
     "end_time": "2024-02-06T13:44:15.226194Z",
     "start_time": "2024-02-06T13:44:15.218780Z"
    }
   },
   "outputs": [],
   "source": [
    "train_examples = [\n",
    "    InputExample(texts=['This is a positive pair', 'Where the distance will be minimized'], label=1),\n",
    "#     InputExample(texts=['This is a negative pair', 'Their distance will be increased'], label=0)\n",
    "]"
   ]
  },
  {
   "cell_type": "code",
   "execution_count": 147,
   "id": "8ba6d2f9",
   "metadata": {
    "ExecuteTime": {
     "end_time": "2024-02-06T13:54:00.677557Z",
     "start_time": "2024-02-06T13:54:00.670166Z"
    }
   },
   "outputs": [],
   "source": [
    "train_dataloader = DataLoader(train_examples, shuffle=True, batch_size=2)"
   ]
  },
  {
   "cell_type": "code",
   "execution_count": 124,
   "id": "7d6b7fdc",
   "metadata": {
    "ExecuteTime": {
     "end_time": "2024-02-06T13:44:17.414669Z",
     "start_time": "2024-02-06T13:44:17.405315Z"
    }
   },
   "outputs": [
    {
     "data": {
      "text/plain": [
       "<function torch.utils.data._utils.collate.default_collate(batch)>"
      ]
     },
     "execution_count": 124,
     "metadata": {},
     "output_type": "execute_result"
    }
   ],
   "source": [
    "train_dataloader.collate_fn"
   ]
  },
  {
   "cell_type": "code",
   "execution_count": 176,
   "id": "15f2cc02",
   "metadata": {
    "ExecuteTime": {
     "end_time": "2024-02-06T14:12:40.142087Z",
     "start_time": "2024-02-06T14:12:40.125505Z"
    }
   },
   "outputs": [
    {
     "data": {
      "text/plain": [
       "([{'input_ids': tensor([[ 101, 2023, 2003, 1037, 3893, 3940,  102]]),\n",
       "   'token_type_ids': tensor([[0, 0, 0, 0, 0, 0, 0]]),\n",
       "   'attention_mask': tensor([[1, 1, 1, 1, 1, 1, 1]])},\n",
       "  {'input_ids': tensor([[  101,  2073,  1996,  3292,  2097,  2022, 18478,  2094,   102]]),\n",
       "   'token_type_ids': tensor([[0, 0, 0, 0, 0, 0, 0, 0, 0]]),\n",
       "   'attention_mask': tensor([[1, 1, 1, 1, 1, 1, 1, 1, 1]])}],\n",
       " tensor([1]))"
      ]
     },
     "execution_count": 176,
     "metadata": {},
     "output_type": "execute_result"
    }
   ],
   "source": [
    "train_dataloader.collate_fn = model.smart_batching_collate\n",
    "batch = next(iter(train_dataloader))\n",
    "batch "
   ]
  },
  {
   "cell_type": "markdown",
   "id": "645285e3",
   "metadata": {},
   "source": [
    "## losses"
   ]
  },
  {
   "cell_type": "markdown",
   "id": "6ba248a7",
   "metadata": {},
   "source": [
    "- $(a,b)$: pair sentences embeddings\n",
    "\n",
    "$$\n",
    "\\frac12|a,b|^2, \\ell=1\\\\\n",
    "\\text{ReLU}^2(\\epsilon-|a,b|^2), \\ell=0\n",
    "$$"
   ]
  },
  {
   "cell_type": "code",
   "execution_count": 97,
   "id": "ecf14126",
   "metadata": {
    "ExecuteTime": {
     "end_time": "2024-02-06T13:24:44.361343Z",
     "start_time": "2024-02-06T13:24:44.353595Z"
    }
   },
   "outputs": [],
   "source": [
    "train_loss = losses.ContrastiveLoss(model=model)"
   ]
  },
  {
   "cell_type": "code",
   "execution_count": 98,
   "id": "58edd877",
   "metadata": {
    "ExecuteTime": {
     "end_time": "2024-02-06T13:24:45.342751Z",
     "start_time": "2024-02-06T13:24:45.329165Z"
    }
   },
   "outputs": [
    {
     "data": {
      "text/plain": [
       "torch.Size([30522, 384])"
      ]
     },
     "execution_count": 98,
     "metadata": {},
     "output_type": "execute_result"
    }
   ],
   "source": [
    "list(train_loss.named_parameters())[0][1].shape"
   ]
  },
  {
   "cell_type": "code",
   "execution_count": 99,
   "id": "d9021827",
   "metadata": {
    "ExecuteTime": {
     "end_time": "2024-02-06T13:24:46.449053Z",
     "start_time": "2024-02-06T13:24:46.440853Z"
    }
   },
   "outputs": [
    {
     "data": {
      "text/plain": [
       "<function sentence_transformers.losses.ContrastiveLoss.SiameseDistanceMetric.<lambda>(x, y)>"
      ]
     },
     "execution_count": 99,
     "metadata": {},
     "output_type": "execute_result"
    }
   ],
   "source": [
    "# SiameseDistanceMetric.COSINE_DISTANCE\n",
    "train_loss.distance_metric "
   ]
  },
  {
   "cell_type": "markdown",
   "id": "b237e009",
   "metadata": {},
   "source": [
    "## model.forward"
   ]
  },
  {
   "cell_type": "code",
   "execution_count": 152,
   "id": "5a4c27ad",
   "metadata": {
    "ExecuteTime": {
     "end_time": "2024-02-06T13:54:20.507900Z",
     "start_time": "2024-02-06T13:54:20.496812Z"
    }
   },
   "outputs": [
    {
     "data": {
      "text/plain": [
       "tensor([1])"
      ]
     },
     "execution_count": 152,
     "metadata": {},
     "output_type": "execute_result"
    }
   ],
   "source": [
    "batch[1]"
   ]
  },
  {
   "cell_type": "code",
   "execution_count": 149,
   "id": "c4769ec8",
   "metadata": {
    "ExecuteTime": {
     "end_time": "2024-02-06T13:54:08.424792Z",
     "start_time": "2024-02-06T13:54:08.413695Z"
    }
   },
   "outputs": [
    {
     "data": {
      "text/plain": [
       "torch.Size([1, 7])"
      ]
     },
     "execution_count": 149,
     "metadata": {},
     "output_type": "execute_result"
    }
   ],
   "source": [
    "batch[0][0]['input_ids'].shape"
   ]
  },
  {
   "cell_type": "code",
   "execution_count": 177,
   "id": "c230cba6",
   "metadata": {
    "ExecuteTime": {
     "end_time": "2024-02-06T14:12:43.901892Z",
     "start_time": "2024-02-06T14:12:43.887921Z"
    }
   },
   "outputs": [
    {
     "data": {
      "text/plain": [
       "[{'input_ids': tensor([[ 101, 2023, 2003, 1037, 3893, 3940,  102]]),\n",
       "  'token_type_ids': tensor([[0, 0, 0, 0, 0, 0, 0]]),\n",
       "  'attention_mask': tensor([[1, 1, 1, 1, 1, 1, 1]])},\n",
       " {'input_ids': tensor([[  101,  2073,  1996,  3292,  2097,  2022, 18478,  2094,   102]]),\n",
       "  'token_type_ids': tensor([[0, 0, 0, 0, 0, 0, 0, 0, 0]]),\n",
       "  'attention_mask': tensor([[1, 1, 1, 1, 1, 1, 1, 1, 1]])}]"
      ]
     },
     "execution_count": 177,
     "metadata": {},
     "output_type": "execute_result"
    }
   ],
   "source": [
    "features, labels = batch\n",
    "features"
   ]
  },
  {
   "cell_type": "code",
   "execution_count": 61,
   "id": "1b32d4d9",
   "metadata": {
    "ExecuteTime": {
     "end_time": "2024-02-06T13:14:16.578331Z",
     "start_time": "2024-02-06T13:14:16.572106Z"
    }
   },
   "outputs": [],
   "source": [
    "# model[2](model[1](model[0](features[0])))"
   ]
  },
  {
   "cell_type": "code",
   "execution_count": 129,
   "id": "90a97a21",
   "metadata": {
    "ExecuteTime": {
     "end_time": "2024-02-06T13:44:27.518956Z",
     "start_time": "2024-02-06T13:44:27.507124Z"
    }
   },
   "outputs": [
    {
     "data": {
      "text/plain": [
       "SentenceTransformer(\n",
       "  (0): Transformer({'max_seq_length': 256, 'do_lower_case': False}) with Transformer model: BertModel \n",
       "  (1): Pooling({'word_embedding_dimension': 384, 'pooling_mode_cls_token': False, 'pooling_mode_mean_tokens': True, 'pooling_mode_max_tokens': False, 'pooling_mode_mean_sqrt_len_tokens': False})\n",
       "  (2): Normalize()\n",
       ")"
      ]
     },
     "execution_count": 129,
     "metadata": {},
     "output_type": "execute_result"
    }
   ],
   "source": [
    "model"
   ]
  },
  {
   "cell_type": "code",
   "execution_count": 178,
   "id": "f4d083f2",
   "metadata": {
    "ExecuteTime": {
     "end_time": "2024-02-06T14:12:46.447956Z",
     "start_time": "2024-02-06T14:12:46.438793Z"
    }
   },
   "outputs": [],
   "source": [
    "feature_cpy = deepcopy(features)"
   ]
  },
  {
   "cell_type": "code",
   "execution_count": 183,
   "id": "bd8f0fb4",
   "metadata": {
    "ExecuteTime": {
     "end_time": "2024-02-06T14:13:11.123934Z",
     "start_time": "2024-02-06T14:13:11.092315Z"
    }
   },
   "outputs": [
    {
     "data": {
      "text/plain": [
       "tensor([-0.2930,  0.3243, -0.6169, -0.0097, -0.1806], grad_fn=<SliceBackward0>)"
      ]
     },
     "execution_count": 183,
     "metadata": {},
     "output_type": "execute_result"
    }
   ],
   "source": [
    "model[1](model[0](features[0]))['sentence_embedding'][0, :5]"
   ]
  },
  {
   "cell_type": "code",
   "execution_count": 184,
   "id": "629e3ed3",
   "metadata": {
    "ExecuteTime": {
     "end_time": "2024-02-06T14:13:17.751612Z",
     "start_time": "2024-02-06T14:13:17.724004Z"
    },
    "scrolled": true
   },
   "outputs": [
    {
     "data": {
      "text/plain": [
       "tensor([-0.2930,  0.3243, -0.6169, -0.0097, -0.1806], grad_fn=<SliceBackward0>)"
      ]
     },
     "execution_count": 184,
     "metadata": {},
     "output_type": "execute_result"
    }
   ],
   "source": [
    "(torch.sum(model[0](feature_cpy[0])['token_embeddings'], dim=1) / 7)[0, :5]"
   ]
  },
  {
   "cell_type": "markdown",
   "id": "d1ae3b9f",
   "metadata": {},
   "source": [
    "## forward loss"
   ]
  },
  {
   "cell_type": "code",
   "execution_count": 109,
   "id": "5d1c1e56",
   "metadata": {
    "ExecuteTime": {
     "end_time": "2024-02-06T13:27:15.962079Z",
     "start_time": "2024-02-06T13:27:15.929758Z"
    },
    "scrolled": false
   },
   "outputs": [],
   "source": [
    "sent1_embed = model(features[0])['sentence_embedding']\n",
    "sent2_embed = model(features[1])['sentence_embedding']"
   ]
  },
  {
   "cell_type": "code",
   "execution_count": 116,
   "id": "a743f680",
   "metadata": {
    "ExecuteTime": {
     "end_time": "2024-02-06T13:38:24.170884Z",
     "start_time": "2024-02-06T13:38:24.158669Z"
    }
   },
   "outputs": [
    {
     "data": {
      "text/plain": [
       "tensor([0.9867], grad_fn=<RsubBackward1>)"
      ]
     },
     "execution_count": 116,
     "metadata": {},
     "output_type": "execute_result"
    }
   ],
   "source": [
    "# 1 - F.cosine_similarity(sent1_embed, sent2_embed)\n",
    "train_loss.distance_metric(sent1_embed, sent2_embed)"
   ]
  },
  {
   "cell_type": "code",
   "execution_count": 117,
   "id": "48aa94c1",
   "metadata": {
    "ExecuteTime": {
     "end_time": "2024-02-06T13:39:01.229579Z",
     "start_time": "2024-02-06T13:39:01.188156Z"
    }
   },
   "outputs": [
    {
     "data": {
      "text/plain": [
       "tensor(0.4868, grad_fn=<MeanBackward0>)"
      ]
     },
     "execution_count": 117,
     "metadata": {},
     "output_type": "execute_result"
    }
   ],
   "source": [
    "train_loss(features, labels)"
   ]
  },
  {
   "cell_type": "code",
   "execution_count": 118,
   "id": "bbb43dce",
   "metadata": {
    "ExecuteTime": {
     "end_time": "2024-02-06T13:39:37.619260Z",
     "start_time": "2024-02-06T13:39:37.606731Z"
    }
   },
   "outputs": [
    {
     "data": {
      "text/plain": [
       "tensor([0.4868], grad_fn=<MulBackward0>)"
      ]
     },
     "execution_count": 118,
     "metadata": {},
     "output_type": "execute_result"
    }
   ],
   "source": [
    "1/2*(1-F.cosine_similarity(sent1_embed, sent2_embed))**2"
   ]
  },
  {
   "cell_type": "code",
   "execution_count": null,
   "id": "6d5c3eb9",
   "metadata": {},
   "outputs": [],
   "source": [
    "model.fit([(train_dataloader, train_loss)], show_progress_bar=True)"
   ]
  }
 ],
 "metadata": {
  "kernelspec": {
   "display_name": "Python 3 (ipykernel)",
   "language": "python",
   "name": "python3"
  },
  "language_info": {
   "codemirror_mode": {
    "name": "ipython",
    "version": 3
   },
   "file_extension": ".py",
   "mimetype": "text/x-python",
   "name": "python",
   "nbconvert_exporter": "python",
   "pygments_lexer": "ipython3",
   "version": "3.10.13"
  },
  "toc": {
   "base_numbering": 1,
   "nav_menu": {},
   "number_sections": true,
   "sideBar": true,
   "skip_h1_title": false,
   "title_cell": "Table of Contents",
   "title_sidebar": "Contents",
   "toc_cell": false,
   "toc_position": {},
   "toc_section_display": true,
   "toc_window_display": false
  }
 },
 "nbformat": 4,
 "nbformat_minor": 5
}
