{
 "cells": [
  {
   "cell_type": "markdown",
   "id": "3781d0eb",
   "metadata": {},
   "source": [
    "- 智能客服\n",
    "    - 用户问题（一次 query）意图识别"
   ]
  },
  {
   "cell_type": "markdown",
   "id": "54868963",
   "metadata": {},
   "source": [
    "## pipeline"
   ]
  },
  {
   "cell_type": "code",
   "execution_count": 55,
   "id": "fea8f79c",
   "metadata": {
    "ExecuteTime": {
     "end_time": "2023-06-15T14:44:47.015403Z",
     "start_time": "2023-06-15T14:44:47.011609Z"
    }
   },
   "outputs": [],
   "source": [
    "import torch\n",
    "from pathlib import Path\n",
    "from time import perf_counter\n",
    "import numpy as np\n",
    "from transformers import pipeline\n",
    "from tqdm import tqdm"
   ]
  },
  {
   "cell_type": "code",
   "execution_count": 35,
   "id": "ebb0d527",
   "metadata": {
    "ExecuteTime": {
     "end_time": "2023-06-15T14:11:43.339954Z",
     "start_time": "2023-06-15T14:11:43.336422Z"
    }
   },
   "outputs": [],
   "source": [
    "import os\n",
    "os.environ['HTTP_PROXY'] = 'http://127.0.0.1:7890'\n",
    "os.environ['HTTPS_PROXY'] = 'http://127.0.0.1:7890'"
   ]
  },
  {
   "cell_type": "code",
   "execution_count": 36,
   "id": "17152673",
   "metadata": {
    "ExecuteTime": {
     "end_time": "2023-06-15T14:11:59.005559Z",
     "start_time": "2023-06-15T14:11:55.554492Z"
    }
   },
   "outputs": [],
   "source": [
    "bert_ckpt = 'transformersbook/bert-base-uncased-finetuned-clinc'\n",
    "pipe = pipeline('text-classification', model=bert_ckpt)"
   ]
  },
  {
   "cell_type": "code",
   "execution_count": 43,
   "id": "1cd63f71",
   "metadata": {
    "ExecuteTime": {
     "end_time": "2023-06-15T14:31:43.147571Z",
     "start_time": "2023-06-15T14:31:43.090030Z"
    }
   },
   "outputs": [
    {
     "data": {
      "text/plain": [
       "[{'label': 'car_rental', 'score': 0.5490034818649292}]"
      ]
     },
     "execution_count": 43,
     "metadata": {},
     "output_type": "execute_result"
    }
   ],
   "source": [
    "query = \"\"\"Hey, I'd like to rent a vehicle from Nov 1st to Nov 15th in Paris and I need a 15 passenger van\"\"\"\n",
    "pipe(query)"
   ]
  },
  {
   "cell_type": "markdown",
   "id": "68b3eba3",
   "metadata": {},
   "source": [
    "### 关于 pipeline"
   ]
  },
  {
   "cell_type": "markdown",
   "id": "78d4dd85",
   "metadata": {},
   "source": [
    "- `pipe.model`"
   ]
  },
  {
   "cell_type": "code",
   "execution_count": 8,
   "id": "50285cdc",
   "metadata": {
    "ExecuteTime": {
     "end_time": "2023-06-13T16:01:09.096346Z",
     "start_time": "2023-06-13T16:01:09.086128Z"
    },
    "collapsed": true
   },
   "outputs": [
    {
     "data": {
      "text/plain": [
       "BertForSequenceClassification(\n",
       "  (bert): BertModel(\n",
       "    (embeddings): BertEmbeddings(\n",
       "      (word_embeddings): Embedding(30522, 768, padding_idx=0)\n",
       "      (position_embeddings): Embedding(512, 768)\n",
       "      (token_type_embeddings): Embedding(2, 768)\n",
       "      (LayerNorm): LayerNorm((768,), eps=1e-12, elementwise_affine=True)\n",
       "      (dropout): Dropout(p=0.1, inplace=False)\n",
       "    )\n",
       "    (encoder): BertEncoder(\n",
       "      (layer): ModuleList(\n",
       "        (0-11): 12 x BertLayer(\n",
       "          (attention): BertAttention(\n",
       "            (self): BertSelfAttention(\n",
       "              (query): Linear(in_features=768, out_features=768, bias=True)\n",
       "              (key): Linear(in_features=768, out_features=768, bias=True)\n",
       "              (value): Linear(in_features=768, out_features=768, bias=True)\n",
       "              (dropout): Dropout(p=0.1, inplace=False)\n",
       "            )\n",
       "            (output): BertSelfOutput(\n",
       "              (dense): Linear(in_features=768, out_features=768, bias=True)\n",
       "              (LayerNorm): LayerNorm((768,), eps=1e-12, elementwise_affine=True)\n",
       "              (dropout): Dropout(p=0.1, inplace=False)\n",
       "            )\n",
       "          )\n",
       "          (intermediate): BertIntermediate(\n",
       "            (dense): Linear(in_features=768, out_features=3072, bias=True)\n",
       "            (intermediate_act_fn): GELUActivation()\n",
       "          )\n",
       "          (output): BertOutput(\n",
       "            (dense): Linear(in_features=3072, out_features=768, bias=True)\n",
       "            (LayerNorm): LayerNorm((768,), eps=1e-12, elementwise_affine=True)\n",
       "            (dropout): Dropout(p=0.1, inplace=False)\n",
       "          )\n",
       "        )\n",
       "      )\n",
       "    )\n",
       "    (pooler): BertPooler(\n",
       "      (dense): Linear(in_features=768, out_features=768, bias=True)\n",
       "      (activation): Tanh()\n",
       "    )\n",
       "  )\n",
       "  (dropout): Dropout(p=0.1, inplace=False)\n",
       "  (classifier): Linear(in_features=768, out_features=151, bias=True)\n",
       ")"
      ]
     },
     "execution_count": 8,
     "metadata": {},
     "output_type": "execute_result"
    }
   ],
   "source": [
    "# classifier head: 151 分类\n",
    "pipe.model"
   ]
  },
  {
   "cell_type": "markdown",
   "id": "07d27ca8",
   "metadata": {},
   "source": [
    "## 模型性能评估"
   ]
  },
  {
   "cell_type": "markdown",
   "id": "092fb30c",
   "metadata": {},
   "source": [
    "- Model performance\n",
    "    - dataset accuracy\n",
    "- Latency\n",
    "    - query/inference time\n",
    "- Memory\n",
    "    - model size"
   ]
  },
  {
   "cell_type": "markdown",
   "id": "2befa626",
   "metadata": {},
   "source": [
    "### datasets"
   ]
  },
  {
   "cell_type": "code",
   "execution_count": 21,
   "id": "71e6207e",
   "metadata": {
    "ExecuteTime": {
     "end_time": "2023-06-15T14:00:18.474598Z",
     "start_time": "2023-06-15T14:00:18.468347Z"
    }
   },
   "outputs": [],
   "source": [
    "from datasets import load_dataset"
   ]
  },
  {
   "cell_type": "code",
   "execution_count": 22,
   "id": "48618921",
   "metadata": {
    "ExecuteTime": {
     "end_time": "2023-06-15T14:00:23.083402Z",
     "start_time": "2023-06-15T14:00:19.512423Z"
    },
    "scrolled": true
   },
   "outputs": [
    {
     "name": "stderr",
     "output_type": "stream",
     "text": [
      "Using the latest cached version of the module from /home/whaow/.cache/huggingface/modules/datasets_modules/datasets/clinc_oos/abcc41d382f8137f039adc747af44714941e8196e845dfbdd8ae7a7e020e6ba1 (last modified on Wed Jun 14 00:03:25 2023) since it couldn't be found locally at clinc_oos., or remotely on the Hugging Face Hub.\n",
      "Found cached dataset clinc_oos (/home/whaow/.cache/huggingface/datasets/clinc_oos/plus/1.0.0/abcc41d382f8137f039adc747af44714941e8196e845dfbdd8ae7a7e020e6ba1)\n"
     ]
    },
    {
     "data": {
      "application/vnd.jupyter.widget-view+json": {
       "model_id": "c10a7e8f862c44a1a85a112c235cc88a",
       "version_major": 2,
       "version_minor": 0
      },
      "text/plain": [
       "  0%|          | 0/3 [00:00<?, ?it/s]"
      ]
     },
     "metadata": {},
     "output_type": "display_data"
    }
   ],
   "source": [
    "clinc = load_dataset(\"clinc_oos\", \"plus\")"
   ]
  },
  {
   "cell_type": "code",
   "execution_count": 23,
   "id": "ee7865c4",
   "metadata": {
    "ExecuteTime": {
     "end_time": "2023-06-15T14:00:25.460237Z",
     "start_time": "2023-06-15T14:00:25.451174Z"
    }
   },
   "outputs": [
    {
     "data": {
      "text/plain": [
       "{'text': 'transfer $100 from my checking to saving account', 'intent': 133}"
      ]
     },
     "execution_count": 23,
     "metadata": {},
     "output_type": "execute_result"
    }
   ],
   "source": [
    "clinc['test'][42]"
   ]
  },
  {
   "cell_type": "code",
   "execution_count": 24,
   "id": "3b42e1be",
   "metadata": {
    "ExecuteTime": {
     "end_time": "2023-06-15T14:00:26.346877Z",
     "start_time": "2023-06-15T14:00:26.340808Z"
    }
   },
   "outputs": [],
   "source": [
    "# clinc['test'].features['intent']"
   ]
  },
  {
   "cell_type": "markdown",
   "id": "7f5785c1",
   "metadata": {},
   "source": [
    "### metrics"
   ]
  },
  {
   "cell_type": "code",
   "execution_count": 31,
   "id": "4b8b1c8c",
   "metadata": {
    "ExecuteTime": {
     "end_time": "2023-06-15T14:01:10.020935Z",
     "start_time": "2023-06-15T14:01:10.013981Z"
    }
   },
   "outputs": [],
   "source": [
    "intents = clinc['test'].features['intent']"
   ]
  },
  {
   "cell_type": "code",
   "execution_count": 50,
   "id": "cf24e430",
   "metadata": {
    "ExecuteTime": {
     "end_time": "2023-06-15T14:42:48.222736Z",
     "start_time": "2023-06-15T14:42:46.694991Z"
    }
   },
   "outputs": [],
   "source": [
    "from datasets import load_metric\n",
    "accuracy_score = load_metric('accuracy')"
   ]
  },
  {
   "cell_type": "code",
   "execution_count": 56,
   "id": "bce5f48a",
   "metadata": {
    "ExecuteTime": {
     "end_time": "2023-06-15T14:46:14.095552Z",
     "start_time": "2023-06-15T14:46:14.084110Z"
    }
   },
   "outputs": [],
   "source": [
    "class PerformanceBenchmark:\n",
    "    def __init__(self, pipe, dataset, optim_type='BERT baseline'):\n",
    "        self.pipe = pipe\n",
    "        self.dataset = dataset\n",
    "        self.optim_type = optim_type\n",
    "        \n",
    "#     def compute_accuracy(self):\n",
    "#         pass\n",
    "    \n",
    "    def compute_accuracy(self):\n",
    "        preds, labels = [], []\n",
    "        # 可以改造为批次化的 input\n",
    "        for example in tqdm(self.dataset, desc='evaluate on test dataset'):\n",
    "            pred = self.pipe(example['text'])[0]['label']\n",
    "            label = example['intent']\n",
    "            preds.append(intents.str2int(pred))\n",
    "            labels.append(label)\n",
    "        accuracy = accuracy_score.compute(predictions=preds, references=labels)\n",
    "        print(f'Accuracy on test set: {accuracy[\"accuracy\"]:.3f}')\n",
    "        return accuracy\n",
    "    \n",
    "    def compute_size(self):\n",
    "        state_dict = self.pipe.model.state_dict()\n",
    "        tmp_path = Path('model.pth')\n",
    "        torch.save(state_dict, tmp_path)\n",
    "        size_mb = Path(tmp_path).stat().st_size / (1024*1024)\n",
    "        tmp_path.unlink()\n",
    "        print(f'Model size (MB): {size_mb:.2f}')\n",
    "        return {'size_mb': size_mb}\n",
    "    \n",
    "    def time_pipeline(self, query='what is the pin number of my account'):\n",
    "        latencies = []\n",
    "        \n",
    "        # warmup\n",
    "        for _ in range(10):\n",
    "            _ = self.pipe(query)\n",
    "            \n",
    "        # timed run\n",
    "        for _ in range(100):\n",
    "            start_time = perf_counter()\n",
    "            _ = self.pipe(query)\n",
    "            latency = perf_counter() - start_time\n",
    "            latencies.append(latency)\n",
    "        \n",
    "        # run stats\n",
    "        time_avg_time = 1000 * np.mean(latencies)\n",
    "        time_std_time = 1000 * np.std(latencies)\n",
    "        print(f'Average latency (ms): {time_avg_time:.2f} +\\- {time_std_time:.2f}')\n",
    "        return {'time_avg_ms': time_avg_time, 'time_std_ms': time_std_time}\n",
    "    \n",
    "    def run_benchmark(self):\n",
    "        metrics = {}\n",
    "        metrics[self.optim_type] = self.compute_size()\n",
    "        metrics[self.optim_type].update(self.time_pipeline())\n",
    "        metrics[self.optim_type].update(self.compute_accuracy())\n",
    "        return metrics"
   ]
  },
  {
   "cell_type": "code",
   "execution_count": 58,
   "id": "37a184b8",
   "metadata": {
    "ExecuteTime": {
     "end_time": "2023-06-15T14:47:55.760700Z",
     "start_time": "2023-06-15T14:46:53.500254Z"
    }
   },
   "outputs": [
    {
     "name": "stdout",
     "output_type": "stream",
     "text": [
      "Model size (MB): 418.15\n",
      "Average latency (ms): 11.59 +\\- 0.10\n"
     ]
    },
    {
     "name": "stderr",
     "output_type": "stream",
     "text": [
      "evaluate on test dataset: 100%|██████████| 5500/5500 [01:00<00:00, 91.18it/s]"
     ]
    },
    {
     "name": "stdout",
     "output_type": "stream",
     "text": [
      "Accuracy on test set: 0.867\n"
     ]
    },
    {
     "name": "stderr",
     "output_type": "stream",
     "text": [
      "\n"
     ]
    },
    {
     "data": {
      "text/plain": [
       "{'BERT baseline': {'size_mb': 418.1508378982544,\n",
       "  'time_avg_ms': 11.589008858427405,\n",
       "  'time_std_ms': 0.09915921844985716,\n",
       "  'accuracy': 0.8672727272727273}}"
      ]
     },
     "execution_count": 58,
     "metadata": {},
     "output_type": "execute_result"
    }
   ],
   "source": [
    "benchmark = PerformanceBenchmark(pipe, clinc['test'])\n",
    "benchmark.run_benchmark()"
   ]
  }
 ],
 "metadata": {
  "kernelspec": {
   "display_name": "Python 3 (ipykernel)",
   "language": "python",
   "name": "python3"
  },
  "language_info": {
   "codemirror_mode": {
    "name": "ipython",
    "version": 3
   },
   "file_extension": ".py",
   "mimetype": "text/x-python",
   "name": "python",
   "nbconvert_exporter": "python",
   "pygments_lexer": "ipython3",
   "version": "3.10.9"
  },
  "toc": {
   "base_numbering": 1,
   "nav_menu": {},
   "number_sections": true,
   "sideBar": true,
   "skip_h1_title": false,
   "title_cell": "Table of Contents",
   "title_sidebar": "Contents",
   "toc_cell": false,
   "toc_position": {},
   "toc_section_display": true,
   "toc_window_display": false
  }
 },
 "nbformat": 4,
 "nbformat_minor": 5
}
