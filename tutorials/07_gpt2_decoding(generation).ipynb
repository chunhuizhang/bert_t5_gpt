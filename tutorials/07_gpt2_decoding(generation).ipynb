{
 "cells": [
  {
   "cell_type": "code",
   "execution_count": 1,
   "id": "f51bdd67",
   "metadata": {
    "ExecuteTime": {
     "end_time": "2023-05-05T16:26:17.698587Z",
     "start_time": "2023-05-05T16:26:15.404820Z"
    }
   },
   "outputs": [
    {
     "data": {
      "text/plain": [
       "'cuda'"
      ]
     },
     "execution_count": 1,
     "metadata": {},
     "output_type": "execute_result"
    }
   ],
   "source": [
    "import torch\n",
    "from torch import nn\n",
    "import torch.nn.functional as F\n",
    "import transformers\n",
    "from transformers import AutoTokenizer, AutoConfig, AutoModel\n",
    "import numpy as np\n",
    "import pandas as pd\n",
    "import matplotlib.pyplot as plt\n",
    "import matplotlib as mpl\n",
    "from IPython.display import Image\n",
    "# default: 100\n",
    "mpl.rcParams['figure.dpi'] = 150\n",
    "device = 'cuda' if torch.cuda.is_available() else 'cpu'\n",
    "device"
   ]
  },
  {
   "cell_type": "markdown",
   "id": "3a78b232",
   "metadata": {},
   "source": [
    "## summary"
   ]
  },
  {
   "cell_type": "markdown",
   "id": "241681bc",
   "metadata": {
    "ExecuteTime": {
     "end_time": "2023-05-04T14:44:55.929652Z",
     "start_time": "2023-05-04T14:44:55.924745Z"
    }
   },
   "source": [
    "- converting the model’s(LMHead) probabilistic output（vocab size classification） to text (token)\n",
    "    - iteratively，意味着更多的计算量\n",
    "    - quality & diversity\n",
    "- greedy search decoding：搜狗输入法，每次都用top1的候选\n",
    "- beam search decoding\n",
    "- sampling methods\n",
    "- top-k & nucleus sampling\n",
    "- decoding/generating 的场景\n",
    "    - 文本生成\n",
    "        - seq2seq（机器翻译等）\n",
    "        - image caption：image2text"
   ]
  },
  {
   "cell_type": "markdown",
   "id": "635e16ac",
   "metadata": {},
   "source": [
    "- (autoregressive or causal) language models\n",
    "\n",
    "- $\\textbf{x}=x_1,x_2,\\cdots,x_k. \\textbf{y}=y_1,y_2,\\cdots,y_t.$\n",
    "    - chain rule of probability to factorize it as a product of conditional probabilities\n",
    "\n",
    "$$\n",
    "\\begin{split}\n",
    "P(\\textbf{y}|\\textbf{x})&=P(y_1,y_2,\\cdots,y_t|\\textbf{x})\\\\\n",
    "&=\\Pi_{t=1}^Np(y_t|y_{\\lt t}, \\textbf{x})\\quad (y_{\\lt t}=y_{1,2,\\cdots,t-1})\n",
    "\\end{split}\n",
    "$$\n",
    "\n",
    "$$\n",
    "\\begin{split}\n",
    "\\log P(\\textbf{y}|\\textbf{x})&=\\log P(y_1,y_2,\\cdots,y_t|\\textbf{x})\\\\\n",
    "&=\\log\\Pi_{t=1}^Np(y_t|y_{\\lt t}, \\textbf{x})\\quad (y_{\\lt t}=y_{1,2,\\cdots,t-1})\\\\\n",
    "&=\\sum_{i=1}^N\\log p(y_{t}|y_{\\lt t}, \\textbf x)\n",
    "\\end{split}\n",
    "$$\n",
    "\n",
    "\n",
    "- 单向的，从左至右的，（BERT 的 B 表示的含义就是 bidirectional）\n",
    "\n",
    "- 具体的解码过程：\n",
    "    \n",
    "$$\n",
    "\\begin{split}\n",
    "&p(y_t=w_i|y_{\\lt t}, x)=\\text{softmax}(z_{t,i})\\\\\n",
    "&\\hat{\\textbf{y}}={\\arg\\max}_{\\textbf{y}}P(\\textbf{y}|\\textbf{x})\n",
    "\\end{split}\n",
    "$$"
   ]
  },
  {
   "cell_type": "markdown",
   "id": "e8b2ccdc",
   "metadata": {},
   "source": [
    "## decoding"
   ]
  },
  {
   "cell_type": "markdown",
   "id": "a445b73e",
   "metadata": {},
   "source": [
    "- greedy search decoding: 重复性较高，diversity 不足，整体未必是最优解\n",
    "- beam search decoding："
   ]
  },
  {
   "cell_type": "markdown",
   "id": "39c1fcfc",
   "metadata": {},
   "source": [
    "$$\n",
    "\\hat y_t = {\\arg\\max}_{y_t}P(y_t|y_{\\lt t}, \\textbf{x})\\quad (y_{\\lt t}=y_{1,2,\\cdots,t-1})\n",
    "$$"
   ]
  },
  {
   "cell_type": "code",
   "execution_count": 2,
   "id": "97307d1a",
   "metadata": {
    "ExecuteTime": {
     "end_time": "2023-05-05T16:33:02.575839Z",
     "start_time": "2023-05-05T16:33:02.569908Z"
    }
   },
   "outputs": [],
   "source": [
    "from transformers import AutoModelForCausalLM"
   ]
  },
  {
   "cell_type": "code",
   "execution_count": 3,
   "id": "0b069500",
   "metadata": {
    "ExecuteTime": {
     "end_time": "2023-05-05T16:33:35.879817Z",
     "start_time": "2023-05-05T16:33:17.426241Z"
    }
   },
   "outputs": [],
   "source": [
    "model_ckpt = 'gpt2-xl'\n",
    "tokenizer = AutoTokenizer.from_pretrained(model_ckpt)\n",
    "model = AutoModelForCausalLM.from_pretrained(model_ckpt).to(device)"
   ]
  },
  {
   "cell_type": "code",
   "execution_count": 4,
   "id": "af8e3f29",
   "metadata": {
    "ExecuteTime": {
     "end_time": "2023-05-05T16:33:57.915801Z",
     "start_time": "2023-05-05T16:33:57.910386Z"
    }
   },
   "outputs": [],
   "source": [
    "sample_text = 'A long long time ago, '"
   ]
  },
  {
   "cell_type": "code",
   "execution_count": 5,
   "id": "a54acffe",
   "metadata": {
    "ExecuteTime": {
     "end_time": "2023-05-05T16:34:03.735841Z",
     "start_time": "2023-05-05T16:34:03.709249Z"
    }
   },
   "outputs": [
    {
     "data": {
      "text/plain": [
       "{'input_ids': tensor([[  32,  890,  890,  640, 2084,   11,  220]]), 'attention_mask': tensor([[1, 1, 1, 1, 1, 1, 1]])}"
      ]
     },
     "execution_count": 5,
     "metadata": {},
     "output_type": "execute_result"
    }
   ],
   "source": [
    "model_inputs = tokenizer(sample_text, return_tensors='pt')\n",
    "model_inputs"
   ]
  },
  {
   "cell_type": "markdown",
   "id": "e9d03151",
   "metadata": {},
   "source": [
    "### greedy search "
   ]
  },
  {
   "cell_type": "code",
   "execution_count": 6,
   "id": "8df8e8ce",
   "metadata": {
    "ExecuteTime": {
     "end_time": "2023-05-05T16:34:15.000615Z",
     "start_time": "2023-05-05T16:34:14.982209Z"
    }
   },
   "outputs": [
    {
     "name": "stdout",
     "output_type": "stream",
     "text": [
      "torch.Size([1, 7])\n"
     ]
    },
    {
     "data": {
      "text/plain": [
       "tensor([[  32,  890,  890,  640, 2084,   11,  220]], device='cuda:0')"
      ]
     },
     "execution_count": 6,
     "metadata": {},
     "output_type": "execute_result"
    }
   ],
   "source": [
    "input_ids = model_inputs['input_ids'].to(device)\n",
    "print(input_ids.shape)\n",
    "input_ids"
   ]
  },
  {
   "cell_type": "code",
   "execution_count": null,
   "id": "ab7b3be8",
   "metadata": {
    "ExecuteTime": {
     "end_time": "2023-05-05T14:16:22.490580Z",
     "start_time": "2023-05-05T14:16:22.394330Z"
    }
   },
   "outputs": [],
   "source": [
    "sorted_ids = torch.argsort(torch.softmax(model(input_ids).logits[0, -1, :], dim=-1), dim=-1, descending=True)\n",
    "sorted_ids[None, 0, None].shape"
   ]
  },
  {
   "cell_type": "code",
   "execution_count": 7,
   "id": "56095aaf",
   "metadata": {
    "ExecuteTime": {
     "end_time": "2023-05-05T16:37:30.498801Z",
     "start_time": "2023-05-05T16:37:28.404719Z"
    }
   },
   "outputs": [
    {
     "name": "stdout",
     "output_type": "stream",
     "text": [
      "before append input_ids.shape torch.Size([1, 7])\n",
      "after append input_ids.shape torch.Size([1, 8])\n",
      "before append input_ids.shape torch.Size([1, 8])\n",
      "after append input_ids.shape torch.Size([1, 9])\n",
      "before append input_ids.shape torch.Size([1, 9])\n",
      "after append input_ids.shape torch.Size([1, 10])\n",
      "before append input_ids.shape torch.Size([1, 10])\n",
      "after append input_ids.shape torch.Size([1, 11])\n",
      "before append input_ids.shape torch.Size([1, 11])\n",
      "after append input_ids.shape torch.Size([1, 12])\n",
      "before append input_ids.shape torch.Size([1, 12])\n",
      "after append input_ids.shape torch.Size([1, 13])\n",
      "before append input_ids.shape torch.Size([1, 13])\n",
      "after append input_ids.shape torch.Size([1, 14])\n",
      "before append input_ids.shape torch.Size([1, 14])\n",
      "after append input_ids.shape torch.Size([1, 15])\n",
      "before append input_ids.shape torch.Size([1, 15])\n",
      "after append input_ids.shape torch.Size([1, 16])\n",
      "before append input_ids.shape torch.Size([1, 16])\n",
      "after append input_ids.shape torch.Size([1, 17])\n"
     ]
    }
   ],
   "source": [
    "n_steps = 10\n",
    "# top 5\n",
    "choices_per_step = 5\n",
    "\n",
    "iterations = []\n",
    "with torch.no_grad():\n",
    "    # iteratively\n",
    "    for _ in range(n_steps):\n",
    "        iteration = {}\n",
    "        iteration['input'] = tokenizer.decode(input_ids[0])\n",
    "        \n",
    "        output = model(input_ids=input_ids)\n",
    "        # output.logits.shape = (1, 7, 50257)\n",
    "        # last_token_logits.shape == [50257]\n",
    "        last_token_logits = output.logits[0, -1, :]\n",
    "        last_token_probs = torch.softmax(last_token_logits, dim=-1)\n",
    "        sorted_ids = torch.argsort(last_token_probs, dim=-1, descending=True)\n",
    "        \n",
    "        for choice_idx in range(choices_per_step):\n",
    "            token_id = sorted_ids[choice_idx]\n",
    "            token_prob = last_token_probs[token_id].cpu().numpy()\n",
    "            token_choice = f'{tokenizer.decode(token_id)}({100*token_prob:.2f}%)'\n",
    "            iteration[f'choice {choice_idx+1}'] = token_choice\n",
    "            \n",
    "        # append\n",
    "        print('before append input_ids.shape', input_ids.shape)\n",
    "        input_ids = torch.cat([input_ids, sorted_ids[None, 0, None]], dim=-1)\n",
    "        print('after append input_ids.shape', input_ids.shape)\n",
    "        \n",
    "        iterations.append(iteration)"
   ]
  },
  {
   "cell_type": "code",
   "execution_count": 8,
   "id": "9ad45fb2",
   "metadata": {
    "ExecuteTime": {
     "end_time": "2023-05-05T16:37:54.802552Z",
     "start_time": "2023-05-05T16:37:54.797232Z"
    }
   },
   "outputs": [],
   "source": [
    "import pandas as pd"
   ]
  },
  {
   "cell_type": "code",
   "execution_count": 9,
   "id": "aeeec772",
   "metadata": {
    "ExecuteTime": {
     "end_time": "2023-05-05T16:37:55.987012Z",
     "start_time": "2023-05-05T16:37:55.959891Z"
    }
   },
   "outputs": [
    {
     "data": {
      "text/html": [
       "<div>\n",
       "<style scoped>\n",
       "    .dataframe tbody tr th:only-of-type {\n",
       "        vertical-align: middle;\n",
       "    }\n",
       "\n",
       "    .dataframe tbody tr th {\n",
       "        vertical-align: top;\n",
       "    }\n",
       "\n",
       "    .dataframe thead th {\n",
       "        text-align: right;\n",
       "    }\n",
       "</style>\n",
       "<table border=\"1\" class=\"dataframe\">\n",
       "  <thead>\n",
       "    <tr style=\"text-align: right;\">\n",
       "      <th></th>\n",
       "      <th>input</th>\n",
       "      <th>choice 1</th>\n",
       "      <th>choice 2</th>\n",
       "      <th>choice 3</th>\n",
       "      <th>choice 4</th>\n",
       "      <th>choice 5</th>\n",
       "    </tr>\n",
       "  </thead>\n",
       "  <tbody>\n",
       "    <tr>\n",
       "      <th>0</th>\n",
       "      <td>A long long time ago,</td>\n",
       "      <td>(47.70%)</td>\n",
       "      <td>『(8.94%)</td>\n",
       "      <td>_____(3.93%)</td>\n",
       "      <td>____(3.67%)</td>\n",
       "      <td>________(3.51%)</td>\n",
       "    </tr>\n",
       "    <tr>\n",
       "      <th>1</th>\n",
       "      <td>A long long time ago,</td>\n",
       "      <td>I(19.67%)</td>\n",
       "      <td>in(6.90%)</td>\n",
       "      <td>a(6.87%)</td>\n",
       "      <td>the(5.73%)</td>\n",
       "      <td>there(3.60%)</td>\n",
       "    </tr>\n",
       "    <tr>\n",
       "      <th>2</th>\n",
       "      <td>A long long time ago,  I</td>\n",
       "      <td>was(13.66%)</td>\n",
       "      <td>had(8.50%)</td>\n",
       "      <td>wrote(5.17%)</td>\n",
       "      <td>read(3.13%)</td>\n",
       "      <td>used(2.92%)</td>\n",
       "    </tr>\n",
       "    <tr>\n",
       "      <th>3</th>\n",
       "      <td>A long long time ago,  I was</td>\n",
       "      <td>a(13.13%)</td>\n",
       "      <td>in(6.68%)</td>\n",
       "      <td>on(2.30%)</td>\n",
       "      <td>at(2.20%)</td>\n",
       "      <td>asked(2.11%)</td>\n",
       "    </tr>\n",
       "    <tr>\n",
       "      <th>4</th>\n",
       "      <td>A long long time ago,  I was a</td>\n",
       "      <td>young(3.32%)</td>\n",
       "      <td>little(2.78%)</td>\n",
       "      <td>very(2.55%)</td>\n",
       "      <td>kid(2.51%)</td>\n",
       "      <td>child(2.14%)</td>\n",
       "    </tr>\n",
       "    <tr>\n",
       "      <th>5</th>\n",
       "      <td>A long long time ago,  I was a young</td>\n",
       "      <td>man(12.78%)</td>\n",
       "      <td>girl(10.55%)</td>\n",
       "      <td>boy(7.64%)</td>\n",
       "      <td>,(4.53%)</td>\n",
       "      <td>lad(4.40%)</td>\n",
       "    </tr>\n",
       "    <tr>\n",
       "      <th>6</th>\n",
       "      <td>A long long time ago,  I was a young man</td>\n",
       "      <td>,(19.50%)</td>\n",
       "      <td>.(14.43%)</td>\n",
       "      <td>who(8.64%)</td>\n",
       "      <td>and(8.21%)</td>\n",
       "      <td>with(6.17%)</td>\n",
       "    </tr>\n",
       "    <tr>\n",
       "      <th>7</th>\n",
       "      <td>A long long time ago,  I was a young man,</td>\n",
       "      <td>and(17.90%)</td>\n",
       "      <td>a(4.82%)</td>\n",
       "      <td>just(3.76%)</td>\n",
       "      <td>living(3.62%)</td>\n",
       "      <td>I(3.08%)</td>\n",
       "    </tr>\n",
       "    <tr>\n",
       "      <th>8</th>\n",
       "      <td>A long long time ago,  I was a young man, and</td>\n",
       "      <td>I(33.80%)</td>\n",
       "      <td>a(7.22%)</td>\n",
       "      <td>my(5.96%)</td>\n",
       "      <td>in(3.00%)</td>\n",
       "      <td>the(2.45%)</td>\n",
       "    </tr>\n",
       "    <tr>\n",
       "      <th>9</th>\n",
       "      <td>A long long time ago,  I was a young man, and I</td>\n",
       "      <td>was(25.14%)</td>\n",
       "      <td>had(14.60%)</td>\n",
       "      <td>wanted(2.78%)</td>\n",
       "      <td>thought(2.11%)</td>\n",
       "      <td>used(1.89%)</td>\n",
       "    </tr>\n",
       "  </tbody>\n",
       "</table>\n",
       "</div>"
      ],
      "text/plain": [
       "                                             input       choice 1  \\\n",
       "0                           A long long time ago,        (47.70%)   \n",
       "1                          A long long time ago,        I(19.67%)   \n",
       "2                         A long long time ago,  I    was(13.66%)   \n",
       "3                     A long long time ago,  I was      a(13.13%)   \n",
       "4                   A long long time ago,  I was a   young(3.32%)   \n",
       "5             A long long time ago,  I was a young    man(12.78%)   \n",
       "6         A long long time ago,  I was a young man      ,(19.50%)   \n",
       "7        A long long time ago,  I was a young man,    and(17.90%)   \n",
       "8    A long long time ago,  I was a young man, and      I(33.80%)   \n",
       "9  A long long time ago,  I was a young man, and I    was(25.14%)   \n",
       "\n",
       "         choice 2        choice 3         choice 4         choice 5  \n",
       "0        『(8.94%)    _____(3.93%)      ____(3.67%)  ________(3.51%)  \n",
       "1       in(6.90%)        a(6.87%)       the(5.73%)     there(3.60%)  \n",
       "2      had(8.50%)    wrote(5.17%)      read(3.13%)      used(2.92%)  \n",
       "3       in(6.68%)       on(2.30%)        at(2.20%)     asked(2.11%)  \n",
       "4   little(2.78%)     very(2.55%)       kid(2.51%)     child(2.14%)  \n",
       "5    girl(10.55%)      boy(7.64%)         ,(4.53%)       lad(4.40%)  \n",
       "6       .(14.43%)      who(8.64%)       and(8.21%)      with(6.17%)  \n",
       "7        a(4.82%)     just(3.76%)    living(3.62%)         I(3.08%)  \n",
       "8        a(7.22%)       my(5.96%)        in(3.00%)       the(2.45%)  \n",
       "9     had(14.60%)   wanted(2.78%)   thought(2.11%)      used(1.89%)  "
      ]
     },
     "execution_count": 9,
     "metadata": {},
     "output_type": "execute_result"
    }
   ],
   "source": [
    "pd.DataFrame(iterations)"
   ]
  },
  {
   "cell_type": "code",
   "execution_count": 10,
   "id": "76eb8f4d",
   "metadata": {
    "ExecuteTime": {
     "end_time": "2023-05-05T16:38:28.503464Z",
     "start_time": "2023-05-05T16:38:28.491733Z"
    },
    "scrolled": true
   },
   "outputs": [
    {
     "data": {
      "text/plain": [
       "{'input': 'A long long time ago, \\xa0I was a young man, and I',\n",
       " 'choice 1': ' was(25.14%)',\n",
       " 'choice 2': ' had(14.60%)',\n",
       " 'choice 3': ' wanted(2.78%)',\n",
       " 'choice 4': ' thought(2.11%)',\n",
       " 'choice 5': ' used(1.89%)'}"
      ]
     },
     "execution_count": 10,
     "metadata": {},
     "output_type": "execute_result"
    }
   ],
   "source": [
    "iterations[-1]"
   ]
  },
  {
   "cell_type": "code",
   "execution_count": 11,
   "id": "6d5aae5b",
   "metadata": {
    "ExecuteTime": {
     "end_time": "2023-05-05T16:38:40.922170Z",
     "start_time": "2023-05-05T16:38:40.906668Z"
    }
   },
   "outputs": [],
   "source": [
    "def greedy_search(model, input_ids, max_steps=10, max_choices=5):\n",
    "    iterations = []\n",
    "    input_ids_clone = input_ids.clone()\n",
    "    with torch.no_grad():\n",
    "        for _ in range(max_steps):\n",
    "            iteration = {}\n",
    "            iteration['input'] = tokenizer.decode(input_ids_clone[0])\n",
    "\n",
    "            output = model(input_ids=input_ids_clone)\n",
    "            # output.logits.shape = (1, 7, 50257)\n",
    "            # last_token_logits.shape == [50257]\n",
    "            last_token_logits = output.logits[0, -1, :]\n",
    "            last_token_probs = torch.softmax(last_token_logits, dim=-1)\n",
    "            sorted_ids = torch.argsort(last_token_probs, dim=-1, descending=True)\n",
    "\n",
    "            for choice_idx in range(max_choices):\n",
    "                token_id = sorted_ids[choice_idx]\n",
    "                token_prob = last_token_probs[token_id].cpu().numpy()\n",
    "                token_choice = f'{tokenizer.decode(token_id)}({100*token_prob:.2f}%)'\n",
    "                iteration[f'choice {choice_idx+1}'] = token_choice\n",
    "\n",
    "            # append\n",
    "#             print('before append input_ids_clone.shape', input_ids_clone.shape)\n",
    "            input_ids_clone = torch.cat([input_ids_clone, sorted_ids[None, 0, None]], dim=-1)\n",
    "#             print('after append input_ids_clone.shape', input_ids_clone.shape)\n",
    "\n",
    "            iterations.append(iteration)\n",
    "        return iterations"
   ]
  },
  {
   "cell_type": "code",
   "execution_count": 13,
   "id": "99358b8b",
   "metadata": {
    "ExecuteTime": {
     "end_time": "2023-05-05T16:39:21.398130Z",
     "start_time": "2023-05-05T16:39:20.960743Z"
    }
   },
   "outputs": [
    {
     "name": "stdout",
     "output_type": "stream",
     "text": [
      "torch.Size([1, 7])\n"
     ]
    },
    {
     "data": {
      "text/html": [
       "<div>\n",
       "<style scoped>\n",
       "    .dataframe tbody tr th:only-of-type {\n",
       "        vertical-align: middle;\n",
       "    }\n",
       "\n",
       "    .dataframe tbody tr th {\n",
       "        vertical-align: top;\n",
       "    }\n",
       "\n",
       "    .dataframe thead th {\n",
       "        text-align: right;\n",
       "    }\n",
       "</style>\n",
       "<table border=\"1\" class=\"dataframe\">\n",
       "  <thead>\n",
       "    <tr style=\"text-align: right;\">\n",
       "      <th></th>\n",
       "      <th>input</th>\n",
       "      <th>choice 1</th>\n",
       "      <th>choice 2</th>\n",
       "      <th>choice 3</th>\n",
       "      <th>choice 4</th>\n",
       "      <th>choice 5</th>\n",
       "    </tr>\n",
       "  </thead>\n",
       "  <tbody>\n",
       "    <tr>\n",
       "      <th>0</th>\n",
       "      <td>A long long time ago,</td>\n",
       "      <td>(47.70%)</td>\n",
       "      <td>『(8.94%)</td>\n",
       "      <td>_____(3.93%)</td>\n",
       "      <td>____(3.67%)</td>\n",
       "      <td>________(3.51%)</td>\n",
       "    </tr>\n",
       "    <tr>\n",
       "      <th>1</th>\n",
       "      <td>A long long time ago,</td>\n",
       "      <td>I(19.67%)</td>\n",
       "      <td>in(6.90%)</td>\n",
       "      <td>a(6.87%)</td>\n",
       "      <td>the(5.73%)</td>\n",
       "      <td>there(3.60%)</td>\n",
       "    </tr>\n",
       "    <tr>\n",
       "      <th>2</th>\n",
       "      <td>A long long time ago,  I</td>\n",
       "      <td>was(13.66%)</td>\n",
       "      <td>had(8.50%)</td>\n",
       "      <td>wrote(5.17%)</td>\n",
       "      <td>read(3.13%)</td>\n",
       "      <td>used(2.92%)</td>\n",
       "    </tr>\n",
       "    <tr>\n",
       "      <th>3</th>\n",
       "      <td>A long long time ago,  I was</td>\n",
       "      <td>a(13.13%)</td>\n",
       "      <td>in(6.68%)</td>\n",
       "      <td>on(2.30%)</td>\n",
       "      <td>at(2.20%)</td>\n",
       "      <td>asked(2.11%)</td>\n",
       "    </tr>\n",
       "    <tr>\n",
       "      <th>4</th>\n",
       "      <td>A long long time ago,  I was a</td>\n",
       "      <td>young(3.32%)</td>\n",
       "      <td>little(2.78%)</td>\n",
       "      <td>very(2.55%)</td>\n",
       "      <td>kid(2.51%)</td>\n",
       "      <td>child(2.14%)</td>\n",
       "    </tr>\n",
       "    <tr>\n",
       "      <th>5</th>\n",
       "      <td>A long long time ago,  I was a young</td>\n",
       "      <td>man(12.78%)</td>\n",
       "      <td>girl(10.55%)</td>\n",
       "      <td>boy(7.64%)</td>\n",
       "      <td>,(4.53%)</td>\n",
       "      <td>lad(4.40%)</td>\n",
       "    </tr>\n",
       "    <tr>\n",
       "      <th>6</th>\n",
       "      <td>A long long time ago,  I was a young man</td>\n",
       "      <td>,(19.50%)</td>\n",
       "      <td>.(14.43%)</td>\n",
       "      <td>who(8.64%)</td>\n",
       "      <td>and(8.21%)</td>\n",
       "      <td>with(6.17%)</td>\n",
       "    </tr>\n",
       "    <tr>\n",
       "      <th>7</th>\n",
       "      <td>A long long time ago,  I was a young man,</td>\n",
       "      <td>and(17.90%)</td>\n",
       "      <td>a(4.82%)</td>\n",
       "      <td>just(3.76%)</td>\n",
       "      <td>living(3.62%)</td>\n",
       "      <td>I(3.08%)</td>\n",
       "    </tr>\n",
       "    <tr>\n",
       "      <th>8</th>\n",
       "      <td>A long long time ago,  I was a young man, and</td>\n",
       "      <td>I(33.80%)</td>\n",
       "      <td>a(7.22%)</td>\n",
       "      <td>my(5.96%)</td>\n",
       "      <td>in(3.00%)</td>\n",
       "      <td>the(2.45%)</td>\n",
       "    </tr>\n",
       "    <tr>\n",
       "      <th>9</th>\n",
       "      <td>A long long time ago,  I was a young man, and I</td>\n",
       "      <td>was(25.14%)</td>\n",
       "      <td>had(14.60%)</td>\n",
       "      <td>wanted(2.78%)</td>\n",
       "      <td>thought(2.11%)</td>\n",
       "      <td>used(1.89%)</td>\n",
       "    </tr>\n",
       "  </tbody>\n",
       "</table>\n",
       "</div>"
      ],
      "text/plain": [
       "                                             input       choice 1  \\\n",
       "0                           A long long time ago,        (47.70%)   \n",
       "1                          A long long time ago,        I(19.67%)   \n",
       "2                         A long long time ago,  I    was(13.66%)   \n",
       "3                     A long long time ago,  I was      a(13.13%)   \n",
       "4                   A long long time ago,  I was a   young(3.32%)   \n",
       "5             A long long time ago,  I was a young    man(12.78%)   \n",
       "6         A long long time ago,  I was a young man      ,(19.50%)   \n",
       "7        A long long time ago,  I was a young man,    and(17.90%)   \n",
       "8    A long long time ago,  I was a young man, and      I(33.80%)   \n",
       "9  A long long time ago,  I was a young man, and I    was(25.14%)   \n",
       "\n",
       "         choice 2        choice 3         choice 4         choice 5  \n",
       "0        『(8.94%)    _____(3.93%)      ____(3.67%)  ________(3.51%)  \n",
       "1       in(6.90%)        a(6.87%)       the(5.73%)     there(3.60%)  \n",
       "2      had(8.50%)    wrote(5.17%)      read(3.13%)      used(2.92%)  \n",
       "3       in(6.68%)       on(2.30%)        at(2.20%)     asked(2.11%)  \n",
       "4   little(2.78%)     very(2.55%)       kid(2.51%)     child(2.14%)  \n",
       "5    girl(10.55%)      boy(7.64%)         ,(4.53%)       lad(4.40%)  \n",
       "6       .(14.43%)      who(8.64%)       and(8.21%)      with(6.17%)  \n",
       "7        a(4.82%)     just(3.76%)    living(3.62%)         I(3.08%)  \n",
       "8        a(7.22%)       my(5.96%)        in(3.00%)       the(2.45%)  \n",
       "9     had(14.60%)   wanted(2.78%)   thought(2.11%)      used(1.89%)  "
      ]
     },
     "execution_count": 13,
     "metadata": {},
     "output_type": "execute_result"
    }
   ],
   "source": [
    "input_ids = model_inputs['input_ids'].to(device)\n",
    "print(input_ids.shape)\n",
    "input_ids\n",
    "pd.DataFrame(greedy_search(model, input_ids, ))"
   ]
  },
  {
   "cell_type": "markdown",
   "id": "43d029ad",
   "metadata": {},
   "source": [
    "#### model.generate()"
   ]
  },
  {
   "cell_type": "markdown",
   "id": "a9bb6c4d",
   "metadata": {},
   "source": [
    "- `model.generate()`\n",
    "    - 默认 greedy search，`num_beams` 不设置的话\n",
    "    - `do_sample=False`\n",
    "    - `max_length`: prompt + generation 的总长度\n",
    "    - `max_new_tokens`: generation 的长度"
   ]
  },
  {
   "cell_type": "code",
   "execution_count": 15,
   "id": "7ec1dae7",
   "metadata": {
    "ExecuteTime": {
     "end_time": "2023-05-05T16:40:54.804427Z",
     "start_time": "2023-05-05T16:40:54.324945Z"
    }
   },
   "outputs": [
    {
     "name": "stderr",
     "output_type": "stream",
     "text": [
      "The attention mask and the pad token id were not set. As a consequence, you may observe unexpected behavior. Please pass your input's `attention_mask` to obtain reliable results.\n",
      "Setting `pad_token_id` to `eos_token_id`:50256 for open-end generation.\n"
     ]
    },
    {
     "name": "stdout",
     "output_type": "stream",
     "text": [
      "torch.Size([1, 17])\n"
     ]
    },
    {
     "data": {
      "text/plain": [
       "'A long long time ago, \\xa0I was a young man, and I was'"
      ]
     },
     "execution_count": 15,
     "metadata": {},
     "output_type": "execute_result"
    }
   ],
   "source": [
    "input_ids = tokenizer(sample_text, return_tensors='pt').input_ids.to(device)\n",
    "output = model.generate(input_ids, max_new_tokens=10, do_sample=False)\n",
    "print(output.shape)\n",
    "tokenizer.decode(output[0])"
   ]
  },
  {
   "cell_type": "code",
   "execution_count": 16,
   "id": "8585350a",
   "metadata": {
    "ExecuteTime": {
     "end_time": "2023-05-05T16:41:31.832080Z",
     "start_time": "2023-05-05T16:41:31.785418Z"
    }
   },
   "outputs": [
    {
     "data": {
      "text/plain": [
       "tensor([[  818,   257, 14702,  4917,    11, 11444,  5071,   257, 27638,   286,\n",
       "         28000, 19942,  2877,   287,   257,  6569,    11,  4271, 31286,  1850,\n",
       "         19272,    11,   287,   262,   843,   274, 21124,    13,  3412,   517,\n",
       "          6452,   284,   262,  4837,   373,   262,  1109,   326,   262, 28000,\n",
       "         19942,  5158,  2818,  3594,    13]], device='cuda:0')"
      ]
     },
     "execution_count": 16,
     "metadata": {},
     "output_type": "execute_result"
    }
   ],
   "source": [
    "# https://openai.com/research/better-language-models\n",
    "prompt = 'In a shocking finding, scientist discovered a herd of unicorns living in a remote, previously unexplored valley, in the Andes Mountains. Even more surprising to the researchers was the fact that the unicorns spoke perfect English.'\n",
    "input_ids = tokenizer(prompt, return_tensors='pt').input_ids.to(device)\n",
    "input_ids"
   ]
  },
  {
   "cell_type": "code",
   "execution_count": 19,
   "id": "2f17944f",
   "metadata": {
    "ExecuteTime": {
     "end_time": "2023-05-05T16:42:16.943621Z",
     "start_time": "2023-05-05T16:42:13.653856Z"
    }
   },
   "outputs": [
    {
     "ename": "AttributeError",
     "evalue": "'list' object has no attribute 'shape'",
     "output_type": "error",
     "traceback": [
      "\u001b[0;31m---------------------------------------------------------------------------\u001b[0m",
      "\u001b[0;31mAttributeError\u001b[0m                            Traceback (most recent call last)",
      "Cell \u001b[0;32mIn[19], line 3\u001b[0m\n\u001b[1;32m      1\u001b[0m \u001b[38;5;66;03m# greedy_search\u001b[39;00m\n\u001b[1;32m      2\u001b[0m gen_1 \u001b[38;5;241m=\u001b[39m greedy_search(model, input_ids, \u001b[38;5;241m128\u001b[39m\u001b[38;5;241m-\u001b[39minput_ids[\u001b[38;5;241m0\u001b[39m]\u001b[38;5;241m.\u001b[39msize(\u001b[38;5;241m-\u001b[39m\u001b[38;5;241m1\u001b[39m), )\n\u001b[0;32m----> 3\u001b[0m \u001b[38;5;28mprint\u001b[39m(\u001b[43mgen_1\u001b[49m\u001b[38;5;241;43m.\u001b[39;49m\u001b[43mshape\u001b[49m)\n",
      "\u001b[0;31mAttributeError\u001b[0m: 'list' object has no attribute 'shape'"
     ]
    }
   ],
   "source": [
    "# greedy_search\n",
    "gen_1 = greedy_search(model, input_ids, 128-input_ids[0].size(-1), )\n",
    "# pd.DataFrame(gen_1)"
   ]
  },
  {
   "cell_type": "code",
   "execution_count": 21,
   "id": "de17dd7f",
   "metadata": {
    "ExecuteTime": {
     "end_time": "2023-05-05T16:42:59.701594Z",
     "start_time": "2023-05-05T16:42:59.694419Z"
    }
   },
   "outputs": [
    {
     "name": "stdout",
     "output_type": "stream",
     "text": [
      "In a shocking finding, scientist discovered a herd of unicorns living in a remote, previously unexplored valley, in the Andes Mountains. Even more surprising to the researchers was the fact that the unicorns spoke perfect English.\n",
      "\n",
      "The researchers, from the University of California, Davis, and the University of Colorado, Boulder, were conducting a study on the Andean cloud forest, which is home to the rare species of cloud forest trees.\n",
      "\n",
      "The researchers were conducting a study on the Andean cloud forest, which is home to the rare species of cloud forest trees.\n",
      "\n",
      "The researchers were conducting a study on the And\n",
      "127\n"
     ]
    }
   ],
   "source": [
    "print(gen_1[-1]['input'])\n",
    "print(len(tokenizer(gen_1[-1]['input']).input_ids))"
   ]
  },
  {
   "cell_type": "code",
   "execution_count": 22,
   "id": "b5343805",
   "metadata": {
    "ExecuteTime": {
     "end_time": "2023-05-05T16:43:36.613263Z",
     "start_time": "2023-05-05T16:43:33.124128Z"
    }
   },
   "outputs": [
    {
     "name": "stderr",
     "output_type": "stream",
     "text": [
      "The attention mask and the pad token id were not set. As a consequence, you may observe unexpected behavior. Please pass your input's `attention_mask` to obtain reliable results.\n",
      "Setting `pad_token_id` to `eos_token_id`:50256 for open-end generation.\n"
     ]
    },
    {
     "name": "stdout",
     "output_type": "stream",
     "text": [
      "torch.Size([1, 128])\n",
      "In a shocking finding, scientist discovered a herd of unicorns living in a remote, previously unexplored valley, in the Andes Mountains. Even more surprising to the researchers was the fact that the unicorns spoke perfect English.\n",
      "\n",
      "The researchers, from the University of California, Davis, and the University of Colorado, Boulder, were conducting a study on the Andean cloud forest, which is home to the rare species of cloud forest trees.\n",
      "\n",
      "The researchers were conducting a study on the Andean cloud forest, which is home to the rare species of cloud forest trees.\n",
      "\n",
      "The researchers were conducting a study on the Andean\n"
     ]
    }
   ],
   "source": [
    "output_greedy = model.generate(input_ids, max_length=128, do_sample=False)\n",
    "# gen2 = model.generate(input_ids, max_new_tokens=128-input_ids[0].size(-1), do_sample=False)\n",
    "print(output_greedy.shape)\n",
    "print(tokenizer.decode(output_greedy[0]))"
   ]
  },
  {
   "cell_type": "markdown",
   "id": "6fdcd1ed",
   "metadata": {},
   "source": [
    "#### math（追求的是精确，而不是多样性）"
   ]
  },
  {
   "cell_type": "code",
   "execution_count": 23,
   "id": "d1c9773b",
   "metadata": {
    "ExecuteTime": {
     "end_time": "2023-05-05T16:44:37.251010Z",
     "start_time": "2023-05-05T16:44:37.122592Z"
    }
   },
   "outputs": [
    {
     "name": "stderr",
     "output_type": "stream",
     "text": [
      "The attention mask and the pad token id were not set. As a consequence, you may observe unexpected behavior. Please pass your input's `attention_mask` to obtain reliable results.\n",
      "Setting `pad_token_id` to `eos_token_id`:50256 for open-end generation.\n"
     ]
    },
    {
     "data": {
      "text/plain": [
       "'5 + 8 => 13 \\n 7 + 2 => 9 \\n 1 + 5 => 8 '"
      ]
     },
     "execution_count": 23,
     "metadata": {},
     "output_type": "execute_result"
    }
   ],
   "source": [
    "math_ids = tokenizer('5 + 8 => 13 \\n 7 + 2 => 9 \\n 1 + 5 =>', return_tensors='pt').input_ids.to(device)\n",
    "tokenizer.decode(model.generate(math_ids, max_new_tokens=2, do_sample=False)[0])"
   ]
  },
  {
   "cell_type": "markdown",
   "id": "4ca205a0",
   "metadata": {},
   "source": [
    "### beam search decoding"
   ]
  },
  {
   "cell_type": "code",
   "execution_count": 24,
   "id": "61a6fe4f",
   "metadata": {
    "ExecuteTime": {
     "end_time": "2023-05-05T16:45:09.329731Z",
     "start_time": "2023-05-05T16:45:09.313563Z"
    }
   },
   "outputs": [
    {
     "data": {
      "image/png": "[encoded data removed]",
      "text/plain": [
       "<IPython.core.display.Image object>"
      ]
     },
     "execution_count": 24,
     "metadata": {
      "image/png": {
       "width": 600
      }
     },
     "output_type": "execute_result"
    }
   ],
   "source": [
    "Image('../imgs/beam-search-2.png', width=600)"
   ]
  },
  {
   "cell_type": "markdown",
   "id": "d9356d74",
   "metadata": {},
   "source": [
    "- `model.generate()`\n",
    "    - 默认 greedy search，`num_beams` 不设置的话\n",
    "    - `do_sample=False`\n",
    "    - `max_length`: prompt + generation 的总长度\n",
    "    - `max_new_tokens`: generation 的长度\n",
    "    - 对于 beam search\n",
    "        - `num_beams=5`\n",
    "    - 控制重复性：`no_repeat_ngram_size=2`\n",
    "        - tracks which n-grams have been seen\n",
    "and sets the next token probability to zero if it would produce a previously seen\n",
    "n-gram:"
   ]
  },
  {
   "cell_type": "markdown",
   "id": "c1935f18",
   "metadata": {},
   "source": [
    "$$\n",
    "\\begin{split}\n",
    "\\log P(\\textbf{y}|\\textbf{x})&=\\log P(y_1,y_2,\\cdots,y_t|\\textbf{x})\\\\\n",
    "&=\\log\\Pi_{t=1}^Np(y_t|y_{\\lt t}, \\textbf{x})\\quad (y_{\\lt t}=y_{1,2,\\cdots,t-1})\\\\\n",
    "&=\\sum_{i=1}^N\\log p(y_{t}|y_{\\lt t}, \\textbf x)\n",
    "\\end{split}\n",
    "$$"
   ]
  },
  {
   "cell_type": "code",
   "execution_count": 25,
   "id": "666b623c",
   "metadata": {
    "ExecuteTime": {
     "end_time": "2023-05-05T16:47:50.926016Z",
     "start_time": "2023-05-05T16:47:50.916603Z"
    }
   },
   "outputs": [
    {
     "data": {
      "text/plain": [
       "5.562684646268003e-309"
      ]
     },
     "execution_count": 25,
     "metadata": {},
     "output_type": "execute_result"
    }
   ],
   "source": [
    "0.5**1024"
   ]
  },
  {
   "cell_type": "code",
   "execution_count": 26,
   "id": "0649d37b",
   "metadata": {
    "ExecuteTime": {
     "end_time": "2023-05-05T16:48:14.869341Z",
     "start_time": "2023-05-05T16:48:14.849752Z"
    }
   },
   "outputs": [
    {
     "data": {
      "text/plain": [
       "tensor(-709.7827)"
      ]
     },
     "execution_count": 26,
     "metadata": {},
     "output_type": "execute_result"
    }
   ],
   "source": [
    "1024*torch.log(torch.tensor(0.5))"
   ]
  },
  {
   "cell_type": "code",
   "execution_count": 27,
   "id": "20f47bbb",
   "metadata": {
    "ExecuteTime": {
     "end_time": "2023-05-05T16:48:26.459764Z",
     "start_time": "2023-05-05T16:48:26.448018Z"
    }
   },
   "outputs": [],
   "source": [
    "def log_probs_from_logits(logits, labels):\n",
    "    # (b, s, h), h == 50257\n",
    "    logp = F.log_softmax(logits, dim=-1)\n",
    "    logp_label = torch.gather(logp, 2, labels.unsqueeze(2)).squeeze(-1)\n",
    "    return logp_label\n",
    "def sequence_logprob(model, labels, prompt_len=0):\n",
    "    with torch.no_grad():\n",
    "        output = model(labels)\n",
    "        log_probs = log_probs_from_logits(output.logits[:, :-1, :], labels[:, 1:])\n",
    "        seq_log_prob = torch.sum(log_probs[:, prompt_len:])\n",
    "    return seq_log_prob.cpu().numpy()"
   ]
  },
  {
   "cell_type": "code",
   "execution_count": 30,
   "id": "c1e6dd1c",
   "metadata": {
    "ExecuteTime": {
     "end_time": "2023-05-05T16:52:04.734131Z",
     "start_time": "2023-05-05T16:52:04.727068Z"
    }
   },
   "outputs": [
    {
     "name": "stdout",
     "output_type": "stream",
     "text": [
      "45\n",
      "torch.Size([1, 128])\n"
     ]
    }
   ],
   "source": [
    "print(len(input_ids[0]))\n",
    "print(output_greedy.shape)"
   ]
  },
  {
   "cell_type": "code",
   "execution_count": 31,
   "id": "dfd4a6ac",
   "metadata": {
    "ExecuteTime": {
     "end_time": "2023-05-05T16:52:17.242744Z",
     "start_time": "2023-05-05T16:52:17.140662Z"
    }
   },
   "outputs": [
    {
     "name": "stdout",
     "output_type": "stream",
     "text": [
      "In a shocking finding, scientist discovered a herd of unicorns living in a remote, previously unexplored valley, in the Andes Mountains. Even more surprising to the researchers was the fact that the unicorns spoke perfect English.\n",
      "\n",
      "The researchers, from the University of California, Davis, and the University of Colorado, Boulder, were conducting a study on the Andean cloud forest, which is home to the rare species of cloud forest trees.\n",
      "\n",
      "The researchers were conducting a study on the Andean cloud forest, which is home to the rare species of cloud forest trees.\n",
      "\n",
      "The researchers were conducting a study on the Andean\n"
     ]
    },
    {
     "data": {
      "text/plain": [
       "array(-68.73988, dtype=float32)"
      ]
     },
     "execution_count": 31,
     "metadata": {},
     "output_type": "execute_result"
    }
   ],
   "source": [
    "logp = sequence_logprob(model, output_greedy, prompt_len=len(input_ids[0]))\n",
    "print(tokenizer.decode(output_greedy[0]))\n",
    "logp"
   ]
  },
  {
   "cell_type": "code",
   "execution_count": 32,
   "id": "ef28d993",
   "metadata": {
    "ExecuteTime": {
     "end_time": "2023-05-05T16:52:48.773952Z",
     "start_time": "2023-05-05T16:52:44.904822Z"
    }
   },
   "outputs": [
    {
     "name": "stderr",
     "output_type": "stream",
     "text": [
      "The attention mask and the pad token id were not set. As a consequence, you may observe unexpected behavior. Please pass your input's `attention_mask` to obtain reliable results.\n",
      "Setting `pad_token_id` to `eos_token_id`:50256 for open-end generation.\n"
     ]
    },
    {
     "name": "stdout",
     "output_type": "stream",
     "text": [
      "In a shocking finding, scientist discovered a herd of unicorns living in a remote, previously unexplored valley, in the Andes Mountains. Even more surprising to the researchers was the fact that the unicorns spoke perfect English.\n",
      "\n",
      "The discovery of the unicorns was made by a team of scientists from the University of California, Santa Cruz, and the National Geographic Society.\n",
      "\n",
      "According to the researchers, the unicorns were found in a remote valley in the Andes Mountains. The valley is known as the \"Valley of the Unicorns\" because of the number of unicorns that have been found there.\n",
      "\n",
      "The valley\n"
     ]
    },
    {
     "data": {
      "text/plain": [
       "array(-72.29845, dtype=float32)"
      ]
     },
     "execution_count": 32,
     "metadata": {},
     "output_type": "execute_result"
    }
   ],
   "source": [
    "output_beam = model.generate(input_ids, max_length=128, num_beams=5, do_sample=False)\n",
    "logp = sequence_logprob(model, output_beam, prompt_len=len(input_ids[0]))\n",
    "print(tokenizer.decode(output_beam[0]))\n",
    "logp"
   ]
  },
  {
   "cell_type": "code",
   "execution_count": 33,
   "id": "d43668b9",
   "metadata": {
    "ExecuteTime": {
     "end_time": "2023-05-05T16:53:44.932089Z",
     "start_time": "2023-05-05T16:53:41.436042Z"
    }
   },
   "outputs": [
    {
     "name": "stderr",
     "output_type": "stream",
     "text": [
      "The attention mask and the pad token id were not set. As a consequence, you may observe unexpected behavior. Please pass your input's `attention_mask` to obtain reliable results.\n",
      "Setting `pad_token_id` to `eos_token_id`:50256 for open-end generation.\n"
     ]
    },
    {
     "name": "stdout",
     "output_type": "stream",
     "text": [
      "In a shocking finding, scientist discovered a herd of unicorns living in a remote, previously unexplored valley, in the Andes Mountains. Even more surprising to the researchers was the fact that the unicorns spoke perfect English.\n",
      "\n",
      "The discovery was made by a team of scientists from the University of California, Santa Cruz, and the National Geographic Society. The team, led by Dr. David Hone, discovered the unicorn herd while conducting a study on the ecology and evolution of mountain goats. According to a press release, the team found the herd in an area that had never been explored before. They were able to track the animals using\n"
     ]
    },
    {
     "data": {
      "text/plain": [
       "array(-106.28981, dtype=float32)"
      ]
     },
     "execution_count": 33,
     "metadata": {},
     "output_type": "execute_result"
    }
   ],
   "source": [
    "output_beam = model.generate(input_ids, max_length=128, num_beams=5, do_sample=False, no_repeat_ngram_size=2)\n",
    "logp = sequence_logprob(model, output_beam, prompt_len=len(input_ids[0]))\n",
    "print(tokenizer.decode(output_beam[0]))\n",
    "logp"
   ]
  }
 ],
 "metadata": {
  "kernelspec": {
   "display_name": "Python 3 (ipykernel)",
   "language": "python",
   "name": "python3"
  },
  "language_info": {
   "codemirror_mode": {
    "name": "ipython",
    "version": 3
   },
   "file_extension": ".py",
   "mimetype": "text/x-python",
   "name": "python",
   "nbconvert_exporter": "python",
   "pygments_lexer": "ipython3",
   "version": "3.10.9"
  },
  "toc": {
   "base_numbering": 1,
   "nav_menu": {},
   "number_sections": true,
   "sideBar": true,
   "skip_h1_title": false,
   "title_cell": "Table of Contents",
   "title_sidebar": "Contents",
   "toc_cell": false,
   "toc_position": {
    "height": "calc(100% - 180px)",
    "left": "10px",
    "top": "150px",
    "width": "336px"
   },
   "toc_section_display": true,
   "toc_window_display": true
  }
 },
 "nbformat": 4,
 "nbformat_minor": 5
}
