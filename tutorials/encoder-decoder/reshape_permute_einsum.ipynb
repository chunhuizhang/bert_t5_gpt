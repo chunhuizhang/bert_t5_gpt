{
 "cells": [
  {
   "cell_type": "code",
   "execution_count": 1,
   "id": "b1a90741-18e8-4798-bbba-21dab697750e",
   "metadata": {
    "execution": {
     "iopub.execute_input": "2024-10-26T17:18:20.231478Z",
     "iopub.status.busy": "2024-10-26T17:18:20.230902Z",
     "iopub.status.idle": "2024-10-26T17:18:22.243941Z",
     "shell.execute_reply": "2024-10-26T17:18:22.242047Z",
     "shell.execute_reply.started": "2024-10-26T17:18:20.231431Z"
    }
   },
   "outputs": [],
   "source": [
    "import torch\n",
    "from torch import nn\n",
    "import torch.nn.functional as F\n",
    "import numpy as np\n",
    "import pandas as pd"
   ]
  },
  {
   "cell_type": "code",
   "execution_count": 2,
   "id": "e02f1a07-ef91-4f74-9d83-570d7343bb28",
   "metadata": {
    "execution": {
     "iopub.execute_input": "2024-10-26T17:18:22.246868Z",
     "iopub.status.busy": "2024-10-26T17:18:22.246516Z",
     "iopub.status.idle": "2024-10-26T17:18:22.260665Z",
     "shell.execute_reply": "2024-10-26T17:18:22.259049Z",
     "shell.execute_reply.started": "2024-10-26T17:18:22.246847Z"
    }
   },
   "outputs": [
    {
     "data": {
      "text/plain": [
       "<torch._C.Generator at 0x75ba13f13a10>"
      ]
     },
     "execution_count": 2,
     "metadata": {},
     "output_type": "execute_result"
    }
   ],
   "source": [
    "torch.manual_seed(42)"
   ]
  },
  {
   "cell_type": "code",
   "execution_count": 3,
   "id": "496ed1b3-d185-4378-acea-3d3a174be0fe",
   "metadata": {
    "execution": {
     "iopub.execute_input": "2024-10-26T17:18:22.261647Z",
     "iopub.status.busy": "2024-10-26T17:18:22.261428Z",
     "iopub.status.idle": "2024-10-26T17:18:22.274848Z",
     "shell.execute_reply": "2024-10-26T17:18:22.273098Z",
     "shell.execute_reply.started": "2024-10-26T17:18:22.261630Z"
    }
   },
   "outputs": [],
   "source": [
    "d = 4  # 模型维度\n",
    "B = 2\n",
    "T = 3\n",
    "h = 2    # 多头注意力中的头数\n",
    "ff = 8  # 前馈网络的维度"
   ]
  },
  {
   "cell_type": "code",
   "execution_count": 4,
   "id": "5f5c50ae-6d38-41ef-8439-1eb1f72f8a15",
   "metadata": {
    "execution": {
     "iopub.execute_input": "2024-10-26T17:18:22.275771Z",
     "iopub.status.busy": "2024-10-26T17:18:22.275560Z",
     "iopub.status.idle": "2024-10-26T17:18:22.286470Z",
     "shell.execute_reply": "2024-10-26T17:18:22.284709Z",
     "shell.execute_reply.started": "2024-10-26T17:18:22.275755Z"
    }
   },
   "outputs": [],
   "source": [
    "X = torch.randn(T, B, d)  # [seq_len, batch_size, d_model]"
   ]
  },
  {
   "cell_type": "code",
   "execution_count": 17,
   "id": "f5362831-c48e-4ee1-be49-3cc4d084a837",
   "metadata": {
    "execution": {
     "iopub.execute_input": "2024-10-26T17:21:56.020750Z",
     "iopub.status.busy": "2024-10-26T17:21:56.020270Z",
     "iopub.status.idle": "2024-10-26T17:21:56.032526Z",
     "shell.execute_reply": "2024-10-26T17:21:56.030136Z",
     "shell.execute_reply.started": "2024-10-26T17:21:56.020714Z"
    }
   },
   "outputs": [],
   "source": [
    "encoder = nn.TransformerEncoderLayer(d, h, ff, dropout=0.0)"
   ]
  },
  {
   "cell_type": "code",
   "execution_count": 21,
   "id": "4318c6a0-fec3-44b7-a263-9387003fa78f",
   "metadata": {
    "execution": {
     "iopub.execute_input": "2024-10-26T17:22:42.669981Z",
     "iopub.status.busy": "2024-10-26T17:22:42.669329Z",
     "iopub.status.idle": "2024-10-26T17:22:42.683836Z",
     "shell.execute_reply": "2024-10-26T17:22:42.681290Z",
     "shell.execute_reply.started": "2024-10-26T17:22:42.669934Z"
    }
   },
   "outputs": [
    {
     "data": {
      "text/plain": [
       "(torch.Size([12, 4]), torch.Size([12]))"
      ]
     },
     "execution_count": 21,
     "metadata": {},
     "output_type": "execute_result"
    }
   ],
   "source": [
    "W_in, b_in = encoder.self_attn.in_proj_weight, encoder.self_attn.in_proj_bias\n",
    "# (3d, d), (3d, )\n",
    "W_in.shape, b_in.shape"
   ]
  },
  {
   "cell_type": "markdown",
   "id": "2f351cf7-f2df-4412-a3bb-32298161578c",
   "metadata": {},
   "source": [
    "### encoder recap"
   ]
  },
  {
   "cell_type": "markdown",
   "id": "a6246959-21aa-4b11-bfc5-bedbef7881a9",
   "metadata": {},
   "source": [
    "- input: $\\mathbf{X} \\in \\mathbb{R}^{T \\times B \\times d_{\\text{model}}}$\n",
    "- 1. multihead selfattn\n",
    "    - 线性变换（linear projection, 矩阵乘法）生成 Q、K、V矩阵\n",
    "    - $X_{\\text{flat}}=\\mathbf X.\\text{reshape}(T\\times B,d_{model})$\n",
    "    - $\\mathbf{QKV}=\\mathbf X\\mathbf W_{in}^T+\\mathbf b_{in}$（`encoder_layer.self_attn.in_proj_weight`, `encoder_layer.self_attn.in_proj_bias`）\n",
    "        - $\\mathbf{W}_{in} \\in \\mathbb{R}^{3d_{\\text{model}} \\times d_{\\text{model}}}$，$\\mathbf{b}_{in} \\in \\mathbb{R}^{3d_{\\text{model}}}$\n",
    "        - $\\mathbf{QKV}\\in \\mathbb R^{T\\times B,3d_{model}}$\n",
    "    - 拆分 $\\mathbf Q, \\mathbf K,\\mathbf V$\n",
    "        - $\\mathbf Q, \\mathbf K,\\mathbf V=\\text{split}(\\mathbf{QKV},d_{model})$（按列进行拆分）\n",
    "        - $\\mathbf Q, \\mathbf K,\\mathbf V\\in \\mathbb R^{T \\times B, d_{\\text{model}}}$\n",
    "    - 调整形状以适应多头注意力\n",
    "        - $d_k = \\frac{d_{\\text{model}}}h$\n",
    "        - `reshape_for_heads`\n",
    "        $$\n",
    "        \\begin{align*}\n",
    "            \\mathbf{Q}_{\\text{heads}} &= \\mathbf{Q}.\\text{reshape}(T, B, h, d_k).\\text{permute}(1, 2, 0, 3).\\text{reshape}(B \\times h, T, d_k) \\\\\n",
    "            \\mathbf{K}_{\\text{heads}} &= \\mathbf{K}.\\text{reshape}(T, B, h, d_k).\\text{permute}(1, 2, 0, 3).\\text{reshape}(B \\times h, T, d_k) \\\\\n",
    "            \\mathbf{V}_{\\text{heads}} &= \\mathbf{V}.\\text{reshape}(T, B, h, d_k).\\text{permute}(1, 2, 0, 3).\\text{reshape}(B \\times h, T, d_k)\n",
    "        \\end{align*}\n",
    "        $$\n",
    "    - 计算注意力分数：$\\text{Scores} = \\frac{\\mathbf{Q}_{\\text{heads}} \\mathbf{K}_{\\text{heads}}^\\top}{\\sqrt{d_k}}$\n",
    "        - $\\mathbf{Q}_{\\text{heads}} \\in \\mathbb{R}^{(B \\times h) \\times T \\times d_k}$，$\\mathbf{K}_{\\text{heads}}^\\top \\in \\mathbb{R}^{(B \\times h) \\times d_k \\times T}$，因此 $\\text{Scores} \\in \\mathbb{R}^{(B \\times h) \\times T \\times T}$。\n",
    "    - 计算注意力权重：$\\text{AttentionWeights}=\\text{softmax}(\\text{Scores})$\n",
    "    - 计算注意力输出：$\\text{AttentionOutput}=\\text{AttentionWeights}\\times{\\mathbf V_\\text{heads}}$\n",
    "        - $\\mathbf{V}_{\\text{heads}} \\in \\mathbb{R}^{(B \\times h) \\times T \\times d_k}$，因此 $\\text{AttentionOutput} \\in \\mathbb{R}^{(B \\times h) \\times T \\times d_k}$。\n",
    "    - 合并多头输出：$\\text{AttentionOutput} = \\text{AttentionOutput}.\\text{reshape}(B, h, T, d_k).\\text{permute}(2, 0, 1, 3).\\text{reshape}(T, B, d_{\\text{model}})$"
   ]
  },
  {
   "cell_type": "markdown",
   "id": "76ca9960-5e4f-4903-9013-f02cdb6038ad",
   "metadata": {},
   "source": [
    "### 张量内存 layout"
   ]
  },
  {
   "cell_type": "markdown",
   "id": "ce7fe790-7c19-4470-85ea-cc97a46536bb",
   "metadata": {},
   "source": [
    "- 张量内存 layout\n",
    "    - 在大多数深度学习框架（如 PyTorch）中，张量的数据是以**一维数组**的形式在内存中**连续存储**的。对于多维张量，其高维结构是通过一维内存数组和步幅（strides）来实现的。\n",
    "    - pytorch 存储顺序（Storage Order）是 Row-major\n",
    "- Strides（步幅）\n",
    "    - 对于一个形状为 $(D_0,D_1,D_2)$ 的 3D 张量，其步幅计算如下：\n",
    "        - $\\text{stride[2]} = 1$\n",
    "        - $\\text{stride[1]} = D_2\\times \\text{stride[2]}=D_2$\n",
    "        - $\\text{stride[0]} = D_1\\times \\text{stride[1]}=D_1\\times D_2$"
   ]
  },
  {
   "cell_type": "markdown",
   "id": "8a46a003-676f-4ec6-8394-ca6e4148d0bc",
   "metadata": {},
   "source": [
    "- `reshape` 不改变内存中的数据顺序\n",
    "- 什么样的操作会导致内存的不连续\n",
    "    - permute, transpose, view;\n",
    "        - transpose 是 permute 的特例，transpose 只允许交换两个维度。\n",
    "- 当张量在内存中的数据排列不再符合其形状和步幅之间的默认关系时，张量就是非连续的。\n",
    "    - 特征：.is_contiguous() 方法返回 False。\n",
    "    - 影响：某些操作在非连续张量上可能性能较差，或者需要额外的内存拷贝。\n",
    "    - 解决方法：使用 .contiguous() 方法，将张量拷贝为内存中连续的版本。"
   ]
  },
  {
   "cell_type": "code",
   "execution_count": 5,
   "id": "0880a938-413d-4804-b6aa-ad0da017ec1b",
   "metadata": {
    "execution": {
     "iopub.execute_input": "2024-10-26T17:18:22.287409Z",
     "iopub.status.busy": "2024-10-26T17:18:22.287192Z",
     "iopub.status.idle": "2024-10-26T17:18:22.296688Z",
     "shell.execute_reply": "2024-10-26T17:18:22.295144Z",
     "shell.execute_reply.started": "2024-10-26T17:18:22.287393Z"
    }
   },
   "outputs": [
    {
     "data": {
      "text/plain": [
       "(torch.Size([3, 4]), (4, 1), True)"
      ]
     },
     "execution_count": 5,
     "metadata": {},
     "output_type": "execute_result"
    }
   ],
   "source": [
    "A = torch.randn(3, 4)\n",
    "A.shape, A.stride(), A.is_contiguous()"
   ]
  },
  {
   "cell_type": "code",
   "execution_count": 6,
   "id": "b6617a11-8590-43f8-b20e-97081de4f690",
   "metadata": {
    "execution": {
     "iopub.execute_input": "2024-10-26T17:18:22.297617Z",
     "iopub.status.busy": "2024-10-26T17:18:22.297386Z",
     "iopub.status.idle": "2024-10-26T17:18:22.307706Z",
     "shell.execute_reply": "2024-10-26T17:18:22.305771Z",
     "shell.execute_reply.started": "2024-10-26T17:18:22.297600Z"
    }
   },
   "outputs": [
    {
     "data": {
      "text/plain": [
       "(torch.Size([4, 3]), (1, 4), False)"
      ]
     },
     "execution_count": 6,
     "metadata": {},
     "output_type": "execute_result"
    }
   ],
   "source": [
    "A = A.transpose(0, 1)\n",
    "A.shape, A.stride(), A.is_contiguous()"
   ]
  },
  {
   "cell_type": "code",
   "execution_count": 7,
   "id": "d0b4a4cb-6762-4176-9234-544279f8b489",
   "metadata": {
    "execution": {
     "iopub.execute_input": "2024-10-26T17:18:22.309812Z",
     "iopub.status.busy": "2024-10-26T17:18:22.309540Z",
     "iopub.status.idle": "2024-10-26T17:18:22.318684Z",
     "shell.execute_reply": "2024-10-26T17:18:22.316989Z",
     "shell.execute_reply.started": "2024-10-26T17:18:22.309793Z"
    }
   },
   "outputs": [
    {
     "data": {
      "text/plain": [
       "(torch.Size([4, 3]), (3, 1), True)"
      ]
     },
     "execution_count": 7,
     "metadata": {},
     "output_type": "execute_result"
    }
   ],
   "source": [
    "A = A.contiguous()\n",
    "A.shape, A.stride(), A.is_contiguous()"
   ]
  },
  {
   "cell_type": "markdown",
   "id": "86dc5180-f351-4314-89dc-bf355b73c51e",
   "metadata": {},
   "source": [
    "### view vs. reshape"
   ]
  },
  {
   "cell_type": "markdown",
   "id": "c14c8087-548e-4162-abd6-7b4ef9b5bab3",
   "metadata": {},
   "source": [
    "- view\n",
    "    - 不会复制数据：view 创建的是原始张量的一个新的视图，内存数据保持不变，只是重新解释内存中的数据。因为它依赖于张量的内存布局，所以无法对非连续的张量使用。\n",
    "    - 不连续内存，view 时有可能报错；\n",
    "- reshape: 它会自动处理非连续张量，尽可能返回视图，如果无法返回视图\n",
    "    - 不要求内存连续：reshape 可以用于非连续的张量。如果张量不连续，reshape 会自动尝试创建一个新的连续张量并复制数据，以确保能够完成形状转换。\n",
    "    - 可能复制数据：当张量是内存不连续的，reshape 可能会进行数据复制，生成一个新的内存布局的张量。否则，它和 view 的行为是一样的，不复制数据。\n",
    "    - 不改变数据在内存中的顺序，只改变张量的形状解释。"
   ]
  },
  {
   "cell_type": "code",
   "execution_count": 8,
   "id": "bb3db8f2-2494-45a8-9fac-8394c3f18077",
   "metadata": {
    "execution": {
     "iopub.execute_input": "2024-10-26T17:18:22.320438Z",
     "iopub.status.busy": "2024-10-26T17:18:22.320122Z",
     "iopub.status.idle": "2024-10-26T17:18:22.332222Z",
     "shell.execute_reply": "2024-10-26T17:18:22.330551Z",
     "shell.execute_reply.started": "2024-10-26T17:18:22.320416Z"
    }
   },
   "outputs": [
    {
     "data": {
      "text/plain": [
       "True"
      ]
     },
     "execution_count": 8,
     "metadata": {},
     "output_type": "execute_result"
    }
   ],
   "source": [
    "A = torch.randn(2, 3, 4)\n",
    "A.view(-1, 4).is_contiguous()"
   ]
  },
  {
   "cell_type": "code",
   "execution_count": 9,
   "id": "ba7b008e-ac44-47d0-a349-9c7453adc663",
   "metadata": {
    "execution": {
     "iopub.execute_input": "2024-10-26T17:18:22.333915Z",
     "iopub.status.busy": "2024-10-26T17:18:22.333600Z",
     "iopub.status.idle": "2024-10-26T17:18:22.343511Z",
     "shell.execute_reply": "2024-10-26T17:18:22.341643Z",
     "shell.execute_reply.started": "2024-10-26T17:18:22.333891Z"
    }
   },
   "outputs": [
    {
     "data": {
      "text/plain": [
       "(torch.Size([3, 4, 2]), (4, 1, 12), False)"
      ]
     },
     "execution_count": 9,
     "metadata": {},
     "output_type": "execute_result"
    }
   ],
   "source": [
    "A = torch.randn(2, 3, 4)\n",
    "A_t = A.permute(1, 2, 0)\n",
    "A_t.shape, A_t.stride(), A_t.is_contiguous()"
   ]
  },
  {
   "cell_type": "code",
   "execution_count": 10,
   "id": "8af483e3-d3a7-4568-8361-ef1fedc2251e",
   "metadata": {
    "execution": {
     "iopub.execute_input": "2024-10-26T17:18:22.347684Z",
     "iopub.status.busy": "2024-10-26T17:18:22.347337Z",
     "iopub.status.idle": "2024-10-26T17:18:22.361786Z",
     "shell.execute_reply": "2024-10-26T17:18:22.360325Z",
     "shell.execute_reply.started": "2024-10-26T17:18:22.347658Z"
    }
   },
   "outputs": [
    {
     "data": {
      "text/plain": [
       "tensor([[[-0.6788, -0.1360],\n",
       "         [ 0.5743,  1.6354],\n",
       "         [ 0.1877,  0.6547],\n",
       "         [-0.3576,  0.5760]],\n",
       "\n",
       "        [[-0.3165,  1.1415],\n",
       "         [ 0.5886,  0.0186],\n",
       "         [-0.8905, -1.8058],\n",
       "         [ 0.4098,  0.9254]],\n",
       "\n",
       "        [[ 1.9312, -0.3753],\n",
       "         [ 1.0119,  1.0331],\n",
       "         [-1.4364, -0.6867],\n",
       "         [-1.1299,  0.6368]]])"
      ]
     },
     "execution_count": 10,
     "metadata": {},
     "output_type": "execute_result"
    }
   ],
   "source": [
    "A_t"
   ]
  },
  {
   "cell_type": "code",
   "execution_count": 11,
   "id": "afc99672-e400-4e8c-b716-d88a5eaddae5",
   "metadata": {
    "execution": {
     "iopub.execute_input": "2024-10-26T17:18:22.363247Z",
     "iopub.status.busy": "2024-10-26T17:18:22.362898Z",
     "iopub.status.idle": "2024-10-26T17:18:22.374233Z",
     "shell.execute_reply": "2024-10-26T17:18:22.372748Z",
     "shell.execute_reply.started": "2024-10-26T17:18:22.363221Z"
    }
   },
   "outputs": [
    {
     "data": {
      "text/plain": [
       "tensor([[-0.6788, -0.1360],\n",
       "        [ 0.5743,  1.6354],\n",
       "        [ 0.1877,  0.6547],\n",
       "        [-0.3576,  0.5760],\n",
       "        [-0.3165,  1.1415],\n",
       "        [ 0.5886,  0.0186],\n",
       "        [-0.8905, -1.8058],\n",
       "        [ 0.4098,  0.9254],\n",
       "        [ 1.9312, -0.3753],\n",
       "        [ 1.0119,  1.0331],\n",
       "        [-1.4364, -0.6867],\n",
       "        [-1.1299,  0.6368]])"
      ]
     },
     "execution_count": 11,
     "metadata": {},
     "output_type": "execute_result"
    }
   ],
   "source": [
    "A_t.view(-1, 2)"
   ]
  },
  {
   "cell_type": "code",
   "execution_count": 12,
   "id": "000de6a3-a5a5-4f85-8b6f-8cf0be427cb4",
   "metadata": {
    "execution": {
     "iopub.execute_input": "2024-10-26T17:18:22.377051Z",
     "iopub.status.busy": "2024-10-26T17:18:22.376683Z",
     "iopub.status.idle": "2024-10-26T17:18:22.387174Z",
     "shell.execute_reply": "2024-10-26T17:18:22.385305Z",
     "shell.execute_reply.started": "2024-10-26T17:18:22.377024Z"
    }
   },
   "outputs": [
    {
     "data": {
      "text/plain": [
       "tensor([[-0.6788, -0.1360],\n",
       "        [ 0.5743,  1.6354],\n",
       "        [ 0.1877,  0.6547],\n",
       "        [-0.3576,  0.5760],\n",
       "        [-0.3165,  1.1415],\n",
       "        [ 0.5886,  0.0186],\n",
       "        [-0.8905, -1.8058],\n",
       "        [ 0.4098,  0.9254],\n",
       "        [ 1.9312, -0.3753],\n",
       "        [ 1.0119,  1.0331],\n",
       "        [-1.4364, -0.6867],\n",
       "        [-1.1299,  0.6368]])"
      ]
     },
     "execution_count": 12,
     "metadata": {},
     "output_type": "execute_result"
    }
   ],
   "source": [
    "A_t.view(-1, 2)"
   ]
  },
  {
   "cell_type": "code",
   "execution_count": 13,
   "id": "5dbfffd4-bce4-4e4c-9cf1-6eb97bf6fcca",
   "metadata": {
    "execution": {
     "iopub.execute_input": "2024-10-26T17:18:22.389756Z",
     "iopub.status.busy": "2024-10-26T17:18:22.389350Z",
     "iopub.status.idle": "2024-10-26T17:18:22.402471Z",
     "shell.execute_reply": "2024-10-26T17:18:22.400788Z",
     "shell.execute_reply.started": "2024-10-26T17:18:22.389725Z"
    }
   },
   "outputs": [
    {
     "data": {
      "text/plain": [
       "(tensor([[-0.6788, -0.1360,  0.5743,  1.6354],\n",
       "         [ 0.1877,  0.6547, -0.3576,  0.5760],\n",
       "         [-0.3165,  1.1415,  0.5886,  0.0186],\n",
       "         [-0.8905, -1.8058,  0.4098,  0.9254],\n",
       "         [ 1.9312, -0.3753,  1.0119,  1.0331],\n",
       "         [-1.4364, -0.6867, -1.1299,  0.6368]]),\n",
       " True)"
      ]
     },
     "execution_count": 13,
     "metadata": {},
     "output_type": "execute_result"
    }
   ],
   "source": [
    "A_t.reshape(-1, 4), A_t.reshape(-1, 4).is_contiguous()"
   ]
  },
  {
   "cell_type": "markdown",
   "id": "57827f62-c017-4bce-8311-aa0dca0ef947",
   "metadata": {},
   "source": [
    "### qkv, mhsa"
   ]
  },
  {
   "cell_type": "markdown",
   "id": "bbb95d9d-9249-4b9c-856d-b19085253a71",
   "metadata": {},
   "source": [
    "- $X_{\\text{flat}}=\\mathbf X.\\text{reshape}(T\\times B,d_{model})$"
   ]
  },
  {
   "cell_type": "code",
   "execution_count": 22,
   "id": "c1ea97d7-1377-4f1f-bfb8-2a7debf824d8",
   "metadata": {
    "execution": {
     "iopub.execute_input": "2024-10-26T17:23:49.538758Z",
     "iopub.status.busy": "2024-10-26T17:23:49.538097Z",
     "iopub.status.idle": "2024-10-26T17:23:49.554469Z",
     "shell.execute_reply": "2024-10-26T17:23:49.552204Z",
     "shell.execute_reply.started": "2024-10-26T17:23:49.538709Z"
    }
   },
   "outputs": [
    {
     "data": {
      "text/plain": [
       "(torch.Size([3, 2, 4]),\n",
       " tensor([[[ 1.9269,  1.4873,  0.9007, -2.1055],\n",
       "          [ 0.6784, -1.2345, -0.0431, -1.6047]],\n",
       " \n",
       "         [[ 0.3559, -0.6866, -0.4934,  0.2415],\n",
       "          [-1.1109,  0.0915, -2.3169, -0.2168]],\n",
       " \n",
       "         [[-0.3097, -0.3957,  0.8034, -0.6216],\n",
       "          [-0.5920, -0.0631, -0.8286,  0.3309]]]))"
      ]
     },
     "execution_count": 22,
     "metadata": {},
     "output_type": "execute_result"
    }
   ],
   "source": [
    "X.shape, X"
   ]
  },
  {
   "cell_type": "code",
   "execution_count": 26,
   "id": "ab770b2c-e425-4828-b623-c141e3d98420",
   "metadata": {
    "execution": {
     "iopub.execute_input": "2024-10-26T17:25:15.639721Z",
     "iopub.status.busy": "2024-10-26T17:25:15.639068Z",
     "iopub.status.idle": "2024-10-26T17:25:15.653713Z",
     "shell.execute_reply": "2024-10-26T17:25:15.651384Z",
     "shell.execute_reply.started": "2024-10-26T17:25:15.639673Z"
    }
   },
   "outputs": [
    {
     "data": {
      "text/plain": [
       "torch.Size([6, 4])"
      ]
     },
     "execution_count": 26,
     "metadata": {},
     "output_type": "execute_result"
    }
   ],
   "source": [
    "X_flat = X.reshape(-1, d)\n",
    "# (T*B, d)\n",
    "X_flat.shape"
   ]
  },
  {
   "cell_type": "markdown",
   "id": "6ff05161-6e34-4bca-a84c-fa272c734842",
   "metadata": {},
   "source": [
    "- $\\mathbf{QKV}=\\mathbf X_{\\text{flat}}\\mathbf W_{in}^T+\\mathbf b_{in}$"
   ]
  },
  {
   "cell_type": "code",
   "execution_count": 24,
   "id": "5d776fc2-90b6-4602-8748-51826c30504c",
   "metadata": {
    "execution": {
     "iopub.execute_input": "2024-10-26T17:24:43.520360Z",
     "iopub.status.busy": "2024-10-26T17:24:43.519666Z",
     "iopub.status.idle": "2024-10-26T17:24:43.533822Z",
     "shell.execute_reply": "2024-10-26T17:24:43.532077Z",
     "shell.execute_reply.started": "2024-10-26T17:24:43.520310Z"
    }
   },
   "outputs": [
    {
     "data": {
      "text/plain": [
       "torch.Size([6, 12])"
      ]
     },
     "execution_count": 24,
     "metadata": {},
     "output_type": "execute_result"
    }
   ],
   "source": [
    "QKV = F.linear(X_flat, W_in, b_in)\n",
    "QKV.shape"
   ]
  },
  {
   "cell_type": "code",
   "execution_count": 27,
   "id": "04b7b711-f897-45db-b22d-a91f0de2d3b3",
   "metadata": {
    "execution": {
     "iopub.execute_input": "2024-10-26T17:25:42.323444Z",
     "iopub.status.busy": "2024-10-26T17:25:42.321412Z",
     "iopub.status.idle": "2024-10-26T17:25:42.338224Z",
     "shell.execute_reply": "2024-10-26T17:25:42.335856Z",
     "shell.execute_reply.started": "2024-10-26T17:25:42.323379Z"
    }
   },
   "outputs": [
    {
     "data": {
      "text/plain": [
       "tensor([[-1.0015, -0.4584,  0.5529,  1.0841,  1.3037,  1.5273,  0.0718,  1.7711,\n",
       "         -0.2659, -1.4456,  0.2097, -0.3207],\n",
       "        [-0.5442,  0.5712,  0.7767,  0.3247,  0.0511, -0.0176,  0.1066, -0.1615,\n",
       "         -0.2305, -0.5033,  1.3315, -0.8612],\n",
       "        [ 0.4200,  0.4271,  0.3509, -0.6858, -0.2740, -0.2462, -0.0934, -0.2253,\n",
       "         -0.0029, -0.2396,  0.2950, -0.3374],\n",
       "        [ 0.2420,  0.5418,  0.4608, -0.4450, -0.3390, -0.8328,  0.4763, -0.2165,\n",
       "         -0.3916, -0.6494,  0.9870, -0.7253],\n",
       "        [-0.5956, -0.1391, -0.1943,  0.7945,  0.0555,  0.0245,  0.0508, -0.2930,\n",
       "          0.0233,  0.5277,  0.1955,  0.1179],\n",
       "        [ 0.2601,  0.1877,  0.0276, -0.3264, -0.2683, -0.4348,  0.1211, -0.2601,\n",
       "         -0.0682, -0.0048,  0.1702, -0.1248]], grad_fn=<AddmmBackward0>)"
      ]
     },
     "execution_count": 27,
     "metadata": {},
     "output_type": "execute_result"
    }
   ],
   "source": [
    "QKV"
   ]
  },
  {
   "cell_type": "code",
   "execution_count": 28,
   "id": "ea0d27ff-5f30-4694-9b47-e755e6955ee2",
   "metadata": {
    "execution": {
     "iopub.execute_input": "2024-10-26T17:26:25.419595Z",
     "iopub.status.busy": "2024-10-26T17:26:25.418901Z",
     "iopub.status.idle": "2024-10-26T17:26:25.433785Z",
     "shell.execute_reply": "2024-10-26T17:26:25.431533Z",
     "shell.execute_reply.started": "2024-10-26T17:26:25.419547Z"
    }
   },
   "outputs": [
    {
     "data": {
      "text/plain": [
       "(torch.Size([6, 4]), torch.Size([6, 4]), torch.Size([6, 4]))"
      ]
     },
     "execution_count": 28,
     "metadata": {},
     "output_type": "execute_result"
    }
   ],
   "source": [
    "Q, K, V = QKV.split(d, dim=1)\n",
    "Q.shape, K.shape, V.shape"
   ]
  },
  {
   "cell_type": "code",
   "execution_count": 29,
   "id": "6115c94e-e13f-4ce1-84c6-224579dd7934",
   "metadata": {
    "execution": {
     "iopub.execute_input": "2024-10-26T17:26:31.766361Z",
     "iopub.status.busy": "2024-10-26T17:26:31.765707Z",
     "iopub.status.idle": "2024-10-26T17:26:31.781836Z",
     "shell.execute_reply": "2024-10-26T17:26:31.779556Z",
     "shell.execute_reply.started": "2024-10-26T17:26:31.766312Z"
    }
   },
   "outputs": [
    {
     "data": {
      "text/plain": [
       "tensor([[ 1.3037,  1.5273,  0.0718,  1.7711],\n",
       "        [ 0.0511, -0.0176,  0.1066, -0.1615],\n",
       "        [-0.2740, -0.2462, -0.0934, -0.2253],\n",
       "        [-0.3390, -0.8328,  0.4763, -0.2165],\n",
       "        [ 0.0555,  0.0245,  0.0508, -0.2930],\n",
       "        [-0.2683, -0.4348,  0.1211, -0.2601]], grad_fn=<SplitBackward0>)"
      ]
     },
     "execution_count": 29,
     "metadata": {},
     "output_type": "execute_result"
    }
   ],
   "source": [
    "K"
   ]
  },
  {
   "cell_type": "code",
   "execution_count": 33,
   "id": "3a92698b-7ddb-4d29-86c3-c0187c1ba712",
   "metadata": {
    "execution": {
     "iopub.execute_input": "2024-10-26T17:29:06.442431Z",
     "iopub.status.busy": "2024-10-26T17:29:06.441770Z",
     "iopub.status.idle": "2024-10-26T17:29:06.454552Z",
     "shell.execute_reply": "2024-10-26T17:29:06.452588Z",
     "shell.execute_reply.started": "2024-10-26T17:29:06.442381Z"
    }
   },
   "outputs": [],
   "source": [
    "# 调整Q、K、V的形状以适应多头注意力\n",
    "d_k = d // h  # 每个头的维度\n",
    "def reshape_for_heads(x):\n",
    "    # x.shape: (T*B, d)\n",
    "    # 最末尾的维度上展开，d => h * d_k\n",
    "    # (T*B, h, d_k) => (T, B, h, d_k)\n",
    "    # permute(1, 2, 0, 3) => (B, h, T, d_k)\n",
    "    print(x.shape, x.is_contiguous())\n",
    "    y = x.contiguous().view(T, B, h, d_k).permute(1, 2, 0, 3).reshape(B * h, T, d_k)\n",
    "    print(y.shape)\n",
    "    return y"
   ]
  },
  {
   "cell_type": "code",
   "execution_count": 34,
   "id": "5249727d-d68e-44e3-aece-f4d5013d62ae",
   "metadata": {
    "execution": {
     "iopub.execute_input": "2024-10-26T17:29:07.743903Z",
     "iopub.status.busy": "2024-10-26T17:29:07.743487Z",
     "iopub.status.idle": "2024-10-26T17:29:07.754707Z",
     "shell.execute_reply": "2024-10-26T17:29:07.752848Z",
     "shell.execute_reply.started": "2024-10-26T17:29:07.743855Z"
    }
   },
   "outputs": [
    {
     "name": "stdout",
     "output_type": "stream",
     "text": [
      "torch.Size([4, 3, 2]) False\n",
      "torch.Size([4, 3, 2])\n",
      "torch.Size([4, 3, 2]) False\n",
      "torch.Size([4, 3, 2])\n",
      "torch.Size([4, 3, 2]) False\n",
      "torch.Size([4, 3, 2])\n"
     ]
    }
   ],
   "source": [
    "Q = reshape_for_heads(Q)\n",
    "K = reshape_for_heads(K)\n",
    "V = reshape_for_heads(V)"
   ]
  },
  {
   "cell_type": "markdown",
   "id": "110be36c-30e8-4168-ba47-4f663361509b",
   "metadata": {},
   "source": [
    "### einsum"
   ]
  },
  {
   "cell_type": "code",
   "execution_count": null,
   "id": "9a8dcb04-2b07-4960-bfcb-8102db0d6c09",
   "metadata": {},
   "outputs": [],
   "source": []
  }
 ],
 "metadata": {
  "kernelspec": {
   "display_name": "Python 3 (ipykernel)",
   "language": "python",
   "name": "python3"
  },
  "language_info": {
   "codemirror_mode": {
    "name": "ipython",
    "version": 3
   },
   "file_extension": ".py",
   "mimetype": "text/x-python",
   "name": "python",
   "nbconvert_exporter": "python",
   "pygments_lexer": "ipython3",
   "version": "3.10.13"
  }
 },
 "nbformat": 4,
 "nbformat_minor": 5
}
