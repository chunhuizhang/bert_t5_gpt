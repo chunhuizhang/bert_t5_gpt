{
 "cells": [
  {
   "cell_type": "code",
   "execution_count": 1,
   "id": "b1a90741-18e8-4798-bbba-21dab697750e",
   "metadata": {
    "execution": {
     "iopub.execute_input": "2024-10-27T03:09:39.591475Z",
     "iopub.status.busy": "2024-10-27T03:09:39.590079Z",
     "iopub.status.idle": "2024-10-27T03:09:41.623463Z",
     "shell.execute_reply": "2024-10-27T03:09:41.621578Z",
     "shell.execute_reply.started": "2024-10-27T03:09:39.591411Z"
    }
   },
   "outputs": [],
   "source": [
    "import torch\n",
    "from torch import nn\n",
    "import torch.nn.functional as F\n",
    "import numpy as np\n",
    "import pandas as pd"
   ]
  },
  {
   "cell_type": "code",
   "execution_count": 2,
   "id": "e02f1a07-ef91-4f74-9d83-570d7343bb28",
   "metadata": {
    "execution": {
     "iopub.execute_input": "2024-10-27T03:09:41.624634Z",
     "iopub.status.busy": "2024-10-27T03:09:41.624298Z",
     "iopub.status.idle": "2024-10-27T03:09:41.639463Z",
     "shell.execute_reply": "2024-10-27T03:09:41.637704Z",
     "shell.execute_reply.started": "2024-10-27T03:09:41.624613Z"
    }
   },
   "outputs": [
    {
     "data": {
      "text/plain": [
       "<torch._C.Generator at 0x7be900fd39b0>"
      ]
     },
     "execution_count": 2,
     "metadata": {},
     "output_type": "execute_result"
    }
   ],
   "source": [
    "torch.manual_seed(42)"
   ]
  },
  {
   "cell_type": "code",
   "execution_count": 3,
   "id": "496ed1b3-d185-4378-acea-3d3a174be0fe",
   "metadata": {
    "execution": {
     "iopub.execute_input": "2024-10-27T03:09:41.641358Z",
     "iopub.status.busy": "2024-10-27T03:09:41.641093Z",
     "iopub.status.idle": "2024-10-27T03:09:41.656806Z",
     "shell.execute_reply": "2024-10-27T03:09:41.655013Z",
     "shell.execute_reply.started": "2024-10-27T03:09:41.641338Z"
    }
   },
   "outputs": [],
   "source": [
    "d = 4  # 模型维度\n",
    "B = 2\n",
    "T = 3\n",
    "h = 2    # 多头注意力中的头数\n",
    "ff = 8  # 前馈网络的维度"
   ]
  },
  {
   "cell_type": "code",
   "execution_count": 4,
   "id": "5f5c50ae-6d38-41ef-8439-1eb1f72f8a15",
   "metadata": {
    "execution": {
     "iopub.execute_input": "2024-10-27T03:09:41.657782Z",
     "iopub.status.busy": "2024-10-27T03:09:41.657560Z",
     "iopub.status.idle": "2024-10-27T03:09:41.668132Z",
     "shell.execute_reply": "2024-10-27T03:09:41.666444Z",
     "shell.execute_reply.started": "2024-10-27T03:09:41.657765Z"
    }
   },
   "outputs": [],
   "source": [
    "X = torch.randn(T, B, d)  # [seq_len, batch_size, d_model]"
   ]
  },
  {
   "cell_type": "code",
   "execution_count": 5,
   "id": "f5362831-c48e-4ee1-be49-3cc4d084a837",
   "metadata": {
    "execution": {
     "iopub.execute_input": "2024-10-27T03:09:41.669088Z",
     "iopub.status.busy": "2024-10-27T03:09:41.668866Z",
     "iopub.status.idle": "2024-10-27T03:09:41.680907Z",
     "shell.execute_reply": "2024-10-27T03:09:41.679150Z",
     "shell.execute_reply.started": "2024-10-27T03:09:41.669071Z"
    }
   },
   "outputs": [],
   "source": [
    "encoder = nn.TransformerEncoderLayer(d, h, ff, dropout=0.0)"
   ]
  },
  {
   "cell_type": "code",
   "execution_count": 6,
   "id": "4318c6a0-fec3-44b7-a263-9387003fa78f",
   "metadata": {
    "execution": {
     "iopub.execute_input": "2024-10-27T03:09:41.683923Z",
     "iopub.status.busy": "2024-10-27T03:09:41.683670Z",
     "iopub.status.idle": "2024-10-27T03:09:41.693487Z",
     "shell.execute_reply": "2024-10-27T03:09:41.691724Z",
     "shell.execute_reply.started": "2024-10-27T03:09:41.683904Z"
    }
   },
   "outputs": [
    {
     "data": {
      "text/plain": [
       "(torch.Size([12, 4]), torch.Size([12]))"
      ]
     },
     "execution_count": 6,
     "metadata": {},
     "output_type": "execute_result"
    }
   ],
   "source": [
    "W_in, b_in = encoder.self_attn.in_proj_weight, encoder.self_attn.in_proj_bias\n",
    "# (3d, d), (3d, )\n",
    "W_in.shape, b_in.shape"
   ]
  },
  {
   "cell_type": "markdown",
   "id": "2f351cf7-f2df-4412-a3bb-32298161578c",
   "metadata": {},
   "source": [
    "### encoder recap"
   ]
  },
  {
   "cell_type": "markdown",
   "id": "a6246959-21aa-4b11-bfc5-bedbef7881a9",
   "metadata": {},
   "source": [
    "- input: $\\mathbf{X} \\in \\mathbb{R}^{T \\times B \\times d_{\\text{model}}}$\n",
    "- 1. multihead selfattn\n",
    "    - 线性变换（linear projection, 矩阵乘法）生成 Q、K、V矩阵\n",
    "    - $X_{\\text{flat}}=\\mathbf X.\\text{reshape}(T\\times B,d_{model})$\n",
    "    - $\\mathbf{QKV}=\\mathbf X\\mathbf W_{in}^T+\\mathbf b_{in}$（`encoder_layer.self_attn.in_proj_weight`, `encoder_layer.self_attn.in_proj_bias`）\n",
    "        - $\\mathbf{W}_{in} \\in \\mathbb{R}^{3d_{\\text{model}} \\times d_{\\text{model}}}$，$\\mathbf{b}_{in} \\in \\mathbb{R}^{3d_{\\text{model}}}$\n",
    "        - $\\mathbf{QKV}\\in \\mathbb R^{T\\times B,3d_{model}}$\n",
    "    - 拆分 $\\mathbf Q, \\mathbf K,\\mathbf V$\n",
    "        - $\\mathbf Q, \\mathbf K,\\mathbf V=\\text{split}(\\mathbf{QKV},d_{model})$（按列进行拆分）\n",
    "        - $\\mathbf Q, \\mathbf K,\\mathbf V\\in \\mathbb R^{T \\times B, d_{\\text{model}}}$\n",
    "    - 调整形状以适应多头注意力\n",
    "        - $d_k = \\frac{d_{\\text{model}}}h$\n",
    "        - `reshape_for_heads`\n",
    "        $$\n",
    "        \\begin{align*}\n",
    "            \\mathbf{Q}_{\\text{heads}} &= \\mathbf{Q}.\\text{reshape}(T, B, h, d_k).\\text{permute}(1, 2, 0, 3).\\text{reshape}(B \\times h, T, d_k) \\\\\n",
    "            \\mathbf{K}_{\\text{heads}} &= \\mathbf{K}.\\text{reshape}(T, B, h, d_k).\\text{permute}(1, 2, 0, 3).\\text{reshape}(B \\times h, T, d_k) \\\\\n",
    "            \\mathbf{V}_{\\text{heads}} &= \\mathbf{V}.\\text{reshape}(T, B, h, d_k).\\text{permute}(1, 2, 0, 3).\\text{reshape}(B \\times h, T, d_k)\n",
    "        \\end{align*}\n",
    "        $$\n",
    "    - 计算注意力分数：$\\text{Scores} = \\frac{\\mathbf{Q}_{\\text{heads}} \\mathbf{K}_{\\text{heads}}^\\top}{\\sqrt{d_k}}$\n",
    "        - $\\mathbf{Q}_{\\text{heads}} \\in \\mathbb{R}^{(B \\times h) \\times T \\times d_k}$，$\\mathbf{K}_{\\text{heads}}^\\top \\in \\mathbb{R}^{(B \\times h) \\times d_k \\times T}$，因此 $\\text{Scores} \\in \\mathbb{R}^{(B \\times h) \\times T \\times T}$。\n",
    "    - 计算注意力权重：$\\text{AttentionWeights}=\\text{softmax}(\\text{Scores})$\n",
    "    - 计算注意力输出：$\\text{AttentionOutput}=\\text{AttentionWeights}\\times{\\mathbf V_\\text{heads}}$\n",
    "        - $\\mathbf{V}_{\\text{heads}} \\in \\mathbb{R}^{(B \\times h) \\times T \\times d_k}$，因此 $\\text{AttentionOutput} \\in \\mathbb{R}^{(B \\times h) \\times T \\times d_k}$。\n",
    "    - 合并多头输出：$\\text{AttentionOutput} = \\text{AttentionOutput}.\\text{reshape}(B, h, T, d_k).\\text{permute}(2, 0, 1, 3).\\text{reshape}(T, B, d_{\\text{model}})$"
   ]
  },
  {
   "cell_type": "markdown",
   "id": "76ca9960-5e4f-4903-9013-f02cdb6038ad",
   "metadata": {},
   "source": [
    "### 张量内存 layout"
   ]
  },
  {
   "cell_type": "markdown",
   "id": "ce7fe790-7c19-4470-85ea-cc97a46536bb",
   "metadata": {},
   "source": [
    "- 张量内存 layout\n",
    "    - 在大多数深度学习框架（如 PyTorch）中，张量的数据是以**一维数组**的形式在内存中**连续存储**的。对于多维张量，其高维结构是通过一维内存数组和步幅（strides）来实现的。\n",
    "    - pytorch 存储顺序（Storage Order）是 Row-major，最后一个维度变化最快。\n",
    "- Strides（步幅）\n",
    "    - 对于一个形状为 $(D_0,D_1,D_2)$ 的 3D 张量，其步幅计算如下：\n",
    "        - $\\text{stride[2]} = 1$\n",
    "        - $\\text{stride[1]} = D_2\\times \\text{stride[2]}=D_2$\n",
    "        - $\\text{stride[0]} = D_1\\times \\text{stride[1]}=D_1\\times D_2$"
   ]
  },
  {
   "cell_type": "markdown",
   "id": "8a46a003-676f-4ec6-8394-ca6e4148d0bc",
   "metadata": {},
   "source": [
    "- `reshape` 不改变内存中的数据顺序\n",
    "- 什么样的操作会导致内存的不连续\n",
    "    - permute, transpose, view;\n",
    "        - transpose 是 permute 的特例，transpose 只允许交换两个维度。\n",
    "- 当张量在内存中的数据排列不再符合其形状和步幅之间的默认关系时，张量就是非连续的。\n",
    "    - 特征：.is_contiguous() 方法返回 False。\n",
    "    - 影响：某些操作在非连续张量上可能性能较差，或者需要额外的内存拷贝。\n",
    "    - 解决方法：使用 .contiguous() 方法，将张量拷贝为内存中连续的版本。"
   ]
  },
  {
   "cell_type": "code",
   "execution_count": 7,
   "id": "0880a938-413d-4804-b6aa-ad0da017ec1b",
   "metadata": {
    "execution": {
     "iopub.execute_input": "2024-10-27T03:09:41.694526Z",
     "iopub.status.busy": "2024-10-27T03:09:41.694280Z",
     "iopub.status.idle": "2024-10-27T03:09:41.704632Z",
     "shell.execute_reply": "2024-10-27T03:09:41.702828Z",
     "shell.execute_reply.started": "2024-10-27T03:09:41.694507Z"
    }
   },
   "outputs": [
    {
     "data": {
      "text/plain": [
       "(torch.Size([3, 4]), (4, 1), True)"
      ]
     },
     "execution_count": 7,
     "metadata": {},
     "output_type": "execute_result"
    }
   ],
   "source": [
    "A = torch.randn(3, 4)\n",
    "A.shape, A.stride(), A.is_contiguous()"
   ]
  },
  {
   "cell_type": "code",
   "execution_count": 8,
   "id": "b6617a11-8590-43f8-b20e-97081de4f690",
   "metadata": {
    "execution": {
     "iopub.execute_input": "2024-10-27T03:09:41.706201Z",
     "iopub.status.busy": "2024-10-27T03:09:41.705902Z",
     "iopub.status.idle": "2024-10-27T03:09:41.714002Z",
     "shell.execute_reply": "2024-10-27T03:09:41.712877Z",
     "shell.execute_reply.started": "2024-10-27T03:09:41.706179Z"
    }
   },
   "outputs": [
    {
     "data": {
      "text/plain": [
       "(torch.Size([4, 3]), (1, 4), False)"
      ]
     },
     "execution_count": 8,
     "metadata": {},
     "output_type": "execute_result"
    }
   ],
   "source": [
    "A = A.transpose(0, 1)\n",
    "A.shape, A.stride(), A.is_contiguous()"
   ]
  },
  {
   "cell_type": "code",
   "execution_count": 9,
   "id": "d0b4a4cb-6762-4176-9234-544279f8b489",
   "metadata": {
    "execution": {
     "iopub.execute_input": "2024-10-27T03:09:41.715495Z",
     "iopub.status.busy": "2024-10-27T03:09:41.715202Z",
     "iopub.status.idle": "2024-10-27T03:09:41.725438Z",
     "shell.execute_reply": "2024-10-27T03:09:41.723517Z",
     "shell.execute_reply.started": "2024-10-27T03:09:41.715473Z"
    }
   },
   "outputs": [
    {
     "data": {
      "text/plain": [
       "(torch.Size([4, 3]), (3, 1), True)"
      ]
     },
     "execution_count": 9,
     "metadata": {},
     "output_type": "execute_result"
    }
   ],
   "source": [
    "A = A.contiguous()\n",
    "A.shape, A.stride(), A.is_contiguous()"
   ]
  },
  {
   "cell_type": "markdown",
   "id": "86dc5180-f351-4314-89dc-bf355b73c51e",
   "metadata": {},
   "source": [
    "### view vs. reshape"
   ]
  },
  {
   "cell_type": "markdown",
   "id": "c14c8087-548e-4162-abd6-7b4ef9b5bab3",
   "metadata": {},
   "source": [
    "- view\n",
    "    - 不会复制数据：view 创建的是原始张量的一个新的视图，内存数据保持不变，只是重新解释内存中的数据。因为它依赖于张量的内存布局，所以无法对非连续的张量使用。\n",
    "    - 不连续内存，view 时有可能报错；\n",
    "- reshape: 它会自动处理非连续张量，尽可能返回视图，如果无法返回视图\n",
    "    - 不要求内存连续：reshape 可以用于非连续的张量。如果张量不连续，reshape 会自动尝试创建一个新的连续张量并复制数据，以确保能够完成形状转换。\n",
    "    - 可能复制数据：当张量是内存不连续的，reshape 可能会进行数据复制，生成一个新的内存布局的张量。否则，它和 view 的行为是一样的，不复制数据。\n",
    "    - 不改变数据在内存中的顺序，只改变张量的形状解释。"
   ]
  },
  {
   "cell_type": "code",
   "execution_count": 10,
   "id": "bb3db8f2-2494-45a8-9fac-8394c3f18077",
   "metadata": {
    "execution": {
     "iopub.execute_input": "2024-10-27T03:09:41.727359Z",
     "iopub.status.busy": "2024-10-27T03:09:41.726993Z",
     "iopub.status.idle": "2024-10-27T03:09:41.736460Z",
     "shell.execute_reply": "2024-10-27T03:09:41.734631Z",
     "shell.execute_reply.started": "2024-10-27T03:09:41.727332Z"
    }
   },
   "outputs": [
    {
     "data": {
      "text/plain": [
       "True"
      ]
     },
     "execution_count": 10,
     "metadata": {},
     "output_type": "execute_result"
    }
   ],
   "source": [
    "A = torch.randn(2, 3, 4)\n",
    "A.view(-1, 4).is_contiguous()"
   ]
  },
  {
   "cell_type": "code",
   "execution_count": 11,
   "id": "ba7b008e-ac44-47d0-a349-9c7453adc663",
   "metadata": {
    "execution": {
     "iopub.execute_input": "2024-10-27T03:09:41.738432Z",
     "iopub.status.busy": "2024-10-27T03:09:41.738096Z",
     "iopub.status.idle": "2024-10-27T03:09:41.748201Z",
     "shell.execute_reply": "2024-10-27T03:09:41.746798Z",
     "shell.execute_reply.started": "2024-10-27T03:09:41.738407Z"
    }
   },
   "outputs": [
    {
     "data": {
      "text/plain": [
       "(torch.Size([3, 4, 2]), (4, 1, 12), False)"
      ]
     },
     "execution_count": 11,
     "metadata": {},
     "output_type": "execute_result"
    }
   ],
   "source": [
    "A = torch.randn(2, 3, 4)\n",
    "A_t = A.permute(1, 2, 0)\n",
    "A_t.shape, A_t.stride(), A_t.is_contiguous()"
   ]
  },
  {
   "cell_type": "code",
   "execution_count": 12,
   "id": "8af483e3-d3a7-4568-8361-ef1fedc2251e",
   "metadata": {
    "execution": {
     "iopub.execute_input": "2024-10-27T03:09:41.749861Z",
     "iopub.status.busy": "2024-10-27T03:09:41.749538Z",
     "iopub.status.idle": "2024-10-27T03:09:41.762052Z",
     "shell.execute_reply": "2024-10-27T03:09:41.760190Z",
     "shell.execute_reply.started": "2024-10-27T03:09:41.749835Z"
    }
   },
   "outputs": [
    {
     "data": {
      "text/plain": [
       "tensor([[[ 0.1729, -0.1222],\n",
       "         [ 1.0514, -0.7470],\n",
       "         [ 0.0075,  1.7093],\n",
       "         [-0.0774,  0.0579]],\n",
       "\n",
       "        [[ 0.6427,  1.1930],\n",
       "         [ 0.5742,  1.9373],\n",
       "         [ 0.5867,  0.7287],\n",
       "         [-0.0188,  0.9809]],\n",
       "\n",
       "        [[-1.3793,  0.4146],\n",
       "         [ 0.6258,  1.1566],\n",
       "         [-2.5850,  0.2691],\n",
       "         [-0.0240, -0.0366]]])"
      ]
     },
     "execution_count": 12,
     "metadata": {},
     "output_type": "execute_result"
    }
   ],
   "source": [
    "A_t"
   ]
  },
  {
   "cell_type": "code",
   "execution_count": 13,
   "id": "afc99672-e400-4e8c-b716-d88a5eaddae5",
   "metadata": {
    "execution": {
     "iopub.execute_input": "2024-10-27T03:09:41.765006Z",
     "iopub.status.busy": "2024-10-27T03:09:41.764437Z",
     "iopub.status.idle": "2024-10-27T03:09:41.775474Z",
     "shell.execute_reply": "2024-10-27T03:09:41.773911Z",
     "shell.execute_reply.started": "2024-10-27T03:09:41.764973Z"
    }
   },
   "outputs": [
    {
     "data": {
      "text/plain": [
       "tensor([[ 0.1729, -0.1222],\n",
       "        [ 1.0514, -0.7470],\n",
       "        [ 0.0075,  1.7093],\n",
       "        [-0.0774,  0.0579],\n",
       "        [ 0.6427,  1.1930],\n",
       "        [ 0.5742,  1.9373],\n",
       "        [ 0.5867,  0.7287],\n",
       "        [-0.0188,  0.9809],\n",
       "        [-1.3793,  0.4146],\n",
       "        [ 0.6258,  1.1566],\n",
       "        [-2.5850,  0.2691],\n",
       "        [-0.0240, -0.0366]])"
      ]
     },
     "execution_count": 13,
     "metadata": {},
     "output_type": "execute_result"
    }
   ],
   "source": [
    "A_t.view(-1, 2)"
   ]
  },
  {
   "cell_type": "code",
   "execution_count": 14,
   "id": "000de6a3-a5a5-4f85-8b6f-8cf0be427cb4",
   "metadata": {
    "execution": {
     "iopub.execute_input": "2024-10-27T03:09:41.777705Z",
     "iopub.status.busy": "2024-10-27T03:09:41.776957Z",
     "iopub.status.idle": "2024-10-27T03:09:41.788298Z",
     "shell.execute_reply": "2024-10-27T03:09:41.786367Z",
     "shell.execute_reply.started": "2024-10-27T03:09:41.777673Z"
    }
   },
   "outputs": [
    {
     "data": {
      "text/plain": [
       "tensor([[ 0.1729, -0.1222],\n",
       "        [ 1.0514, -0.7470],\n",
       "        [ 0.0075,  1.7093],\n",
       "        [-0.0774,  0.0579],\n",
       "        [ 0.6427,  1.1930],\n",
       "        [ 0.5742,  1.9373],\n",
       "        [ 0.5867,  0.7287],\n",
       "        [-0.0188,  0.9809],\n",
       "        [-1.3793,  0.4146],\n",
       "        [ 0.6258,  1.1566],\n",
       "        [-2.5850,  0.2691],\n",
       "        [-0.0240, -0.0366]])"
      ]
     },
     "execution_count": 14,
     "metadata": {},
     "output_type": "execute_result"
    }
   ],
   "source": [
    "A_t.view(-1, 2)"
   ]
  },
  {
   "cell_type": "code",
   "execution_count": 15,
   "id": "5dbfffd4-bce4-4e4c-9cf1-6eb97bf6fcca",
   "metadata": {
    "execution": {
     "iopub.execute_input": "2024-10-27T03:09:41.790900Z",
     "iopub.status.busy": "2024-10-27T03:09:41.790492Z",
     "iopub.status.idle": "2024-10-27T03:09:41.802130Z",
     "shell.execute_reply": "2024-10-27T03:09:41.800232Z",
     "shell.execute_reply.started": "2024-10-27T03:09:41.790869Z"
    }
   },
   "outputs": [
    {
     "data": {
      "text/plain": [
       "(tensor([[ 0.1729, -0.1222,  1.0514, -0.7470],\n",
       "         [ 0.0075,  1.7093, -0.0774,  0.0579],\n",
       "         [ 0.6427,  1.1930,  0.5742,  1.9373],\n",
       "         [ 0.5867,  0.7287, -0.0188,  0.9809],\n",
       "         [-1.3793,  0.4146,  0.6258,  1.1566],\n",
       "         [-2.5850,  0.2691, -0.0240, -0.0366]]),\n",
       " True)"
      ]
     },
     "execution_count": 15,
     "metadata": {},
     "output_type": "execute_result"
    }
   ],
   "source": [
    "A_t.reshape(-1, 4), A_t.reshape(-1, 4).is_contiguous()"
   ]
  },
  {
   "cell_type": "markdown",
   "id": "57827f62-c017-4bce-8311-aa0dca0ef947",
   "metadata": {},
   "source": [
    "### qkv, mhsa"
   ]
  },
  {
   "cell_type": "markdown",
   "id": "bbb95d9d-9249-4b9c-856d-b19085253a71",
   "metadata": {},
   "source": [
    "- $X_{\\text{flat}}=\\mathbf X.\\text{reshape}(T\\times B,d_{model})$"
   ]
  },
  {
   "cell_type": "code",
   "execution_count": 16,
   "id": "c1ea97d7-1377-4f1f-bfb8-2a7debf824d8",
   "metadata": {
    "execution": {
     "iopub.execute_input": "2024-10-27T03:09:41.805045Z",
     "iopub.status.busy": "2024-10-27T03:09:41.804631Z",
     "iopub.status.idle": "2024-10-27T03:09:41.816910Z",
     "shell.execute_reply": "2024-10-27T03:09:41.815399Z",
     "shell.execute_reply.started": "2024-10-27T03:09:41.805013Z"
    }
   },
   "outputs": [
    {
     "data": {
      "text/plain": [
       "(torch.Size([3, 2, 4]),\n",
       " tensor([[[ 1.9269,  1.4873,  0.9007, -2.1055],\n",
       "          [ 0.6784, -1.2345, -0.0431, -1.6047]],\n",
       " \n",
       "         [[ 0.3559, -0.6866, -0.4934,  0.2415],\n",
       "          [-1.1109,  0.0915, -2.3169, -0.2168]],\n",
       " \n",
       "         [[-0.3097, -0.3957,  0.8034, -0.6216],\n",
       "          [-0.5920, -0.0631, -0.8286,  0.3309]]]))"
      ]
     },
     "execution_count": 16,
     "metadata": {},
     "output_type": "execute_result"
    }
   ],
   "source": [
    "X.shape, X"
   ]
  },
  {
   "cell_type": "code",
   "execution_count": 17,
   "id": "ab770b2c-e425-4828-b623-c141e3d98420",
   "metadata": {
    "execution": {
     "iopub.execute_input": "2024-10-27T03:09:41.818708Z",
     "iopub.status.busy": "2024-10-27T03:09:41.818335Z",
     "iopub.status.idle": "2024-10-27T03:09:41.829101Z",
     "shell.execute_reply": "2024-10-27T03:09:41.827510Z",
     "shell.execute_reply.started": "2024-10-27T03:09:41.818677Z"
    }
   },
   "outputs": [
    {
     "data": {
      "text/plain": [
       "torch.Size([6, 4])"
      ]
     },
     "execution_count": 17,
     "metadata": {},
     "output_type": "execute_result"
    }
   ],
   "source": [
    "X_flat = X.reshape(-1, d)\n",
    "# (T*B, d)\n",
    "X_flat.shape"
   ]
  },
  {
   "cell_type": "markdown",
   "id": "6ff05161-6e34-4bca-a84c-fa272c734842",
   "metadata": {},
   "source": [
    "- $\\mathbf{QKV}=\\mathbf X_{\\text{flat}}\\mathbf W_{in}^T+\\mathbf b_{in}$"
   ]
  },
  {
   "cell_type": "code",
   "execution_count": 18,
   "id": "5d776fc2-90b6-4602-8748-51826c30504c",
   "metadata": {
    "execution": {
     "iopub.execute_input": "2024-10-27T03:09:41.831216Z",
     "iopub.status.busy": "2024-10-27T03:09:41.830785Z",
     "iopub.status.idle": "2024-10-27T03:09:41.842098Z",
     "shell.execute_reply": "2024-10-27T03:09:41.840585Z",
     "shell.execute_reply.started": "2024-10-27T03:09:41.831181Z"
    }
   },
   "outputs": [
    {
     "data": {
      "text/plain": [
       "torch.Size([6, 12])"
      ]
     },
     "execution_count": 18,
     "metadata": {},
     "output_type": "execute_result"
    }
   ],
   "source": [
    "QKV = F.linear(X_flat, W_in, b_in)\n",
    "QKV.shape"
   ]
  },
  {
   "cell_type": "code",
   "execution_count": 19,
   "id": "04b7b711-f897-45db-b22d-a91f0de2d3b3",
   "metadata": {
    "execution": {
     "iopub.execute_input": "2024-10-27T03:09:41.844192Z",
     "iopub.status.busy": "2024-10-27T03:09:41.843753Z",
     "iopub.status.idle": "2024-10-27T03:09:41.855542Z",
     "shell.execute_reply": "2024-10-27T03:09:41.853770Z",
     "shell.execute_reply.started": "2024-10-27T03:09:41.844143Z"
    }
   },
   "outputs": [
    {
     "data": {
      "text/plain": [
       "tensor([[ 0.0668,  1.3935, -1.1805,  0.8455, -1.2987, -0.4164,  1.8174,  0.1275,\n",
       "          1.6109,  1.8252,  0.4149, -0.3524],\n",
       "        [ 0.8724,  0.8454, -0.1481,  1.8186, -1.4116,  0.6840,  1.1799, -0.1952,\n",
       "          0.2774,  1.5957,  0.2900,  1.0896],\n",
       "        [ 0.1566, -0.1838, -0.1016,  0.7407, -0.3022, -0.0460, -0.0557, -0.3397,\n",
       "         -0.0158,  0.3054, -0.2973,  0.4672],\n",
       "        [-0.4729, -1.3182, -0.9481,  0.8103, -0.1380, -0.3860, -1.1347,  0.0943,\n",
       "          0.7324, -0.0104,  0.6872,  1.2226],\n",
       "        [ 0.4362,  0.6260,  0.5733, -0.1727, -0.1107,  0.6780,  0.5196,  0.2229,\n",
       "         -0.4313,  0.1020,  0.2595, -0.0467],\n",
       "        [-0.2227, -0.6440, -0.1496,  0.0278,  0.2149, -0.1376, -0.6585,  0.0122,\n",
       "          0.0174, -0.3351,  0.1178,  0.3368]], grad_fn=<AddmmBackward0>)"
      ]
     },
     "execution_count": 19,
     "metadata": {},
     "output_type": "execute_result"
    }
   ],
   "source": [
    "QKV"
   ]
  },
  {
   "cell_type": "code",
   "execution_count": 20,
   "id": "ea0d27ff-5f30-4694-9b47-e755e6955ee2",
   "metadata": {
    "execution": {
     "iopub.execute_input": "2024-10-27T03:09:41.857744Z",
     "iopub.status.busy": "2024-10-27T03:09:41.857317Z",
     "iopub.status.idle": "2024-10-27T03:09:41.870316Z",
     "shell.execute_reply": "2024-10-27T03:09:41.868244Z",
     "shell.execute_reply.started": "2024-10-27T03:09:41.857709Z"
    }
   },
   "outputs": [
    {
     "data": {
      "text/plain": [
       "(torch.Size([6, 4]), torch.Size([6, 4]), torch.Size([6, 4]))"
      ]
     },
     "execution_count": 20,
     "metadata": {},
     "output_type": "execute_result"
    }
   ],
   "source": [
    "Q, K, V = QKV.split(d, dim=1)\n",
    "Q.shape, K.shape, V.shape"
   ]
  },
  {
   "cell_type": "code",
   "execution_count": 21,
   "id": "6115c94e-e13f-4ce1-84c6-224579dd7934",
   "metadata": {
    "execution": {
     "iopub.execute_input": "2024-10-27T03:09:41.877761Z",
     "iopub.status.busy": "2024-10-27T03:09:41.877272Z",
     "iopub.status.idle": "2024-10-27T03:09:41.890596Z",
     "shell.execute_reply": "2024-10-27T03:09:41.888358Z",
     "shell.execute_reply.started": "2024-10-27T03:09:41.877722Z"
    }
   },
   "outputs": [
    {
     "data": {
      "text/plain": [
       "tensor([[-1.2987, -0.4164,  1.8174,  0.1275],\n",
       "        [-1.4116,  0.6840,  1.1799, -0.1952],\n",
       "        [-0.3022, -0.0460, -0.0557, -0.3397],\n",
       "        [-0.1380, -0.3860, -1.1347,  0.0943],\n",
       "        [-0.1107,  0.6780,  0.5196,  0.2229],\n",
       "        [ 0.2149, -0.1376, -0.6585,  0.0122]], grad_fn=<SplitBackward0>)"
      ]
     },
     "execution_count": 21,
     "metadata": {},
     "output_type": "execute_result"
    }
   ],
   "source": [
    "K"
   ]
  },
  {
   "cell_type": "code",
   "execution_count": 22,
   "id": "3a92698b-7ddb-4d29-86c3-c0187c1ba712",
   "metadata": {
    "execution": {
     "iopub.execute_input": "2024-10-27T03:09:41.893248Z",
     "iopub.status.busy": "2024-10-27T03:09:41.892721Z",
     "iopub.status.idle": "2024-10-27T03:09:41.904343Z",
     "shell.execute_reply": "2024-10-27T03:09:41.902079Z",
     "shell.execute_reply.started": "2024-10-27T03:09:41.893206Z"
    }
   },
   "outputs": [],
   "source": [
    "# 调整Q、K、V的形状以适应多头注意力\n",
    "d_k = d // h  # 每个头的维度\n",
    "def reshape_for_heads(x):\n",
    "    # x.shape: (T*B, h*d_k)\n",
    "    # 最末尾的维度上展开，d => h * d_k\n",
    "    # (T*B, h, d_k) => (T, B, h, d_k)\n",
    "    # permute(1, 2, 0, 3) => (B, h, T, d_k)\n",
    "    print(x.shape, x.is_contiguous())\n",
    "    y = x.contiguous().view(T, B, h, d_k).permute(1, 2, 0, 3).reshape(B * h, T, d_k)\n",
    "    print(y.shape)\n",
    "    return y"
   ]
  },
  {
   "cell_type": "code",
   "execution_count": 23,
   "id": "495e6070-ec8a-43ee-8f59-af0585d12b5e",
   "metadata": {
    "execution": {
     "iopub.execute_input": "2024-10-27T03:09:41.908338Z",
     "iopub.status.busy": "2024-10-27T03:09:41.906515Z",
     "iopub.status.idle": "2024-10-27T03:09:41.920235Z",
     "shell.execute_reply": "2024-10-27T03:09:41.918227Z",
     "shell.execute_reply.started": "2024-10-27T03:09:41.908274Z"
    }
   },
   "outputs": [
    {
     "data": {
      "text/plain": [
       "tensor([[ 0.0668,  1.3935, -1.1805,  0.8455],\n",
       "        [ 0.8724,  0.8454, -0.1481,  1.8186],\n",
       "        [ 0.1566, -0.1838, -0.1016,  0.7407],\n",
       "        [-0.4729, -1.3182, -0.9481,  0.8103],\n",
       "        [ 0.4362,  0.6260,  0.5733, -0.1727],\n",
       "        [-0.2227, -0.6440, -0.1496,  0.0278]], grad_fn=<SplitBackward0>)"
      ]
     },
     "execution_count": 23,
     "metadata": {},
     "output_type": "execute_result"
    }
   ],
   "source": [
    "Q"
   ]
  },
  {
   "cell_type": "code",
   "execution_count": 24,
   "id": "e8d376cb-41ca-407e-b533-c9542ed7b8c4",
   "metadata": {
    "execution": {
     "iopub.execute_input": "2024-10-27T03:09:41.922695Z",
     "iopub.status.busy": "2024-10-27T03:09:41.922145Z",
     "iopub.status.idle": "2024-10-27T03:09:41.936343Z",
     "shell.execute_reply": "2024-10-27T03:09:41.934342Z",
     "shell.execute_reply.started": "2024-10-27T03:09:41.922652Z"
    }
   },
   "outputs": [
    {
     "data": {
      "text/plain": [
       "tensor([[[[ 0.0668,  1.3935],\n",
       "          [-1.1805,  0.8455]],\n",
       "\n",
       "         [[ 0.8724,  0.8454],\n",
       "          [-0.1481,  1.8186]]],\n",
       "\n",
       "\n",
       "        [[[ 0.1566, -0.1838],\n",
       "          [-0.1016,  0.7407]],\n",
       "\n",
       "         [[-0.4729, -1.3182],\n",
       "          [-0.9481,  0.8103]]],\n",
       "\n",
       "\n",
       "        [[[ 0.4362,  0.6260],\n",
       "          [ 0.5733, -0.1727]],\n",
       "\n",
       "         [[-0.2227, -0.6440],\n",
       "          [-0.1496,  0.0278]]]], grad_fn=<ViewBackward0>)"
      ]
     },
     "execution_count": 24,
     "metadata": {},
     "output_type": "execute_result"
    }
   ],
   "source": [
    "Q.contiguous().view(T, B, h, d_k)"
   ]
  },
  {
   "cell_type": "code",
   "execution_count": 27,
   "id": "68e5cf44-ad88-43d6-813d-c52ff75cd6d0",
   "metadata": {
    "execution": {
     "iopub.execute_input": "2024-10-27T03:10:56.478543Z",
     "iopub.status.busy": "2024-10-27T03:10:56.477888Z",
     "iopub.status.idle": "2024-10-27T03:10:56.493788Z",
     "shell.execute_reply": "2024-10-27T03:10:56.491352Z",
     "shell.execute_reply.started": "2024-10-27T03:10:56.478494Z"
    }
   },
   "outputs": [
    {
     "data": {
      "text/plain": [
       "tensor([[[[ 0.0668,  1.3935],\n",
       "          [-0.1016,  0.7407],\n",
       "          [-0.2227, -0.6440]],\n",
       "\n",
       "         [[ 0.1566, -0.1838],\n",
       "          [ 0.5733, -0.1727],\n",
       "          [-0.1481,  1.8186]]],\n",
       "\n",
       "\n",
       "        [[[ 0.4362,  0.6260],\n",
       "          [ 0.8724,  0.8454],\n",
       "          [-0.9481,  0.8103]],\n",
       "\n",
       "         [[-1.1805,  0.8455],\n",
       "          [-0.4729, -1.3182],\n",
       "          [-0.1496,  0.0278]]]], grad_fn=<PermuteBackward0>)"
      ]
     },
     "execution_count": 27,
     "metadata": {},
     "output_type": "execute_result"
    }
   ],
   "source": [
    "# T, B, h, d_k => (B, h, T, d_k)\n",
    "Q.contiguous().view(T, B, h, d_k).permute(1, 2, 0, 3)"
   ]
  },
  {
   "cell_type": "code",
   "execution_count": 28,
   "id": "c6006e0d-167d-4559-98b6-1e927166217a",
   "metadata": {
    "execution": {
     "iopub.execute_input": "2024-10-27T03:11:39.492442Z",
     "iopub.status.busy": "2024-10-27T03:11:39.491779Z",
     "iopub.status.idle": "2024-10-27T03:11:39.505192Z",
     "shell.execute_reply": "2024-10-27T03:11:39.503324Z",
     "shell.execute_reply.started": "2024-10-27T03:11:39.492392Z"
    }
   },
   "outputs": [
    {
     "data": {
      "text/plain": [
       "False"
      ]
     },
     "execution_count": 28,
     "metadata": {},
     "output_type": "execute_result"
    }
   ],
   "source": [
    "Q.contiguous().view(T, B, h, d_k).permute(1, 2, 0, 3).is_contiguous()"
   ]
  },
  {
   "cell_type": "code",
   "execution_count": 25,
   "id": "5249727d-d68e-44e3-aece-f4d5013d62ae",
   "metadata": {
    "execution": {
     "iopub.execute_input": "2024-10-27T03:09:41.939102Z",
     "iopub.status.busy": "2024-10-27T03:09:41.938568Z",
     "iopub.status.idle": "2024-10-27T03:09:41.949987Z",
     "shell.execute_reply": "2024-10-27T03:09:41.948144Z",
     "shell.execute_reply.started": "2024-10-27T03:09:41.939060Z"
    }
   },
   "outputs": [
    {
     "name": "stdout",
     "output_type": "stream",
     "text": [
      "torch.Size([6, 4]) False\n",
      "torch.Size([4, 3, 2])\n",
      "torch.Size([6, 4]) False\n",
      "torch.Size([4, 3, 2])\n",
      "torch.Size([6, 4]) False\n",
      "torch.Size([4, 3, 2])\n"
     ]
    }
   ],
   "source": [
    "Q = reshape_for_heads(Q)\n",
    "K = reshape_for_heads(K)\n",
    "V = reshape_for_heads(V)"
   ]
  },
  {
   "cell_type": "code",
   "execution_count": 26,
   "id": "64e7d123-439d-495d-a1fd-5fd837c79604",
   "metadata": {
    "execution": {
     "iopub.execute_input": "2024-10-27T03:09:41.952363Z",
     "iopub.status.busy": "2024-10-27T03:09:41.951830Z",
     "iopub.status.idle": "2024-10-27T03:09:41.966469Z",
     "shell.execute_reply": "2024-10-27T03:09:41.964131Z",
     "shell.execute_reply.started": "2024-10-27T03:09:41.952321Z"
    }
   },
   "outputs": [
    {
     "data": {
      "text/plain": [
       "tensor([[[ 0.0668,  1.3935],\n",
       "         [ 0.1566, -0.1838],\n",
       "         [ 0.4362,  0.6260]],\n",
       "\n",
       "        [[-1.1805,  0.8455],\n",
       "         [-0.1016,  0.7407],\n",
       "         [ 0.5733, -0.1727]],\n",
       "\n",
       "        [[ 0.8724,  0.8454],\n",
       "         [-0.4729, -1.3182],\n",
       "         [-0.2227, -0.6440]],\n",
       "\n",
       "        [[-0.1481,  1.8186],\n",
       "         [-0.9481,  0.8103],\n",
       "         [-0.1496,  0.0278]]], grad_fn=<ReshapeAliasBackward0>)"
      ]
     },
     "execution_count": 26,
     "metadata": {},
     "output_type": "execute_result"
    }
   ],
   "source": [
    "Q"
   ]
  },
  {
   "cell_type": "markdown",
   "id": "152742d9-3548-4a4f-8d67-f298f5324160",
   "metadata": {},
   "source": [
    "- 6, 4\n",
    "```\n",
    "[ \n",
    " [ 0,  1,  2,  3],\n",
    " [ 4,  5,  6,  7],\n",
    " [ 8,  9, 10, 11],\n",
    " [12, 13, 14, 15],\n",
    " [16, 17, 18, 19],\n",
    " [20, 21, 22, 23]\n",
    "]\n",
    "```\n",
    "\n",
    "- `(3*2, 2*2) => (3, 2, 2, 2)`\n",
    "\n",
    "    ```\n",
    "    [\n",
    "      [  # 时间步 t=0\n",
    "        [  # 批次 b=0\n",
    "          [0, 1],    # 头 h=0\n",
    "          [2, 3]     # 头 h=1\n",
    "        ],\n",
    "        [  # 批次 b=1\n",
    "          [4, 5],\n",
    "          [6, 7]\n",
    "        ]\n",
    "      ],\n",
    "      [  # 时间步 t=1\n",
    "        [\n",
    "          [8, 9],\n",
    "          [10,11]\n",
    "        ],\n",
    "        [\n",
    "          [12,13],\n",
    "          [14,15]\n",
    "        ]\n",
    "      ],\n",
    "      [  # 时间步 t=2\n",
    "        [\n",
    "          [16,17],\n",
    "          [18,19]\n",
    "        ],\n",
    "        [\n",
    "          [20,21],\n",
    "          [22,23]\n",
    "        ]\n",
    "      ]\n",
    "    ]\n",
    "    \n",
    "    ```"
   ]
  },
  {
   "cell_type": "code",
   "execution_count": 32,
   "id": "0736898b-dfb0-422f-9ec7-1ec13b2d4444",
   "metadata": {
    "execution": {
     "iopub.execute_input": "2024-10-27T03:16:04.556923Z",
     "iopub.status.busy": "2024-10-27T03:16:04.556285Z",
     "iopub.status.idle": "2024-10-27T03:16:04.571666Z",
     "shell.execute_reply": "2024-10-27T03:16:04.569498Z",
     "shell.execute_reply.started": "2024-10-27T03:16:04.556873Z"
    }
   },
   "outputs": [
    {
     "data": {
      "text/plain": [
       "tensor([[ 0,  1,  2,  3],\n",
       "        [ 4,  5,  6,  7],\n",
       "        [ 8,  9, 10, 11],\n",
       "        [12, 13, 14, 15],\n",
       "        [16, 17, 18, 19],\n",
       "        [20, 21, 22, 23]])"
      ]
     },
     "execution_count": 32,
     "metadata": {},
     "output_type": "execute_result"
    }
   ],
   "source": [
    "A = torch.arange(24).reshape(6, 4)\n",
    "A"
   ]
  },
  {
   "cell_type": "code",
   "execution_count": 33,
   "id": "fbab9372-5dfd-4d23-9779-103ca8539620",
   "metadata": {
    "execution": {
     "iopub.execute_input": "2024-10-27T03:16:12.712387Z",
     "iopub.status.busy": "2024-10-27T03:16:12.711726Z",
     "iopub.status.idle": "2024-10-27T03:16:12.727506Z",
     "shell.execute_reply": "2024-10-27T03:16:12.725195Z",
     "shell.execute_reply.started": "2024-10-27T03:16:12.712339Z"
    }
   },
   "outputs": [
    {
     "data": {
      "text/plain": [
       "tensor([[[[ 0,  1],\n",
       "          [ 2,  3]],\n",
       "\n",
       "         [[ 4,  5],\n",
       "          [ 6,  7]]],\n",
       "\n",
       "\n",
       "        [[[ 8,  9],\n",
       "          [10, 11]],\n",
       "\n",
       "         [[12, 13],\n",
       "          [14, 15]]],\n",
       "\n",
       "\n",
       "        [[[16, 17],\n",
       "          [18, 19]],\n",
       "\n",
       "         [[20, 21],\n",
       "          [22, 23]]]])"
      ]
     },
     "execution_count": 33,
     "metadata": {},
     "output_type": "execute_result"
    }
   ],
   "source": [
    "A.reshape(3, 2, 2, 2)"
   ]
  },
  {
   "cell_type": "markdown",
   "id": "110be36c-30e8-4168-ba47-4f663361509b",
   "metadata": {},
   "source": [
    "### einsum => einops"
   ]
  },
  {
   "cell_type": "markdown",
   "id": "af4535f5-e12d-48f1-94bf-c4eeb8f7626d",
   "metadata": {},
   "source": [
    "- einsum: 顾名思义，更多是求和约定；不太适合直接做 reshape"
   ]
  },
  {
   "cell_type": "code",
   "execution_count": 38,
   "id": "f68e1e19-a47b-4428-9347-c34e270e3110",
   "metadata": {
    "execution": {
     "iopub.execute_input": "2024-10-27T03:23:56.425455Z",
     "iopub.status.busy": "2024-10-27T03:23:56.424777Z",
     "iopub.status.idle": "2024-10-27T03:23:56.442028Z",
     "shell.execute_reply": "2024-10-27T03:23:56.439990Z",
     "shell.execute_reply.started": "2024-10-27T03:23:56.425405Z"
    }
   },
   "outputs": [],
   "source": [
    "from einops import rearrange"
   ]
  },
  {
   "cell_type": "markdown",
   "id": "ca8fc689-1437-414d-8480-43de8b2734bd",
   "metadata": {},
   "source": [
    "$$\n",
    "\\begin{align*}\n",
    "    \\mathbf{Q}_{\\text{heads}} &= \\mathbf{Q}.\\text{reshape}(T, B, h, d_k).\\text{permute}(1, 2, 0, 3).\\text{reshape}(B \\times h, T, d_k) \\\\\n",
    "    \\mathbf{K}_{\\text{heads}} &= \\mathbf{K}.\\text{reshape}(T, B, h, d_k).\\text{permute}(1, 2, 0, 3).\\text{reshape}(B \\times h, T, d_k) \\\\\n",
    "    \\mathbf{V}_{\\text{heads}} &= \\mathbf{V}.\\text{reshape}(T, B, h, d_k).\\text{permute}(1, 2, 0, 3).\\text{reshape}(B \\times h, T, d_k)\n",
    "\\end{align*}\n",
    "$$"
   ]
  },
  {
   "cell_type": "code",
   "execution_count": 29,
   "id": "9a8dcb04-2b07-4960-bfcb-8102db0d6c09",
   "metadata": {
    "execution": {
     "iopub.execute_input": "2024-10-27T03:12:58.336754Z",
     "iopub.status.busy": "2024-10-27T03:12:58.336441Z",
     "iopub.status.idle": "2024-10-27T03:12:58.348365Z",
     "shell.execute_reply": "2024-10-27T03:12:58.346589Z",
     "shell.execute_reply.started": "2024-10-27T03:12:58.336733Z"
    }
   },
   "outputs": [
    {
     "data": {
      "text/plain": [
       "(torch.Size([6, 4]), torch.Size([6, 4]), torch.Size([6, 4]))"
      ]
     },
     "execution_count": 29,
     "metadata": {},
     "output_type": "execute_result"
    }
   ],
   "source": [
    "Q, K, V = QKV.split(d, dim=1)\n",
    "# (T*B, h*d_k)\n",
    "Q.shape, K.shape, V.shape"
   ]
  },
  {
   "cell_type": "code",
   "execution_count": 37,
   "id": "2a36d59c-5cfe-42f9-b139-2aa26b5e6112",
   "metadata": {
    "execution": {
     "iopub.execute_input": "2024-10-27T03:21:59.559303Z",
     "iopub.status.busy": "2024-10-27T03:21:59.558805Z",
     "iopub.status.idle": "2024-10-27T03:21:59.636088Z",
     "shell.execute_reply": "2024-10-27T03:21:59.633639Z",
     "shell.execute_reply.started": "2024-10-27T03:21:59.559266Z"
    }
   },
   "outputs": [
    {
     "ename": "RuntimeError",
     "evalue": "einsum(): invalid subscript given at index 9 in the equation string, subscripts must be in [a-zA-Z]",
     "output_type": "error",
     "traceback": [
      "\u001b[0;31m---------------------------------------------------------------------------\u001b[0m",
      "\u001b[0;31mRuntimeError\u001b[0m                              Traceback (most recent call last)",
      "Cell \u001b[0;32mIn[37], line 1\u001b[0m\n\u001b[0;32m----> 1\u001b[0m \u001b[43mtorch\u001b[49m\u001b[38;5;241;43m.\u001b[39;49m\u001b[43meinsum\u001b[49m\u001b[43m(\u001b[49m\u001b[38;5;124;43m'\u001b[39;49m\u001b[38;5;124;43mt b h k->(b h) t k\u001b[39;49m\u001b[38;5;124;43m'\u001b[39;49m\u001b[43m,\u001b[49m\u001b[43m \u001b[49m\u001b[43mQ\u001b[49m\u001b[38;5;241;43m.\u001b[39;49m\u001b[43mcontiguous\u001b[49m\u001b[43m(\u001b[49m\u001b[43m)\u001b[49m\u001b[38;5;241;43m.\u001b[39;49m\u001b[43mreshape\u001b[49m\u001b[43m(\u001b[49m\u001b[43mT\u001b[49m\u001b[43m,\u001b[49m\u001b[43m \u001b[49m\u001b[43mB\u001b[49m\u001b[43m,\u001b[49m\u001b[43m \u001b[49m\u001b[43mh\u001b[49m\u001b[43m,\u001b[49m\u001b[43m \u001b[49m\u001b[43md_k\u001b[49m\u001b[43m)\u001b[49m\u001b[43m)\u001b[49m\n",
      "File \u001b[0;32m~/anaconda3/lib/python3.10/site-packages/torch/functional.py:386\u001b[0m, in \u001b[0;36meinsum\u001b[0;34m(*args)\u001b[0m\n\u001b[1;32m    381\u001b[0m     \u001b[38;5;28;01mreturn\u001b[39;00m einsum(equation, \u001b[38;5;241m*\u001b[39m_operands)\n\u001b[1;32m    383\u001b[0m \u001b[38;5;28;01mif\u001b[39;00m \u001b[38;5;28mlen\u001b[39m(operands) \u001b[38;5;241m<\u001b[39m\u001b[38;5;241m=\u001b[39m \u001b[38;5;241m2\u001b[39m \u001b[38;5;129;01mor\u001b[39;00m \u001b[38;5;129;01mnot\u001b[39;00m opt_einsum\u001b[38;5;241m.\u001b[39menabled:\n\u001b[1;32m    384\u001b[0m     \u001b[38;5;66;03m# the path for contracting 0 or 1 time(s) is already optimized\u001b[39;00m\n\u001b[1;32m    385\u001b[0m     \u001b[38;5;66;03m# or the user has disabled using opt_einsum\u001b[39;00m\n\u001b[0;32m--> 386\u001b[0m     \u001b[38;5;28;01mreturn\u001b[39;00m \u001b[43m_VF\u001b[49m\u001b[38;5;241;43m.\u001b[39;49m\u001b[43meinsum\u001b[49m\u001b[43m(\u001b[49m\u001b[43mequation\u001b[49m\u001b[43m,\u001b[49m\u001b[43m \u001b[49m\u001b[43moperands\u001b[49m\u001b[43m)\u001b[49m  \u001b[38;5;66;03m# type: ignore[attr-defined]\u001b[39;00m\n\u001b[1;32m    388\u001b[0m path \u001b[38;5;241m=\u001b[39m \u001b[38;5;28;01mNone\u001b[39;00m\n\u001b[1;32m    389\u001b[0m \u001b[38;5;28;01mif\u001b[39;00m opt_einsum\u001b[38;5;241m.\u001b[39mis_available():\n",
      "\u001b[0;31mRuntimeError\u001b[0m: einsum(): invalid subscript given at index 9 in the equation string, subscripts must be in [a-zA-Z]"
     ]
    }
   ],
   "source": [
    "torch.einsum('t b h k->(b h) t k', Q.contiguous().reshape(T, B, h, d_k))"
   ]
  },
  {
   "cell_type": "code",
   "execution_count": 40,
   "id": "da2b5a95-3af0-489b-bd53-eedef43edc98",
   "metadata": {
    "execution": {
     "iopub.execute_input": "2024-10-27T03:25:27.350525Z",
     "iopub.status.busy": "2024-10-27T03:25:27.348752Z",
     "iopub.status.idle": "2024-10-27T03:25:27.364302Z",
     "shell.execute_reply": "2024-10-27T03:25:27.362192Z",
     "shell.execute_reply.started": "2024-10-27T03:25:27.350483Z"
    }
   },
   "outputs": [
    {
     "data": {
      "text/plain": [
       "tensor([[[[ 0.0668,  1.3935],\n",
       "          [-1.1805,  0.8455]],\n",
       "\n",
       "         [[ 0.8724,  0.8454],\n",
       "          [-0.1481,  1.8186]]],\n",
       "\n",
       "\n",
       "        [[[ 0.1566, -0.1838],\n",
       "          [-0.1016,  0.7407]],\n",
       "\n",
       "         [[-0.4729, -1.3182],\n",
       "          [-0.9481,  0.8103]]],\n",
       "\n",
       "\n",
       "        [[[ 0.4362,  0.6260],\n",
       "          [ 0.5733, -0.1727]],\n",
       "\n",
       "         [[-0.2227, -0.6440],\n",
       "          [-0.1496,  0.0278]]]], grad_fn=<ReshapeAliasBackward0>)"
      ]
     },
     "execution_count": 40,
     "metadata": {},
     "output_type": "execute_result"
    }
   ],
   "source": [
    "rearrange(Q, '(T B) (h d_k) -> T B h d_k', T=T, B=B, h=h, d_k=d_k)"
   ]
  },
  {
   "cell_type": "code",
   "execution_count": 43,
   "id": "5aabc6db-e5af-48b3-a3fc-eaaf5a237d27",
   "metadata": {
    "execution": {
     "iopub.execute_input": "2024-10-27T03:28:09.508818Z",
     "iopub.status.busy": "2024-10-27T03:28:09.508318Z",
     "iopub.status.idle": "2024-10-27T03:28:09.523861Z",
     "shell.execute_reply": "2024-10-27T03:28:09.522079Z",
     "shell.execute_reply.started": "2024-10-27T03:28:09.508781Z"
    }
   },
   "outputs": [
    {
     "data": {
      "text/plain": [
       "tensor([[[[ 0.0668,  1.3935],\n",
       "          [ 0.1566, -0.1838],\n",
       "          [ 0.4362,  0.6260]],\n",
       "\n",
       "         [[-1.1805,  0.8455],\n",
       "          [-0.1016,  0.7407],\n",
       "          [ 0.5733, -0.1727]]],\n",
       "\n",
       "\n",
       "        [[[ 0.8724,  0.8454],\n",
       "          [-0.4729, -1.3182],\n",
       "          [-0.2227, -0.6440]],\n",
       "\n",
       "         [[-0.1481,  1.8186],\n",
       "          [-0.9481,  0.8103],\n",
       "          [-0.1496,  0.0278]]]], grad_fn=<PermuteBackward0>)"
      ]
     },
     "execution_count": 43,
     "metadata": {},
     "output_type": "execute_result"
    }
   ],
   "source": [
    "rearrange(Q, '(T B) (h d_k) -> B h T d_k', T=T, B=B, h=h, d_k=d_k)"
   ]
  },
  {
   "cell_type": "code",
   "execution_count": 44,
   "id": "5feedd85-4a7d-4362-87a9-6d0c39825636",
   "metadata": {
    "execution": {
     "iopub.execute_input": "2024-10-27T03:28:49.431668Z",
     "iopub.status.busy": "2024-10-27T03:28:49.430962Z",
     "iopub.status.idle": "2024-10-27T03:28:49.448298Z",
     "shell.execute_reply": "2024-10-27T03:28:49.446101Z",
     "shell.execute_reply.started": "2024-10-27T03:28:49.431617Z"
    }
   },
   "outputs": [
    {
     "data": {
      "text/plain": [
       "tensor([[[ 0.0668,  1.3935],\n",
       "         [ 0.1566, -0.1838],\n",
       "         [ 0.4362,  0.6260]],\n",
       "\n",
       "        [[-1.1805,  0.8455],\n",
       "         [-0.1016,  0.7407],\n",
       "         [ 0.5733, -0.1727]],\n",
       "\n",
       "        [[ 0.8724,  0.8454],\n",
       "         [-0.4729, -1.3182],\n",
       "         [-0.2227, -0.6440]],\n",
       "\n",
       "        [[-0.1481,  1.8186],\n",
       "         [-0.9481,  0.8103],\n",
       "         [-0.1496,  0.0278]]], grad_fn=<UnsafeViewBackward0>)"
      ]
     },
     "execution_count": 44,
     "metadata": {},
     "output_type": "execute_result"
    }
   ],
   "source": [
    "rearrange(rearrange(Q, '(T B) (h d_k) -> B h T d_k', T=T, B=B, h=h, d_k=d_k), 'B h T d_k -> (B h) T d_k', T=T, B=B, h=h, d_k=d_k)"
   ]
  },
  {
   "cell_type": "code",
   "execution_count": 45,
   "id": "6b58690e-b313-465d-88ae-eff059e6fb6d",
   "metadata": {
    "execution": {
     "iopub.execute_input": "2024-10-27T03:30:59.765853Z",
     "iopub.status.busy": "2024-10-27T03:30:59.765337Z",
     "iopub.status.idle": "2024-10-27T03:30:59.780240Z",
     "shell.execute_reply": "2024-10-27T03:30:59.777940Z",
     "shell.execute_reply.started": "2024-10-27T03:30:59.765823Z"
    }
   },
   "outputs": [
    {
     "data": {
      "text/plain": [
       "tensor([[[ 0.0668,  1.3935],\n",
       "         [ 0.1566, -0.1838],\n",
       "         [ 0.4362,  0.6260]],\n",
       "\n",
       "        [[-1.1805,  0.8455],\n",
       "         [-0.1016,  0.7407],\n",
       "         [ 0.5733, -0.1727]],\n",
       "\n",
       "        [[ 0.8724,  0.8454],\n",
       "         [-0.4729, -1.3182],\n",
       "         [-0.2227, -0.6440]],\n",
       "\n",
       "        [[-0.1481,  1.8186],\n",
       "         [-0.9481,  0.8103],\n",
       "         [-0.1496,  0.0278]]], grad_fn=<UnsafeViewBackward0>)"
      ]
     },
     "execution_count": 45,
     "metadata": {},
     "output_type": "execute_result"
    }
   ],
   "source": [
    "rearrange(Q, '(T B) (h d_k) -> (B h) T d_k', T=T, B=B, h=h, d_k=d_k)"
   ]
  },
  {
   "cell_type": "code",
   "execution_count": null,
   "id": "1de5dd01-29d6-4323-9faf-04fc8222682c",
   "metadata": {},
   "outputs": [],
   "source": []
  }
 ],
 "metadata": {
  "kernelspec": {
   "display_name": "Python 3 (ipykernel)",
   "language": "python",
   "name": "python3"
  },
  "language_info": {
   "codemirror_mode": {
    "name": "ipython",
    "version": 3
   },
   "file_extension": ".py",
   "mimetype": "text/x-python",
   "name": "python",
   "nbconvert_exporter": "python",
   "pygments_lexer": "ipython3",
   "version": "3.10.13"
  }
 },
 "nbformat": 4,
 "nbformat_minor": 5
}
