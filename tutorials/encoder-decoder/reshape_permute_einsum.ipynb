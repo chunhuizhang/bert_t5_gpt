{
 "cells": [
  {
   "cell_type": "code",
   "execution_count": 1,
   "id": "b1a90741-18e8-4798-bbba-21dab697750e",
   "metadata": {
    "execution": {
     "iopub.execute_input": "2024-11-09T11:36:11.770100Z",
     "iopub.status.busy": "2024-11-09T11:36:11.769571Z",
     "iopub.status.idle": "2024-11-09T11:36:13.677652Z",
     "shell.execute_reply": "2024-11-09T11:36:13.676804Z",
     "shell.execute_reply.started": "2024-11-09T11:36:11.770057Z"
    }
   },
   "outputs": [],
   "source": [
    "import torch\n",
    "from torch import nn\n",
    "import torch.nn.functional as F\n",
    "import numpy as np\n",
    "import pandas as pd"
   ]
  },
  {
   "cell_type": "code",
   "execution_count": 2,
   "id": "e02f1a07-ef91-4f74-9d83-570d7343bb28",
   "metadata": {
    "execution": {
     "iopub.execute_input": "2024-11-09T11:36:13.678558Z",
     "iopub.status.busy": "2024-11-09T11:36:13.678346Z",
     "iopub.status.idle": "2024-11-09T11:36:13.686593Z",
     "shell.execute_reply": "2024-11-09T11:36:13.685834Z",
     "shell.execute_reply.started": "2024-11-09T11:36:13.678547Z"
    }
   },
   "outputs": [
    {
     "data": {
      "text/plain": [
       "<torch._C.Generator at 0x75a9189179b0>"
      ]
     },
     "execution_count": 2,
     "metadata": {},
     "output_type": "execute_result"
    }
   ],
   "source": [
    "torch.manual_seed(42)"
   ]
  },
  {
   "cell_type": "code",
   "execution_count": 3,
   "id": "496ed1b3-d185-4378-acea-3d3a174be0fe",
   "metadata": {
    "execution": {
     "iopub.execute_input": "2024-11-09T11:36:13.687309Z",
     "iopub.status.busy": "2024-11-09T11:36:13.687169Z",
     "iopub.status.idle": "2024-11-09T11:36:13.699109Z",
     "shell.execute_reply": "2024-11-09T11:36:13.698372Z",
     "shell.execute_reply.started": "2024-11-09T11:36:13.687298Z"
    }
   },
   "outputs": [],
   "source": [
    "d = 4  # 模型维度\n",
    "B = 2\n",
    "T = 3\n",
    "h = 2    # 多头注意力中的头数\n",
    "ff = 8  # 前馈网络的维度"
   ]
  },
  {
   "cell_type": "code",
   "execution_count": 4,
   "id": "5f5c50ae-6d38-41ef-8439-1eb1f72f8a15",
   "metadata": {
    "execution": {
     "iopub.execute_input": "2024-11-09T11:36:13.699819Z",
     "iopub.status.busy": "2024-11-09T11:36:13.699682Z",
     "iopub.status.idle": "2024-11-09T11:36:13.710727Z",
     "shell.execute_reply": "2024-11-09T11:36:13.709963Z",
     "shell.execute_reply.started": "2024-11-09T11:36:13.699809Z"
    }
   },
   "outputs": [
    {
     "data": {
      "text/plain": [
       "torch.Size([3, 2, 4])"
      ]
     },
     "execution_count": 4,
     "metadata": {},
     "output_type": "execute_result"
    }
   ],
   "source": [
    "X = torch.randn(T, B, d)  # [seq_len, batch_size, d_model]\n",
    "X.shape"
   ]
  },
  {
   "cell_type": "code",
   "execution_count": 5,
   "id": "f5362831-c48e-4ee1-be49-3cc4d084a837",
   "metadata": {
    "execution": {
     "iopub.execute_input": "2024-11-09T11:36:13.711524Z",
     "iopub.status.busy": "2024-11-09T11:36:13.711370Z",
     "iopub.status.idle": "2024-11-09T11:36:13.717444Z",
     "shell.execute_reply": "2024-11-09T11:36:13.716652Z",
     "shell.execute_reply.started": "2024-11-09T11:36:13.711512Z"
    }
   },
   "outputs": [],
   "source": [
    "encoder = nn.TransformerEncoderLayer(d, h, ff, dropout=0.0)"
   ]
  },
  {
   "cell_type": "code",
   "execution_count": 6,
   "id": "4318c6a0-fec3-44b7-a263-9387003fa78f",
   "metadata": {
    "execution": {
     "iopub.execute_input": "2024-11-09T11:36:13.719899Z",
     "iopub.status.busy": "2024-11-09T11:36:13.719736Z",
     "iopub.status.idle": "2024-11-09T11:36:13.727244Z",
     "shell.execute_reply": "2024-11-09T11:36:13.726478Z",
     "shell.execute_reply.started": "2024-11-09T11:36:13.719887Z"
    }
   },
   "outputs": [
    {
     "data": {
      "text/plain": [
       "(torch.Size([12, 4]), torch.Size([12]))"
      ]
     },
     "execution_count": 6,
     "metadata": {},
     "output_type": "execute_result"
    }
   ],
   "source": [
    "W_in, b_in = encoder.self_attn.in_proj_weight, encoder.self_attn.in_proj_bias\n",
    "# (3d, d), (3d, )\n",
    "W_in.shape, b_in.shape"
   ]
  },
  {
   "cell_type": "code",
   "execution_count": 7,
   "id": "1f998ebb-0f03-4073-a46c-44b3687e5e53",
   "metadata": {
    "execution": {
     "iopub.execute_input": "2024-11-09T11:36:13.730594Z",
     "iopub.status.busy": "2024-11-09T11:36:13.730363Z",
     "iopub.status.idle": "2024-11-09T11:36:13.738524Z",
     "shell.execute_reply": "2024-11-09T11:36:13.738006Z",
     "shell.execute_reply.started": "2024-11-09T11:36:13.730576Z"
    }
   },
   "outputs": [
    {
     "data": {
      "text/plain": [
       "torch.Size([3, 2, 4])"
      ]
     },
     "execution_count": 7,
     "metadata": {},
     "output_type": "execute_result"
    }
   ],
   "source": [
    "encoder(X).shape"
   ]
  },
  {
   "cell_type": "markdown",
   "id": "76ca9960-5e4f-4903-9013-f02cdb6038ad",
   "metadata": {},
   "source": [
    "### 张量内存 （tensor memory layout）"
   ]
  },
  {
   "cell_type": "markdown",
   "id": "ce7fe790-7c19-4470-85ea-cc97a46536bb",
   "metadata": {},
   "source": [
    "[[pytorch] Tensor shape 变化 view 与 reshape（contiguous 的理解）)](https://www.bilibili.com/video/BV1Zw411y7Ks/)\n",
    "\n",
    "https://stackoverflow.com/questions/26998223/what-is-the-difference-between-contiguous-and-non-contiguous-arrays\n",
    "\n",
    "- 张量内存 layout\n",
    "    - 在大多数深度学习框架（如 PyTorch）中，（高维）张量的数据是以**一维数组**的形式在内存中**连续存储**的。对于多维张量，其高维结构是通过一维内存数组和步幅（strides）来实现的。\n",
    "    - pytorch 存储顺序（Storage Order）是 Row-major，最后一个维度变化最快。\n",
    "- Strides（步幅）\n",
    "    - 对于一个形状为 $(D_0,D_1,D_2)$（`2*3*4`） 的 3D 张量，其步幅计算如下：\n",
    "        - $\\text{stride[2]} = 1$\n",
    "        - $\\text{stride[1]} = D_2\\times \\text{stride[2]}=D_2$ （3）\n",
    "        - $\\text{stride[0]} = D_1\\times \\text{stride[1]}=D_1\\times D_2$（3*4=12）"
   ]
  },
  {
   "cell_type": "code",
   "execution_count": 45,
   "id": "a7a632ef-b105-40fb-8565-0007248117cb",
   "metadata": {
    "execution": {
     "iopub.execute_input": "2024-11-09T11:44:13.115288Z",
     "iopub.status.busy": "2024-11-09T11:44:13.114637Z",
     "iopub.status.idle": "2024-11-09T11:44:13.129459Z",
     "shell.execute_reply": "2024-11-09T11:44:13.127325Z",
     "shell.execute_reply.started": "2024-11-09T11:44:13.115242Z"
    }
   },
   "outputs": [
    {
     "data": {
      "text/plain": [
       "tensor([[[0, 0, 3, 0],\n",
       "         [3, 3, 1, 1],\n",
       "         [0, 3, 1, 4]],\n",
       "\n",
       "        [[1, 1, 0, 2],\n",
       "         [4, 1, 1, 0],\n",
       "         [4, 1, 0, 3]]])"
      ]
     },
     "execution_count": 45,
     "metadata": {},
     "output_type": "execute_result"
    }
   ],
   "source": [
    "A = torch.randint(0, 5, (2, 3, 4))\n",
    "A"
   ]
  },
  {
   "cell_type": "code",
   "execution_count": 46,
   "id": "1425b859-d157-40a6-ae7b-d3cd6e19e495",
   "metadata": {
    "execution": {
     "iopub.execute_input": "2024-11-09T11:44:14.632427Z",
     "iopub.status.busy": "2024-11-09T11:44:14.631798Z",
     "iopub.status.idle": "2024-11-09T11:44:14.646348Z",
     "shell.execute_reply": "2024-11-09T11:44:14.644306Z",
     "shell.execute_reply.started": "2024-11-09T11:44:14.632383Z"
    }
   },
   "outputs": [
    {
     "data": {
      "text/plain": [
       "tensor([[1, 1, 0, 2],\n",
       "        [4, 1, 1, 0],\n",
       "        [4, 1, 0, 3]])"
      ]
     },
     "execution_count": 46,
     "metadata": {},
     "output_type": "execute_result"
    }
   ],
   "source": [
    "A[1]"
   ]
  },
  {
   "cell_type": "markdown",
   "id": "8a46a003-676f-4ec6-8394-ca6e4148d0bc",
   "metadata": {},
   "source": [
    "- 当张量在内存中的数据排列不再符合其形状和步幅之间的默认关系时，张量就是非连续的（is not contiguous）。\n",
    "    - 特征：`.is_contiguous()` 方法返回 False。\n",
    "    - 影响：某些操作在非连续张量上可能性能较差，或者需要额外的内存拷贝。\n",
    "    - 解决方法：使用 .contiguous() 方法，将张量拷贝为内存中连续的版本。\n",
    "- 什么样的操作会导致内存的不连续\n",
    "    - permute, transpose, view;\n",
    "        - transpose 是 permute 的特例，transpose 只允许交换两个维度。\n",
    "- `reshape` 不改变内存中的数据顺序\n"
   ]
  },
  {
   "cell_type": "code",
   "execution_count": 11,
   "id": "0880a938-413d-4804-b6aa-ad0da017ec1b",
   "metadata": {
    "execution": {
     "iopub.execute_input": "2024-11-09T11:36:13.767334Z",
     "iopub.status.busy": "2024-11-09T11:36:13.767102Z",
     "iopub.status.idle": "2024-11-09T11:36:13.775182Z",
     "shell.execute_reply": "2024-11-09T11:36:13.774323Z",
     "shell.execute_reply.started": "2024-11-09T11:36:13.767318Z"
    }
   },
   "outputs": [
    {
     "data": {
      "text/plain": [
       "(torch.Size([3, 4]), (4, 1), True)"
      ]
     },
     "execution_count": 11,
     "metadata": {},
     "output_type": "execute_result"
    }
   ],
   "source": [
    "A = torch.randn(3, 4)\n",
    "A.shape, A.stride(), A.is_contiguous()"
   ]
  },
  {
   "cell_type": "code",
   "execution_count": 12,
   "id": "b6617a11-8590-43f8-b20e-97081de4f690",
   "metadata": {
    "execution": {
     "iopub.execute_input": "2024-11-09T11:36:13.776518Z",
     "iopub.status.busy": "2024-11-09T11:36:13.776189Z",
     "iopub.status.idle": "2024-11-09T11:36:13.784029Z",
     "shell.execute_reply": "2024-11-09T11:36:13.783135Z",
     "shell.execute_reply.started": "2024-11-09T11:36:13.776492Z"
    }
   },
   "outputs": [
    {
     "data": {
      "text/plain": [
       "(torch.Size([4, 3]), (1, 4), False)"
      ]
     },
     "execution_count": 12,
     "metadata": {},
     "output_type": "execute_result"
    }
   ],
   "source": [
    "A = A.transpose(0, 1)\n",
    "A.shape, A.stride(), A.is_contiguous()"
   ]
  },
  {
   "cell_type": "code",
   "execution_count": 13,
   "id": "d0b4a4cb-6762-4176-9234-544279f8b489",
   "metadata": {
    "execution": {
     "iopub.execute_input": "2024-11-09T11:36:13.785664Z",
     "iopub.status.busy": "2024-11-09T11:36:13.785301Z",
     "iopub.status.idle": "2024-11-09T11:36:13.792941Z",
     "shell.execute_reply": "2024-11-09T11:36:13.792034Z",
     "shell.execute_reply.started": "2024-11-09T11:36:13.785634Z"
    }
   },
   "outputs": [
    {
     "data": {
      "text/plain": [
       "(torch.Size([4, 3]), (3, 1), True)"
      ]
     },
     "execution_count": 13,
     "metadata": {},
     "output_type": "execute_result"
    }
   ],
   "source": [
    "A = A.contiguous()\n",
    "A.shape, A.stride(), A.is_contiguous()"
   ]
  },
  {
   "cell_type": "markdown",
   "id": "86dc5180-f351-4314-89dc-bf355b73c51e",
   "metadata": {},
   "source": [
    "### view vs. reshape"
   ]
  },
  {
   "cell_type": "markdown",
   "id": "c14c8087-548e-4162-abd6-7b4ef9b5bab3",
   "metadata": {},
   "source": [
    "- view（类比sql中的概念）\n",
    "    - 不会复制数据：view 创建的是原始张量的一个新的视图，内存数据保持不变，只是重新解释内存中的数据。因为它依赖于张量的内存布局，所以无法对非连续的张量使用。\n",
    "    - 不连续内存，view 时有可能报错；\n",
    "- reshape: 它会自动处理非连续张量，尽可能返回视图，如果无法返回视图，则会拷贝\n",
    "    - 不要求内存连续：reshape 可以用于非连续的张量。如果张量不连续，reshape 会自动尝试创建一个新的连续张量并复制数据，以确保能够完成形状转换。\n",
    "    - 可能复制数据：当张量是内存不连续的，reshape 可能会进行数据复制，生成一个新的内存布局的张量。否则，它和 view 的行为是一样的，不复制数据。\n",
    "    - 不改变数据在内存中的顺序，只改变张量的形状解释。"
   ]
  },
  {
   "cell_type": "code",
   "execution_count": 14,
   "id": "bb3db8f2-2494-45a8-9fac-8394c3f18077",
   "metadata": {
    "execution": {
     "iopub.execute_input": "2024-11-09T11:36:13.794412Z",
     "iopub.status.busy": "2024-11-09T11:36:13.794033Z",
     "iopub.status.idle": "2024-11-09T11:36:13.802631Z",
     "shell.execute_reply": "2024-11-09T11:36:13.801712Z",
     "shell.execute_reply.started": "2024-11-09T11:36:13.794383Z"
    }
   },
   "outputs": [
    {
     "data": {
      "text/plain": [
       "(torch.Size([6, 4]), (4, 1), True)"
      ]
     },
     "execution_count": 14,
     "metadata": {},
     "output_type": "execute_result"
    }
   ],
   "source": [
    "A = torch.randn(2, 3, 4)\n",
    "A.view(-1, 4).shape, A.view(-1, 4).stride(), A.view(-1, 4).is_contiguous(), "
   ]
  },
  {
   "cell_type": "code",
   "execution_count": 49,
   "id": "ba7b008e-ac44-47d0-a349-9c7453adc663",
   "metadata": {
    "execution": {
     "iopub.execute_input": "2024-11-09T11:48:41.137917Z",
     "iopub.status.busy": "2024-11-09T11:48:41.137274Z",
     "iopub.status.idle": "2024-11-09T11:48:41.151608Z",
     "shell.execute_reply": "2024-11-09T11:48:41.149337Z",
     "shell.execute_reply.started": "2024-11-09T11:48:41.137872Z"
    }
   },
   "outputs": [
    {
     "data": {
      "text/plain": [
       "((12, 4, 1), torch.Size([3, 4, 2]), (4, 1, 12), False)"
      ]
     },
     "execution_count": 49,
     "metadata": {},
     "output_type": "execute_result"
    }
   ],
   "source": [
    "A = torch.randn(2, 3, 4)\n",
    "A_t = A.permute(1, 2, 0)\n",
    "A.stride(), A_t.shape, A_t.stride(), A_t.is_contiguous()"
   ]
  },
  {
   "cell_type": "code",
   "execution_count": 16,
   "id": "8af483e3-d3a7-4568-8361-ef1fedc2251e",
   "metadata": {
    "execution": {
     "iopub.execute_input": "2024-11-09T11:36:13.813290Z",
     "iopub.status.busy": "2024-11-09T11:36:13.812889Z",
     "iopub.status.idle": "2024-11-09T11:36:13.821506Z",
     "shell.execute_reply": "2024-11-09T11:36:13.820534Z",
     "shell.execute_reply.started": "2024-11-09T11:36:13.813256Z"
    }
   },
   "outputs": [
    {
     "data": {
      "text/plain": [
       "tensor([[[-1.3793, -0.5572],\n",
       "         [ 0.6258, -0.9683],\n",
       "         [-2.5850,  0.8713],\n",
       "         [-0.0240, -0.0956]],\n",
       "\n",
       "        [[-0.1222,  0.3463],\n",
       "         [-0.7470, -0.5402],\n",
       "         [ 1.7093,  0.8569],\n",
       "         [ 0.0579, -0.6721]],\n",
       "\n",
       "        [[ 0.5230,  1.0682],\n",
       "         [ 0.9717, -0.2527],\n",
       "         [-0.2779, -0.1882],\n",
       "         [-0.6116, -0.7712]]])"
      ]
     },
     "execution_count": 16,
     "metadata": {},
     "output_type": "execute_result"
    }
   ],
   "source": [
    "A_t"
   ]
  },
  {
   "cell_type": "code",
   "execution_count": 17,
   "id": "afc99672-e400-4e8c-b716-d88a5eaddae5",
   "metadata": {
    "execution": {
     "iopub.execute_input": "2024-11-09T11:36:13.823681Z",
     "iopub.status.busy": "2024-11-09T11:36:13.822745Z",
     "iopub.status.idle": "2024-11-09T11:36:13.830896Z",
     "shell.execute_reply": "2024-11-09T11:36:13.829931Z",
     "shell.execute_reply.started": "2024-11-09T11:36:13.823646Z"
    }
   },
   "outputs": [
    {
     "data": {
      "text/plain": [
       "tensor([[-1.3793, -0.5572],\n",
       "        [ 0.6258, -0.9683],\n",
       "        [-2.5850,  0.8713],\n",
       "        [-0.0240, -0.0956],\n",
       "        [-0.1222,  0.3463],\n",
       "        [-0.7470, -0.5402],\n",
       "        [ 1.7093,  0.8569],\n",
       "        [ 0.0579, -0.6721],\n",
       "        [ 0.5230,  1.0682],\n",
       "        [ 0.9717, -0.2527],\n",
       "        [-0.2779, -0.1882],\n",
       "        [-0.6116, -0.7712]])"
      ]
     },
     "execution_count": 17,
     "metadata": {},
     "output_type": "execute_result"
    }
   ],
   "source": [
    "A_t.view(-1, 2)"
   ]
  },
  {
   "cell_type": "code",
   "execution_count": 18,
   "id": "000de6a3-a5a5-4f85-8b6f-8cf0be427cb4",
   "metadata": {
    "execution": {
     "iopub.execute_input": "2024-11-09T11:36:13.832622Z",
     "iopub.status.busy": "2024-11-09T11:36:13.832195Z",
     "iopub.status.idle": "2024-11-09T11:36:13.840961Z",
     "shell.execute_reply": "2024-11-09T11:36:13.839971Z",
     "shell.execute_reply.started": "2024-11-09T11:36:13.832588Z"
    }
   },
   "outputs": [
    {
     "data": {
      "text/plain": [
       "tensor([[-1.3793, -0.5572],\n",
       "        [ 0.6258, -0.9683],\n",
       "        [-2.5850,  0.8713],\n",
       "        [-0.0240, -0.0956],\n",
       "        [-0.1222,  0.3463],\n",
       "        [-0.7470, -0.5402],\n",
       "        [ 1.7093,  0.8569],\n",
       "        [ 0.0579, -0.6721],\n",
       "        [ 0.5230,  1.0682],\n",
       "        [ 0.9717, -0.2527],\n",
       "        [-0.2779, -0.1882],\n",
       "        [-0.6116, -0.7712]])"
      ]
     },
     "execution_count": 18,
     "metadata": {},
     "output_type": "execute_result"
    }
   ],
   "source": [
    "A_t.view(-1, 2)"
   ]
  },
  {
   "cell_type": "code",
   "execution_count": 19,
   "id": "5dbfffd4-bce4-4e4c-9cf1-6eb97bf6fcca",
   "metadata": {
    "execution": {
     "iopub.execute_input": "2024-11-09T11:36:13.843351Z",
     "iopub.status.busy": "2024-11-09T11:36:13.842326Z",
     "iopub.status.idle": "2024-11-09T11:36:13.851126Z",
     "shell.execute_reply": "2024-11-09T11:36:13.850171Z",
     "shell.execute_reply.started": "2024-11-09T11:36:13.843313Z"
    }
   },
   "outputs": [
    {
     "data": {
      "text/plain": [
       "(tensor([[-1.3793, -0.5572,  0.6258, -0.9683],\n",
       "         [-2.5850,  0.8713, -0.0240, -0.0956],\n",
       "         [-0.1222,  0.3463, -0.7470, -0.5402],\n",
       "         [ 1.7093,  0.8569,  0.0579, -0.6721],\n",
       "         [ 0.5230,  1.0682,  0.9717, -0.2527],\n",
       "         [-0.2779, -0.1882, -0.6116, -0.7712]]),\n",
       " True)"
      ]
     },
     "execution_count": 19,
     "metadata": {},
     "output_type": "execute_result"
    }
   ],
   "source": [
    "A_t.reshape(-1, 4), A_t.reshape(-1, 4).is_contiguous()"
   ]
  },
  {
   "cell_type": "markdown",
   "id": "5dfc6cef-9fc5-489e-82e3-9d736a7b67f9",
   "metadata": {},
   "source": [
    "### encoder recap"
   ]
  },
  {
   "cell_type": "markdown",
   "id": "188f250e-4ebe-4125-9191-f8fefb72b709",
   "metadata": {},
   "source": [
    "https://pytorch.org/docs/stable/generated/torch.nn.TransformerEncoderLayer.html\n",
    "\n",
    "- input: $\\mathbf{X} \\in \\mathbb{R}^{T \\times B \\times d_{\\text{model}}}$ （`batch_first=False`）\n",
    "- multihead selfattn\n",
    "    - 线性变换（linear projection, 矩阵乘法）生成 Q、K、V矩阵\n",
    "        - $X_{\\text{flat}}=\\mathbf X.\\text{reshape}(T\\times B,d_{model})$ (3d -> 2d)\n",
    "        - $\\mathbf{QKV}=\\mathbf X\\mathbf W_{in}^T+\\mathbf b_{in}$（`encoder_layer.self_attn.in_proj_weight`, `encoder_layer.self_attn.in_proj_bias`）\n",
    "            - $\\mathbf{W}_{in} \\in \\mathbb{R}^{3d_{\\text{model}} \\times d_{\\text{model}}}$，$\\mathbf{b}_{in} \\in \\mathbb{R}^{3d_{\\text{model}}}$\n",
    "            - $\\mathbf{QKV}\\in \\mathbb R^{T\\times B,3d_{model}}$\n",
    "    - 拆分 $\\mathbf Q, \\mathbf K,\\mathbf V$\n",
    "        - $\\mathbf Q, \\mathbf K,\\mathbf V=\\text{split}(\\mathbf{QKV},d_{model})$（按列进行拆分）\n",
    "        - $\\mathbf Q, \\mathbf K,\\mathbf V\\in \\mathbb R^{T \\times B, d_{\\text{model}}}$\n",
    "    - 调整形状以适应多头注意力\n",
    "        - $d_k = \\frac{d_{\\text{model}}}h$ （4/2 = 2）\n",
    "        - `reshape_for_heads`\n",
    "        $$\n",
    "        \\begin{align*}\n",
    "            \\mathbf{Q}_{\\text{heads}} &= \\mathbf{Q}.\\text{reshape}(T, B, h, d_k).\\text{permute}(1, 2, 0, 3).\\text{reshape}(B \\times h, T, d_k) \\\\\n",
    "            \\mathbf{K}_{\\text{heads}} &= \\mathbf{K}.\\text{reshape}(T, B, h, d_k).\\text{permute}(1, 2, 0, 3).\\text{reshape}(B \\times h, T, d_k) \\\\\n",
    "            \\mathbf{V}_{\\text{heads}} &= \\mathbf{V}.\\text{reshape}(T, B, h, d_k).\\text{permute}(1, 2, 0, 3).\\text{reshape}(B \\times h, T, d_k)\n",
    "        \\end{align*}\n",
    "        $$\n",
    "    - 计算注意力分数：$\\text{Scores} = \\frac{\\mathbf{Q}_{\\text{heads}} \\mathbf{K}_{\\text{heads}}^\\top}{\\sqrt{d_k}}$\n",
    "        - $\\mathbf{Q}_{\\text{heads}} \\in \\mathbb{R}^{(B \\times h) \\times T \\times d_k}$，$\\mathbf{K}_{\\text{heads}}^\\top \\in \\mathbb{R}^{(B \\times h) \\times d_k \\times T}$，因此 $\\text{Scores} \\in \\mathbb{R}^{(B \\times h) \\times T \\times T}$。\n",
    "    - 计算注意力权重：$\\text{AttentionWeights}=\\text{softmax}(\\text{Scores})$\n",
    "    - 计算注意力输出：$\\text{AttentionOutput}=\\text{AttentionWeights}\\times{\\mathbf V_\\text{heads}}$\n",
    "        - $\\mathbf{V}_{\\text{heads}} \\in \\mathbb{R}^{(B \\times h) \\times T \\times d_k}$，因此 $\\text{AttentionOutput} \\in \\mathbb{R}^{(B \\times h) \\times T \\times d_k}$。\n",
    "    - 合并多头输出：$\\text{AttentionOutput} = \\text{AttentionOutput}.\\text{reshape}(B, h, T, d_k).\\text{permute}(2, 0, 1, 3).\\text{reshape}(T, B, d_{\\text{model}})$"
   ]
  },
  {
   "cell_type": "markdown",
   "id": "57827f62-c017-4bce-8311-aa0dca0ef947",
   "metadata": {},
   "source": [
    "### qkv, mhsa"
   ]
  },
  {
   "cell_type": "markdown",
   "id": "bbb95d9d-9249-4b9c-856d-b19085253a71",
   "metadata": {},
   "source": [
    "- $X_{\\text{flat}}=\\mathbf X.\\text{reshape}(T\\times B,d_{model})$"
   ]
  },
  {
   "cell_type": "code",
   "execution_count": 20,
   "id": "c1ea97d7-1377-4f1f-bfb8-2a7debf824d8",
   "metadata": {
    "execution": {
     "iopub.execute_input": "2024-11-09T11:36:13.857794Z",
     "iopub.status.busy": "2024-11-09T11:36:13.857493Z",
     "iopub.status.idle": "2024-11-09T11:36:13.865437Z",
     "shell.execute_reply": "2024-11-09T11:36:13.864432Z",
     "shell.execute_reply.started": "2024-11-09T11:36:13.857772Z"
    }
   },
   "outputs": [
    {
     "data": {
      "text/plain": [
       "(torch.Size([3, 2, 4]),\n",
       " tensor([[[ 1.9269,  1.4873,  0.9007, -2.1055],\n",
       "          [ 0.6784, -1.2345, -0.0431, -1.6047]],\n",
       " \n",
       "         [[ 0.3559, -0.6866, -0.4934,  0.2415],\n",
       "          [-1.1109,  0.0915, -2.3169, -0.2168]],\n",
       " \n",
       "         [[-0.3097, -0.3957,  0.8034, -0.6216],\n",
       "          [-0.5920, -0.0631, -0.8286,  0.3309]]]))"
      ]
     },
     "execution_count": 20,
     "metadata": {},
     "output_type": "execute_result"
    }
   ],
   "source": [
    "X.shape, X"
   ]
  },
  {
   "cell_type": "code",
   "execution_count": 21,
   "id": "ab770b2c-e425-4828-b623-c141e3d98420",
   "metadata": {
    "execution": {
     "iopub.execute_input": "2024-11-09T11:36:13.867682Z",
     "iopub.status.busy": "2024-11-09T11:36:13.866755Z",
     "iopub.status.idle": "2024-11-09T11:36:13.874468Z",
     "shell.execute_reply": "2024-11-09T11:36:13.873471Z",
     "shell.execute_reply.started": "2024-11-09T11:36:13.867643Z"
    }
   },
   "outputs": [
    {
     "data": {
      "text/plain": [
       "torch.Size([6, 4])"
      ]
     },
     "execution_count": 21,
     "metadata": {},
     "output_type": "execute_result"
    }
   ],
   "source": [
    "X_flat = X.reshape(-1, d)\n",
    "# (T*B, d)\n",
    "X_flat.shape"
   ]
  },
  {
   "cell_type": "markdown",
   "id": "6ff05161-6e34-4bca-a84c-fa272c734842",
   "metadata": {},
   "source": [
    "- $\\mathbf{QKV}=\\mathbf X_{\\text{flat}}\\mathbf W_{in}^T+\\mathbf b_{in}$"
   ]
  },
  {
   "cell_type": "code",
   "execution_count": 22,
   "id": "5d776fc2-90b6-4602-8748-51826c30504c",
   "metadata": {
    "execution": {
     "iopub.execute_input": "2024-11-09T11:36:13.876750Z",
     "iopub.status.busy": "2024-11-09T11:36:13.875759Z",
     "iopub.status.idle": "2024-11-09T11:36:13.883821Z",
     "shell.execute_reply": "2024-11-09T11:36:13.882796Z",
     "shell.execute_reply.started": "2024-11-09T11:36:13.876711Z"
    }
   },
   "outputs": [
    {
     "data": {
      "text/plain": [
       "torch.Size([6, 12])"
      ]
     },
     "execution_count": 22,
     "metadata": {},
     "output_type": "execute_result"
    }
   ],
   "source": [
    "QKV = F.linear(X_flat, W_in, b_in)\n",
    "QKV.shape"
   ]
  },
  {
   "cell_type": "code",
   "execution_count": 23,
   "id": "04b7b711-f897-45db-b22d-a91f0de2d3b3",
   "metadata": {
    "execution": {
     "iopub.execute_input": "2024-11-09T11:36:13.886126Z",
     "iopub.status.busy": "2024-11-09T11:36:13.885196Z",
     "iopub.status.idle": "2024-11-09T11:36:13.894422Z",
     "shell.execute_reply": "2024-11-09T11:36:13.893393Z",
     "shell.execute_reply.started": "2024-11-09T11:36:13.886086Z"
    }
   },
   "outputs": [
    {
     "data": {
      "text/plain": [
       "tensor([[ 0.0668,  1.3935, -1.1805,  0.8455, -1.2987, -0.4164,  1.8174,  0.1275,\n",
       "          1.6109,  1.8252,  0.4149, -0.3524],\n",
       "        [ 0.8724,  0.8454, -0.1481,  1.8186, -1.4116,  0.6840,  1.1799, -0.1952,\n",
       "          0.2774,  1.5957,  0.2900,  1.0896],\n",
       "        [ 0.1566, -0.1838, -0.1016,  0.7407, -0.3022, -0.0460, -0.0557, -0.3397,\n",
       "         -0.0158,  0.3054, -0.2973,  0.4672],\n",
       "        [-0.4729, -1.3182, -0.9481,  0.8103, -0.1380, -0.3860, -1.1347,  0.0943,\n",
       "          0.7324, -0.0104,  0.6872,  1.2226],\n",
       "        [ 0.4362,  0.6260,  0.5733, -0.1727, -0.1107,  0.6780,  0.5196,  0.2229,\n",
       "         -0.4313,  0.1020,  0.2595, -0.0467],\n",
       "        [-0.2227, -0.6440, -0.1496,  0.0278,  0.2149, -0.1376, -0.6585,  0.0122,\n",
       "          0.0174, -0.3351,  0.1178,  0.3368]], grad_fn=<AddmmBackward0>)"
      ]
     },
     "execution_count": 23,
     "metadata": {},
     "output_type": "execute_result"
    }
   ],
   "source": [
    "QKV"
   ]
  },
  {
   "cell_type": "code",
   "execution_count": 24,
   "id": "ea0d27ff-5f30-4694-9b47-e755e6955ee2",
   "metadata": {
    "execution": {
     "iopub.execute_input": "2024-11-09T11:36:13.896552Z",
     "iopub.status.busy": "2024-11-09T11:36:13.896080Z",
     "iopub.status.idle": "2024-11-09T11:36:13.904181Z",
     "shell.execute_reply": "2024-11-09T11:36:13.903182Z",
     "shell.execute_reply.started": "2024-11-09T11:36:13.896515Z"
    }
   },
   "outputs": [
    {
     "data": {
      "text/plain": [
       "(torch.Size([6, 4]), torch.Size([6, 4]), torch.Size([6, 4]))"
      ]
     },
     "execution_count": 24,
     "metadata": {},
     "output_type": "execute_result"
    }
   ],
   "source": [
    "Q, K, V = QKV.split(d, dim=1)\n",
    "Q.shape, K.shape, V.shape"
   ]
  },
  {
   "cell_type": "code",
   "execution_count": 25,
   "id": "6115c94e-e13f-4ce1-84c6-224579dd7934",
   "metadata": {
    "execution": {
     "iopub.execute_input": "2024-11-09T11:36:13.906023Z",
     "iopub.status.busy": "2024-11-09T11:36:13.905562Z",
     "iopub.status.idle": "2024-11-09T11:36:13.914580Z",
     "shell.execute_reply": "2024-11-09T11:36:13.913543Z",
     "shell.execute_reply.started": "2024-11-09T11:36:13.905986Z"
    }
   },
   "outputs": [
    {
     "data": {
      "text/plain": [
       "tensor([[-1.2987, -0.4164,  1.8174,  0.1275],\n",
       "        [-1.4116,  0.6840,  1.1799, -0.1952],\n",
       "        [-0.3022, -0.0460, -0.0557, -0.3397],\n",
       "        [-0.1380, -0.3860, -1.1347,  0.0943],\n",
       "        [-0.1107,  0.6780,  0.5196,  0.2229],\n",
       "        [ 0.2149, -0.1376, -0.6585,  0.0122]], grad_fn=<SplitBackward0>)"
      ]
     },
     "execution_count": 25,
     "metadata": {},
     "output_type": "execute_result"
    }
   ],
   "source": [
    "K"
   ]
  },
  {
   "cell_type": "code",
   "execution_count": 26,
   "id": "3a92698b-7ddb-4d29-86c3-c0187c1ba712",
   "metadata": {
    "execution": {
     "iopub.execute_input": "2024-11-09T11:36:13.916800Z",
     "iopub.status.busy": "2024-11-09T11:36:13.916029Z",
     "iopub.status.idle": "2024-11-09T11:36:13.923781Z",
     "shell.execute_reply": "2024-11-09T11:36:13.922738Z",
     "shell.execute_reply.started": "2024-11-09T11:36:13.916759Z"
    }
   },
   "outputs": [],
   "source": [
    "# 调整Q、K、V的形状以适应多头注意力\n",
    "d_k = d // h  # 每个头的维度\n",
    "def reshape_for_heads(x):\n",
    "    # x.shape: (T*B, h*d_k)\n",
    "    # 最末尾的维度上展开，d => h * d_k\n",
    "    # (T*B, h, d_k) => (T, B, h, d_k)\n",
    "    # permute(1, 2, 0, 3) => (B, h, T, d_k)\n",
    "    print(x.shape, x.is_contiguous())\n",
    "    y = x.contiguous().view(T, B, h, d_k).permute(1, 2, 0, 3).reshape(B * h, T, d_k)\n",
    "    print(y.shape)\n",
    "    return y"
   ]
  },
  {
   "cell_type": "code",
   "execution_count": 27,
   "id": "495e6070-ec8a-43ee-8f59-af0585d12b5e",
   "metadata": {
    "execution": {
     "iopub.execute_input": "2024-11-09T11:36:13.925977Z",
     "iopub.status.busy": "2024-11-09T11:36:13.925216Z",
     "iopub.status.idle": "2024-11-09T11:36:13.939363Z",
     "shell.execute_reply": "2024-11-09T11:36:13.938101Z",
     "shell.execute_reply.started": "2024-11-09T11:36:13.925935Z"
    }
   },
   "outputs": [
    {
     "data": {
      "text/plain": [
       "tensor([[ 0.0668,  1.3935, -1.1805,  0.8455],\n",
       "        [ 0.8724,  0.8454, -0.1481,  1.8186],\n",
       "        [ 0.1566, -0.1838, -0.1016,  0.7407],\n",
       "        [-0.4729, -1.3182, -0.9481,  0.8103],\n",
       "        [ 0.4362,  0.6260,  0.5733, -0.1727],\n",
       "        [-0.2227, -0.6440, -0.1496,  0.0278]], grad_fn=<SplitBackward0>)"
      ]
     },
     "execution_count": 27,
     "metadata": {},
     "output_type": "execute_result"
    }
   ],
   "source": [
    "Q"
   ]
  },
  {
   "cell_type": "code",
   "execution_count": 28,
   "id": "e8d376cb-41ca-407e-b533-c9542ed7b8c4",
   "metadata": {
    "execution": {
     "iopub.execute_input": "2024-11-09T11:36:13.942207Z",
     "iopub.status.busy": "2024-11-09T11:36:13.940957Z",
     "iopub.status.idle": "2024-11-09T11:36:13.951469Z",
     "shell.execute_reply": "2024-11-09T11:36:13.950307Z",
     "shell.execute_reply.started": "2024-11-09T11:36:13.942160Z"
    }
   },
   "outputs": [
    {
     "data": {
      "text/plain": [
       "tensor([[[[ 0.0668,  1.3935],\n",
       "          [-1.1805,  0.8455]],\n",
       "\n",
       "         [[ 0.8724,  0.8454],\n",
       "          [-0.1481,  1.8186]]],\n",
       "\n",
       "\n",
       "        [[[ 0.1566, -0.1838],\n",
       "          [-0.1016,  0.7407]],\n",
       "\n",
       "         [[-0.4729, -1.3182],\n",
       "          [-0.9481,  0.8103]]],\n",
       "\n",
       "\n",
       "        [[[ 0.4362,  0.6260],\n",
       "          [ 0.5733, -0.1727]],\n",
       "\n",
       "         [[-0.2227, -0.6440],\n",
       "          [-0.1496,  0.0278]]]], grad_fn=<ViewBackward0>)"
      ]
     },
     "execution_count": 28,
     "metadata": {},
     "output_type": "execute_result"
    }
   ],
   "source": [
    "Q.contiguous().view(T, B, h, d_k)"
   ]
  },
  {
   "cell_type": "code",
   "execution_count": 29,
   "id": "68e5cf44-ad88-43d6-813d-c52ff75cd6d0",
   "metadata": {
    "execution": {
     "iopub.execute_input": "2024-11-09T11:36:13.954054Z",
     "iopub.status.busy": "2024-11-09T11:36:13.953043Z",
     "iopub.status.idle": "2024-11-09T11:36:13.964139Z",
     "shell.execute_reply": "2024-11-09T11:36:13.963008Z",
     "shell.execute_reply.started": "2024-11-09T11:36:13.954004Z"
    }
   },
   "outputs": [
    {
     "data": {
      "text/plain": [
       "tensor([[[[ 0.0668,  1.3935],\n",
       "          [ 0.1566, -0.1838],\n",
       "          [ 0.4362,  0.6260]],\n",
       "\n",
       "         [[-1.1805,  0.8455],\n",
       "          [-0.1016,  0.7407],\n",
       "          [ 0.5733, -0.1727]]],\n",
       "\n",
       "\n",
       "        [[[ 0.8724,  0.8454],\n",
       "          [-0.4729, -1.3182],\n",
       "          [-0.2227, -0.6440]],\n",
       "\n",
       "         [[-0.1481,  1.8186],\n",
       "          [-0.9481,  0.8103],\n",
       "          [-0.1496,  0.0278]]]], grad_fn=<PermuteBackward0>)"
      ]
     },
     "execution_count": 29,
     "metadata": {},
     "output_type": "execute_result"
    }
   ],
   "source": [
    "# T, B, h, d_k => (B, h, T, d_k)\n",
    "Q.contiguous().view(T, B, h, d_k).permute(1, 2, 0, 3)"
   ]
  },
  {
   "cell_type": "code",
   "execution_count": 30,
   "id": "c6006e0d-167d-4559-98b6-1e927166217a",
   "metadata": {
    "execution": {
     "iopub.execute_input": "2024-11-09T11:36:13.967146Z",
     "iopub.status.busy": "2024-11-09T11:36:13.965808Z",
     "iopub.status.idle": "2024-11-09T11:36:13.975713Z",
     "shell.execute_reply": "2024-11-09T11:36:13.974562Z",
     "shell.execute_reply.started": "2024-11-09T11:36:13.967094Z"
    }
   },
   "outputs": [
    {
     "data": {
      "text/plain": [
       "False"
      ]
     },
     "execution_count": 30,
     "metadata": {},
     "output_type": "execute_result"
    }
   ],
   "source": [
    "Q.contiguous().view(T, B, h, d_k).permute(1, 2, 0, 3).is_contiguous()"
   ]
  },
  {
   "cell_type": "code",
   "execution_count": 31,
   "id": "5249727d-d68e-44e3-aece-f4d5013d62ae",
   "metadata": {
    "execution": {
     "iopub.execute_input": "2024-11-09T11:36:13.978089Z",
     "iopub.status.busy": "2024-11-09T11:36:13.977268Z",
     "iopub.status.idle": "2024-11-09T11:36:13.984389Z",
     "shell.execute_reply": "2024-11-09T11:36:13.983227Z",
     "shell.execute_reply.started": "2024-11-09T11:36:13.978045Z"
    }
   },
   "outputs": [
    {
     "name": "stdout",
     "output_type": "stream",
     "text": [
      "torch.Size([6, 4]) False\n",
      "torch.Size([4, 3, 2])\n",
      "torch.Size([6, 4]) False\n",
      "torch.Size([4, 3, 2])\n",
      "torch.Size([6, 4]) False\n",
      "torch.Size([4, 3, 2])\n"
     ]
    }
   ],
   "source": [
    "Q = reshape_for_heads(Q)\n",
    "K = reshape_for_heads(K)\n",
    "V = reshape_for_heads(V)"
   ]
  },
  {
   "cell_type": "code",
   "execution_count": 32,
   "id": "64e7d123-439d-495d-a1fd-5fd837c79604",
   "metadata": {
    "execution": {
     "iopub.execute_input": "2024-11-09T11:36:13.986209Z",
     "iopub.status.busy": "2024-11-09T11:36:13.985865Z",
     "iopub.status.idle": "2024-11-09T11:36:13.994401Z",
     "shell.execute_reply": "2024-11-09T11:36:13.993321Z",
     "shell.execute_reply.started": "2024-11-09T11:36:13.986183Z"
    }
   },
   "outputs": [
    {
     "data": {
      "text/plain": [
       "tensor([[[ 0.0668,  1.3935],\n",
       "         [ 0.1566, -0.1838],\n",
       "         [ 0.4362,  0.6260]],\n",
       "\n",
       "        [[-1.1805,  0.8455],\n",
       "         [-0.1016,  0.7407],\n",
       "         [ 0.5733, -0.1727]],\n",
       "\n",
       "        [[ 0.8724,  0.8454],\n",
       "         [-0.4729, -1.3182],\n",
       "         [-0.2227, -0.6440]],\n",
       "\n",
       "        [[-0.1481,  1.8186],\n",
       "         [-0.9481,  0.8103],\n",
       "         [-0.1496,  0.0278]]], grad_fn=<ReshapeAliasBackward0>)"
      ]
     },
     "execution_count": 32,
     "metadata": {},
     "output_type": "execute_result"
    }
   ],
   "source": [
    "Q"
   ]
  },
  {
   "cell_type": "markdown",
   "id": "152742d9-3548-4a4f-8d67-f298f5324160",
   "metadata": {},
   "source": [
    "- 6, 4\n",
    "```\n",
    "[ \n",
    " [ 0,  1,  2,  3],\n",
    " [ 4,  5,  6,  7],\n",
    " [ 8,  9, 10, 11],\n",
    " [12, 13, 14, 15],\n",
    " [16, 17, 18, 19],\n",
    " [20, 21, 22, 23]\n",
    "]\n",
    "```\n",
    "\n",
    "- `(3*2, 2*2) => (3, 2, 2, 2)`\n",
    "\n",
    "    ```\n",
    "    [\n",
    "      [  # 时间步 t=0\n",
    "        [  # 批次 b=0\n",
    "          [0, 1],    # 头 h=0\n",
    "          [2, 3]     # 头 h=1\n",
    "        ],\n",
    "        [  # 批次 b=1\n",
    "          [4, 5],\n",
    "          [6, 7]\n",
    "        ]\n",
    "      ],\n",
    "      [  # 时间步 t=1\n",
    "        [\n",
    "          [8, 9],\n",
    "          [10,11]\n",
    "        ],\n",
    "        [\n",
    "          [12,13],\n",
    "          [14,15]\n",
    "        ]\n",
    "      ],\n",
    "      [  # 时间步 t=2\n",
    "        [\n",
    "          [16,17],\n",
    "          [18,19]\n",
    "        ],\n",
    "        [\n",
    "          [20,21],\n",
    "          [22,23]\n",
    "        ]\n",
    "      ]\n",
    "    ]\n",
    "    \n",
    "    ```"
   ]
  },
  {
   "cell_type": "code",
   "execution_count": 33,
   "id": "0736898b-dfb0-422f-9ec7-1ec13b2d4444",
   "metadata": {
    "execution": {
     "iopub.execute_input": "2024-11-09T11:36:13.996038Z",
     "iopub.status.busy": "2024-11-09T11:36:13.995695Z",
     "iopub.status.idle": "2024-11-09T11:36:14.003733Z",
     "shell.execute_reply": "2024-11-09T11:36:14.002653Z",
     "shell.execute_reply.started": "2024-11-09T11:36:13.996013Z"
    }
   },
   "outputs": [
    {
     "data": {
      "text/plain": [
       "tensor([[ 0,  1,  2,  3],\n",
       "        [ 4,  5,  6,  7],\n",
       "        [ 8,  9, 10, 11],\n",
       "        [12, 13, 14, 15],\n",
       "        [16, 17, 18, 19],\n",
       "        [20, 21, 22, 23]])"
      ]
     },
     "execution_count": 33,
     "metadata": {},
     "output_type": "execute_result"
    }
   ],
   "source": [
    "A = torch.arange(24).reshape(6, 4)\n",
    "A"
   ]
  },
  {
   "cell_type": "code",
   "execution_count": 34,
   "id": "fbab9372-5dfd-4d23-9779-103ca8539620",
   "metadata": {
    "execution": {
     "iopub.execute_input": "2024-11-09T11:36:14.005512Z",
     "iopub.status.busy": "2024-11-09T11:36:14.005055Z",
     "iopub.status.idle": "2024-11-09T11:36:14.012886Z",
     "shell.execute_reply": "2024-11-09T11:36:14.011860Z",
     "shell.execute_reply.started": "2024-11-09T11:36:14.005483Z"
    }
   },
   "outputs": [
    {
     "data": {
      "text/plain": [
       "tensor([[[[ 0,  1],\n",
       "          [ 2,  3]],\n",
       "\n",
       "         [[ 4,  5],\n",
       "          [ 6,  7]]],\n",
       "\n",
       "\n",
       "        [[[ 8,  9],\n",
       "          [10, 11]],\n",
       "\n",
       "         [[12, 13],\n",
       "          [14, 15]]],\n",
       "\n",
       "\n",
       "        [[[16, 17],\n",
       "          [18, 19]],\n",
       "\n",
       "         [[20, 21],\n",
       "          [22, 23]]]])"
      ]
     },
     "execution_count": 34,
     "metadata": {},
     "output_type": "execute_result"
    }
   ],
   "source": [
    "A.reshape(3, 2, 2, 2)"
   ]
  },
  {
   "cell_type": "markdown",
   "id": "110be36c-30e8-4168-ba47-4f663361509b",
   "metadata": {},
   "source": [
    "### einsum => einops"
   ]
  },
  {
   "cell_type": "markdown",
   "id": "af4535f5-e12d-48f1-94bf-c4eeb8f7626d",
   "metadata": {},
   "source": [
    "- einsum: 顾名思义，更多是求和约定；不太适合直接做 reshape"
   ]
  },
  {
   "cell_type": "code",
   "execution_count": 35,
   "id": "f68e1e19-a47b-4428-9347-c34e270e3110",
   "metadata": {
    "execution": {
     "iopub.execute_input": "2024-11-09T11:36:14.014798Z",
     "iopub.status.busy": "2024-11-09T11:36:14.014160Z",
     "iopub.status.idle": "2024-11-09T11:36:14.023767Z",
     "shell.execute_reply": "2024-11-09T11:36:14.022636Z",
     "shell.execute_reply.started": "2024-11-09T11:36:14.014770Z"
    }
   },
   "outputs": [],
   "source": [
    "from einops import rearrange"
   ]
  },
  {
   "cell_type": "markdown",
   "id": "ca8fc689-1437-414d-8480-43de8b2734bd",
   "metadata": {},
   "source": [
    "$$\n",
    "\\begin{align*}\n",
    "    \\mathbf{Q}_{\\text{heads}} &= \\mathbf{Q}.\\text{reshape}(T, B, h, d_k).\\text{permute}(1, 2, 0, 3).\\text{reshape}(B \\times h, T, d_k) \\\\\n",
    "    \\mathbf{K}_{\\text{heads}} &= \\mathbf{K}.\\text{reshape}(T, B, h, d_k).\\text{permute}(1, 2, 0, 3).\\text{reshape}(B \\times h, T, d_k) \\\\\n",
    "    \\mathbf{V}_{\\text{heads}} &= \\mathbf{V}.\\text{reshape}(T, B, h, d_k).\\text{permute}(1, 2, 0, 3).\\text{reshape}(B \\times h, T, d_k)\n",
    "\\end{align*}\n",
    "$$"
   ]
  },
  {
   "cell_type": "code",
   "execution_count": 36,
   "id": "9a8dcb04-2b07-4960-bfcb-8102db0d6c09",
   "metadata": {
    "execution": {
     "iopub.execute_input": "2024-11-09T11:36:14.025477Z",
     "iopub.status.busy": "2024-11-09T11:36:14.025120Z",
     "iopub.status.idle": "2024-11-09T11:36:14.033195Z",
     "shell.execute_reply": "2024-11-09T11:36:14.032131Z",
     "shell.execute_reply.started": "2024-11-09T11:36:14.025450Z"
    }
   },
   "outputs": [
    {
     "data": {
      "text/plain": [
       "(torch.Size([6, 4]), torch.Size([6, 4]), torch.Size([6, 4]))"
      ]
     },
     "execution_count": 36,
     "metadata": {},
     "output_type": "execute_result"
    }
   ],
   "source": [
    "Q, K, V = QKV.split(d, dim=1)\n",
    "# (T*B, h*d_k)\n",
    "Q.shape, K.shape, V.shape"
   ]
  },
  {
   "cell_type": "code",
   "execution_count": 37,
   "id": "2a36d59c-5cfe-42f9-b139-2aa26b5e6112",
   "metadata": {
    "execution": {
     "iopub.execute_input": "2024-11-09T11:36:14.035138Z",
     "iopub.status.busy": "2024-11-09T11:36:14.034487Z",
     "iopub.status.idle": "2024-11-09T11:36:14.488416Z",
     "shell.execute_reply": "2024-11-09T11:36:14.487513Z",
     "shell.execute_reply.started": "2024-11-09T11:36:14.035111Z"
    }
   },
   "outputs": [
    {
     "ename": "RuntimeError",
     "evalue": "einsum(): invalid subscript given at index 9 in the equation string, subscripts must be in [a-zA-Z]",
     "output_type": "error",
     "traceback": [
      "\u001b[0;31m---------------------------------------------------------------------------\u001b[0m",
      "\u001b[0;31mRuntimeError\u001b[0m                              Traceback (most recent call last)",
      "Cell \u001b[0;32mIn[37], line 1\u001b[0m\n\u001b[0;32m----> 1\u001b[0m \u001b[43mtorch\u001b[49m\u001b[38;5;241;43m.\u001b[39;49m\u001b[43meinsum\u001b[49m\u001b[43m(\u001b[49m\u001b[38;5;124;43m'\u001b[39;49m\u001b[38;5;124;43mt b h k->(b h) t k\u001b[39;49m\u001b[38;5;124;43m'\u001b[39;49m\u001b[43m,\u001b[49m\u001b[43m \u001b[49m\u001b[43mQ\u001b[49m\u001b[38;5;241;43m.\u001b[39;49m\u001b[43mcontiguous\u001b[49m\u001b[43m(\u001b[49m\u001b[43m)\u001b[49m\u001b[38;5;241;43m.\u001b[39;49m\u001b[43mreshape\u001b[49m\u001b[43m(\u001b[49m\u001b[43mT\u001b[49m\u001b[43m,\u001b[49m\u001b[43m \u001b[49m\u001b[43mB\u001b[49m\u001b[43m,\u001b[49m\u001b[43m \u001b[49m\u001b[43mh\u001b[49m\u001b[43m,\u001b[49m\u001b[43m \u001b[49m\u001b[43md_k\u001b[49m\u001b[43m)\u001b[49m\u001b[43m)\u001b[49m\n",
      "File \u001b[0;32m~/anaconda3/lib/python3.10/site-packages/torch/functional.py:386\u001b[0m, in \u001b[0;36meinsum\u001b[0;34m(*args)\u001b[0m\n\u001b[1;32m    381\u001b[0m     \u001b[38;5;28;01mreturn\u001b[39;00m einsum(equation, \u001b[38;5;241m*\u001b[39m_operands)\n\u001b[1;32m    383\u001b[0m \u001b[38;5;28;01mif\u001b[39;00m \u001b[38;5;28mlen\u001b[39m(operands) \u001b[38;5;241m<\u001b[39m\u001b[38;5;241m=\u001b[39m \u001b[38;5;241m2\u001b[39m \u001b[38;5;129;01mor\u001b[39;00m \u001b[38;5;129;01mnot\u001b[39;00m opt_einsum\u001b[38;5;241m.\u001b[39menabled:\n\u001b[1;32m    384\u001b[0m     \u001b[38;5;66;03m# the path for contracting 0 or 1 time(s) is already optimized\u001b[39;00m\n\u001b[1;32m    385\u001b[0m     \u001b[38;5;66;03m# or the user has disabled using opt_einsum\u001b[39;00m\n\u001b[0;32m--> 386\u001b[0m     \u001b[38;5;28;01mreturn\u001b[39;00m \u001b[43m_VF\u001b[49m\u001b[38;5;241;43m.\u001b[39;49m\u001b[43meinsum\u001b[49m\u001b[43m(\u001b[49m\u001b[43mequation\u001b[49m\u001b[43m,\u001b[49m\u001b[43m \u001b[49m\u001b[43moperands\u001b[49m\u001b[43m)\u001b[49m  \u001b[38;5;66;03m# type: ignore[attr-defined]\u001b[39;00m\n\u001b[1;32m    388\u001b[0m path \u001b[38;5;241m=\u001b[39m \u001b[38;5;28;01mNone\u001b[39;00m\n\u001b[1;32m    389\u001b[0m \u001b[38;5;28;01mif\u001b[39;00m opt_einsum\u001b[38;5;241m.\u001b[39mis_available():\n",
      "\u001b[0;31mRuntimeError\u001b[0m: einsum(): invalid subscript given at index 9 in the equation string, subscripts must be in [a-zA-Z]"
     ]
    }
   ],
   "source": [
    "torch.einsum('t b h k->(b h) t k', Q.contiguous().reshape(T, B, h, d_k))"
   ]
  },
  {
   "cell_type": "code",
   "execution_count": 38,
   "id": "da2b5a95-3af0-489b-bd53-eedef43edc98",
   "metadata": {
    "execution": {
     "iopub.execute_input": "2024-11-09T11:36:29.503308Z",
     "iopub.status.busy": "2024-11-09T11:36:29.502981Z",
     "iopub.status.idle": "2024-11-09T11:36:30.242338Z",
     "shell.execute_reply": "2024-11-09T11:36:30.240599Z",
     "shell.execute_reply.started": "2024-11-09T11:36:29.503279Z"
    }
   },
   "outputs": [
    {
     "data": {
      "text/plain": [
       "tensor([[[[ 0.0668,  1.3935],\n",
       "          [-1.1805,  0.8455]],\n",
       "\n",
       "         [[ 0.8724,  0.8454],\n",
       "          [-0.1481,  1.8186]]],\n",
       "\n",
       "\n",
       "        [[[ 0.1566, -0.1838],\n",
       "          [-0.1016,  0.7407]],\n",
       "\n",
       "         [[-0.4729, -1.3182],\n",
       "          [-0.9481,  0.8103]]],\n",
       "\n",
       "\n",
       "        [[[ 0.4362,  0.6260],\n",
       "          [ 0.5733, -0.1727]],\n",
       "\n",
       "         [[-0.2227, -0.6440],\n",
       "          [-0.1496,  0.0278]]]], grad_fn=<ReshapeAliasBackward0>)"
      ]
     },
     "execution_count": 38,
     "metadata": {},
     "output_type": "execute_result"
    }
   ],
   "source": [
    "rearrange(Q, '(T B) (h d_k) -> T B h d_k', T=T, B=B, h=h, d_k=d_k)"
   ]
  },
  {
   "cell_type": "code",
   "execution_count": 39,
   "id": "5aabc6db-e5af-48b3-a3fc-eaaf5a237d27",
   "metadata": {
    "execution": {
     "iopub.execute_input": "2024-11-09T11:36:33.024775Z",
     "iopub.status.busy": "2024-11-09T11:36:33.024342Z",
     "iopub.status.idle": "2024-11-09T11:36:33.037575Z",
     "shell.execute_reply": "2024-11-09T11:36:33.035268Z",
     "shell.execute_reply.started": "2024-11-09T11:36:33.024752Z"
    }
   },
   "outputs": [
    {
     "data": {
      "text/plain": [
       "tensor([[[[ 0.0668,  1.3935],\n",
       "          [ 0.1566, -0.1838],\n",
       "          [ 0.4362,  0.6260]],\n",
       "\n",
       "         [[-1.1805,  0.8455],\n",
       "          [-0.1016,  0.7407],\n",
       "          [ 0.5733, -0.1727]]],\n",
       "\n",
       "\n",
       "        [[[ 0.8724,  0.8454],\n",
       "          [-0.4729, -1.3182],\n",
       "          [-0.2227, -0.6440]],\n",
       "\n",
       "         [[-0.1481,  1.8186],\n",
       "          [-0.9481,  0.8103],\n",
       "          [-0.1496,  0.0278]]]], grad_fn=<PermuteBackward0>)"
      ]
     },
     "execution_count": 39,
     "metadata": {},
     "output_type": "execute_result"
    }
   ],
   "source": [
    "rearrange(Q, '(T B) (h d_k) -> B h T d_k', T=T, B=B, h=h, d_k=d_k)"
   ]
  },
  {
   "cell_type": "code",
   "execution_count": 40,
   "id": "5feedd85-4a7d-4362-87a9-6d0c39825636",
   "metadata": {
    "execution": {
     "iopub.execute_input": "2024-11-09T11:36:35.240447Z",
     "iopub.status.busy": "2024-11-09T11:36:35.239832Z",
     "iopub.status.idle": "2024-11-09T11:36:35.257725Z",
     "shell.execute_reply": "2024-11-09T11:36:35.255624Z",
     "shell.execute_reply.started": "2024-11-09T11:36:35.240403Z"
    }
   },
   "outputs": [
    {
     "data": {
      "text/plain": [
       "tensor([[[ 0.0668,  1.3935],\n",
       "         [ 0.1566, -0.1838],\n",
       "         [ 0.4362,  0.6260]],\n",
       "\n",
       "        [[-1.1805,  0.8455],\n",
       "         [-0.1016,  0.7407],\n",
       "         [ 0.5733, -0.1727]],\n",
       "\n",
       "        [[ 0.8724,  0.8454],\n",
       "         [-0.4729, -1.3182],\n",
       "         [-0.2227, -0.6440]],\n",
       "\n",
       "        [[-0.1481,  1.8186],\n",
       "         [-0.9481,  0.8103],\n",
       "         [-0.1496,  0.0278]]], grad_fn=<UnsafeViewBackward0>)"
      ]
     },
     "execution_count": 40,
     "metadata": {},
     "output_type": "execute_result"
    }
   ],
   "source": [
    "rearrange(rearrange(Q, '(T B) (h d_k) -> B h T d_k', T=T, B=B, h=h, d_k=d_k), 'B h T d_k -> (B h) T d_k', T=T, B=B, h=h, d_k=d_k)"
   ]
  },
  {
   "cell_type": "code",
   "execution_count": 41,
   "id": "6b58690e-b313-465d-88ae-eff059e6fb6d",
   "metadata": {
    "execution": {
     "iopub.execute_input": "2024-11-09T11:36:37.172111Z",
     "iopub.status.busy": "2024-11-09T11:36:37.171508Z",
     "iopub.status.idle": "2024-11-09T11:36:37.188662Z",
     "shell.execute_reply": "2024-11-09T11:36:37.186553Z",
     "shell.execute_reply.started": "2024-11-09T11:36:37.172067Z"
    }
   },
   "outputs": [
    {
     "data": {
      "text/plain": [
       "tensor([[[ 0.0668,  1.3935],\n",
       "         [ 0.1566, -0.1838],\n",
       "         [ 0.4362,  0.6260]],\n",
       "\n",
       "        [[-1.1805,  0.8455],\n",
       "         [-0.1016,  0.7407],\n",
       "         [ 0.5733, -0.1727]],\n",
       "\n",
       "        [[ 0.8724,  0.8454],\n",
       "         [-0.4729, -1.3182],\n",
       "         [-0.2227, -0.6440]],\n",
       "\n",
       "        [[-0.1481,  1.8186],\n",
       "         [-0.9481,  0.8103],\n",
       "         [-0.1496,  0.0278]]], grad_fn=<UnsafeViewBackward0>)"
      ]
     },
     "execution_count": 41,
     "metadata": {},
     "output_type": "execute_result"
    }
   ],
   "source": [
    "rearrange(Q, '(T B) (h d_k) -> (B h) T d_k', T=T, B=B, h=h, d_k=d_k)"
   ]
  }
 ],
 "metadata": {
  "kernelspec": {
   "display_name": "Python 3 (ipykernel)",
   "language": "python",
   "name": "python3"
  },
  "language_info": {
   "codemirror_mode": {
    "name": "ipython",
    "version": 3
   },
   "file_extension": ".py",
   "mimetype": "text/x-python",
   "name": "python",
   "nbconvert_exporter": "python",
   "pygments_lexer": "ipython3",
   "version": "3.10.13"
  }
 },
 "nbformat": 4,
 "nbformat_minor": 5
}
