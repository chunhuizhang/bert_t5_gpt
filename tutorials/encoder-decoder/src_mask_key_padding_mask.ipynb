{
 "cells": [
  {
   "cell_type": "markdown",
   "id": "0498d37b-eb81-4409-a5ed-2dfa3223fa58",
   "metadata": {},
   "source": [
    "- encoder forward\n",
    "    - src_mask: 实现因果注意力（casual），这种 mask 一般用在 decoder 中；\n",
    "        - 编码器需要全面地了解整个输入序列，以捕获全局特征。\n",
    "    - src_key_padding_mask\n",
    "        - 在处理变长序列时（整理成 batch 时），对齐批次中的序列长度所添加的填充符号进行掩盖。\n",
    "        - key 指的是 QKV 中的 key，\n",
    "- decoder forward\n",
    "    - tgt_mask：实现因果注意力（casual）；\n",
    "    - tgt_key_padding_mask\n",
    "    - memory_mask\n",
    "    - memory_key_padding_mask\n",
    "- 底层主要是 `MultiheadAttention` 的 forward\n",
    "    - attn_mask\n",
    "    - key_padding_mask"
   ]
  },
  {
   "cell_type": "markdown",
   "id": "8e33f751-a423-4330-873c-8555c7ebf199",
   "metadata": {},
   "source": [
    "### QKV"
   ]
  },
  {
   "cell_type": "markdown",
   "id": "bfd35498-dd1f-4ea6-bcb6-ad1f6b4a1b1c",
   "metadata": {},
   "source": [
    "$$\n",
    "\\text{Attention}(Q,K,V)=\\text{softmax}\\left(\\frac{QK^T}{\\sqrt{d_k}}\\right)V\n",
    "$$\n",
    "- QKV\n",
    "    - Q: $\\text{seq\\_len}_Q,d_k$\n",
    "    - K: $\\text{seq\\_len}_K,d_k$\n",
    "    - V: $\\text{seq\\_len}_K,d_v$\n",
    "    - K和V的长度是一致的；\n",
    "- 查询（Query）决定了谁在“看”\n",
    "    - 查询的位置对应于输出的位置，即我们希望为哪些位置生成新的表示。\n",
    "    - 通常，我们不会掩盖查询的位置，因为这意味着不为该位置生成表示。\n",
    "- 值（Value）决定了提供什么信息\n",
    "    - 虽然值和键的序列长度相同，但在注意力计算中，掩盖键的位置已经足够，因为对应的值也会被忽略。\n",
    "- 键（Key）决定了能“被看见”哪些信息：通过掩盖键的位置，我们控制了查询能够关注哪些位置。\n",
    "    - 在注意力计算中，每个查询位置 $i$ 会对所有键位置 $j$ 计算注意力得分 $\\text{Scores}_{i,j}$。\n",
    "    - 当我们想要掩盖键的位置（如填充的位置），防止查询关注到这些位置，就需要对键应用掩码。\n",
    "    - `key_padding_mask`: $\\text{batch\\_size}, \\text{seq\\_len}_K$\n",
    "        - 对于批次中的每个样本，标记哪些键位置是需要被掩盖的。"
   ]
  },
  {
   "cell_type": "markdown",
   "id": "d5276295-1db8-4dcb-940b-a9b770d57405",
   "metadata": {},
   "source": [
    "### `mask` 与 `key_padding_mask`"
   ]
  },
  {
   "cell_type": "code",
   "execution_count": 1,
   "id": "93276a70-ad9d-4551-9f5d-b079b47b8f56",
   "metadata": {
    "execution": {
     "iopub.execute_input": "2024-11-16T08:58:53.924298Z",
     "iopub.status.busy": "2024-11-16T08:58:53.923353Z",
     "iopub.status.idle": "2024-11-16T08:58:55.362942Z",
     "shell.execute_reply": "2024-11-16T08:58:55.361169Z",
     "shell.execute_reply.started": "2024-11-16T08:58:53.924255Z"
    }
   },
   "outputs": [],
   "source": [
    "import torch\n",
    "import torch.nn as nn\n",
    "import torch.nn.functional as F"
   ]
  },
  {
   "cell_type": "code",
   "execution_count": 2,
   "id": "622476eb-4fd0-4d80-9309-b31cc2e6bab9",
   "metadata": {
    "execution": {
     "iopub.execute_input": "2024-11-16T08:58:55.364521Z",
     "iopub.status.busy": "2024-11-16T08:58:55.364229Z",
     "iopub.status.idle": "2024-11-16T08:58:55.371742Z",
     "shell.execute_reply": "2024-11-16T08:58:55.370023Z",
     "shell.execute_reply.started": "2024-11-16T08:58:55.364503Z"
    }
   },
   "outputs": [],
   "source": [
    "# 定义一些超参数\n",
    "batch_size = 2\n",
    "seq_len = 4\n",
    "d_model = 8  # 嵌入维度"
   ]
  },
  {
   "cell_type": "code",
   "execution_count": 3,
   "id": "8ef87056-dd3e-454c-8a9d-54ba79fc8bc2",
   "metadata": {
    "execution": {
     "iopub.execute_input": "2024-11-16T08:58:55.372688Z",
     "iopub.status.busy": "2024-11-16T08:58:55.372474Z",
     "iopub.status.idle": "2024-11-16T08:58:55.397718Z",
     "shell.execute_reply": "2024-11-16T08:58:55.396787Z",
     "shell.execute_reply.started": "2024-11-16T08:58:55.372672Z"
    }
   },
   "outputs": [
    {
     "data": {
      "text/plain": [
       "tensor([[False,  True,  True,  True],\n",
       "        [False, False,  True,  True],\n",
       "        [False, False, False,  True],\n",
       "        [False, False, False, False]])"
      ]
     },
     "execution_count": 3,
     "metadata": {},
     "output_type": "execute_result"
    }
   ],
   "source": [
    "src_mask = torch.triu(torch.ones(seq_len, seq_len), diagonal=1).bool()\n",
    "src_mask"
   ]
  },
  {
   "cell_type": "code",
   "execution_count": 4,
   "id": "ec181069-b27c-44f2-9cf0-14d8f1f15c92",
   "metadata": {
    "execution": {
     "iopub.execute_input": "2024-11-16T08:58:55.398947Z",
     "iopub.status.busy": "2024-11-16T08:58:55.398732Z",
     "iopub.status.idle": "2024-11-16T08:58:55.404372Z",
     "shell.execute_reply": "2024-11-16T08:58:55.403267Z",
     "shell.execute_reply.started": "2024-11-16T08:58:55.398932Z"
    }
   },
   "outputs": [],
   "source": [
    "# 序列1：长度为4\n",
    "seq1 = torch.tensor([1, 2, 3, 4])\n",
    "\n",
    "# 序列2：长度为2，需要填充\n",
    "seq2 = torch.tensor([5, 6])"
   ]
  },
  {
   "cell_type": "code",
   "execution_count": 5,
   "id": "4ab67f4c-fb18-4a3a-bf07-4e0a1d578cd9",
   "metadata": {
    "execution": {
     "iopub.execute_input": "2024-11-16T08:58:55.405560Z",
     "iopub.status.busy": "2024-11-16T08:58:55.405339Z",
     "iopub.status.idle": "2024-11-16T08:58:55.417909Z",
     "shell.execute_reply": "2024-11-16T08:58:55.416198Z",
     "shell.execute_reply.started": "2024-11-16T08:58:55.405543Z"
    }
   },
   "outputs": [
    {
     "data": {
      "text/plain": [
       "tensor([5, 6, 0, 0])"
      ]
     },
     "execution_count": 5,
     "metadata": {},
     "output_type": "execute_result"
    }
   ],
   "source": [
    "pad_token = 0\n",
    "padded_seq2 = torch.nn.functional.pad(seq2, (0, seq_len - len(seq2)), value=pad_token)\n",
    "padded_seq2"
   ]
  },
  {
   "cell_type": "code",
   "execution_count": 6,
   "id": "0390ecae-392a-427b-a384-4fa92cc29c34",
   "metadata": {
    "execution": {
     "iopub.execute_input": "2024-11-16T08:58:55.421131Z",
     "iopub.status.busy": "2024-11-16T08:58:55.420677Z",
     "iopub.status.idle": "2024-11-16T08:58:55.428776Z",
     "shell.execute_reply": "2024-11-16T08:58:55.427564Z",
     "shell.execute_reply.started": "2024-11-16T08:58:55.421112Z"
    }
   },
   "outputs": [
    {
     "data": {
      "text/plain": [
       "tensor([[1, 2, 3, 4],\n",
       "        [5, 6, 0, 0]])"
      ]
     },
     "execution_count": 6,
     "metadata": {},
     "output_type": "execute_result"
    }
   ],
   "source": [
    "src = torch.stack([seq1, padded_seq2])  # 形状：[batch_size, seq_len]\n",
    "src"
   ]
  },
  {
   "cell_type": "code",
   "execution_count": 7,
   "id": "66879430-df91-4124-9ac8-e10d41f4ab1c",
   "metadata": {
    "execution": {
     "iopub.execute_input": "2024-11-16T08:58:55.429792Z",
     "iopub.status.busy": "2024-11-16T08:58:55.429557Z",
     "iopub.status.idle": "2024-11-16T08:58:55.440701Z",
     "shell.execute_reply": "2024-11-16T08:58:55.439008Z",
     "shell.execute_reply.started": "2024-11-16T08:58:55.429775Z"
    }
   },
   "outputs": [
    {
     "data": {
      "text/plain": [
       "tensor([[False, False, False, False],\n",
       "        [False, False,  True,  True]])"
      ]
     },
     "execution_count": 7,
     "metadata": {},
     "output_type": "execute_result"
    }
   ],
   "source": [
    "src_key_padding_mask = (src == pad_token)  # 形状：[batch_size, seq_len]\n",
    "src_key_padding_mask"
   ]
  },
  {
   "cell_type": "markdown",
   "id": "2d7c21c1-311c-4742-a6f1-d00d156eeeaf",
   "metadata": {},
   "source": [
    "### MHA"
   ]
  },
  {
   "cell_type": "code",
   "execution_count": 8,
   "id": "a9045098-db4b-47ca-a954-5d1c781f3b95",
   "metadata": {
    "execution": {
     "iopub.execute_input": "2024-11-16T08:58:55.442104Z",
     "iopub.status.busy": "2024-11-16T08:58:55.441835Z",
     "iopub.status.idle": "2024-11-16T08:58:55.449226Z",
     "shell.execute_reply": "2024-11-16T08:58:55.447965Z",
     "shell.execute_reply.started": "2024-11-16T08:58:55.442084Z"
    }
   },
   "outputs": [],
   "source": [
    "# 定义输入参数\n",
    "batch_size = 2\n",
    "seq_len = 4\n",
    "embed_dim = 3\n",
    "num_heads = 1  # 为了简单起见，使用单头注意力\n",
    "\n",
    "# 创建输入张量（查询、键、值），形状为 [seq_len, batch_size, embed_dim]\n",
    "# 注意：在 PyTorch 中，注意力模块的输入形状是 [seq_len, batch_size, embed_dim]\n",
    "query = torch.randn(seq_len, batch_size, embed_dim)\n",
    "key = torch.randn(seq_len, batch_size, embed_dim)\n",
    "value = torch.randn(seq_len, batch_size, embed_dim)"
   ]
  },
  {
   "cell_type": "code",
   "execution_count": 9,
   "id": "3c0500b6-74bc-46cd-976e-6f57c878a4a7",
   "metadata": {
    "execution": {
     "iopub.execute_input": "2024-11-16T08:58:55.450178Z",
     "iopub.status.busy": "2024-11-16T08:58:55.449928Z",
     "iopub.status.idle": "2024-11-16T08:58:55.459842Z",
     "shell.execute_reply": "2024-11-16T08:58:55.459194Z",
     "shell.execute_reply.started": "2024-11-16T08:58:55.450144Z"
    }
   },
   "outputs": [
    {
     "data": {
      "text/plain": [
       "tensor([[False,  True,  True,  True],\n",
       "        [False, False,  True,  True],\n",
       "        [False, False, False,  True],\n",
       "        [False, False, False, False]])"
      ]
     },
     "execution_count": 9,
     "metadata": {},
     "output_type": "execute_result"
    }
   ],
   "source": [
    "src_mask = torch.triu(torch.ones(seq_len, seq_len), diagonal=1).bool()\n",
    "src_mask"
   ]
  },
  {
   "cell_type": "code",
   "execution_count": 10,
   "id": "d0e9da72-e894-41ce-90ce-d578edfa700e",
   "metadata": {
    "execution": {
     "iopub.execute_input": "2024-11-16T08:58:55.460991Z",
     "iopub.status.busy": "2024-11-16T08:58:55.460760Z",
     "iopub.status.idle": "2024-11-16T08:58:55.468517Z",
     "shell.execute_reply": "2024-11-16T08:58:55.467015Z",
     "shell.execute_reply.started": "2024-11-16T08:58:55.460974Z"
    }
   },
   "outputs": [],
   "source": [
    "src_key_padding_mask = torch.tensor([\n",
    "    [False, False, False, True],  # 第一个序列，最后一个位置是填充\n",
    "    [False, False, False, False]  # 第二个序列，无填充\n",
    "])"
   ]
  },
  {
   "cell_type": "code",
   "execution_count": 11,
   "id": "c87e940b-a964-4ef0-aab5-53a97cc26101",
   "metadata": {
    "execution": {
     "iopub.execute_input": "2024-11-16T08:58:55.470005Z",
     "iopub.status.busy": "2024-11-16T08:58:55.469711Z",
     "iopub.status.idle": "2024-11-16T08:58:55.478119Z",
     "shell.execute_reply": "2024-11-16T08:58:55.476952Z",
     "shell.execute_reply.started": "2024-11-16T08:58:55.469983Z"
    }
   },
   "outputs": [],
   "source": [
    "# 定义线性变换的权重和偏置（为了简单，我们使用随机初始化）\n",
    "W_q = torch.randn(embed_dim, embed_dim)\n",
    "W_k = torch.randn(embed_dim, embed_dim)\n",
    "W_v = torch.randn(embed_dim, embed_dim)\n",
    "\n",
    "# 偏置项\n",
    "b_q = torch.randn(embed_dim)\n",
    "b_k = torch.randn(embed_dim)\n",
    "b_v = torch.randn(embed_dim)"
   ]
  },
  {
   "cell_type": "code",
   "execution_count": 12,
   "id": "63dec723-6ad0-40d7-922f-467890815bec",
   "metadata": {
    "execution": {
     "iopub.execute_input": "2024-11-16T08:58:55.479381Z",
     "iopub.status.busy": "2024-11-16T08:58:55.479072Z",
     "iopub.status.idle": "2024-11-16T08:58:55.488173Z",
     "shell.execute_reply": "2024-11-16T08:58:55.487089Z",
     "shell.execute_reply.started": "2024-11-16T08:58:55.479358Z"
    }
   },
   "outputs": [],
   "source": [
    "# 定义 out_proj 的权重和偏置\n",
    "W_o = torch.eye(embed_dim)  # 使用单位矩阵\n",
    "b_o = torch.zeros(embed_dim)"
   ]
  },
  {
   "cell_type": "code",
   "execution_count": 13,
   "id": "e1a580b0-a49b-4924-8d9a-0127be083246",
   "metadata": {
    "execution": {
     "iopub.execute_input": "2024-11-16T08:58:55.489731Z",
     "iopub.status.busy": "2024-11-16T08:58:55.489419Z",
     "iopub.status.idle": "2024-11-16T08:58:55.501872Z",
     "shell.execute_reply": "2024-11-16T08:58:55.500720Z",
     "shell.execute_reply.started": "2024-11-16T08:58:55.489706Z"
    }
   },
   "outputs": [],
   "source": [
    "# 设置 in_proj_weight 和 in_proj_bias\n",
    "in_proj_weight = torch.cat([W_q, W_k, W_v], dim=0)  # [3 * embed_dim, embed_dim]\n",
    "in_proj_bias = torch.cat([b_q, b_k, b_v])  # [3 * embed_dim]"
   ]
  },
  {
   "cell_type": "code",
   "execution_count": 14,
   "id": "dcc6bf9b-fd98-4ab2-87a9-ba191210b220",
   "metadata": {
    "execution": {
     "iopub.execute_input": "2024-11-16T08:58:55.504000Z",
     "iopub.status.busy": "2024-11-16T08:58:55.503457Z",
     "iopub.status.idle": "2024-11-16T08:58:55.510636Z",
     "shell.execute_reply": "2024-11-16T08:58:55.509814Z",
     "shell.execute_reply.started": "2024-11-16T08:58:55.503970Z"
    }
   },
   "outputs": [],
   "source": [
    "# 转置输入以匹配线性层的输入形状 [batch_size, seq_len, embed_dim]\n",
    "query_t = query.transpose(0, 1)  # [batch_size, seq_len, embed_dim]\n",
    "key_t = key.transpose(0, 1)\n",
    "value_t = value.transpose(0, 1)"
   ]
  },
  {
   "cell_type": "code",
   "execution_count": 15,
   "id": "57bd807b-525b-43bf-a4fe-123c96533c1d",
   "metadata": {
    "execution": {
     "iopub.execute_input": "2024-11-16T08:58:55.512378Z",
     "iopub.status.busy": "2024-11-16T08:58:55.511850Z",
     "iopub.status.idle": "2024-11-16T08:58:55.520533Z",
     "shell.execute_reply": "2024-11-16T08:58:55.519406Z",
     "shell.execute_reply.started": "2024-11-16T08:58:55.512349Z"
    }
   },
   "outputs": [],
   "source": [
    "# 进行线性变换\n",
    "Q = torch.matmul(query_t, W_q.T) + b_q  # [batch_size, seq_len, embed_dim]\n",
    "K = torch.matmul(key_t, W_k.T) + b_k\n",
    "V = torch.matmul(value_t, W_v.T) + b_v"
   ]
  },
  {
   "cell_type": "code",
   "execution_count": 16,
   "id": "3b6adc14-751e-4e07-811b-da7fccda3736",
   "metadata": {
    "execution": {
     "iopub.execute_input": "2024-11-16T08:58:55.522667Z",
     "iopub.status.busy": "2024-11-16T08:58:55.521851Z",
     "iopub.status.idle": "2024-11-16T08:58:55.533117Z",
     "shell.execute_reply": "2024-11-16T08:58:55.531952Z",
     "shell.execute_reply.started": "2024-11-16T08:58:55.522637Z"
    }
   },
   "outputs": [],
   "source": [
    "scores = torch.bmm(Q, K.transpose(1, 2)) / (embed_dim ** 0.5)  # [batch_size, seq_len, seq_len]"
   ]
  },
  {
   "cell_type": "code",
   "execution_count": 17,
   "id": "29353073-3913-407b-8003-a73a5706e1d1",
   "metadata": {
    "execution": {
     "iopub.execute_input": "2024-11-16T08:58:55.535214Z",
     "iopub.status.busy": "2024-11-16T08:58:55.534624Z",
     "iopub.status.idle": "2024-11-16T08:58:55.544995Z",
     "shell.execute_reply": "2024-11-16T08:58:55.543412Z",
     "shell.execute_reply.started": "2024-11-16T08:58:55.535179Z"
    }
   },
   "outputs": [],
   "source": [
    "# 应用 src_mask\n",
    "src_mask_expanded = src_mask.unsqueeze(0).expand(batch_size, seq_len, seq_len)\n",
    "scores = scores.masked_fill(src_mask_expanded, float('-inf'))"
   ]
  },
  {
   "cell_type": "code",
   "execution_count": 18,
   "id": "c1a7bc94-23d9-4b87-bea0-d3cf0e2bd497",
   "metadata": {
    "execution": {
     "iopub.execute_input": "2024-11-16T08:58:55.546889Z",
     "iopub.status.busy": "2024-11-16T08:58:55.546486Z",
     "iopub.status.idle": "2024-11-16T08:58:55.554033Z",
     "shell.execute_reply": "2024-11-16T08:58:55.552821Z",
     "shell.execute_reply.started": "2024-11-16T08:58:55.546857Z"
    }
   },
   "outputs": [],
   "source": [
    "# 应用 src_key_padding_mask，需要在注意力权重矩阵中屏蔽对应的键的位置\n",
    "key_padding_mask_expanded = src_key_padding_mask.unsqueeze(1).expand(batch_size, seq_len, seq_len)\n",
    "scores = scores.masked_fill(key_padding_mask_expanded, float('-inf'))"
   ]
  },
  {
   "cell_type": "code",
   "execution_count": 19,
   "id": "5e56bba3-e3e8-4b4f-be0b-5c44aab3adbe",
   "metadata": {
    "execution": {
     "iopub.execute_input": "2024-11-16T08:58:55.556171Z",
     "iopub.status.busy": "2024-11-16T08:58:55.555760Z",
     "iopub.status.idle": "2024-11-16T08:58:55.564065Z",
     "shell.execute_reply": "2024-11-16T08:58:55.563050Z",
     "shell.execute_reply.started": "2024-11-16T08:58:55.556128Z"
    }
   },
   "outputs": [],
   "source": [
    "# 计算注意力权重\n",
    "attn_weights = F.softmax(scores, dim=-1)  # [batch_size, seq_len, seq_len]\n",
    "\n",
    "# 计算注意力输出\n",
    "attn_output = torch.bmm(attn_weights, V)  # [batch_size, seq_len, embed_dim]\n",
    "\n",
    "# 应用 out_proj 层\n",
    "output = torch.matmul(attn_output, W_o.T) + b_o  # [batch_size, seq_len, embed_dim]\n",
    "\n",
    "# 转置回 [seq_len, batch_size, embed_dim]\n",
    "output = output.transpose(0, 1)"
   ]
  },
  {
   "cell_type": "code",
   "execution_count": 20,
   "id": "5e9b3933-fe0e-4822-9b5d-a5b6560cd2fb",
   "metadata": {
    "execution": {
     "iopub.execute_input": "2024-11-16T08:58:55.565672Z",
     "iopub.status.busy": "2024-11-16T08:58:55.565144Z",
     "iopub.status.idle": "2024-11-16T08:58:55.575797Z",
     "shell.execute_reply": "2024-11-16T08:58:55.574570Z",
     "shell.execute_reply.started": "2024-11-16T08:58:55.565652Z"
    }
   },
   "outputs": [
    {
     "data": {
      "text/plain": [
       "tensor([[[ 0.1002, -1.2877, -2.3854],\n",
       "         [ 0.7050, -0.4590,  0.2962]],\n",
       "\n",
       "        [[-0.3754, -2.4720, -2.1157],\n",
       "         [ 0.3077, -1.9279, -0.5604]],\n",
       "\n",
       "        [[ 0.1002, -1.2877, -2.3854],\n",
       "         [ 0.5567,  0.0687, -1.5046]],\n",
       "\n",
       "        [[ 0.2290, -2.1160, -1.1953],\n",
       "         [ 0.3963, -0.6258, -1.1892]]])"
      ]
     },
     "execution_count": 20,
     "metadata": {},
     "output_type": "execute_result"
    }
   ],
   "source": [
    "output"
   ]
  },
  {
   "cell_type": "code",
   "execution_count": 21,
   "id": "6b4e294f-61ef-4c82-a561-93c3545d0133",
   "metadata": {
    "execution": {
     "iopub.execute_input": "2024-11-16T08:58:55.582466Z",
     "iopub.status.busy": "2024-11-16T08:58:55.581591Z",
     "iopub.status.idle": "2024-11-16T08:58:55.589120Z",
     "shell.execute_reply": "2024-11-16T08:58:55.588300Z",
     "shell.execute_reply.started": "2024-11-16T08:58:55.582429Z"
    }
   },
   "outputs": [
    {
     "data": {
      "text/plain": [
       "tensor([[[1.0000e+00, 0.0000e+00, 0.0000e+00, 0.0000e+00],\n",
       "         [1.3570e-03, 9.9864e-01, 0.0000e+00, 0.0000e+00],\n",
       "         [9.9999e-01, 1.1649e-05, 4.2835e-11, 0.0000e+00],\n",
       "         [1.6603e-01, 2.6574e-01, 5.6823e-01, 0.0000e+00]],\n",
       "\n",
       "        [[1.0000e+00, 0.0000e+00, 0.0000e+00, 0.0000e+00],\n",
       "         [6.5994e-01, 3.4006e-01, 0.0000e+00, 0.0000e+00],\n",
       "         [3.2685e-05, 9.4755e-05, 9.9987e-01, 0.0000e+00],\n",
       "         [8.1358e-02, 8.6933e-02, 6.6211e-01, 1.6960e-01]]])"
      ]
     },
     "execution_count": 21,
     "metadata": {},
     "output_type": "execute_result"
    }
   ],
   "source": [
    "attn_weights"
   ]
  },
  {
   "cell_type": "markdown",
   "id": "887cea7e-9c38-4c1f-9e8d-9ed2e88c92d0",
   "metadata": {},
   "source": [
    "#### torch mha"
   ]
  },
  {
   "cell_type": "code",
   "execution_count": 22,
   "id": "8d0eb082-c702-4371-94c5-a86b6a479f27",
   "metadata": {
    "execution": {
     "iopub.execute_input": "2024-11-16T08:58:55.591250Z",
     "iopub.status.busy": "2024-11-16T08:58:55.590487Z",
     "iopub.status.idle": "2024-11-16T08:58:55.596783Z",
     "shell.execute_reply": "2024-11-16T08:58:55.595911Z",
     "shell.execute_reply.started": "2024-11-16T08:58:55.591214Z"
    }
   },
   "outputs": [],
   "source": [
    "multihead_attn = nn.MultiheadAttention(embed_dim=embed_dim, num_heads=num_heads, bias=True)"
   ]
  },
  {
   "cell_type": "code",
   "execution_count": 23,
   "id": "288a5035-fe2e-4982-a2fe-f08fbfa9cffe",
   "metadata": {
    "execution": {
     "iopub.execute_input": "2024-11-16T08:58:55.598902Z",
     "iopub.status.busy": "2024-11-16T08:58:55.598146Z",
     "iopub.status.idle": "2024-11-16T08:58:55.606173Z",
     "shell.execute_reply": "2024-11-16T08:58:55.604919Z",
     "shell.execute_reply.started": "2024-11-16T08:58:55.598867Z"
    }
   },
   "outputs": [],
   "source": [
    "# 手动设置模块的权重和偏置\n",
    "with torch.no_grad():\n",
    "    multihead_attn.in_proj_weight.copy_(in_proj_weight)\n",
    "    multihead_attn.in_proj_bias.copy_(in_proj_bias)\n",
    "    multihead_attn.out_proj.weight.copy_(W_o)\n",
    "    multihead_attn.out_proj.bias.copy_(b_o)"
   ]
  },
  {
   "cell_type": "code",
   "execution_count": 24,
   "id": "dcce360f-2760-4b65-8c4a-c3893639a7f0",
   "metadata": {
    "execution": {
     "iopub.execute_input": "2024-11-16T08:58:55.608407Z",
     "iopub.status.busy": "2024-11-16T08:58:55.607707Z",
     "iopub.status.idle": "2024-11-16T08:58:55.617876Z",
     "shell.execute_reply": "2024-11-16T08:58:55.616385Z",
     "shell.execute_reply.started": "2024-11-16T08:58:55.608372Z"
    }
   },
   "outputs": [],
   "source": [
    "# 调用 MultiheadAttention\n",
    "attn_output_pytorch, attn_output_weights_pytorch = multihead_attn(\n",
    "    query=query,\n",
    "    key=key,\n",
    "    value=value,\n",
    "    attn_mask=src_mask,\n",
    "    key_padding_mask=src_key_padding_mask\n",
    ")"
   ]
  },
  {
   "cell_type": "code",
   "execution_count": 25,
   "id": "67b20851-7f92-4a93-ba70-3e01d3a22f01",
   "metadata": {
    "execution": {
     "iopub.execute_input": "2024-11-16T08:58:55.619529Z",
     "iopub.status.busy": "2024-11-16T08:58:55.619233Z",
     "iopub.status.idle": "2024-11-16T08:58:55.632924Z",
     "shell.execute_reply": "2024-11-16T08:58:55.631657Z",
     "shell.execute_reply.started": "2024-11-16T08:58:55.619506Z"
    }
   },
   "outputs": [
    {
     "data": {
      "text/plain": [
       "tensor([[[ 0.1002, -1.2877, -2.3854],\n",
       "         [ 0.7050, -0.4590,  0.2962]],\n",
       "\n",
       "        [[-0.3754, -2.4720, -2.1157],\n",
       "         [ 0.3077, -1.9279, -0.5604]],\n",
       "\n",
       "        [[ 0.1002, -1.2877, -2.3854],\n",
       "         [ 0.5567,  0.0687, -1.5046]],\n",
       "\n",
       "        [[ 0.2290, -2.1160, -1.1953],\n",
       "         [ 0.3963, -0.6258, -1.1892]]], grad_fn=<ViewBackward0>)"
      ]
     },
     "execution_count": 25,
     "metadata": {},
     "output_type": "execute_result"
    }
   ],
   "source": [
    "attn_output_pytorch"
   ]
  },
  {
   "cell_type": "code",
   "execution_count": 26,
   "id": "c603bc09-6bfd-4a1f-a2e8-86ab1239eb1d",
   "metadata": {
    "execution": {
     "iopub.execute_input": "2024-11-16T08:59:03.264471Z",
     "iopub.status.busy": "2024-11-16T08:59:03.263880Z",
     "iopub.status.idle": "2024-11-16T08:59:03.277590Z",
     "shell.execute_reply": "2024-11-16T08:59:03.275753Z",
     "shell.execute_reply.started": "2024-11-16T08:59:03.264430Z"
    }
   },
   "outputs": [
    {
     "data": {
      "text/plain": [
       "tensor([[[1.0000e+00, 0.0000e+00, 0.0000e+00, 0.0000e+00],\n",
       "         [1.3570e-03, 9.9864e-01, 0.0000e+00, 0.0000e+00],\n",
       "         [9.9999e-01, 1.1649e-05, 4.2835e-11, 0.0000e+00],\n",
       "         [1.6603e-01, 2.6574e-01, 5.6823e-01, 0.0000e+00]],\n",
       "\n",
       "        [[1.0000e+00, 0.0000e+00, 0.0000e+00, 0.0000e+00],\n",
       "         [6.5994e-01, 3.4006e-01, 0.0000e+00, 0.0000e+00],\n",
       "         [3.2685e-05, 9.4755e-05, 9.9987e-01, 0.0000e+00],\n",
       "         [8.1358e-02, 8.6933e-02, 6.6211e-01, 1.6960e-01]]],\n",
       "       grad_fn=<MeanBackward1>)"
      ]
     },
     "execution_count": 26,
     "metadata": {},
     "output_type": "execute_result"
    }
   ],
   "source": [
    "attn_output_weights_pytorch"
   ]
  },
  {
   "cell_type": "code",
   "execution_count": null,
   "id": "0e34c48f-618c-4f2c-a511-75ad5ea0add1",
   "metadata": {},
   "outputs": [],
   "source": []
  }
 ],
 "metadata": {
  "kernelspec": {
   "display_name": "Python 3 (ipykernel)",
   "language": "python",
   "name": "python3"
  },
  "language_info": {
   "codemirror_mode": {
    "name": "ipython",
    "version": 3
   },
   "file_extension": ".py",
   "mimetype": "text/x-python",
   "name": "python",
   "nbconvert_exporter": "python",
   "pygments_lexer": "ipython3",
   "version": "3.10.13"
  }
 },
 "nbformat": 4,
 "nbformat_minor": 5
}
