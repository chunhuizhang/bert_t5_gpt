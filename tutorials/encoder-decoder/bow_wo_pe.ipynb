{
 "cells": [
  {
   "cell_type": "markdown",
   "id": "879062fa-c9b1-4ec0-8622-7f3317694fa0",
   "metadata": {},
   "source": [
    "- 如果在 Transformer Encoder 中没有使用位置编码，那么模型将无法区分输入序列中各个词的顺序，这实际上等同于一个词袋（Bag of Words）模型。原因是 Transformer 的自注意力机制本质上是对输入的加权求和，而没有位置编码的情况下，模型无法获取任何位置信息。\n",
    "- Permutation Equivariance（排列等变）\n",
    "    - Permutation Equivariance（排列等变）：如果对输入序列进行某种排列，模型的输出将以相同的方式被排列。\n",
    "    - Permutation Invariance（排列不变）：对输入序列的排列不会影响模型的输出，即输出与输入的排列无关。\n",
    "    - 没有位置编码的 Transformer Encoder 并不是排列不变的，而是排列等变的。这意味着如果我们改变输入序列中词的顺序，输出序列中的元素也会按照相同的方式重新排列，但输出本身的数值不会保持不变。"
   ]
  },
  {
   "cell_type": "code",
   "execution_count": 1,
   "id": "be2eae81-609e-499b-b0d5-2c3d6938b374",
   "metadata": {
    "execution": {
     "iopub.execute_input": "2024-10-28T12:51:28.560040Z",
     "iopub.status.busy": "2024-10-28T12:51:28.559623Z",
     "iopub.status.idle": "2024-10-28T12:51:30.160464Z",
     "shell.execute_reply": "2024-10-28T12:51:30.159618Z",
     "shell.execute_reply.started": "2024-10-28T12:51:28.560006Z"
    }
   },
   "outputs": [],
   "source": [
    "import torch\n",
    "import torch.nn as nn"
   ]
  },
  {
   "cell_type": "code",
   "execution_count": 2,
   "id": "16369ec0-4be9-4d87-8d13-80932bf4e6b2",
   "metadata": {
    "execution": {
     "iopub.execute_input": "2024-10-28T12:51:30.161320Z",
     "iopub.status.busy": "2024-10-28T12:51:30.161113Z",
     "iopub.status.idle": "2024-10-28T12:51:30.168637Z",
     "shell.execute_reply": "2024-10-28T12:51:30.167893Z",
     "shell.execute_reply.started": "2024-10-28T12:51:30.161307Z"
    }
   },
   "outputs": [
    {
     "data": {
      "text/plain": [
       "<torch._C.Generator at 0x70c1ddce39f0>"
      ]
     },
     "execution_count": 2,
     "metadata": {},
     "output_type": "execute_result"
    }
   ],
   "source": [
    "torch.manual_seed(42)"
   ]
  },
  {
   "cell_type": "code",
   "execution_count": 3,
   "id": "58acbbe3-939d-4000-9d06-72c88084ba3c",
   "metadata": {
    "execution": {
     "iopub.execute_input": "2024-10-28T12:51:30.169336Z",
     "iopub.status.busy": "2024-10-28T12:51:30.169197Z",
     "iopub.status.idle": "2024-10-28T12:51:30.184498Z",
     "shell.execute_reply": "2024-10-28T12:51:30.183420Z",
     "shell.execute_reply.started": "2024-10-28T12:51:30.169325Z"
    }
   },
   "outputs": [],
   "source": [
    "# 定义模型参数\n",
    "vocab_size = 10000  # 词汇表大小\n",
    "d_model = 512       # 嵌入维度\n",
    "nhead = 8           # 注意力头数\n",
    "num_layers = 1      # Transformer Encoder 层数"
   ]
  },
  {
   "cell_type": "markdown",
   "id": "4961ded5-edd5-49fd-9e1b-e21de3c61a74",
   "metadata": {},
   "source": [
    "### w/o pe"
   ]
  },
  {
   "cell_type": "code",
   "execution_count": 4,
   "id": "653d935d-ce2f-4a03-a4a7-2bcc8e266dad",
   "metadata": {
    "execution": {
     "iopub.execute_input": "2024-10-28T12:51:30.185060Z",
     "iopub.status.busy": "2024-10-28T12:51:30.184931Z",
     "iopub.status.idle": "2024-10-28T12:51:30.252950Z",
     "shell.execute_reply": "2024-10-28T12:51:30.252420Z",
     "shell.execute_reply.started": "2024-10-28T12:51:30.185050Z"
    }
   },
   "outputs": [
    {
     "name": "stderr",
     "output_type": "stream",
     "text": [
      "/home/whaow/anaconda3/lib/python3.10/site-packages/torch/nn/modules/transformer.py:307: UserWarning: enable_nested_tensor is True, but self.use_nested_tensor is False because encoder_layer.self_attn.batch_first was not True(use batch_first for better inference performance)\n",
      "  warnings.warn(f\"enable_nested_tensor is True, but self.use_nested_tensor is False because {why_not_sparsity_fast_path}\")\n"
     ]
    }
   ],
   "source": [
    "# 定义嵌入层和 Transformer Encoder\n",
    "embedding = nn.Embedding(vocab_size, d_model)\n",
    "# dropout == 0.\n",
    "encoder_layer = nn.TransformerEncoderLayer(d_model=d_model, nhead=nhead, dropout=0.0)\n",
    "transformer_encoder = nn.TransformerEncoder(encoder_layer, num_layers=num_layers)"
   ]
  },
  {
   "cell_type": "code",
   "execution_count": 5,
   "id": "391b09ec-be6a-4b37-be59-a975de22658c",
   "metadata": {
    "execution": {
     "iopub.execute_input": "2024-10-28T12:51:30.253809Z",
     "iopub.status.busy": "2024-10-28T12:51:30.253652Z",
     "iopub.status.idle": "2024-10-28T12:51:30.257044Z",
     "shell.execute_reply": "2024-10-28T12:51:30.256542Z",
     "shell.execute_reply.started": "2024-10-28T12:51:30.253797Z"
    }
   },
   "outputs": [],
   "source": [
    "# 生成随机输入序列\n",
    "seq_len = 10  # 序列长度\n",
    "input_ids = torch.randint(0, vocab_size, (seq_len,))\n",
    "\n",
    "# 打乱输入序列\n",
    "perm = torch.randperm(seq_len)\n",
    "shuffled_input_ids = input_ids[perm]"
   ]
  },
  {
   "cell_type": "code",
   "execution_count": 6,
   "id": "a13b0fec-6931-409e-a9b7-8db55541c0f9",
   "metadata": {
    "execution": {
     "iopub.execute_input": "2024-10-28T12:51:30.258937Z",
     "iopub.status.busy": "2024-10-28T12:51:30.258751Z",
     "iopub.status.idle": "2024-10-28T12:51:30.267903Z",
     "shell.execute_reply": "2024-10-28T12:51:30.267445Z",
     "shell.execute_reply.started": "2024-10-28T12:51:30.258922Z"
    }
   },
   "outputs": [
    {
     "data": {
      "text/plain": [
       "(tensor([2, 4, 7, 3, 0, 5, 8, 9, 6, 1]),\n",
       " tensor([4, 9, 0, 3, 1, 5, 8, 2, 6, 7]))"
      ]
     },
     "execution_count": 6,
     "metadata": {},
     "output_type": "execute_result"
    }
   ],
   "source": [
    "perm, torch.argsort(perm)"
   ]
  },
  {
   "cell_type": "code",
   "execution_count": 7,
   "id": "05e5bf04-e528-41e5-bb34-f339b4ccc71d",
   "metadata": {
    "execution": {
     "iopub.execute_input": "2024-10-28T12:51:30.268677Z",
     "iopub.status.busy": "2024-10-28T12:51:30.268503Z",
     "iopub.status.idle": "2024-10-28T12:51:30.274707Z",
     "shell.execute_reply": "2024-10-28T12:51:30.273653Z",
     "shell.execute_reply.started": "2024-10-28T12:51:30.268663Z"
    }
   },
   "outputs": [],
   "source": [
    "# 获取嵌入表示\n",
    "embedded_input = embedding(input_ids)  # [seq_len, d_model]\n",
    "embedded_shuffled_input = embedding(shuffled_input_ids)"
   ]
  },
  {
   "cell_type": "code",
   "execution_count": 8,
   "id": "bc6fd0b2-39b8-48de-81e3-479b6aa1a0d9",
   "metadata": {
    "execution": {
     "iopub.execute_input": "2024-10-28T12:51:30.275471Z",
     "iopub.status.busy": "2024-10-28T12:51:30.275290Z",
     "iopub.status.idle": "2024-10-28T12:51:30.285485Z",
     "shell.execute_reply": "2024-10-28T12:51:30.284901Z",
     "shell.execute_reply.started": "2024-10-28T12:51:30.275457Z"
    }
   },
   "outputs": [],
   "source": [
    "# Transformer 期望的输入形状为 [seq_len, batch_size, d_model]，因此需要调整维度。\n",
    "\n",
    "# 添加 batch 维度\n",
    "# [seq_len, 1, d_model]\n",
    "embedded_input = embedded_input.unsqueeze(1)           \n",
    "embedded_shuffled_input = embedded_shuffled_input.unsqueeze(1)\n",
    "\n",
    "# 通过 Transformer Encoder\n",
    "output = transformer_encoder(embedded_input)           # [seq_len, 1, d_model]\n",
    "output_shuffled = transformer_encoder(embedded_shuffled_input)"
   ]
  },
  {
   "cell_type": "code",
   "execution_count": 9,
   "id": "5440ebc5-955e-4cd5-b9e4-7b79f9aa7127",
   "metadata": {
    "execution": {
     "iopub.execute_input": "2024-10-28T12:51:30.286427Z",
     "iopub.status.busy": "2024-10-28T12:51:30.286228Z",
     "iopub.status.idle": "2024-10-28T12:51:30.291098Z",
     "shell.execute_reply": "2024-10-28T12:51:30.290249Z",
     "shell.execute_reply.started": "2024-10-28T12:51:30.286411Z"
    }
   },
   "outputs": [
    {
     "data": {
      "text/plain": [
       "(torch.Size([10, 1, 512]), torch.Size([10, 1, 512]))"
      ]
     },
     "execution_count": 9,
     "metadata": {},
     "output_type": "execute_result"
    }
   ],
   "source": [
    "output.shape, output_shuffled.shape"
   ]
  },
  {
   "cell_type": "code",
   "execution_count": 10,
   "id": "3e1e7271-dbbd-4c48-be9d-ae151b0e5c27",
   "metadata": {
    "execution": {
     "iopub.execute_input": "2024-10-28T12:51:30.291765Z",
     "iopub.status.busy": "2024-10-28T12:51:30.291600Z",
     "iopub.status.idle": "2024-10-28T12:51:30.302535Z",
     "shell.execute_reply": "2024-10-28T12:51:30.301298Z",
     "shell.execute_reply.started": "2024-10-28T12:51:30.291752Z"
    }
   },
   "outputs": [
    {
     "data": {
      "text/plain": [
       "False"
      ]
     },
     "execution_count": 10,
     "metadata": {},
     "output_type": "execute_result"
    }
   ],
   "source": [
    "torch.allclose(output, output_shuffled, atol=1e-6)"
   ]
  },
  {
   "cell_type": "code",
   "execution_count": 11,
   "id": "17bb8700-e275-4fe5-b248-f4f47072901c",
   "metadata": {
    "execution": {
     "iopub.execute_input": "2024-10-28T12:51:30.303309Z",
     "iopub.status.busy": "2024-10-28T12:51:30.303089Z",
     "iopub.status.idle": "2024-10-28T12:51:30.311348Z",
     "shell.execute_reply": "2024-10-28T12:51:30.310196Z",
     "shell.execute_reply.started": "2024-10-28T12:51:30.303294Z"
    }
   },
   "outputs": [
    {
     "data": {
      "text/plain": [
       "True"
      ]
     },
     "execution_count": 11,
     "metadata": {},
     "output_type": "execute_result"
    }
   ],
   "source": [
    "are_outputs_equal = torch.allclose(output.squeeze(1).mean(dim=0), output_shuffled.squeeze(1).mean(dim=0), atol=1e-6)\n",
    "are_outputs_equal"
   ]
  },
  {
   "cell_type": "code",
   "execution_count": 12,
   "id": "0c8bf19c-a113-4afe-aed4-2ed55ace57ea",
   "metadata": {
    "execution": {
     "iopub.execute_input": "2024-10-28T12:51:30.312046Z",
     "iopub.status.busy": "2024-10-28T12:51:30.311870Z",
     "iopub.status.idle": "2024-10-28T12:51:30.317465Z",
     "shell.execute_reply": "2024-10-28T12:51:30.316831Z",
     "shell.execute_reply.started": "2024-10-28T12:51:30.312032Z"
    }
   },
   "outputs": [],
   "source": [
    "inverse_perm = torch.argsort(perm)\n",
    "output_shuffled_reordered = output_shuffled[inverse_perm]"
   ]
  },
  {
   "cell_type": "code",
   "execution_count": 13,
   "id": "77d88145-db1c-4bcb-9626-578dafa591a2",
   "metadata": {
    "execution": {
     "iopub.execute_input": "2024-10-28T12:51:30.318507Z",
     "iopub.status.busy": "2024-10-28T12:51:30.318282Z",
     "iopub.status.idle": "2024-10-28T12:51:30.332267Z",
     "shell.execute_reply": "2024-10-28T12:51:30.331377Z",
     "shell.execute_reply.started": "2024-10-28T12:51:30.318489Z"
    }
   },
   "outputs": [
    {
     "data": {
      "text/plain": [
       "True"
      ]
     },
     "execution_count": 13,
     "metadata": {},
     "output_type": "execute_result"
    }
   ],
   "source": [
    "torch.allclose(output, output_shuffled_reordered, atol=1e-6)"
   ]
  },
  {
   "cell_type": "markdown",
   "id": "fa954b8c-db1a-4e1f-a455-0f9dd3865248",
   "metadata": {},
   "source": [
    "### with pe"
   ]
  },
  {
   "cell_type": "code",
   "execution_count": 16,
   "id": "b461c915-dbee-4229-8952-a3af7439d3e4",
   "metadata": {
    "execution": {
     "iopub.execute_input": "2024-10-28T12:53:40.342996Z",
     "iopub.status.busy": "2024-10-28T12:53:40.342362Z",
     "iopub.status.idle": "2024-10-28T12:53:40.361599Z",
     "shell.execute_reply": "2024-10-28T12:53:40.358987Z",
     "shell.execute_reply.started": "2024-10-28T12:53:40.342951Z"
    }
   },
   "outputs": [],
   "source": [
    "# 定义位置编码\n",
    "class PositionalEncoding(nn.Module):\n",
    "    def __init__(self, d_model, max_len=5000):\n",
    "        super().__init__()\n",
    "        # 创建位置编码矩阵\n",
    "        position = torch.arange(0, max_len).unsqueeze(1)\n",
    "        div_term = torch.exp(torch.arange(0, d_model, 2) * (-torch.log(torch.tensor(10000.0)) / d_model))\n",
    "        pe = torch.zeros(max_len, 1, d_model)\n",
    "        pe[:, 0, 0::2] = torch.sin(position * div_term)\n",
    "        pe[:, 0, 1::2] = torch.cos(position * div_term)\n",
    "        self.pe = pe\n",
    "\n",
    "    def forward(self, x):\n",
    "        # 加性位置编码\n",
    "        x = x + self.pe[:x.size(0)]\n",
    "        return x"
   ]
  },
  {
   "cell_type": "code",
   "execution_count": 15,
   "id": "6653f89b-7e08-48c4-9c2a-60e71a383122",
   "metadata": {
    "execution": {
     "iopub.execute_input": "2024-10-28T12:53:07.173569Z",
     "iopub.status.busy": "2024-10-28T12:53:07.172882Z",
     "iopub.status.idle": "2024-10-28T12:53:07.197328Z",
     "shell.execute_reply": "2024-10-28T12:53:07.195975Z",
     "shell.execute_reply.started": "2024-10-28T12:53:07.173519Z"
    }
   },
   "outputs": [],
   "source": [
    "# 添加位置编码\n",
    "pos_encoder = PositionalEncoding(d_model)\n",
    "embedded_input_pos = pos_encoder(embedded_input)\n",
    "embedded_shuffled_input_pos = pos_encoder(embedded_shuffled_input)"
   ]
  },
  {
   "cell_type": "code",
   "execution_count": 17,
   "id": "1a552960-1d1a-422c-b16f-d5c79fe680b1",
   "metadata": {
    "execution": {
     "iopub.execute_input": "2024-10-28T12:53:54.562110Z",
     "iopub.status.busy": "2024-10-28T12:53:54.561470Z",
     "iopub.status.idle": "2024-10-28T12:53:54.575844Z",
     "shell.execute_reply": "2024-10-28T12:53:54.573459Z",
     "shell.execute_reply.started": "2024-10-28T12:53:54.562065Z"
    }
   },
   "outputs": [],
   "source": [
    "# 通过 Transformer Encoder\n",
    "output_pe = transformer_encoder(embedded_input_pos)\n",
    "output_shuffled_pe = transformer_encoder(embedded_shuffled_input_pos)"
   ]
  },
  {
   "cell_type": "code",
   "execution_count": 18,
   "id": "3c09d3ac-27a2-4be2-8cff-30d0c9b3946e",
   "metadata": {
    "execution": {
     "iopub.execute_input": "2024-10-28T12:54:07.811188Z",
     "iopub.status.busy": "2024-10-28T12:54:07.810531Z",
     "iopub.status.idle": "2024-10-28T12:54:07.823527Z",
     "shell.execute_reply": "2024-10-28T12:54:07.821256Z",
     "shell.execute_reply.started": "2024-10-28T12:54:07.811126Z"
    }
   },
   "outputs": [
    {
     "data": {
      "text/plain": [
       "(torch.Size([10, 1, 512]), torch.Size([10, 1, 512]))"
      ]
     },
     "execution_count": 18,
     "metadata": {},
     "output_type": "execute_result"
    }
   ],
   "source": [
    "output_pe.shape, output_shuffled_pe.shape"
   ]
  },
  {
   "cell_type": "code",
   "execution_count": 19,
   "id": "9fd3f227-45d3-4326-bcfe-754532fb0867",
   "metadata": {
    "execution": {
     "iopub.execute_input": "2024-10-28T12:54:28.079274Z",
     "iopub.status.busy": "2024-10-28T12:54:28.078607Z",
     "iopub.status.idle": "2024-10-28T12:54:28.093848Z",
     "shell.execute_reply": "2024-10-28T12:54:28.091891Z",
     "shell.execute_reply.started": "2024-10-28T12:54:28.079227Z"
    }
   },
   "outputs": [
    {
     "data": {
      "text/plain": [
       "False"
      ]
     },
     "execution_count": 19,
     "metadata": {},
     "output_type": "execute_result"
    }
   ],
   "source": [
    "torch.allclose(output_pe.squeeze(1).mean(dim=0), output_shuffled_pe.squeeze(1).mean(dim=0), atol=1e-6)"
   ]
  },
  {
   "cell_type": "code",
   "execution_count": null,
   "id": "9f161d52-6eba-4f98-8378-667c01fd6267",
   "metadata": {},
   "outputs": [],
   "source": []
  }
 ],
 "metadata": {
  "kernelspec": {
   "display_name": "Python 3 (ipykernel)",
   "language": "python",
   "name": "python3"
  },
  "language_info": {
   "codemirror_mode": {
    "name": "ipython",
    "version": 3
   },
   "file_extension": ".py",
   "mimetype": "text/x-python",
   "name": "python",
   "nbconvert_exporter": "python",
   "pygments_lexer": "ipython3",
   "version": "3.10.13"
  }
 },
 "nbformat": 4,
 "nbformat_minor": 5
}
