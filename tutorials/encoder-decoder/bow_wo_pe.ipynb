{
 "cells": [
  {
   "cell_type": "markdown",
   "id": "c5738dca-cb13-4762-8364-eb27e00adc6e",
   "metadata": {},
   "source": [
    "- input embedding + encoder + decoder\n",
    "    - position encoding is in input embedding\n",
    "- rnn 天然编码了位置信息\n",
    "    - $h_{t}=f(h_{t-1},x_t)$\n",
    "    - $f$ 是非线性激活函数，$h_{t-1}$ 是前一时间步的隐藏状态，$x_t$ 是当前时间步的输入。由于 $h_t$ 依赖于 $h_{t-1}$，而 $h_{t-1}$ 又依赖于 $h_{t-2}$，以此类推，隐藏状态包含了从初始时间步到当前时间步的所有历史信息。这种递归结构使得位置信息被隐式地编码在隐藏状态中。\n",
    "    - RNN 通过其递归结构隐式地编码位置信息，而 Transformer 需要通过显式添加位置编码来获取位置信息。\n",
    "- 如果在 Transformer Encoder 中没有使用位置编码，那么模型将无法区分输入序列中各个词的顺序，这实际上等同于一个词袋（Bag of Words）模型。原因是 Transformer 的自注意力机制本质上是对输入的加权求和，而没有位置编码的情况下，模型无法获取任何位置信息。\n",
    "- Permutation Equivariance（排列等变）\n",
    "    - Permutation Equivariance（排列等变）：如果对输入序列进行某种排列，模型的输出将以相同的方式被排列。\n",
    "    - Permutation Invariance（排列不变）：对输入序列的排列不会影响模型的输出，即输出与输入的排列无关。\n",
    "    - 没有位置编码的 Transformer Encoder 并不是排列不变的，而是排列等变的。这意味着如果我们改变输入序列中词的顺序，输出序列中的元素也会按照相同的方式重新排列，但输出本身的数值不会保持不变。"
   ]
  },
  {
   "cell_type": "code",
   "execution_count": 1,
   "id": "be2eae81-609e-499b-b0d5-2c3d6938b374",
   "metadata": {
    "execution": {
     "iopub.execute_input": "2024-11-02T14:11:50.885031Z",
     "iopub.status.busy": "2024-11-02T14:11:50.884235Z",
     "iopub.status.idle": "2024-11-02T14:11:52.320467Z",
     "shell.execute_reply": "2024-11-02T14:11:52.318526Z",
     "shell.execute_reply.started": "2024-11-02T14:11:50.884974Z"
    }
   },
   "outputs": [],
   "source": [
    "import torch\n",
    "import torch.nn as nn"
   ]
  },
  {
   "cell_type": "code",
   "execution_count": 2,
   "id": "16369ec0-4be9-4d87-8d13-80932bf4e6b2",
   "metadata": {
    "execution": {
     "iopub.execute_input": "2024-11-02T14:11:52.321571Z",
     "iopub.status.busy": "2024-11-02T14:11:52.321286Z",
     "iopub.status.idle": "2024-11-02T14:11:52.334679Z",
     "shell.execute_reply": "2024-11-02T14:11:52.333015Z",
     "shell.execute_reply.started": "2024-11-02T14:11:52.321552Z"
    }
   },
   "outputs": [
    {
     "data": {
      "text/plain": [
       "<torch._C.Generator at 0x7cc9d01e7a10>"
      ]
     },
     "execution_count": 2,
     "metadata": {},
     "output_type": "execute_result"
    }
   ],
   "source": [
    "torch.manual_seed(42)"
   ]
  },
  {
   "cell_type": "code",
   "execution_count": 3,
   "id": "58acbbe3-939d-4000-9d06-72c88084ba3c",
   "metadata": {
    "execution": {
     "iopub.execute_input": "2024-11-02T14:11:52.335648Z",
     "iopub.status.busy": "2024-11-02T14:11:52.335425Z",
     "iopub.status.idle": "2024-11-02T14:11:52.350539Z",
     "shell.execute_reply": "2024-11-02T14:11:52.348843Z",
     "shell.execute_reply.started": "2024-11-02T14:11:52.335630Z"
    }
   },
   "outputs": [],
   "source": [
    "# 定义模型参数\n",
    "vocab_size = 10000  # 词汇表大小\n",
    "d_model = 512       # 嵌入维度\n",
    "nhead = 8           # 注意力头数\n",
    "num_layers = 1      # Transformer Encoder 层数"
   ]
  },
  {
   "cell_type": "markdown",
   "id": "b739b4ed-1e16-4ef9-96ba-f49c14f5f521",
   "metadata": {},
   "source": [
    "### RNN"
   ]
  },
  {
   "cell_type": "code",
   "execution_count": 4,
   "id": "d1c37c68-78f5-4225-9f6e-5f4061a4d94c",
   "metadata": {
    "execution": {
     "iopub.execute_input": "2024-11-02T14:11:52.352122Z",
     "iopub.status.busy": "2024-11-02T14:11:52.351872Z",
     "iopub.status.idle": "2024-11-02T14:11:52.361346Z",
     "shell.execute_reply": "2024-11-02T14:11:52.360000Z",
     "shell.execute_reply.started": "2024-11-02T14:11:52.352104Z"
    }
   },
   "outputs": [],
   "source": [
    "# 定义输入序列\n",
    "sequence_length = 5  # 序列长度\n",
    "embedding_dim = 8    # 词嵌入维度\n",
    "batch_size = 1       # 批大小"
   ]
  },
  {
   "cell_type": "code",
   "execution_count": 5,
   "id": "7c0aaefb-009b-4f26-bbda-31b8a23be736",
   "metadata": {
    "execution": {
     "iopub.execute_input": "2024-11-02T14:11:52.362256Z",
     "iopub.status.busy": "2024-11-02T14:11:52.362045Z",
     "iopub.status.idle": "2024-11-02T14:11:52.374604Z",
     "shell.execute_reply": "2024-11-02T14:11:52.372852Z",
     "shell.execute_reply.started": "2024-11-02T14:11:52.362240Z"
    }
   },
   "outputs": [
    {
     "data": {
      "text/plain": [
       "torch.Size([1, 5, 8])"
      ]
     },
     "execution_count": 5,
     "metadata": {},
     "output_type": "execute_result"
    }
   ],
   "source": [
    "original_sequence = torch.randn(batch_size, sequence_length, embedding_dim)\n",
    "original_sequence.shape"
   ]
  },
  {
   "cell_type": "code",
   "execution_count": 6,
   "id": "9681d378-1556-4477-9db4-f33dbbf952a9",
   "metadata": {
    "execution": {
     "iopub.execute_input": "2024-11-02T14:11:52.379297Z",
     "iopub.status.busy": "2024-11-02T14:11:52.379046Z",
     "iopub.status.idle": "2024-11-02T14:11:52.390910Z",
     "shell.execute_reply": "2024-11-02T14:11:52.388996Z",
     "shell.execute_reply.started": "2024-11-02T14:11:52.379279Z"
    }
   },
   "outputs": [
    {
     "data": {
      "text/plain": [
       "tensor([[[ 1.9269,  1.4873,  0.9007, -2.1055,  0.6784, -1.2345, -0.0431,\n",
       "          -1.6047],\n",
       "         [-0.7521,  1.6487, -0.3925, -1.4036, -0.7279, -0.5594, -0.7688,\n",
       "           0.7624],\n",
       "         [ 1.6423, -0.1596, -0.4974,  0.4396, -0.7581,  1.0783,  0.8008,\n",
       "           1.6806],\n",
       "         [ 0.0349,  0.3211,  1.5736, -0.8455,  1.3123,  0.6872, -1.0892,\n",
       "          -0.3553],\n",
       "         [-1.4181,  0.8963,  0.0499,  2.2667,  1.1790, -0.4345, -1.3864,\n",
       "          -1.2862]]])"
      ]
     },
     "execution_count": 6,
     "metadata": {},
     "output_type": "execute_result"
    }
   ],
   "source": [
    "original_sequence"
   ]
  },
  {
   "cell_type": "code",
   "execution_count": 7,
   "id": "28304290-aaa8-47bb-9f0b-1096b2ea39fa",
   "metadata": {
    "execution": {
     "iopub.execute_input": "2024-11-02T14:11:52.392252Z",
     "iopub.status.busy": "2024-11-02T14:11:52.391983Z",
     "iopub.status.idle": "2024-11-02T14:11:52.399954Z",
     "shell.execute_reply": "2024-11-02T14:11:52.398144Z",
     "shell.execute_reply.started": "2024-11-02T14:11:52.392233Z"
    }
   },
   "outputs": [],
   "source": [
    "permuted_sequence = original_sequence.clone()\n",
    "permutation = torch.randperm(sequence_length)\n",
    "permuted_sequence = permuted_sequence[:, permutation, :]"
   ]
  },
  {
   "cell_type": "code",
   "execution_count": 8,
   "id": "c6ac973f-8211-4619-a80c-b998f28c407c",
   "metadata": {
    "execution": {
     "iopub.execute_input": "2024-11-02T14:11:52.400986Z",
     "iopub.status.busy": "2024-11-02T14:11:52.400745Z",
     "iopub.status.idle": "2024-11-02T14:11:52.408905Z",
     "shell.execute_reply": "2024-11-02T14:11:52.407744Z",
     "shell.execute_reply.started": "2024-11-02T14:11:52.400968Z"
    }
   },
   "outputs": [
    {
     "data": {
      "text/plain": [
       "torch.Size([1, 5, 8])"
      ]
     },
     "execution_count": 8,
     "metadata": {},
     "output_type": "execute_result"
    }
   ],
   "source": [
    "permuted_sequence.shape"
   ]
  },
  {
   "cell_type": "code",
   "execution_count": 9,
   "id": "f7df1739-e266-4c79-b5e4-0f262a43ee9f",
   "metadata": {
    "execution": {
     "iopub.execute_input": "2024-11-02T14:11:52.410054Z",
     "iopub.status.busy": "2024-11-02T14:11:52.409776Z",
     "iopub.status.idle": "2024-11-02T14:11:52.420581Z",
     "shell.execute_reply": "2024-11-02T14:11:52.419413Z",
     "shell.execute_reply.started": "2024-11-02T14:11:52.410032Z"
    }
   },
   "outputs": [
    {
     "data": {
      "text/plain": [
       "tensor([[[ 1.9269,  1.4873,  0.9007, -2.1055,  0.6784, -1.2345, -0.0431,\n",
       "          -1.6047],\n",
       "         [-0.7521,  1.6487, -0.3925, -1.4036, -0.7279, -0.5594, -0.7688,\n",
       "           0.7624],\n",
       "         [-1.4181,  0.8963,  0.0499,  2.2667,  1.1790, -0.4345, -1.3864,\n",
       "          -1.2862],\n",
       "         [ 0.0349,  0.3211,  1.5736, -0.8455,  1.3123,  0.6872, -1.0892,\n",
       "          -0.3553],\n",
       "         [ 1.6423, -0.1596, -0.4974,  0.4396, -0.7581,  1.0783,  0.8008,\n",
       "           1.6806]]])"
      ]
     },
     "execution_count": 9,
     "metadata": {},
     "output_type": "execute_result"
    }
   ],
   "source": [
    "permuted_sequence"
   ]
  },
  {
   "cell_type": "code",
   "execution_count": 10,
   "id": "f40d20df-bb7e-4172-a166-d8af0a7d855d",
   "metadata": {
    "execution": {
     "iopub.execute_input": "2024-11-02T14:11:52.422102Z",
     "iopub.status.busy": "2024-11-02T14:11:52.421801Z",
     "iopub.status.idle": "2024-11-02T14:11:52.430450Z",
     "shell.execute_reply": "2024-11-02T14:11:52.428576Z",
     "shell.execute_reply.started": "2024-11-02T14:11:52.422080Z"
    }
   },
   "outputs": [],
   "source": [
    "hidden_dim = 8\n",
    "rnn = nn.RNN(input_size=embedding_dim, hidden_size=hidden_dim, batch_first=True)"
   ]
  },
  {
   "cell_type": "code",
   "execution_count": 11,
   "id": "4b1cec94-f0a9-4a77-855d-1f5edfb1f537",
   "metadata": {
    "execution": {
     "iopub.execute_input": "2024-11-02T14:11:52.432327Z",
     "iopub.status.busy": "2024-11-02T14:11:52.431989Z",
     "iopub.status.idle": "2024-11-02T14:11:52.439588Z",
     "shell.execute_reply": "2024-11-02T14:11:52.438054Z",
     "shell.execute_reply.started": "2024-11-02T14:11:52.432303Z"
    }
   },
   "outputs": [],
   "source": [
    "ori_output, _ = rnn(original_sequence)"
   ]
  },
  {
   "cell_type": "code",
   "execution_count": 12,
   "id": "a2e48152-80c5-4607-8569-728729975819",
   "metadata": {
    "execution": {
     "iopub.execute_input": "2024-11-02T14:11:52.441311Z",
     "iopub.status.busy": "2024-11-02T14:11:52.440994Z",
     "iopub.status.idle": "2024-11-02T14:11:52.448276Z",
     "shell.execute_reply": "2024-11-02T14:11:52.446708Z",
     "shell.execute_reply.started": "2024-11-02T14:11:52.441287Z"
    }
   },
   "outputs": [],
   "source": [
    "perm_output, _ = rnn(permuted_sequence)"
   ]
  },
  {
   "cell_type": "code",
   "execution_count": 13,
   "id": "f9eedb70-67cd-49aa-950e-b74319c197d7",
   "metadata": {
    "execution": {
     "iopub.execute_input": "2024-11-02T14:11:52.450169Z",
     "iopub.status.busy": "2024-11-02T14:11:52.449834Z",
     "iopub.status.idle": "2024-11-02T14:11:52.459825Z",
     "shell.execute_reply": "2024-11-02T14:11:52.457877Z",
     "shell.execute_reply.started": "2024-11-02T14:11:52.450143Z"
    }
   },
   "outputs": [
    {
     "data": {
      "text/plain": [
       "(torch.Size([1, 5, 8]), torch.Size([1, 5, 8]))"
      ]
     },
     "execution_count": 13,
     "metadata": {},
     "output_type": "execute_result"
    }
   ],
   "source": [
    "ori_output.shape, perm_output.shape"
   ]
  },
  {
   "cell_type": "code",
   "execution_count": 14,
   "id": "7b20452f-0947-48f3-91fa-4cca570a73de",
   "metadata": {
    "execution": {
     "iopub.execute_input": "2024-11-02T14:11:52.461601Z",
     "iopub.status.busy": "2024-11-02T14:11:52.461262Z",
     "iopub.status.idle": "2024-11-02T14:11:52.472724Z",
     "shell.execute_reply": "2024-11-02T14:11:52.471431Z",
     "shell.execute_reply.started": "2024-11-02T14:11:52.461575Z"
    }
   },
   "outputs": [
    {
     "data": {
      "text/plain": [
       "tensor([-0.2083,  0.0781, -0.1784,  0.0027,  0.2188,  0.4131,  0.1809, -0.0833],\n",
       "       grad_fn=<MeanBackward1>)"
      ]
     },
     "execution_count": 14,
     "metadata": {},
     "output_type": "execute_result"
    }
   ],
   "source": [
    "ori_output.squeeze(0).mean(dim=0)"
   ]
  },
  {
   "cell_type": "code",
   "execution_count": 15,
   "id": "106c7aa3-8db0-4882-8413-93ab0073d04a",
   "metadata": {
    "execution": {
     "iopub.execute_input": "2024-11-02T14:11:52.474433Z",
     "iopub.status.busy": "2024-11-02T14:11:52.474075Z",
     "iopub.status.idle": "2024-11-02T14:11:52.484766Z",
     "shell.execute_reply": "2024-11-02T14:11:52.483369Z",
     "shell.execute_reply.started": "2024-11-02T14:11:52.474406Z"
    }
   },
   "outputs": [
    {
     "data": {
      "text/plain": [
       "tensor([-0.0615,  0.0666, -0.1055,  0.0008,  0.3712,  0.2399,  0.1625,  0.1277],\n",
       "       grad_fn=<MeanBackward1>)"
      ]
     },
     "execution_count": 15,
     "metadata": {},
     "output_type": "execute_result"
    }
   ],
   "source": [
    "perm_output.squeeze(0).mean(dim=0)"
   ]
  },
  {
   "cell_type": "markdown",
   "id": "4961ded5-edd5-49fd-9e1b-e21de3c61a74",
   "metadata": {},
   "source": [
    "### w/o pe"
   ]
  },
  {
   "cell_type": "markdown",
   "id": "975c6412-3a0b-4eb0-95ec-b40a000f8904",
   "metadata": {},
   "source": [
    "```\n",
    "self_attention(perm(x)) = perm(self_attention(x)).\n",
    "```\n",
    "- x: input sequence\n",
    "- perm：permutation，置换"
   ]
  },
  {
   "cell_type": "code",
   "execution_count": 16,
   "id": "653d935d-ce2f-4a03-a4a7-2bcc8e266dad",
   "metadata": {
    "execution": {
     "iopub.execute_input": "2024-11-02T14:11:52.486605Z",
     "iopub.status.busy": "2024-11-02T14:11:52.486218Z",
     "iopub.status.idle": "2024-11-02T14:11:52.580733Z",
     "shell.execute_reply": "2024-11-02T14:11:52.579903Z",
     "shell.execute_reply.started": "2024-11-02T14:11:52.486575Z"
    }
   },
   "outputs": [
    {
     "name": "stderr",
     "output_type": "stream",
     "text": [
      "/home/whaow/anaconda3/lib/python3.10/site-packages/torch/nn/modules/transformer.py:307: UserWarning: enable_nested_tensor is True, but self.use_nested_tensor is False because encoder_layer.self_attn.batch_first was not True(use batch_first for better inference performance)\n",
      "  warnings.warn(f\"enable_nested_tensor is True, but self.use_nested_tensor is False because {why_not_sparsity_fast_path}\")\n"
     ]
    }
   ],
   "source": [
    "# 定义嵌入层和 Transformer Encoder\n",
    "embedding = nn.Embedding(vocab_size, d_model)\n",
    "# dropout == 0.\n",
    "encoder_layer = nn.TransformerEncoderLayer(d_model=d_model, nhead=nhead, dropout=0.0)\n",
    "transformer_encoder = nn.TransformerEncoder(encoder_layer, num_layers=num_layers)"
   ]
  },
  {
   "cell_type": "code",
   "execution_count": 17,
   "id": "391b09ec-be6a-4b37-be59-a975de22658c",
   "metadata": {
    "execution": {
     "iopub.execute_input": "2024-11-02T14:11:52.581797Z",
     "iopub.status.busy": "2024-11-02T14:11:52.581574Z",
     "iopub.status.idle": "2024-11-02T14:11:52.586071Z",
     "shell.execute_reply": "2024-11-02T14:11:52.585454Z",
     "shell.execute_reply.started": "2024-11-02T14:11:52.581780Z"
    }
   },
   "outputs": [],
   "source": [
    "# 生成随机输入序列\n",
    "seq_len = 10  # 序列长度\n",
    "input_ids = torch.randint(0, vocab_size, (seq_len,))\n",
    "\n",
    "# 打乱输入序列\n",
    "perm = torch.randperm(seq_len)\n",
    "shuffled_input_ids = input_ids[perm]"
   ]
  },
  {
   "cell_type": "code",
   "execution_count": 18,
   "id": "a13b0fec-6931-409e-a9b7-8db55541c0f9",
   "metadata": {
    "execution": {
     "iopub.execute_input": "2024-11-02T14:11:52.587235Z",
     "iopub.status.busy": "2024-11-02T14:11:52.587014Z",
     "iopub.status.idle": "2024-11-02T14:11:52.599965Z",
     "shell.execute_reply": "2024-11-02T14:11:52.598523Z",
     "shell.execute_reply.started": "2024-11-02T14:11:52.587218Z"
    }
   },
   "outputs": [
    {
     "data": {
      "text/plain": [
       "(tensor([8, 3, 6, 4, 9, 5, 1, 2, 7, 0]),\n",
       " tensor([9, 6, 7, 1, 3, 5, 2, 8, 0, 4]))"
      ]
     },
     "execution_count": 18,
     "metadata": {},
     "output_type": "execute_result"
    }
   ],
   "source": [
    "perm, torch.argsort(perm)"
   ]
  },
  {
   "cell_type": "code",
   "execution_count": 19,
   "id": "05e5bf04-e528-41e5-bb34-f339b4ccc71d",
   "metadata": {
    "execution": {
     "iopub.execute_input": "2024-11-02T14:11:52.601790Z",
     "iopub.status.busy": "2024-11-02T14:11:52.601501Z",
     "iopub.status.idle": "2024-11-02T14:11:52.608161Z",
     "shell.execute_reply": "2024-11-02T14:11:52.607452Z",
     "shell.execute_reply.started": "2024-11-02T14:11:52.601768Z"
    }
   },
   "outputs": [],
   "source": [
    "# 获取嵌入表示\n",
    "embedded_input = embedding(input_ids)  # [seq_len, d_model]\n",
    "embedded_shuffled_input = embedding(shuffled_input_ids)"
   ]
  },
  {
   "cell_type": "code",
   "execution_count": 20,
   "id": "bc6fd0b2-39b8-48de-81e3-479b6aa1a0d9",
   "metadata": {
    "execution": {
     "iopub.execute_input": "2024-11-02T14:11:52.609707Z",
     "iopub.status.busy": "2024-11-02T14:11:52.609393Z",
     "iopub.status.idle": "2024-11-02T14:11:52.626198Z",
     "shell.execute_reply": "2024-11-02T14:11:52.625126Z",
     "shell.execute_reply.started": "2024-11-02T14:11:52.609683Z"
    }
   },
   "outputs": [],
   "source": [
    "# Transformer 期望的输入形状为 [seq_len, batch_size, d_model]，因此需要调整维度。\n",
    "\n",
    "# 添加 batch 维度\n",
    "# [seq_len, 1, d_model]\n",
    "embedded_input = embedded_input.unsqueeze(1)           \n",
    "embedded_shuffled_input = embedded_shuffled_input.unsqueeze(1)\n",
    "\n",
    "# 通过 Transformer Encoder\n",
    "output = transformer_encoder(embedded_input)           # [seq_len, 1, d_model]\n",
    "output_shuffled = transformer_encoder(embedded_shuffled_input)"
   ]
  },
  {
   "cell_type": "code",
   "execution_count": 21,
   "id": "5440ebc5-955e-4cd5-b9e4-7b79f9aa7127",
   "metadata": {
    "execution": {
     "iopub.execute_input": "2024-11-02T14:11:52.630510Z",
     "iopub.status.busy": "2024-11-02T14:11:52.630240Z",
     "iopub.status.idle": "2024-11-02T14:11:52.636538Z",
     "shell.execute_reply": "2024-11-02T14:11:52.635573Z",
     "shell.execute_reply.started": "2024-11-02T14:11:52.630490Z"
    }
   },
   "outputs": [
    {
     "data": {
      "text/plain": [
       "(torch.Size([10, 1, 512]), torch.Size([10, 1, 512]))"
      ]
     },
     "execution_count": 21,
     "metadata": {},
     "output_type": "execute_result"
    }
   ],
   "source": [
    "output.shape, output_shuffled.shape"
   ]
  },
  {
   "cell_type": "code",
   "execution_count": 22,
   "id": "3e1e7271-dbbd-4c48-be9d-ae151b0e5c27",
   "metadata": {
    "execution": {
     "iopub.execute_input": "2024-11-02T14:11:52.637872Z",
     "iopub.status.busy": "2024-11-02T14:11:52.637607Z",
     "iopub.status.idle": "2024-11-02T14:11:52.647981Z",
     "shell.execute_reply": "2024-11-02T14:11:52.647002Z",
     "shell.execute_reply.started": "2024-11-02T14:11:52.637852Z"
    }
   },
   "outputs": [
    {
     "data": {
      "text/plain": [
       "False"
      ]
     },
     "execution_count": 22,
     "metadata": {},
     "output_type": "execute_result"
    }
   ],
   "source": [
    "torch.allclose(output, output_shuffled, atol=1e-6)"
   ]
  },
  {
   "cell_type": "code",
   "execution_count": 23,
   "id": "17bb8700-e275-4fe5-b248-f4f47072901c",
   "metadata": {
    "execution": {
     "iopub.execute_input": "2024-11-02T14:11:52.649637Z",
     "iopub.status.busy": "2024-11-02T14:11:52.649187Z",
     "iopub.status.idle": "2024-11-02T14:11:52.656758Z",
     "shell.execute_reply": "2024-11-02T14:11:52.655749Z",
     "shell.execute_reply.started": "2024-11-02T14:11:52.649614Z"
    }
   },
   "outputs": [
    {
     "data": {
      "text/plain": [
       "True"
      ]
     },
     "execution_count": 23,
     "metadata": {},
     "output_type": "execute_result"
    }
   ],
   "source": [
    "are_outputs_equal = torch.allclose(output.squeeze(1).mean(dim=0), output_shuffled.squeeze(1).mean(dim=0), atol=1e-6)\n",
    "are_outputs_equal"
   ]
  },
  {
   "cell_type": "code",
   "execution_count": 24,
   "id": "0c8bf19c-a113-4afe-aed4-2ed55ace57ea",
   "metadata": {
    "execution": {
     "iopub.execute_input": "2024-11-02T14:11:52.658252Z",
     "iopub.status.busy": "2024-11-02T14:11:52.657938Z",
     "iopub.status.idle": "2024-11-02T14:11:52.663125Z",
     "shell.execute_reply": "2024-11-02T14:11:52.662353Z",
     "shell.execute_reply.started": "2024-11-02T14:11:52.658228Z"
    }
   },
   "outputs": [],
   "source": [
    "inverse_perm = torch.argsort(perm)\n",
    "output_shuffled_reordered = output_shuffled[inverse_perm]"
   ]
  },
  {
   "cell_type": "code",
   "execution_count": 25,
   "id": "77d88145-db1c-4bcb-9626-578dafa591a2",
   "metadata": {
    "execution": {
     "iopub.execute_input": "2024-11-02T14:11:52.664307Z",
     "iopub.status.busy": "2024-11-02T14:11:52.664068Z",
     "iopub.status.idle": "2024-11-02T14:11:52.672906Z",
     "shell.execute_reply": "2024-11-02T14:11:52.671885Z",
     "shell.execute_reply.started": "2024-11-02T14:11:52.664288Z"
    }
   },
   "outputs": [
    {
     "data": {
      "text/plain": [
       "True"
      ]
     },
     "execution_count": 25,
     "metadata": {},
     "output_type": "execute_result"
    }
   ],
   "source": [
    "torch.allclose(output, output_shuffled_reordered, atol=1e-6)"
   ]
  },
  {
   "cell_type": "markdown",
   "id": "fa954b8c-db1a-4e1f-a455-0f9dd3865248",
   "metadata": {},
   "source": [
    "### with pe"
   ]
  },
  {
   "cell_type": "code",
   "execution_count": 26,
   "id": "b461c915-dbee-4229-8952-a3af7439d3e4",
   "metadata": {
    "execution": {
     "iopub.execute_input": "2024-11-02T14:11:52.674485Z",
     "iopub.status.busy": "2024-11-02T14:11:52.674166Z",
     "iopub.status.idle": "2024-11-02T14:11:52.682805Z",
     "shell.execute_reply": "2024-11-02T14:11:52.681733Z",
     "shell.execute_reply.started": "2024-11-02T14:11:52.674459Z"
    }
   },
   "outputs": [],
   "source": [
    "# 定义位置编码\n",
    "class PositionalEncoding(nn.Module):\n",
    "    def __init__(self, d_model, max_len=5000):\n",
    "        super().__init__()\n",
    "        # 创建位置编码矩阵\n",
    "        position = torch.arange(0, max_len).unsqueeze(1)\n",
    "        div_term = torch.exp(torch.arange(0, d_model, 2) * (-torch.log(torch.tensor(10000.0)) / d_model))\n",
    "        pe = torch.zeros(max_len, 1, d_model)\n",
    "        pe[:, 0, 0::2] = torch.sin(position * div_term)\n",
    "        pe[:, 0, 1::2] = torch.cos(position * div_term)\n",
    "        self.pe = pe\n",
    "\n",
    "    def forward(self, x):\n",
    "        # 加性位置编码\n",
    "        x = x + self.pe[:x.size(0)]\n",
    "        return x"
   ]
  },
  {
   "cell_type": "code",
   "execution_count": 27,
   "id": "6653f89b-7e08-48c4-9c2a-60e71a383122",
   "metadata": {
    "execution": {
     "iopub.execute_input": "2024-11-02T14:11:52.684772Z",
     "iopub.status.busy": "2024-11-02T14:11:52.684056Z",
     "iopub.status.idle": "2024-11-02T14:11:52.704899Z",
     "shell.execute_reply": "2024-11-02T14:11:52.703992Z",
     "shell.execute_reply.started": "2024-11-02T14:11:52.684745Z"
    }
   },
   "outputs": [],
   "source": [
    "# 添加位置编码\n",
    "pos_encoder = PositionalEncoding(d_model)\n",
    "embedded_input_pos = pos_encoder(embedded_input)\n",
    "embedded_shuffled_input_pos = pos_encoder(embedded_shuffled_input)"
   ]
  },
  {
   "cell_type": "code",
   "execution_count": 28,
   "id": "1a552960-1d1a-422c-b16f-d5c79fe680b1",
   "metadata": {
    "execution": {
     "iopub.execute_input": "2024-11-02T14:11:52.707037Z",
     "iopub.status.busy": "2024-11-02T14:11:52.706240Z",
     "iopub.status.idle": "2024-11-02T14:11:52.714563Z",
     "shell.execute_reply": "2024-11-02T14:11:52.713436Z",
     "shell.execute_reply.started": "2024-11-02T14:11:52.706996Z"
    }
   },
   "outputs": [],
   "source": [
    "# 通过 Transformer Encoder\n",
    "output_pe = transformer_encoder(embedded_input_pos)\n",
    "output_shuffled_pe = transformer_encoder(embedded_shuffled_input_pos)"
   ]
  },
  {
   "cell_type": "code",
   "execution_count": 29,
   "id": "3c09d3ac-27a2-4be2-8cff-30d0c9b3946e",
   "metadata": {
    "execution": {
     "iopub.execute_input": "2024-11-02T14:11:52.716839Z",
     "iopub.status.busy": "2024-11-02T14:11:52.715999Z",
     "iopub.status.idle": "2024-11-02T14:11:52.722835Z",
     "shell.execute_reply": "2024-11-02T14:11:52.721871Z",
     "shell.execute_reply.started": "2024-11-02T14:11:52.716806Z"
    }
   },
   "outputs": [
    {
     "data": {
      "text/plain": [
       "(torch.Size([10, 1, 512]), torch.Size([10, 1, 512]))"
      ]
     },
     "execution_count": 29,
     "metadata": {},
     "output_type": "execute_result"
    }
   ],
   "source": [
    "output_pe.shape, output_shuffled_pe.shape"
   ]
  },
  {
   "cell_type": "code",
   "execution_count": 30,
   "id": "9fd3f227-45d3-4326-bcfe-754532fb0867",
   "metadata": {
    "execution": {
     "iopub.execute_input": "2024-11-02T14:11:52.724454Z",
     "iopub.status.busy": "2024-11-02T14:11:52.724162Z",
     "iopub.status.idle": "2024-11-02T14:11:52.735033Z",
     "shell.execute_reply": "2024-11-02T14:11:52.733986Z",
     "shell.execute_reply.started": "2024-11-02T14:11:52.724429Z"
    }
   },
   "outputs": [
    {
     "data": {
      "text/plain": [
       "False"
      ]
     },
     "execution_count": 30,
     "metadata": {},
     "output_type": "execute_result"
    }
   ],
   "source": [
    "torch.allclose(output_pe.squeeze(1).mean(dim=0), output_shuffled_pe.squeeze(1).mean(dim=0), atol=1e-6)"
   ]
  },
  {
   "cell_type": "markdown",
   "id": "93219a05-9006-4d33-bd6c-772b6db5e9b2",
   "metadata": {},
   "source": [
    "### `self_attention(perm(x)) = perm(self_attention(x))`"
   ]
  },
  {
   "cell_type": "markdown",
   "id": "a20c90b5-08ef-4c3f-9efa-ebde009aa903",
   "metadata": {},
   "source": [
    "- 设 $P$ 是排列矩阵，排列后的输入为：$X_{\\text{perm}}=PX$\n",
    "- QKV\n",
    "    - $Q_{\\text{perm}}=PQ, K_{\\text{perm}}=PK,V_{\\text{perm}}=PV$\n",
    "- attention score matrix\n",
    "    - $S_{\\text{perm}}=\\frac{Q_{\\text{perm}}K^T_{\\text{perm}}}{\\sqrt{d_k}}=\\frac{PQK^TP^T}{\\sqrt{d_k}}=P\\left(\\frac{QK^T}{\\sqrt{d_k}}\\right)P^T=PSP^T$\n",
    "- softmax\n",
    "    - $A_{\\text{perm}}=\\text{softmax}(S_{\\text{perm}})=\\text{softmax}(PSP^T)=PAP^T$\n",
    "- attention output\n",
    "    - $Y_{\\text{perm}}=A_{\\text{perm}}V_{\\text{perm}}=PAP^TPV=P(AV)$"
   ]
  }
 ],
 "metadata": {
  "kernelspec": {
   "display_name": "Python 3 (ipykernel)",
   "language": "python",
   "name": "python3"
  },
  "language_info": {
   "codemirror_mode": {
    "name": "ipython",
    "version": 3
   },
   "file_extension": ".py",
   "mimetype": "text/x-python",
   "name": "python",
   "nbconvert_exporter": "python",
   "pygments_lexer": "ipython3",
   "version": "3.10.13"
  }
 },
 "nbformat": 4,
 "nbformat_minor": 5
}
