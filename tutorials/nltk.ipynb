{
 "cells": [
  {
   "cell_type": "markdown",
   "id": "227c67c0",
   "metadata": {},
   "source": [
    "## install"
   ]
  },
  {
   "cell_type": "code",
   "execution_count": 5,
   "id": "d07fdde2",
   "metadata": {
    "ExecuteTime": {
     "end_time": "2024-02-04T13:09:20.691839Z",
     "start_time": "2024-02-04T13:09:20.318811Z"
    }
   },
   "outputs": [],
   "source": [
    "!export https_proxy=http://127.0.0.1:7890\n",
    "!export http_proxy=http://127.0.0.1:7890\n",
    "!export all_proxy=socks5://127.0.0.1:7890"
   ]
  },
  {
   "cell_type": "code",
   "execution_count": 1,
   "id": "650840a1",
   "metadata": {
    "ExecuteTime": {
     "end_time": "2024-02-04T13:00:46.436940Z",
     "start_time": "2024-02-04T13:00:20.227347Z"
    },
    "scrolled": false
   },
   "outputs": [
    {
     "name": "stdout",
     "output_type": "stream",
     "text": [
      "Channels:\n",
      " - defaults\n",
      "Platform: linux-64\n",
      "Collecting package metadata (repodata.json): done\n",
      "Solving environment: done\n",
      "\n",
      "# All requested packages already installed.\n",
      "\n"
     ]
    }
   ],
   "source": [
    "!conda install nltk\n",
    "# ~/nltk_data/\n",
    "!python -m nltk.downloader all"
   ]
  },
  {
   "cell_type": "markdown",
   "id": "5b25e838",
   "metadata": {},
   "source": [
    "## basics"
   ]
  },
  {
   "cell_type": "code",
   "execution_count": 3,
   "id": "86aabecb",
   "metadata": {
    "ExecuteTime": {
     "end_time": "2024-02-04T13:08:20.126612Z",
     "start_time": "2024-02-04T13:08:20.121467Z"
    }
   },
   "outputs": [],
   "source": [
    "import nltk\n",
    "from nltk.corpus import brownn"
   ]
  },
  {
   "cell_type": "code",
   "execution_count": 4,
   "id": "d2706293",
   "metadata": {
    "ExecuteTime": {
     "end_time": "2024-02-04T13:08:22.563007Z",
     "start_time": "2024-02-04T13:08:22.524928Z"
    }
   },
   "outputs": [
    {
     "data": {
      "text/plain": [
       "['The', 'Fulton', 'County', 'Grand', 'Jury', 'said', ...]"
      ]
     },
     "execution_count": 4,
     "metadata": {},
     "output_type": "execute_result"
    }
   ],
   "source": [
    "brown.words()"
   ]
  }
 ],
 "metadata": {
  "kernelspec": {
   "display_name": "Python 3 (ipykernel)",
   "language": "python",
   "name": "python3"
  },
  "language_info": {
   "codemirror_mode": {
    "name": "ipython",
    "version": 3
   },
   "file_extension": ".py",
   "mimetype": "text/x-python",
   "name": "python",
   "nbconvert_exporter": "python",
   "pygments_lexer": "ipython3",
   "version": "3.10.13"
  },
  "toc": {
   "base_numbering": 1,
   "nav_menu": {},
   "number_sections": true,
   "sideBar": true,
   "skip_h1_title": false,
   "title_cell": "Table of Contents",
   "title_sidebar": "Contents",
   "toc_cell": false,
   "toc_position": {},
   "toc_section_display": true,
   "toc_window_display": false
  }
 },
 "nbformat": 4,
 "nbformat_minor": 5
}
