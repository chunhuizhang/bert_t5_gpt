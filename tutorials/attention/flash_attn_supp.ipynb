{
 "cells": [
  {
   "cell_type": "code",
   "execution_count": 11,
   "id": "27a61512-1159-40b8-97bf-cce295abfdf4",
   "metadata": {
    "execution": {
     "iopub.execute_input": "2024-07-07T03:24:22.437993Z",
     "iopub.status.busy": "2024-07-07T03:24:22.437422Z",
     "iopub.status.idle": "2024-07-07T03:24:22.446080Z",
     "shell.execute_reply": "2024-07-07T03:24:22.443845Z",
     "shell.execute_reply.started": "2024-07-07T03:24:22.437947Z"
    }
   },
   "outputs": [],
   "source": [
    "from IPython.display import Image"
   ]
  },
  {
   "cell_type": "markdown",
   "id": "720bae72-bee5-4c49-875a-0669f343e85e",
   "metadata": {},
   "source": [
    "$$\n",
    "\\mathbf {QK}^T\\in \\mathbb R^{N\\times N}\n",
    "$$\n",
    "\n",
    "- 40 heads, bfloat16\n",
    "    - multi head 可以并行地去算；"
   ]
  },
  {
   "cell_type": "markdown",
   "id": "717e77c6-623a-4ae7-b3ff-d5829eb86046",
   "metadata": {},
   "source": [
    "### Multi head"
   ]
  },
  {
   "cell_type": "markdown",
   "id": "396acbaf-08a9-498b-be03-2a057de867a0",
   "metadata": {},
   "source": [
    "- $h$ 个 head"
   ]
  },
  {
   "cell_type": "markdown",
   "id": "3bba37ac-61c2-490c-adbc-1fdd402657d8",
   "metadata": {},
   "source": [
    "### 空间存储"
   ]
  },
  {
   "cell_type": "markdown",
   "id": "912070eb-5f93-4156-b5fd-7e944d3d38d8",
   "metadata": {},
   "source": [
    "- VRAM\n",
    "- O(N^2)"
   ]
  },
  {
   "cell_type": "code",
   "execution_count": 5,
   "id": "374fb9e0-68b9-444e-9d23-1e73d2fbaefe",
   "metadata": {
    "execution": {
     "iopub.execute_input": "2024-07-07T03:15:23.130653Z",
     "iopub.status.busy": "2024-07-07T03:15:23.130044Z",
     "iopub.status.idle": "2024-07-07T03:15:23.141862Z",
     "shell.execute_reply": "2024-07-07T03:15:23.139964Z",
     "shell.execute_reply.started": "2024-07-07T03:15:23.130607Z"
    }
   },
   "outputs": [
    {
     "data": {
      "text/plain": [
       "76.2939453125"
      ]
     },
     "execution_count": 5,
     "metadata": {},
     "output_type": "execute_result"
    }
   ],
   "source": [
    "# N = 1000\n",
    "# MB\n",
    "40 * 2 * (1000 ** 2) / (1024*1024)"
   ]
  },
  {
   "cell_type": "code",
   "execution_count": 6,
   "id": "a8be2ead-3fdc-4fe6-b165-d21fc1360aad",
   "metadata": {
    "execution": {
     "iopub.execute_input": "2024-07-07T03:15:27.380054Z",
     "iopub.status.busy": "2024-07-07T03:15:27.379491Z",
     "iopub.status.idle": "2024-07-07T03:15:27.391749Z",
     "shell.execute_reply": "2024-07-07T03:15:27.389756Z",
     "shell.execute_reply.started": "2024-07-07T03:15:27.380010Z"
    }
   },
   "outputs": [
    {
     "data": {
      "text/plain": [
       "19.073486328125"
      ]
     },
     "execution_count": 6,
     "metadata": {},
     "output_type": "execute_result"
    }
   ],
   "source": [
    "# N = 16000\n",
    "# GB\n",
    "40 * 2 * (16000 ** 2) / (1024*1024*1024)"
   ]
  },
  {
   "cell_type": "code",
   "execution_count": 10,
   "id": "bde96dea-187b-40cf-99e6-34d3442f1f6c",
   "metadata": {
    "execution": {
     "iopub.execute_input": "2024-07-07T03:18:34.009853Z",
     "iopub.status.busy": "2024-07-07T03:18:34.009235Z",
     "iopub.status.idle": "2024-07-07T03:18:34.020222Z",
     "shell.execute_reply": "2024-07-07T03:18:34.018540Z",
     "shell.execute_reply.started": "2024-07-07T03:18:34.009807Z"
    }
   },
   "outputs": [
    {
     "data": {
      "text/plain": [
       "0.7275957614183426"
      ]
     },
     "execution_count": 10,
     "metadata": {},
     "output_type": "execute_result"
    }
   ],
   "source": [
    "# N = 100,000\n",
    "# TB\n",
    "40 * 2 * (100_000 ** 2) / (1024*1024*1024*1024)"
   ]
  },
  {
   "cell_type": "markdown",
   "id": "5da7dfff-7df0-41d3-bc72-f12e48d438d3",
   "metadata": {},
   "source": [
    "### flash attention"
   ]
  },
  {
   "cell_type": "markdown",
   "id": "ddef01b0-5170-41bb-a6f6-22019c90a96e",
   "metadata": {},
   "source": [
    "- outer loop: $\\mathbf K_j, \\mathbf V_j$\n",
    "- inner loop: $\\mathbf Q_i, \\mathbf O_i$"
   ]
  },
  {
   "cell_type": "code",
   "execution_count": 14,
   "id": "3b27c2d1-e2ee-49ee-a7a2-b2af4cb04ae4",
   "metadata": {
    "execution": {
     "iopub.execute_input": "2024-07-07T03:24:54.099811Z",
     "iopub.status.busy": "2024-07-07T03:24:54.099226Z",
     "iopub.status.idle": "2024-07-07T03:24:54.110922Z",
     "shell.execute_reply": "2024-07-07T03:24:54.108891Z",
     "shell.execute_reply.started": "2024-07-07T03:24:54.099765Z"
    }
   },
   "outputs": [
    {
     "data": {
      "text/html": [
       "<img src=\"./imgs/hf_flash_attn.png\" width=\"600\"/>"
      ],
      "text/plain": [
       "<IPython.core.display.Image object>"
      ]
     },
     "execution_count": 14,
     "metadata": {},
     "output_type": "execute_result"
    }
   ],
   "source": [
    "# https://huggingface.co/docs/transformers/v4.35.0/llm_tutorial_optimization#2-flash-attention\n",
    "Image(url='./imgs/hf_flash_attn.png', width=600)"
   ]
  },
  {
   "cell_type": "code",
   "execution_count": null,
   "id": "49667c1b-737c-4f83-9ca5-d3c6bac7f4bf",
   "metadata": {},
   "outputs": [],
   "source": []
  }
 ],
 "metadata": {
  "kernelspec": {
   "display_name": "Python 3 (ipykernel)",
   "language": "python",
   "name": "python3"
  },
  "language_info": {
   "codemirror_mode": {
    "name": "ipython",
    "version": 3
   },
   "file_extension": ".py",
   "mimetype": "text/x-python",
   "name": "python",
   "nbconvert_exporter": "python",
   "pygments_lexer": "ipython3",
   "version": "3.10.13"
  }
 },
 "nbformat": 4,
 "nbformat_minor": 5
}
