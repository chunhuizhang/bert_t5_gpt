{
 "cells": [
  {
   "cell_type": "markdown",
   "id": "ed2734e0-2359-4e17-a6b8-03e2499041f7",
   "metadata": {},
   "source": [
    "\n",
    "https://github.com/Dao-AILab/flash-attention\n",
    "\n",
    "- install\n",
    "    - pip\n",
    "    ```\n",
    "    pip install flash-attn --no-build-isolation\n",
    "    pip install flash_attn -U --force-reinstall\n",
    "    ```\n",
    "    - source code compile\n",
    "\n",
    "    ```\n",
    "    python setup.py install\n",
    "    ```"
   ]
  },
  {
   "cell_type": "code",
   "execution_count": 2,
   "id": "7f3f09ab-3737-4f5a-a297-9f7836d412b2",
   "metadata": {
    "execution": {
     "iopub.execute_input": "2024-07-05T15:19:29.373181Z",
     "iopub.status.busy": "2024-07-05T15:19:29.372653Z",
     "iopub.status.idle": "2024-07-05T15:19:29.396793Z",
     "shell.execute_reply": "2024-07-05T15:19:29.394739Z",
     "shell.execute_reply.started": "2024-07-05T15:19:29.373151Z"
    }
   },
   "outputs": [
    {
     "name": "stdout",
     "output_type": "stream",
     "text": [
      "经典自注意力机制输出：\n",
      "[[12.99999999 13.99999999 14.99999999 15.99999999]\n",
      " [13.         14.         15.         16.        ]\n",
      " [13.         14.         15.         16.        ]\n",
      " [13.         14.         15.         16.        ]]\n",
      "Flash Attention 输出：\n",
      "[[12.99999999 13.99999999 14.99999999 15.99999999]\n",
      " [13.         14.         15.         16.        ]\n",
      " [13.         14.         15.         16.        ]\n",
      " [13.         14.         15.         16.        ]]\n",
      "两者结果是否相同： True\n"
     ]
    }
   ],
   "source": [
    "import numpy as np\n",
    "\n",
    "# 输入矩阵\n",
    "X = np.array([[1, 2, 3, 4],\n",
    "              [5, 6, 7, 8],\n",
    "              [9, 10, 11, 12],\n",
    "              [13, 14, 15, 16]])\n",
    "\n",
    "# 权重矩阵\n",
    "W_Q = W_K = W_V = np.eye(4)\n",
    "\n",
    "# 经典自注意力机制\n",
    "Q = np.dot(X, W_Q)\n",
    "K = np.dot(X, W_K)\n",
    "V = np.dot(X, W_V)\n",
    "attention_scores = np.dot(Q, K.T) / np.sqrt(4)\n",
    "attention_weights = np.exp(attention_scores) / np.sum(np.exp(attention_scores), axis=1, keepdims=True)\n",
    "output_classic = np.dot(attention_weights, V)\n",
    "print(\"经典自注意力机制输出：\")\n",
    "print(output_classic)\n",
    "\n",
    "# Flash Attention\n",
    "b = 2\n",
    "m = 2\n",
    "output_flash = np.zeros((4, 4))\n",
    "for i in range(b):\n",
    "    X_block = X[i * m: (i + 1) * m]\n",
    "    Q_block = np.dot(X_block, W_Q)\n",
    "    K_block = np.dot(X_block, W_K)\n",
    "    V_block = np.dot(X_block, W_V)\n",
    "    \n",
    "    # 计算块间的注意力得分\n",
    "    attention_scores_block = np.dot(Q_block, K.T) / np.sqrt(4)\n",
    "    attention_weights_block = np.exp(attention_scores_block) / np.sum(np.exp(attention_scores_block), axis=1, keepdims=True)\n",
    "    \n",
    "    # 累加到输出\n",
    "    output_flash[i * m: (i + 1) * m] = np.dot(attention_weights_block, V)\n",
    "\n",
    "print(\"Flash Attention 输出：\")\n",
    "print(output_flash)\n",
    "\n",
    "# 比较结果\n",
    "print(\"两者结果是否相同：\", np.allclose(output_classic, output_flash))\n"
   ]
  },
  {
   "cell_type": "code",
   "execution_count": null,
   "id": "629cfa94-d2e1-4e0f-8e25-b8c79245453f",
   "metadata": {},
   "outputs": [],
   "source": []
  }
 ],
 "metadata": {
  "kernelspec": {
   "display_name": "Python 3 (ipykernel)",
   "language": "python",
   "name": "python3"
  },
  "language_info": {
   "codemirror_mode": {
    "name": "ipython",
    "version": 3
   },
   "file_extension": ".py",
   "mimetype": "text/x-python",
   "name": "python",
   "nbconvert_exporter": "python",
   "pygments_lexer": "ipython3",
   "version": "3.10.13"
  }
 },
 "nbformat": 4,
 "nbformat_minor": 5
}
