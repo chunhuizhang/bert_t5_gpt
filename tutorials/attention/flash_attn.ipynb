{
 "cells": [
  {
   "cell_type": "markdown",
   "id": "ed2734e0-2359-4e17-a6b8-03e2499041f7",
   "metadata": {},
   "source": [
    "\n",
    "https://github.com/Dao-AILab/flash-attention\n",
    "\n",
    "- install\n",
    "    - pip\n",
    "    ```\n",
    "    pip install flash-attn --no-build-isolation\n",
    "    pip install flash_attn -U --force-reinstall\n",
    "    ```\n",
    "    - source code compile\n",
    "\n",
    "    ```\n",
    "    python setup.py install\n",
    "    ```"
   ]
  }
 ],
 "metadata": {
  "kernelspec": {
   "display_name": "Python 3 (ipykernel)",
   "language": "python",
   "name": "python3"
  },
  "language_info": {
   "codemirror_mode": {
    "name": "ipython",
    "version": 3
   },
   "file_extension": ".py",
   "mimetype": "text/x-python",
   "name": "python",
   "nbconvert_exporter": "python",
   "pygments_lexer": "ipython3",
   "version": "3.10.13"
  }
 },
 "nbformat": 4,
 "nbformat_minor": 5
}
