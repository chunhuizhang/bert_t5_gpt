{
 "cells": [
  {
   "cell_type": "markdown",
   "id": "741bbab9-b105-45d4-8fdf-751eda316d54",
   "metadata": {},
   "source": [
    "- Transformer 是现代人工智能的核心，而attention是 Transformer 最具特色的机制，在 transformer 及 attention 上花再多的时间探索都是值得。\n",
    "- 从加速计算/存储的角度优化 attention 计算，都是在 attention 的计算机制上做文章：\n",
    "    - vllm 中的 paged attention；\n",
    "    - 以及今天要讲的 flash attention；"
   ]
  },
  {
   "cell_type": "code",
   "execution_count": 7,
   "id": "92401c27-7dc7-4774-a3e8-63e35aa16bf1",
   "metadata": {
    "execution": {
     "iopub.execute_input": "2024-07-06T03:17:53.984351Z",
     "iopub.status.busy": "2024-07-06T03:17:53.983705Z",
     "iopub.status.idle": "2024-07-06T03:17:53.993574Z",
     "shell.execute_reply": "2024-07-06T03:17:53.991437Z",
     "shell.execute_reply.started": "2024-07-06T03:17:53.984304Z"
    }
   },
   "outputs": [],
   "source": [
    "from IPython.display import Image"
   ]
  },
  {
   "cell_type": "markdown",
   "id": "ed2734e0-2359-4e17-a6b8-03e2499041f7",
   "metadata": {},
   "source": [
    "\n",
    "https://github.com/Dao-AILab/flash-attention\n",
    "\n",
    "- install\n",
    "    \n",
    "    ```\n",
    "    # pip\n",
    "    pip install flash-attn --no-build-isolation\n",
    "    pip install flash_attn -U --force-reinstall\n",
    "    \n",
    "    # source code compile\n",
    "    python setup.py install\n",
    "    ```"
   ]
  },
  {
   "cell_type": "markdown",
   "id": "bc577fd6-664a-4100-a933-77eda1da6896",
   "metadata": {},
   "source": [
    "## basics"
   ]
  },
  {
   "cell_type": "markdown",
   "id": "55191ac5-073f-4cf1-8423-ab03e4951b1e",
   "metadata": {},
   "source": [
    "> 算法（软件）、硬件协同优化；\n",
    "\n",
    "- paper\n",
    "    - [FlashAttention: Fast and Memory-Efficient Exact Attention with IO-Awareness](https://arxiv.org/pdf/2205.14135)\n",
    "    - [FlashAttention-2: Faster Attention with Better Parallelism and Work Partitioning](https://tridao.me/publications/flash2/flash2.pdf)\n",
    "- Memory\n",
    "    - SRAM > HBM > DRAM\n",
    "- attention QKV 计算\n",
    "    - 分块矩阵，然后是 loop（outer loop，inner loop，对应的是 gpu cuda 的 kernel 优化）；"
   ]
  },
  {
   "cell_type": "markdown",
   "id": "650308a7-3689-451b-ba3d-d5bcaf20a23f",
   "metadata": {},
   "source": [
    "### review of Attention"
   ]
  },
  {
   "cell_type": "code",
   "execution_count": 14,
   "id": "eb366f54-4d01-47b2-a68c-951a6efbd83f",
   "metadata": {
    "execution": {
     "iopub.execute_input": "2024-07-06T03:38:04.039967Z",
     "iopub.status.busy": "2024-07-06T03:38:04.039328Z",
     "iopub.status.idle": "2024-07-06T03:38:04.052132Z",
     "shell.execute_reply": "2024-07-06T03:38:04.049890Z",
     "shell.execute_reply.started": "2024-07-06T03:38:04.039922Z"
    }
   },
   "outputs": [
    {
     "data": {
      "text/html": [
       "<img src=\"./imgs/attention_steps.png\" width=\"600\"/>"
      ],
      "text/plain": [
       "<IPython.core.display.Image object>"
      ]
     },
     "execution_count": 14,
     "metadata": {},
     "output_type": "execute_result"
    }
   ],
   "source": [
    "Image(url='./imgs/attention_steps.png', width=600)"
   ]
  },
  {
   "cell_type": "markdown",
   "id": "139127ee-074a-4af5-8889-ba6d23aba1f4",
   "metadata": {},
   "source": [
    "$$\n",
    "\\mathbf{O} = \\text{Dropout}(\\text{Softmax}(\\text{Mask}(\\mathbf{QK}^T)))\\mathbf{V}\n",
    "$$\n",
    "\n",
    "- formula\n",
    "    - $(\\mathbf {Q, K, V})\\in\\mathbb R^{N\\times d}$\n",
    "    - $\\mathbf{QK}^T\\in\\mathbb R^{N\\times N}$\n",
    "    - $\\mathbf A=\\text{Dropout}(\\text{Softmax}(\\text{Mask}(\\mathbf{QK}^T)))$\n",
    "        - mask: m, softmax: sm, dropout: do\n",
    "    - $\\mathbf O=\\mathbf {AV}\\in \\mathbb R^{N\\times N}$\n",
    "- notes\n",
    "    - attention is bottlenecked by memory reads/writes\n",
    "    - naive implementation requires repeated R/W from slow GPU HBM"
   ]
  },
  {
   "cell_type": "markdown",
   "id": "83f19dc2-9568-462e-b933-f3e7631db61e",
   "metadata": {},
   "source": [
    "### fused kernel ?"
   ]
  },
  {
   "cell_type": "markdown",
   "id": "c548103e-23f6-4295-89c7-c30651badc83",
   "metadata": {},
   "source": [
    "- 将好几个 operations fuse 成一个 operation 进而减轻 memory 存取的 loading"
   ]
  },
  {
   "cell_type": "markdown",
   "id": "7171a317-bbb4-4d0f-b4d1-59fdbdaa327b",
   "metadata": {},
   "source": [
    "### flash attention"
   ]
  },
  {
   "cell_type": "code",
   "execution_count": 10,
   "id": "e98b3b0c-e505-4a05-9351-c40dcb283fce",
   "metadata": {
    "execution": {
     "iopub.execute_input": "2024-07-06T03:24:53.925775Z",
     "iopub.status.busy": "2024-07-06T03:24:53.925201Z",
     "iopub.status.idle": "2024-07-06T03:24:53.938085Z",
     "shell.execute_reply": "2024-07-06T03:24:53.936036Z",
     "shell.execute_reply.started": "2024-07-06T03:24:53.925731Z"
    }
   },
   "outputs": [
    {
     "data": {
      "text/html": [
       "<img src=\"./imgs/flash-attn.png\" width=\"700\"/>"
      ],
      "text/plain": [
       "<IPython.core.display.Image object>"
      ]
     },
     "execution_count": 10,
     "metadata": {},
     "output_type": "execute_result"
    }
   ],
   "source": [
    "Image(url='./imgs/flash-attn.png', width=700)"
   ]
  },
  {
   "cell_type": "markdown",
   "id": "7297ff5c-91b5-48b0-8848-c5939745ea95",
   "metadata": {},
   "source": [
    "### SDPA（pytorch）"
   ]
  },
  {
   "cell_type": "markdown",
   "id": "ff89af96-5de8-4075-bf7c-ce68dfe20de2",
   "metadata": {},
   "source": [
    "## simple demo"
   ]
  },
  {
   "cell_type": "code",
   "execution_count": 5,
   "id": "7f3f09ab-3737-4f5a-a297-9f7836d412b2",
   "metadata": {
    "execution": {
     "iopub.execute_input": "2024-07-06T03:14:49.241231Z",
     "iopub.status.busy": "2024-07-06T03:14:49.240622Z",
     "iopub.status.idle": "2024-07-06T03:14:49.266308Z",
     "shell.execute_reply": "2024-07-06T03:14:49.264262Z",
     "shell.execute_reply.started": "2024-07-06T03:14:49.241187Z"
    }
   },
   "outputs": [
    {
     "data": {
      "text/plain": [
       "array([[12.99999999, 13.99999999, 14.99999999, 15.99999999],\n",
       "       [13.        , 14.        , 15.        , 16.        ],\n",
       "       [13.        , 14.        , 15.        , 16.        ],\n",
       "       [13.        , 14.        , 15.        , 16.        ]])"
      ]
     },
     "execution_count": 5,
     "metadata": {},
     "output_type": "execute_result"
    }
   ],
   "source": [
    "import numpy as np\n",
    "\n",
    "# 输入矩阵\n",
    "X = np.array([[1, 2, 3, 4],\n",
    "              [5, 6, 7, 8],\n",
    "              [9, 10, 11, 12],\n",
    "              [13, 14, 15, 16]])\n",
    "\n",
    "# 权重矩阵\n",
    "W_Q = W_K = W_V = np.eye(4)\n",
    "\n",
    "# 经典自注意力机制\n",
    "Q = np.dot(X, W_Q)\n",
    "K = np.dot(X, W_K)\n",
    "V = np.dot(X, W_V)\n",
    "attention_scores = np.dot(Q, K.T) / np.sqrt(4)\n",
    "attention_weights = np.exp(attention_scores) / np.sum(np.exp(attention_scores), axis=1, keepdims=True)\n",
    "output_classic = np.dot(attention_weights, V)\n",
    "\n",
    "output_classic"
   ]
  },
  {
   "cell_type": "code",
   "execution_count": 6,
   "id": "629cfa94-d2e1-4e0f-8e25-b8c79245453f",
   "metadata": {
    "execution": {
     "iopub.execute_input": "2024-07-06T03:14:54.410300Z",
     "iopub.status.busy": "2024-07-06T03:14:54.409717Z",
     "iopub.status.idle": "2024-07-06T03:14:54.430594Z",
     "shell.execute_reply": "2024-07-06T03:14:54.428471Z",
     "shell.execute_reply.started": "2024-07-06T03:14:54.410257Z"
    }
   },
   "outputs": [
    {
     "data": {
      "text/plain": [
       "array([[12.99999999, 13.99999999, 14.99999999, 15.99999999],\n",
       "       [13.        , 14.        , 15.        , 16.        ],\n",
       "       [13.        , 14.        , 15.        , 16.        ],\n",
       "       [13.        , 14.        , 15.        , 16.        ]])"
      ]
     },
     "execution_count": 6,
     "metadata": {},
     "output_type": "execute_result"
    }
   ],
   "source": [
    "# Flash Attention\n",
    "b = 2\n",
    "m = 2\n",
    "output_flash = np.zeros((4, 4))\n",
    "for i in range(b):\n",
    "    X_block = X[i * m: (i + 1) * m]\n",
    "    Q_block = np.dot(X_block, W_Q)\n",
    "    K_block = np.dot(X_block, W_K)\n",
    "    V_block = np.dot(X_block, W_V)\n",
    "    \n",
    "    # 计算块间的注意力得分\n",
    "    attention_scores_block = np.dot(Q_block, K.T) / np.sqrt(4)\n",
    "    attention_weights_block = np.exp(attention_scores_block) / np.sum(np.exp(attention_scores_block), axis=1, keepdims=True)\n",
    "    \n",
    "    # 累加到输出\n",
    "    output_flash[i * m: (i + 1) * m] = np.dot(attention_weights_block, V)\n",
    "\n",
    "output_flash"
   ]
  }
 ],
 "metadata": {
  "kernelspec": {
   "display_name": "Python 3 (ipykernel)",
   "language": "python",
   "name": "python3"
  },
  "language_info": {
   "codemirror_mode": {
    "name": "ipython",
    "version": 3
   },
   "file_extension": ".py",
   "mimetype": "text/x-python",
   "name": "python",
   "nbconvert_exporter": "python",
   "pygments_lexer": "ipython3",
   "version": "3.10.13"
  }
 },
 "nbformat": 4,
 "nbformat_minor": 5
}
