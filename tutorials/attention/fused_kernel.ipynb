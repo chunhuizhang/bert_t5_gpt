{
 "cells": [
  {
   "cell_type": "markdown",
   "id": "08058b24-1baf-4350-8da9-452d719427b0",
   "metadata": {},
   "source": [
    "- 将好几个 operations fuse 成一个 operation 进而减轻 memory 存取的 loading\n",
    "- Operation Fusion 的基本思想是将多个可以连续执行的操作组合成一个复合操作，从而减少数据在显存和计算单元之间的传输次数。"
   ]
  },
  {
   "cell_type": "markdown",
   "id": "98122bff-4b60-44f8-9c79-4d71f9e2fe5d",
   "metadata": {},
   "source": [
    "## operation fused 与 kernel"
   ]
  },
  {
   "cell_type": "markdown",
   "id": "e1983d9b-48b0-4e66-a027-5461fc935973",
   "metadata": {},
   "source": [
    "- GPU 内核是运行在 GPU 上的一段程序代码，用于执行特定的计算任务。在深度学习中，常见的 GPU 内核包括矩阵乘法、加法、激活函数等操作。每个内核负责一个特定的操作，并在 GPU 的大量计算单元上并行执行。\n",
    "- 操作融合是将多个可以连续执行的操作组合成一个复合操作，从而减少中间数据的读写，提高计算效率。操作融合的目的是将多个独立的操作合并成一个内核，从而减少内存访问的次数，提高整体计算性能。"
   ]
  },
  {
   "cell_type": "markdown",
   "id": "9481a03b-577f-4da3-b851-25e426e8052e",
   "metadata": {},
   "source": [
    "```\n",
    "# 独立的内核调用\n",
    "a = x + y  # 内核1\n",
    "b = a * z  # 内核2\n",
    "c = torch.relu(b)  # 内核3\n",
    "\n",
    "# 优化后的内核（操作融合为一个内核）\n",
    "# 定义操作融合的内核（使用 TorchScript）\n",
    "@torch.jit.script\n",
    "def fused_kernel(x, y, z):\n",
    "    a = x + y\n",
    "    b = a * z\n",
    "    c = torch.relu(b)\n",
    "    return c\n",
    "```"
   ]
  },
  {
   "cell_type": "markdown",
   "id": "f436f748-f5a1-43a7-a5b5-ae6210a89c74",
   "metadata": {},
   "source": [
    "## 一个示例"
   ]
  },
  {
   "cell_type": "markdown",
   "id": "742df062-88e3-47ba-9e11-6b4b3425d998",
   "metadata": {},
   "source": [
    "- 三步操作\n",
    "    - A = X + Y\n",
    "        - 第一步：从显存读取 X 和 Y，计算 A，然后将 A 写回显存。\n",
    "    - B = A * Z\n",
    "        - 第二步：从显存读取 A 和 Z，计算 B，然后将 B 写回显存。\n",
    "    - C = relu(B)\n",
    "        - 第三步：从显存读取 B，计算 C，然后将 C 写回显存。\n",
    "- 通过 Operation Fusion，可以将这些操作融合成一个复合操作，如下：\n",
    "    - 一步：从显存读取 X、Y 和 Z，直接计算 C 而不需要中间存储 A 和 B。"
   ]
  },
  {
   "cell_type": "code",
   "execution_count": 1,
   "id": "69137804-a70c-4c64-acc4-4e6890ccef6f",
   "metadata": {
    "execution": {
     "iopub.execute_input": "2024-07-06T03:53:21.303016Z",
     "iopub.status.busy": "2024-07-06T03:53:21.301759Z",
     "iopub.status.idle": "2024-07-06T03:53:29.250835Z",
     "shell.execute_reply": "2024-07-06T03:53:29.249964Z",
     "shell.execute_reply.started": "2024-07-06T03:53:21.302968Z"
    }
   },
   "outputs": [],
   "source": [
    "import torch\n",
    "import time\n",
    "from tqdm import tqdm\n",
    "\n",
    "# 初始化数据\n",
    "x = torch.rand(20000, 20000).cuda()\n",
    "y = torch.rand(20000, 20000).cuda()\n",
    "z = torch.rand(20000, 20000).cuda()"
   ]
  },
  {
   "cell_type": "code",
   "execution_count": 8,
   "id": "dd06fd6e-220b-423f-8d2d-71582b78394d",
   "metadata": {
    "execution": {
     "iopub.execute_input": "2024-07-06T03:54:17.487816Z",
     "iopub.status.busy": "2024-07-06T03:54:17.487486Z",
     "iopub.status.idle": "2024-07-06T03:54:18.902748Z",
     "shell.execute_reply": "2024-07-06T03:54:18.901043Z",
     "shell.execute_reply.started": "2024-07-06T03:54:17.487793Z"
    }
   },
   "outputs": [
    {
     "name": "stderr",
     "output_type": "stream",
     "text": [
      "100%|██████████| 100/100 [00:01<00:00, 71.47it/s]\n"
     ]
    },
    {
     "data": {
      "text/plain": [
       "0.013847415447235107"
      ]
     },
     "execution_count": 8,
     "metadata": {},
     "output_type": "execute_result"
    }
   ],
   "source": [
    "# 定义未优化的操作\n",
    "def unoptimized_operations(x, y, z):\n",
    "    a = x + y\n",
    "    b = a * z\n",
    "    c = torch.relu(b)\n",
    "    return c\n",
    "\n",
    "# 进行多次测试以计算平均时间\n",
    "num_runs = 100\n",
    "total_time = 0\n",
    "\n",
    "for _ in tqdm(range(num_runs)):\n",
    "    start_time = time.time()\n",
    "    c = unoptimized_operations(x, y, z)\n",
    "    torch.cuda.synchronize()  # 确保所有 CUDA 操作完成\n",
    "    total_time += time.time() - start_time\n",
    "\n",
    "total_time / num_runs"
   ]
  },
  {
   "cell_type": "code",
   "execution_count": 7,
   "id": "d12fc558-7b31-4a6c-91fd-882a5e302347",
   "metadata": {
    "execution": {
     "iopub.execute_input": "2024-07-06T03:54:14.105812Z",
     "iopub.status.busy": "2024-07-06T03:54:14.105496Z",
     "iopub.status.idle": "2024-07-06T03:54:14.987321Z",
     "shell.execute_reply": "2024-07-06T03:54:14.985585Z",
     "shell.execute_reply.started": "2024-07-06T03:54:14.105792Z"
    }
   },
   "outputs": [
    {
     "name": "stderr",
     "output_type": "stream",
     "text": [
      "100%|██████████| 100/100 [00:00<00:00, 115.69it/s]\n"
     ]
    },
    {
     "data": {
      "text/plain": [
       "0.00855867862701416"
      ]
     },
     "execution_count": 7,
     "metadata": {},
     "output_type": "execute_result"
    }
   ],
   "source": [
    "@torch.jit.script\n",
    "def optimized_operations(x, y, z):\n",
    "    a = x + y\n",
    "    b = a * z\n",
    "    c = torch.relu(b)\n",
    "    return c\n",
    "\n",
    "# 进行多次测试以计算平均时间\n",
    "total_time = 0\n",
    "\n",
    "for _ in tqdm(range(num_runs)):\n",
    "    start_time = time.time()\n",
    "    c = optimized_operations(x, y, z)\n",
    "    torch.cuda.synchronize()  # 确保所有 CUDA 操作完成\n",
    "    total_time += time.time() - start_time\n",
    "\n",
    "total_time / num_runs"
   ]
  }
 ],
 "metadata": {
  "kernelspec": {
   "display_name": "Python 3 (ipykernel)",
   "language": "python",
   "name": "python3"
  },
  "language_info": {
   "codemirror_mode": {
    "name": "ipython",
    "version": 3
   },
   "file_extension": ".py",
   "mimetype": "text/x-python",
   "name": "python",
   "nbconvert_exporter": "python",
   "pygments_lexer": "ipython3",
   "version": "3.10.13"
  }
 },
 "nbformat": 4,
 "nbformat_minor": 5
}
