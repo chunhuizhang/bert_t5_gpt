{
 "cells": [
  {
   "cell_type": "code",
   "execution_count": 4,
   "id": "ab91801d",
   "metadata": {
    "ExecuteTime": {
     "end_time": "2024-02-18T13:12:18.301958Z",
     "start_time": "2024-02-18T13:12:18.297627Z"
    }
   },
   "outputs": [],
   "source": [
    "from IPython.display import Image"
   ]
  },
  {
   "cell_type": "markdown",
   "id": "278a81b0",
   "metadata": {},
   "source": [
    "- references\n",
    "    - https://towardsdatascience.com/byte-pair-encoding-the-dark-horse-of-modern-nlp-eb36c7df4f10"
   ]
  },
  {
   "cell_type": "code",
   "execution_count": 6,
   "id": "84be2c8e",
   "metadata": {
    "ExecuteTime": {
     "end_time": "2024-02-18T13:12:31.569092Z",
     "start_time": "2024-02-18T13:12:31.562823Z"
    }
   },
   "outputs": [
    {
     "data": {
      "text/html": [
       "<img src=\"https://miro.medium.com/v2/resize:fit:1400/format:webp/1*x1Y_n3sXGygUPSdfXTm9pQ.gif\" width=\"300\"/>"
      ],
      "text/plain": [
       "<IPython.core.display.Image object>"
      ]
     },
     "execution_count": 6,
     "metadata": {},
     "output_type": "execute_result"
    }
   ],
   "source": [
    "Image(url='https://miro.medium.com/v2/resize:fit:1400/format:webp/1*x1Y_n3sXGygUPSdfXTm9pQ.gif', width=300)"
   ]
  },
  {
   "cell_type": "code",
   "execution_count": 7,
   "id": "c76409f5",
   "metadata": {
    "ExecuteTime": {
     "end_time": "2024-02-18T13:12:51.468678Z",
     "start_time": "2024-02-18T13:12:51.461007Z"
    }
   },
   "outputs": [],
   "source": [
    "import re\n",
    "from collections import Counter, defaultdict\n",
    "\n",
    "\n",
    "def build_vocab(corpus: str) -> dict:\n",
    "    \"\"\"Step 1. Build vocab from text corpus\"\"\"\n",
    "\n",
    "    # Separate each char in word by space and add mark end of token\n",
    "    tokens = [\" \".join(word) + \" </w>\" for word in corpus.split()]\n",
    "\n",
    "    # Count frequency of tokens in corpus\n",
    "    vocab = Counter(tokens)\n",
    "\n",
    "    return vocab\n",
    "\n",
    "\n",
    "def get_stats(vocab: dict) -> dict:\n",
    "    \"\"\"Step 2. Get counts of pairs of consecutive symbols\"\"\"\n",
    "\n",
    "    pairs = defaultdict(int)\n",
    "    for word, frequency in vocab.items():\n",
    "        symbols = word.split()\n",
    "\n",
    "        # Counting up occurrences of pairs\n",
    "        for i in range(len(symbols) - 1):\n",
    "            pairs[symbols[i], symbols[i + 1]] += frequency\n",
    "\n",
    "    return pairs\n",
    "\n",
    "\n",
    "def merge_vocab(pair: tuple, v_in: dict) -> dict:\n",
    "    \"\"\"Step 3. Merge all occurrences of the most frequent pair\"\"\"\n",
    "\n",
    "    v_out = {}\n",
    "    bigram = re.escape(' '.join(pair))\n",
    "    p = re.compile(r'(?<!\\S)' + bigram + r'(?!\\S)')\n",
    "\n",
    "    for word in v_in:\n",
    "        # replace most frequent pair in all vocabulary\n",
    "        w_out = p.sub(''.join(pair), word)\n",
    "        v_out[w_out] = v_in[word]\n",
    "\n",
    "    return v_out"
   ]
  },
  {
   "cell_type": "code",
   "execution_count": 12,
   "id": "37e4aec1",
   "metadata": {
    "ExecuteTime": {
     "end_time": "2024-02-18T13:14:15.462568Z",
     "start_time": "2024-02-18T13:14:15.452764Z"
    }
   },
   "outputs": [
    {
     "name": "stdout",
     "output_type": "stream",
     "text": [
      "('a', 'a') 4\n",
      "0 {'aa a b d aa a b a c </w>': 1}\n",
      "\n",
      "('aa', 'a') 2\n",
      "1 {'aaa b d aaa b a c </w>': 1}\n",
      "\n",
      "('aaa', 'b') 2\n",
      "2 {'aaab d aaab a c </w>': 1}\n",
      "\n"
     ]
    }
   ],
   "source": [
    "corpus = 'aaabdaaabac'\n",
    "vocab = build_vocab(corpus)  # Step 1\n",
    "\n",
    "num_merges = 3  # Hyperparameter\n",
    "for i in range(num_merges):\n",
    "\n",
    "    pairs = get_stats(vocab)  # Step 2\n",
    "\n",
    "    if not pairs:\n",
    "        break\n",
    "\n",
    "    # step 3\n",
    "    best = max(pairs, key=pairs.get)\n",
    "    print(best, pairs[best])\n",
    "    vocab = merge_vocab(best, vocab)\n",
    "    print(i, vocab)\n",
    "    print()"
   ]
  },
  {
   "cell_type": "code",
   "execution_count": 8,
   "id": "559d297f",
   "metadata": {
    "ExecuteTime": {
     "end_time": "2024-02-18T13:12:53.211463Z",
     "start_time": "2024-02-18T13:12:53.206213Z"
    }
   },
   "outputs": [
    {
     "name": "stdout",
     "output_type": "stream",
     "text": [
      "('l', 'o') 2\n",
      "0 {'lo w </w>': 1, 'lo w e r </w>': 1, 'n e w e s t </w>': 1, 'w i l d e s t </w>': 1}\n",
      "\n",
      "('lo', 'w') 2\n",
      "1 {'low </w>': 1, 'low e r </w>': 1, 'n e w e s t </w>': 1, 'w i l d e s t </w>': 1}\n",
      "\n",
      "('e', 's') 2\n",
      "2 {'low </w>': 1, 'low e r </w>': 1, 'n e w es t </w>': 1, 'w i l d es t </w>': 1}\n",
      "\n",
      "('es', 't') 2\n",
      "3 {'low </w>': 1, 'low e r </w>': 1, 'n e w est </w>': 1, 'w i l d est </w>': 1}\n",
      "\n",
      "('est', '</w>') 2\n",
      "4 {'low </w>': 1, 'low e r </w>': 1, 'n e w est</w>': 1, 'w i l d est</w>': 1}\n",
      "\n",
      "('low', '</w>') 1\n",
      "5 {'low</w>': 1, 'low e r </w>': 1, 'n e w est</w>': 1, 'w i l d est</w>': 1}\n",
      "\n"
     ]
    }
   ],
   "source": [
    "corpus = 'low lower newest wildest'\n",
    "vocab = build_vocab(corpus)  # Step 1\n",
    "\n",
    "num_merges = 6  # Hyperparameter\n",
    "for i in range(num_merges):\n",
    "\n",
    "    pairs = get_stats(vocab)  # Step 2\n",
    "\n",
    "    if not pairs:\n",
    "        break\n",
    "\n",
    "    # step 3\n",
    "    best = max(pairs, key=pairs.get)\n",
    "    print(best, pairs[best])\n",
    "    vocab = merge_vocab(best, vocab)\n",
    "    print(i, vocab)\n",
    "    print()"
   ]
  },
  {
   "cell_type": "code",
   "execution_count": null,
   "id": "02a9e9d7",
   "metadata": {},
   "outputs": [],
   "source": []
  },
  {
   "cell_type": "code",
   "execution_count": null,
   "id": "7870a089",
   "metadata": {},
   "outputs": [],
   "source": []
  }
 ],
 "metadata": {
  "kernelspec": {
   "display_name": "Python 3 (ipykernel)",
   "language": "python",
   "name": "python3"
  },
  "language_info": {
   "codemirror_mode": {
    "name": "ipython",
    "version": 3
   },
   "file_extension": ".py",
   "mimetype": "text/x-python",
   "name": "python",
   "nbconvert_exporter": "python",
   "pygments_lexer": "ipython3",
   "version": "3.10.13"
  },
  "toc": {
   "base_numbering": 1,
   "nav_menu": {},
   "number_sections": true,
   "sideBar": true,
   "skip_h1_title": false,
   "title_cell": "Table of Contents",
   "title_sidebar": "Contents",
   "toc_cell": false,
   "toc_position": {},
   "toc_section_display": true,
   "toc_window_display": false
  }
 },
 "nbformat": 4,
 "nbformat_minor": 5
}
