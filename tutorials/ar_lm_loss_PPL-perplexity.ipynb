{
 "cells": [
  {
   "cell_type": "markdown",
   "id": "e945162a-a512-4875-82fb-1355ead5e6b0",
   "metadata": {},
   "source": [
    "## Auto-regressive model training loss"
   ]
  },
  {
   "cell_type": "markdown",
   "id": "02b4f082-b0f5-4ea0-a605-b654a8a0a218",
   "metadata": {},
   "source": [
    "- 自回归模型，是词表粒度的多分类问题，用多分类问题的交叉熵定义其loss\n",
    "    - 其形式为：\n",
    "    \n",
    "    $$\n",
    "    L=-\\sum_{i=1}^N\\log P(y_i)\n",
    "    $$\n",
    "\n",
    "- 二分类、多分类交叉熵\n",
    "    \n",
    "    - 二分类\n",
    "    \n",
    "    $$\n",
    "    L=-\\frac1N\\sum_{i=1}^Ny_i\\log P(\\hat y_i)+(1-y_i)\\log (1-P(\\hat y_i))\n",
    "    $$\n",
    "    \n",
    "    - 多分类\n",
    "    \n",
    "    $$\n",
    "    L=-\\frac1N\\sum_{i=1}^Ny_{i,c}\\log P(\\hat y_{i,c})\n",
    "    $$"
   ]
  },
  {
   "cell_type": "markdown",
   "id": "99a8d2d6",
   "metadata": {},
   "source": [
    "## PPL"
   ]
  },
  {
   "cell_type": "markdown",
   "id": "7791e26f",
   "metadata": {},
   "source": [
    "> PPL：perplexity\n",
    "\n",
    "- language model 好坏的评估指标\n",
    "\n",
    "$$\n",
    "PPL=\\exp\\left(-\\frac1N\\sum_{i=1}^N\\log P(y_i)\\right)\n",
    "$$"
   ]
  }
 ],
 "metadata": {
  "kernelspec": {
   "display_name": "Python 3 (ipykernel)",
   "language": "python",
   "name": "python3"
  },
  "language_info": {
   "codemirror_mode": {
    "name": "ipython",
    "version": 3
   },
   "file_extension": ".py",
   "mimetype": "text/x-python",
   "name": "python",
   "nbconvert_exporter": "python",
   "pygments_lexer": "ipython3",
   "version": "3.10.13"
  },
  "toc": {
   "base_numbering": 1,
   "nav_menu": {},
   "number_sections": true,
   "sideBar": true,
   "skip_h1_title": false,
   "title_cell": "Table of Contents",
   "title_sidebar": "Contents",
   "toc_cell": false,
   "toc_position": {},
   "toc_section_display": true,
   "toc_window_display": false
  }
 },
 "nbformat": 4,
 "nbformat_minor": 5
}
