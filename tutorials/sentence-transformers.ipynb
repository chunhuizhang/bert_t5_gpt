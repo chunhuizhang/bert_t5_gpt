{
 "cells": [
  {
   "cell_type": "markdown",
   "id": "b7eb9ea7",
   "metadata": {},
   "source": [
    "```\n",
    "from sentence_transformers import SentenceTransformer, util\n",
    "\n",
    "embeddings_1 = np.array(self.model.encode(corpus_1, convert_to_tensor=True).cpu())\n",
    "```"
   ]
  },
  {
   "cell_type": "markdown",
   "id": "781b491a",
   "metadata": {},
   "source": [
    "## models"
   ]
  },
  {
   "cell_type": "markdown",
   "id": "fab392c4",
   "metadata": {},
   "source": [
    "- `paraphrase-MiniLM-L6-v2`"
   ]
  },
  {
   "cell_type": "markdown",
   "id": "21dac54f",
   "metadata": {},
   "source": [
    "```\n",
    "embed = SentenceTransformer('paraphrase-MiniLM-L6-v2')\n",
    "```"
   ]
  }
 ],
 "metadata": {
  "kernelspec": {
   "display_name": "Python 3 (ipykernel)",
   "language": "python",
   "name": "python3"
  },
  "language_info": {
   "codemirror_mode": {
    "name": "ipython",
    "version": 3
   },
   "file_extension": ".py",
   "mimetype": "text/x-python",
   "name": "python",
   "nbconvert_exporter": "python",
   "pygments_lexer": "ipython3",
   "version": "3.10.9"
  },
  "toc": {
   "base_numbering": 1,
   "nav_menu": {},
   "number_sections": true,
   "sideBar": true,
   "skip_h1_title": false,
   "title_cell": "Table of Contents",
   "title_sidebar": "Contents",
   "toc_cell": false,
   "toc_position": {},
   "toc_section_display": true,
   "toc_window_display": false
  }
 },
 "nbformat": 4,
 "nbformat_minor": 5
}
